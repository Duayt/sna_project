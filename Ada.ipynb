{
 "cells": [
  {
   "cell_type": "markdown",
   "metadata": {},
   "source": [
    "## Init ChromeDriver"
   ]
  },
  {
   "cell_type": "code",
   "execution_count": 1,
   "metadata": {
    "colab": {},
    "colab_type": "code",
    "id": "ELW_snvI93SA"
   },
   "outputs": [],
   "source": [
    "from selenium import webdriver\n",
    "from selenium.webdriver.common.keys import Keys\n",
    "\n",
    "chrome_options = webdriver.ChromeOptions()\n",
    "chrome_options.add_argument('--no-sandbox')\n",
    "# create a new Firefox session\n",
    "driver = webdriver.Chrome()\n",
    "driver.implicitly_wait(30)\n",
    "driver.maximize_window()"
   ]
  },
  {
   "cell_type": "markdown",
   "metadata": {},
   "source": [
    "## Open a user's Facebook profile"
   ]
  },
  {
   "cell_type": "code",
   "execution_count": 2,
   "metadata": {},
   "outputs": [],
   "source": [
    "def open_about_page(username):\n",
    "    fetch_url = \"https://facebook.com/\"+username+\"/about\"\n",
    "    driver.get(fetch_url)"
   ]
  },
  {
   "cell_type": "code",
   "execution_count": 12,
   "metadata": {},
   "outputs": [],
   "source": [
    "# Test\n",
    "username = \"prophecyx\"\n",
    "open_about_page(username)"
   ]
  },
  {
   "cell_type": "markdown",
   "metadata": {},
   "source": [
    "## Scroll down"
   ]
  },
  {
   "cell_type": "code",
   "execution_count": 4,
   "metadata": {},
   "outputs": [],
   "source": [
    "def scroll_down():\n",
    "    driver.execute_script(\"window.scrollTo(0, document.body.scrollHeight);\")"
   ]
  },
  {
   "cell_type": "code",
   "execution_count": 22,
   "metadata": {},
   "outputs": [],
   "source": [
    "# Test\n",
    "scroll_down()"
   ]
  },
  {
   "cell_type": "markdown",
   "metadata": {},
   "source": [
    "## Get like count"
   ]
  },
  {
   "cell_type": "code",
   "execution_count": 47,
   "metadata": {},
   "outputs": [],
   "source": [
    "from bs4 import BeautifulSoup \n",
    "\n",
    "# Should find the class, because id is changed all the time\n",
    "# 1) Find class <=> \"_3c_ _3s-\" whereas contain child that contains text <=> \"All Likes\"\n",
    "# 2) Find class <=> _3d0 from (1) -> get text\n",
    "\n",
    "def find_like_count():\n",
    "    print (\"driver is finding element by class...\")\n",
    "    likes = driver.find_elements_by_class_name(\"_3c_\")\n",
    "    print (\"driver's job is done\")\n",
    "    #print (likes)\n",
    "\n",
    "    like_count = \"-1\"\n",
    "    friend_count = \"-1\"\n",
    "    \n",
    "    for i in range(len(likes)):\n",
    "        lk = likes[i]\n",
    "        soup = BeautifulSoup(lk.get_attribute('innerHTML'), 'html.parser')\n",
    "        #print (soup)\n",
    "        topic = soup.find_all(\"span\", class_=\"_3sz\")\n",
    "\n",
    "        if topic[0].text == \"All Likes\":\n",
    "            print ('Found \"All Likes\" section')\n",
    "            val = soup.find_all(\"span\", class_=\"_3d0\")\n",
    "            like_count = val[0].text\n",
    "            \n",
    "        if topic[0].text == \"All Friends\":\n",
    "            print ('Found \"Friends\" section')\n",
    "            val = soup.find_all(\"span\", class_=\"_3d0\")\n",
    "            friend_count = val[0].text\n",
    "            \n",
    "        if like_count != \"-1\" and friend_count != \"-1\":\n",
    "            like_count = like_count.replace(\",\", \"\")\n",
    "            friend_count = friend_count.replace(\",\", \"\")\n",
    "            break\n",
    "            \n",
    "    return [like_count, friend_count]\n",
    "            "
   ]
  },
  {
   "cell_type": "code",
   "execution_count": 49,
   "metadata": {},
   "outputs": [
    {
     "name": "stdout",
     "output_type": "stream",
     "text": [
      "driver is finding element by class...\n",
      "driver's job is done\n",
      "Found \"Friends\" section\n",
      "Found \"All Likes\" section\n",
      "like count: 801 friend count: 1067\n"
     ]
    }
   ],
   "source": [
    "# Test\n",
    "like_count, friend_count = find_like_count()\n",
    "print (\"like count: %d friend count: %d\" % (int(like_count), int(friend_count)))"
   ]
  },
  {
   "cell_type": "code",
   "execution_count": null,
   "metadata": {},
   "outputs": [],
   "source": []
  }
 ],
 "metadata": {
  "colab": {
   "name": "Facebook Friends Selenium.ipynb",
   "provenance": []
  },
  "kernelspec": {
   "display_name": "Python 3",
   "language": "python",
   "name": "python3"
  },
  "language_info": {
   "codemirror_mode": {
    "name": "ipython",
    "version": 3
   },
   "file_extension": ".py",
   "mimetype": "text/x-python",
   "name": "python",
   "nbconvert_exporter": "python",
   "pygments_lexer": "ipython3",
   "version": "3.7.3"
  }
 },
 "nbformat": 4,
 "nbformat_minor": 1
}
