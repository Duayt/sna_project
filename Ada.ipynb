{
 "cells": [
  {
   "cell_type": "markdown",
   "metadata": {},
   "source": [
    "## Init ChromeDriver"
   ]
  },
  {
   "cell_type": "code",
   "execution_count": 61,
   "metadata": {
    "colab": {},
    "colab_type": "code",
    "id": "ELW_snvI93SA"
   },
   "outputs": [],
   "source": [
    "from selenium import webdriver\n",
    "from selenium.webdriver.common.keys import Keys\n",
    "\n",
    "chrome_options = webdriver.ChromeOptions()\n",
    "chrome_options.add_argument('--no-sandbox')\n",
    "# create a new Firefox session\n",
    "driver = webdriver.Chrome()\n",
    "driver.implicitly_wait(30)\n",
    "driver.maximize_window()"
   ]
  },
  {
   "cell_type": "markdown",
   "metadata": {},
   "source": [
    "## Open a user's Facebook profile"
   ]
  },
  {
   "cell_type": "code",
   "execution_count": 62,
   "metadata": {},
   "outputs": [],
   "source": [
    "def open_about_page(username):\n",
    "    fetch_url = \"https://facebook.com/\"+username+\"/about\"\n",
    "    driver.get(fetch_url)"
   ]
  },
  {
   "cell_type": "code",
   "execution_count": 63,
   "metadata": {},
   "outputs": [],
   "source": [
    "# Test\n",
    "username = \"prophecyx\"\n",
    "open_about_page(username)"
   ]
  },
  {
   "cell_type": "markdown",
   "metadata": {},
   "source": [
    "## Scroll down"
   ]
  },
  {
   "cell_type": "code",
   "execution_count": 64,
   "metadata": {},
   "outputs": [],
   "source": [
    "def scroll_down():\n",
    "    driver.execute_script(\"window.scrollTo(0, document.body.scrollHeight);\")"
   ]
  },
  {
   "cell_type": "code",
   "execution_count": 73,
   "metadata": {},
   "outputs": [],
   "source": [
    "# Test\n",
    "scroll_down()"
   ]
  },
  {
   "cell_type": "markdown",
   "metadata": {},
   "source": [
    "## Get like count"
   ]
  },
  {
   "cell_type": "code",
   "execution_count": 96,
   "metadata": {},
   "outputs": [],
   "source": [
    "from bs4 import BeautifulSoup \n",
    "\n",
    "# Should find the class, because id is changed all the time\n",
    "# 1) Find class <=> _3sz whereas text <=> \"All Likes\"\n",
    "# 2) Find (1)'s parent\n",
    "# 3) Find class <=> _3d0 from (2)\n",
    "\n",
    "def find_like_count():\n",
    "    print (\"driver is finding element by id...\")\n",
    "    likes = driver.find_element_by_id(\"u_w_z\")\n",
    "    print (\"driver's job is done\")\n",
    "    soup = BeautifulSoup(likes.get_attribute('innerHTML'), 'html.parser')\n",
    "    #print (soup)\n",
    "    val = soup.find_all(\"span\", class_=\"_3d0\")\n",
    "    return val[0].text;"
   ]
  },
  {
   "cell_type": "code",
   "execution_count": 99,
   "metadata": {},
   "outputs": [
    {
     "name": "stdout",
     "output_type": "stream",
     "text": [
      "driver is finding element by id...\n",
      "driver's job is done\n",
      "like count: 801\n"
     ]
    }
   ],
   "source": [
    "# Test\n",
    "like_count = find_like_count()\n",
    "print (\"like count: %d\" % int(like_count))"
   ]
  },
  {
   "cell_type": "markdown",
   "metadata": {},
   "source": [
    "## Legacy code from Ajarn.Sukree"
   ]
  },
  {
   "cell_type": "code",
   "execution_count": 13,
   "metadata": {
    "colab": {},
    "colab_type": "code",
    "id": "lW7w6o_X93SH",
    "scrolled": true
   },
   "outputs": [],
   "source": [
    "from bs4 import BeautifulSoup \n",
    "import json\n",
    "import time\n",
    "\n",
    "def find_all_friends(username):\n",
    "    if '|' in username:\n",
    "        fetch_url = \"https://facebook.com/\"+username.split('|')[1]+\"/friends\"\n",
    "    else:\n",
    "        fetch_url = \"https://facebook.com/\"+username+\"/friends\"\n",
    "    driver.get(fetch_url)\n",
    "    l = 0\n",
    "    last_l = -1\n",
    "    friend_list = []\n",
    "    while last_l != l:\n",
    "        friends = driver.find_elements_by_class_name(\"_5qo4\")\n",
    "        print('Interpreting Data')\n",
    "        for friend in friends[l:]:\n",
    "            soup = BeautifulSoup(friend.get_attribute('innerHTML'), 'html.parser')\n",
    "            divs = soup.find_all('div', {'class': 'fsl fwb fcb'})\n",
    "            for div in divs:\n",
    "                name=div.get_text()\n",
    "                # print(name)\n",
    "                for a in div.find_all('a', href=True) :\n",
    "                    link=a['href'][:a['href'].find('?')]\n",
    "                    try:\n",
    "                        user_id=json.loads(a['data-gt'])['engagement']['eng_tid']\n",
    "                    except:\n",
    "                        user_id='xxxx'\n",
    "                if user_id == 'xxxx':\n",
    "                    break\n",
    "                friend_list.append((name,link,user_id))\n",
    "        print('Scrolling Down')\n",
    "        for i in range(20):\n",
    "            driver.execute_script(\"window.scrollTo(0, document.body.scrollHeight);\")\n",
    "            time.sleep(0.5)\n",
    "        last_l = l\n",
    "        l = len(friends)\n",
    "        print(len(friend_list), 'friends were collected.')\n",
    "    return friend_list"
   ]
  },
  {
   "cell_type": "code",
   "execution_count": 0,
   "metadata": {
    "colab": {},
    "colab_type": "code",
    "id": "7YIP4X2O93SL",
    "outputId": "b4ccca91-ef8f-4d2b-9dda-83c59b5842c8"
   },
   "outputs": [
    {
     "name": "stdout",
     "output_type": "stream",
     "text": [
      "Interpreting Data\n",
      "Scrolling Down\n",
      "0 friends were collected.\n",
      "Interpreting Data\n",
      "Scrolling Down\n",
      "1 friends were collected.\n",
      "Interpreting Data\n",
      "Scrolling Down\n",
      "1 friends were collected.\n",
      "Interpreting Data\n",
      "Scrolling Down\n",
      "20 friends were collected.\n",
      "Interpreting Data\n",
      "Scrolling Down\n",
      "80 friends were collected.\n",
      "Interpreting Data\n",
      "Scrolling Down\n",
      "160 friends were collected.\n",
      "Interpreting Data\n",
      "Scrolling Down\n",
      "240 friends were collected.\n",
      "Interpreting Data\n",
      "Scrolling Down\n",
      "300 friends were collected.\n",
      "Interpreting Data\n",
      "Scrolling Down\n",
      "380 friends were collected.\n",
      "Interpreting Data\n",
      "Scrolling Down\n",
      "460 friends were collected.\n",
      "Interpreting Data\n",
      "Scrolling Down\n",
      "540 friends were collected.\n",
      "Interpreting Data\n",
      "Scrolling Down\n",
      "620 friends were collected.\n",
      "Interpreting Data\n",
      "Scrolling Down\n",
      "700 friends were collected.\n",
      "Interpreting Data\n",
      "Scrolling Down\n",
      "780 friends were collected.\n",
      "Interpreting Data\n",
      "Scrolling Down\n",
      "880 friends were collected.\n",
      "Interpreting Data\n",
      "Scrolling Down\n",
      "880 friends were collected.\n",
      "Interpreting Data\n",
      "Scrolling Down\n",
      "0 friends were collected.\n",
      "Interpreting Data\n",
      "Scrolling Down\n",
      "0 friends were collected.\n",
      "Interpreting Data\n",
      "Scrolling Down\n",
      "8 friends were collected.\n",
      "Interpreting Data\n",
      "Scrolling Down\n",
      "32 friends were collected.\n",
      "Interpreting Data\n",
      "Scrolling Down\n",
      "56 friends were collected.\n",
      "Interpreting Data\n",
      "Scrolling Down\n",
      "58 friends were collected.\n",
      "Interpreting Data\n",
      "Scrolling Down\n",
      "58 friends were collected.\n",
      "Interpreting Data\n",
      "Scrolling Down\n",
      "20 friends were collected.\n",
      "Interpreting Data\n",
      "Scrolling Down\n",
      "80 friends were collected.\n",
      "Interpreting Data\n",
      "Scrolling Down\n",
      "160 friends were collected.\n",
      "Interpreting Data\n",
      "Scrolling Down\n",
      "220 friends were collected.\n",
      "Interpreting Data\n",
      "Scrolling Down\n",
      "300 friends were collected.\n",
      "Interpreting Data\n",
      "Scrolling Down\n",
      "380 friends were collected.\n",
      "Interpreting Data\n",
      "Scrolling Down\n",
      "442 friends were collected.\n",
      "Interpreting Data\n",
      "Scrolling Down\n",
      "442 friends were collected.\n",
      "Interpreting Data\n",
      "Scrolling Down\n",
      "20 friends were collected.\n",
      "Interpreting Data\n",
      "Scrolling Down\n",
      "80 friends were collected.\n",
      "Interpreting Data\n",
      "Scrolling Down\n",
      "140 friends were collected.\n",
      "Interpreting Data\n",
      "Scrolling Down\n",
      "179 friends were collected.\n",
      "Interpreting Data\n",
      "Scrolling Down\n",
      "179 friends were collected.\n",
      "Interpreting Data\n",
      "Scrolling Down\n",
      "179 friends were collected.\n",
      "Interpreting Data\n",
      "Scrolling Down\n",
      "0 friends were collected.\n",
      "Interpreting Data\n",
      "Scrolling Down\n",
      "20 friends were collected.\n",
      "Interpreting Data\n",
      "Scrolling Down\n",
      "80 friends were collected.\n",
      "Interpreting Data\n",
      "Scrolling Down\n",
      "140 friends were collected.\n",
      "Interpreting Data\n",
      "Scrolling Down\n",
      "220 friends were collected.\n",
      "Interpreting Data\n",
      "Scrolling Down\n",
      "300 friends were collected.\n",
      "Interpreting Data\n",
      "Scrolling Down\n",
      "380 friends were collected.\n",
      "Interpreting Data\n",
      "Scrolling Down\n",
      "460 friends were collected.\n",
      "Interpreting Data\n",
      "Scrolling Down\n",
      "540 friends were collected.\n",
      "Interpreting Data\n",
      "Scrolling Down\n",
      "600 friends were collected.\n",
      "Interpreting Data\n",
      "Scrolling Down\n",
      "600 friends were collected.\n",
      "Interpreting Data\n",
      "Scrolling Down\n",
      "0 friends were collected.\n",
      "Interpreting Data\n",
      "Scrolling Down\n",
      "20 friends were collected.\n",
      "Interpreting Data\n",
      "Scrolling Down\n",
      "20 friends were collected.\n",
      "Interpreting Data\n",
      "Scrolling Down\n",
      "20 friends were collected.\n",
      "Interpreting Data\n",
      "Scrolling Down\n",
      "80 friends were collected.\n",
      "Interpreting Data\n",
      "Scrolling Down\n",
      "141 friends were collected.\n",
      "Interpreting Data\n",
      "Scrolling Down\n",
      "141 friends were collected.\n",
      "Interpreting Data\n",
      "Scrolling Down\n"
     ]
    }
   ],
   "source": [
    "import random\n",
    "import os.path\n",
    "\n",
    "output_filename = 'friend_list.csv'\n",
    "def get_name(name,url,uid):\n",
    "    if 'profile.php' in url:\n",
    "        user_url = name+'|'+uid\n",
    "    else:\n",
    "        user_url = url[url.find('/',10)+1:]\n",
    "    return user_url\n",
    "\n",
    "if not os.path.exists(output_filename):\n",
    "    source_user = 'sukree'\n",
    "else:\n",
    "    file = open(output_filename,'r')\n",
    "    f_list = file.readlines()\n",
    "    first_user_list = [line.split(',')[0] for line in f_list]\n",
    "    source_user = random.choice(f_list).split(',')[1].strip()\n",
    "    while source_user in first_user_list:\n",
    "        source_user = random.choice(f_list).split(',')[1].strip()\n",
    "    file.close()    \n",
    "\n",
    "while True:\n",
    "    friend_list = find_all_friends(source_user)\n",
    "    new_friend_list = [(source_user,get_name(name,url,u_id)) for name,url,u_id in friend_list]\n",
    "    file = open(output_filename,'a')\n",
    "    for c in new_friend_list:\n",
    "        file.write(c[0]+','+c[1])\n",
    "        file.write('\\n')\n",
    "    file.close()\n",
    "    file = open(output_filename,'r')\n",
    "    f_list = file.readlines()\n",
    "    first_user_list = [line.split(',')[0] for line in f_list]\n",
    "    source_user = random.choice(f_list).split(',')[1].strip()\n",
    "    while source_user in first_user_list:\n",
    "        source_user = random.choice(f_list).split(',')[1].strip()\n",
    "    file.close()"
   ]
  }
 ],
 "metadata": {
  "colab": {
   "name": "Facebook Friends Selenium.ipynb",
   "provenance": []
  },
  "kernelspec": {
   "display_name": "Python 3",
   "language": "python",
   "name": "python3"
  },
  "language_info": {
   "codemirror_mode": {
    "name": "ipython",
    "version": 3
   },
   "file_extension": ".py",
   "mimetype": "text/x-python",
   "name": "python",
   "nbconvert_exporter": "python",
   "pygments_lexer": "ipython3",
   "version": "3.7.3"
  }
 },
 "nbformat": 4,
 "nbformat_minor": 1
}
