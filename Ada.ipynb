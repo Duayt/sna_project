{
 "cells": [
  {
   "cell_type": "markdown",
   "metadata": {},
   "source": [
    "## Init ChromeDriver"
   ]
  },
  {
   "cell_type": "code",
   "execution_count": 73,
   "metadata": {
    "colab": {},
    "colab_type": "code",
    "id": "ELW_snvI93SA"
   },
   "outputs": [],
   "source": [
    "from selenium import webdriver\n",
    "from selenium.webdriver.common.keys import Keys\n",
    "\n",
    "chrome_options = webdriver.ChromeOptions()\n",
    "chrome_options.add_argument('--no-sandbox')\n",
    "# create a new Firefox session\n",
    "driver = webdriver.Chrome()\n",
    "driver.implicitly_wait(30)\n",
    "driver.maximize_window()"
   ]
  },
  {
   "cell_type": "markdown",
   "metadata": {},
   "source": [
    "## Open a user's Facebook profile"
   ]
  },
  {
   "cell_type": "code",
   "execution_count": 74,
   "metadata": {},
   "outputs": [],
   "source": [
    "def open_about_page(username):\n",
    "    fetch_url = \"https://facebook.com/\"+username+\"/about\"\n",
    "    driver.get(fetch_url)"
   ]
  },
  {
   "cell_type": "code",
   "execution_count": 75,
   "metadata": {},
   "outputs": [],
   "source": [
    "# Test\n",
    "username = \"prophecyx\"\n",
    "open_about_page(username)"
   ]
  },
  {
   "cell_type": "markdown",
   "metadata": {},
   "source": [
    "## Scroll down"
   ]
  },
  {
   "cell_type": "code",
   "execution_count": 88,
   "metadata": {},
   "outputs": [],
   "source": [
    "def scroll_down_a_bit():\n",
    "    driver.execute_script(\"window.scrollTo(0, document.body.scrollHeight/2);\")\n",
    "    \n",
    "def scroll_down():\n",
    "    driver.execute_script(\"window.scrollTo(0, document.body.scrollHeight);\")"
   ]
  },
  {
   "cell_type": "code",
   "execution_count": 77,
   "metadata": {},
   "outputs": [],
   "source": [
    "# Test\n",
    "scroll_down()"
   ]
  },
  {
   "cell_type": "markdown",
   "metadata": {},
   "source": [
    "## Dig user data"
   ]
  },
  {
   "cell_type": "code",
   "execution_count": 93,
   "metadata": {},
   "outputs": [],
   "source": [
    "from bs4 import BeautifulSoup \n",
    "\n",
    "def dig_user_data():\n",
    "    #print (\"driver is finding element by class...\")\n",
    "    likes = driver.find_elements_by_class_name(\"_3c_\")\n",
    "    #print (\"driver's job is done\")\n",
    "    #print (likes)\n",
    "\n",
    "    like_count = \"-1\"\n",
    "    friend_count = \"-1\"\n",
    "    \n",
    "    for i in range(len(likes)):\n",
    "        lk = likes[i]\n",
    "        soup = BeautifulSoup(lk.get_attribute('innerHTML'), 'html.parser')\n",
    "        #print (soup)\n",
    "        topic = soup.find_all(\"span\", class_=\"_3sz\")\n",
    "\n",
    "        if topic[0].text == \"All Likes\":\n",
    "            #print ('Found \"All Likes\" section')\n",
    "            val = soup.find_all(\"span\", class_=\"_3d0\")\n",
    "            like_count = val[0].text\n",
    "            \n",
    "        if topic[0].text == \"All Friends\":\n",
    "            #print ('Found \"All Friends\" section')\n",
    "            val = soup.find_all(\"span\", class_=\"_3d0\")\n",
    "            friend_count = val[0].text\n",
    "            \n",
    "        if like_count != \"-1\":\n",
    "            like_count = like_count.replace(\",\", \"\")\n",
    "        if friend_count != \"-1\":\n",
    "            friend_count = friend_count.replace(\",\", \"\")\n",
    "\n",
    "        if like_count != \"-1\" and friend_count != \"-1\":\n",
    "            break\n",
    "            \n",
    "    return [like_count, friend_count]\n",
    "            "
   ]
  },
  {
   "cell_type": "code",
   "execution_count": 79,
   "metadata": {},
   "outputs": [
    {
     "name": "stdout",
     "output_type": "stream",
     "text": [
      "driver is finding element by class...\n",
      "driver's job is done\n",
      "Found \"All Friends\" section\n",
      "like count: -1 friend count: 1067\n"
     ]
    }
   ],
   "source": [
    "# Test\n",
    "like_count, friend_count = dig_user_data()\n",
    "print (\"like count: %d friend count: %d\" % (int(like_count), int(friend_count)))"
   ]
  },
  {
   "cell_type": "markdown",
   "metadata": {},
   "source": [
    "## Test with the whole flow"
   ]
  },
  {
   "cell_type": "code",
   "execution_count": 104,
   "metadata": {},
   "outputs": [],
   "source": [
    "users = [\n",
    "    'prophecyx',\n",
    "    'rika.matsumoto.9',\n",
    "    'yasushi.wada3',\n",
    "    'warin.sopharak',\n",
    "]\n"
   ]
  },
  {
   "cell_type": "code",
   "execution_count": 105,
   "metadata": {},
   "outputs": [
    {
     "name": "stdout",
     "output_type": "stream",
     "text": [
      "Start digging: prophecyx\n",
      "like count: -1 friend count: 1067\n",
      "like count: -1 friend count: 1067\n",
      "like count: -1 friend count: 1067\n",
      "like count: 801 friend count: 1067\n",
      "Start digging: rika.matsumoto.9\n",
      "like count: -1 friend count: -1\n",
      "like count: -1 friend count: -1\n",
      "like count: -1 friend count: -1\n",
      "like count: 310 friend count: -1\n",
      "like count: 310 friend count: -1\n",
      "like count: 310 friend count: -1\n",
      "like count: 310 friend count: -1\n",
      "like count: 310 friend count: -1\n",
      "like count: 310 friend count: -1\n",
      "like count: 310 friend count: -1\n",
      "like count: 310 friend count: -1\n",
      "like count: 310 friend count: -1\n",
      "like count: 310 friend count: -1\n",
      "like count: 310 friend count: -1\n",
      "like count: 310 friend count: -1\n",
      "like count: 310 friend count: -1\n",
      "like count: 310 friend count: -1\n",
      "like count: 310 friend count: -1\n",
      "like count: 310 friend count: -1\n",
      "like count: 310 friend count: -1\n",
      "Start digging: yasushi.wada3\n",
      "like count: -1 friend count: 1206\n",
      "like count: -1 friend count: 1206\n",
      "like count: -1 friend count: 1206\n",
      "like count: -1 friend count: 1206\n",
      "like count: -1 friend count: 1206\n",
      "like count: -1 friend count: 1206\n",
      "like count: -1 friend count: 1206\n",
      "like count: -1 friend count: 1206\n",
      "like count: -1 friend count: 1206\n",
      "like count: -1 friend count: 1206\n",
      "like count: -1 friend count: 1206\n",
      "like count: -1 friend count: 1206\n",
      "like count: -1 friend count: 1206\n",
      "like count: -1 friend count: 1206\n",
      "like count: -1 friend count: 1206\n",
      "like count: -1 friend count: 1206\n",
      "like count: -1 friend count: 1206\n",
      "like count: -1 friend count: 1206\n",
      "like count: -1 friend count: 1206\n",
      "like count: -1 friend count: 1206\n",
      "Start digging: warin.sopharak\n",
      "like count: -1 friend count: -1\n",
      "like count: -1 friend count: -1\n",
      "like count: 843 friend count: -1\n",
      "like count: 843 friend count: -1\n",
      "like count: 843 friend count: -1\n",
      "like count: 843 friend count: -1\n",
      "like count: 843 friend count: -1\n",
      "like count: 843 friend count: -1\n",
      "like count: 843 friend count: -1\n",
      "like count: 843 friend count: -1\n",
      "like count: 843 friend count: -1\n",
      "like count: 843 friend count: -1\n",
      "like count: 843 friend count: -1\n",
      "like count: 843 friend count: -1\n",
      "like count: 843 friend count: -1\n",
      "like count: 843 friend count: -1\n",
      "like count: 843 friend count: -1\n",
      "like count: 843 friend count: -1\n",
      "like count: 843 friend count: -1\n",
      "like count: 843 friend count: -1\n",
      "All done!\n"
     ]
    }
   ],
   "source": [
    "import time\n",
    "\n",
    "result = []\n",
    "\n",
    "for i in range(len(users)):\n",
    "    out = []\n",
    "    username = users[i]\n",
    "    print ('Start digging: ' + username)\n",
    "    out.append(username)\n",
    "    open_about_page(username)\n",
    "    \n",
    "    out.append(-1)\n",
    "    out.append(-1)\n",
    "    \n",
    "    _like_count = \"-1\"\n",
    "    _friend_count = \"-1\"\n",
    "    \n",
    "    time.sleep(2)\n",
    "    scroll_down_a_bit()\n",
    "    time.sleep(2)\n",
    "        \n",
    "    for j in range(20):\n",
    "\n",
    "        scroll_down()\n",
    "        time.sleep(2)\n",
    "        \n",
    "        like_count, friend_count = dig_user_data()\n",
    "        print (\"like count: %d friend count: %d\" % (int(like_count), int(friend_count)))\n",
    "        if like_count != '-1' and _like_count == '-1':\n",
    "            _like_count = like_count\n",
    "            out[1] = like_count\n",
    "        if friend_count != '-1' and _friend_count == '-1':\n",
    "            _friend_count = friend_count\n",
    "            out[2] = friend_count\n",
    "\n",
    "        if _friend_count != '-1' and _like_count != '-1':\n",
    "            result.append(out)\n",
    "            break\n",
    "        if j == 9:\n",
    "            result.append(out)\n",
    "            \n",
    "print (\"All done!\")"
   ]
  },
  {
   "cell_type": "code",
   "execution_count": 108,
   "metadata": {},
   "outputs": [
    {
     "data": {
      "text/html": [
       "<div>\n",
       "<style scoped>\n",
       "    .dataframe tbody tr th:only-of-type {\n",
       "        vertical-align: middle;\n",
       "    }\n",
       "\n",
       "    .dataframe tbody tr th {\n",
       "        vertical-align: top;\n",
       "    }\n",
       "\n",
       "    .dataframe thead th {\n",
       "        text-align: right;\n",
       "    }\n",
       "</style>\n",
       "<table border=\"1\" class=\"dataframe\">\n",
       "  <thead>\n",
       "    <tr style=\"text-align: right;\">\n",
       "      <th></th>\n",
       "      <th>Username</th>\n",
       "      <th>Like Count</th>\n",
       "      <th>Friend Count</th>\n",
       "    </tr>\n",
       "  </thead>\n",
       "  <tbody>\n",
       "    <tr>\n",
       "      <th>0</th>\n",
       "      <td>prophecyx</td>\n",
       "      <td>801</td>\n",
       "      <td>1067</td>\n",
       "    </tr>\n",
       "    <tr>\n",
       "      <th>1</th>\n",
       "      <td>rika.matsumoto.9</td>\n",
       "      <td>310</td>\n",
       "      <td>-1</td>\n",
       "    </tr>\n",
       "    <tr>\n",
       "      <th>2</th>\n",
       "      <td>yasushi.wada3</td>\n",
       "      <td>-1</td>\n",
       "      <td>1206</td>\n",
       "    </tr>\n",
       "    <tr>\n",
       "      <th>3</th>\n",
       "      <td>warin.sopharak</td>\n",
       "      <td>843</td>\n",
       "      <td>-1</td>\n",
       "    </tr>\n",
       "  </tbody>\n",
       "</table>\n",
       "</div>"
      ],
      "text/plain": [
       "           Username Like Count Friend Count\n",
       "0         prophecyx        801         1067\n",
       "1  rika.matsumoto.9        310           -1\n",
       "2     yasushi.wada3         -1         1206\n",
       "3    warin.sopharak        843           -1"
      ]
     },
     "execution_count": 108,
     "metadata": {},
     "output_type": "execute_result"
    }
   ],
   "source": [
    "import numpy as np\n",
    "import pandas as pd\n",
    "\n",
    "result\n",
    "\n",
    "columns = [\"Username\", \"Like Count\", \"Friend Count\"]\n",
    "data = np.array(result)\n",
    "df = pd.DataFrame(data=data, columns=columns)\n",
    "df"
   ]
  },
  {
   "cell_type": "code",
   "execution_count": null,
   "metadata": {},
   "outputs": [],
   "source": []
  }
 ],
 "metadata": {
  "colab": {
   "name": "Facebook Friends Selenium.ipynb",
   "provenance": []
  },
  "kernelspec": {
   "display_name": "Python 3",
   "language": "python",
   "name": "python3"
  },
  "language_info": {
   "codemirror_mode": {
    "name": "ipython",
    "version": 3
   },
   "file_extension": ".py",
   "mimetype": "text/x-python",
   "name": "python",
   "nbconvert_exporter": "python",
   "pygments_lexer": "ipython3",
   "version": "3.7.3"
  }
 },
 "nbformat": 4,
 "nbformat_minor": 1
}
