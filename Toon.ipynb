{
 "cells": [
  {
   "cell_type": "code",
   "execution_count": null,
   "metadata": {},
   "outputs": [],
   "source": [
    "from selenium import webdriver\n",
    "from selenium.webdriver.common.keys import Keys\n",
    "\n",
    "chrome_options = webdriver.ChromeOptions()\n",
    "chrome_options.add_argument('--no-sandbox')\n",
    "# create a new webbrowser session\n",
    "driver = webdriver.Chrome('G:\\\\My Drive\\\\Cs\\\\2019_01\\\\SocialNetworkAnalysis\\\\chromedriver for chrome78\\\\chromedriver')\n",
    "driver.implicitly_wait(30)\n",
    "driver.maximize_window()"
   ]
  },
  {
   "cell_type": "code",
   "execution_count": null,
   "metadata": {
    "scrolled": true
   },
   "outputs": [],
   "source": [
    "from bs4 import BeautifulSoup \n",
    "import json\n",
    "import time\n",
    "from datetime import datetime\n",
    "import pandas as pd\n",
    "import re\n",
    "\n",
    "def find_all_comment(pageNameOrId,postId):\n",
    "    fetch_url = 'https://www.facebook.com/pg/%s/posts/%s/' % (pageNameOrId,postId) \n",
    "    driver.get(fetch_url)\n",
    "    l = 0\n",
    "    last_l = -1\n",
    "    comment_list = []\n",
    "\n",
    "    userIds = ''\n",
    "    commentIds = ''\n",
    "    commentTimes = ''\n",
    "    commentText = ''      \n",
    "    commentInteractionCount = 0\n",
    "\n",
    "    dataa = driver.find_elements_by_class_name(\"_3w53\") #all comment\n",
    "    data = dataa[0]\n",
    "    soup = BeautifulSoup(data.get_attribute('innerHTML'), 'html.parser')\n",
    "    divs = soup.find_all('div', {'class': '_42ef'}) #one comment   \n",
    "    for div in divs[1:]:\n",
    "        for div_content in div.find_all('div',{'class':'_6c7i'}):\n",
    "            comment_text = div.find_all('span',{'class' : '_3l3x'})\n",
    "            user_id = div.find_all('a', {'class': '_6qw4'})\n",
    "            comment_interaction = div.find_all('div',{'class' : '_6cuq'})\n",
    "\n",
    "            commentText =  [span.getText() for span in comment_text] or '-'            \n",
    "            commentInteractionCount = [int(re.findall(\"[0-9]*\", span.getText())[0]) for span in comment_interaction] or '0'\n",
    "            userIds = [a['href'][1:] for a in user_id]\n",
    "\n",
    "        for ul_interact in div.find_all('ul',{'class':'_6coi _6qw9'}) :\n",
    "            comment_id = div.find_all('a', {'class': '_6qw7'})\n",
    "            commentIds = [((a['href']).split('?')[1]).split('=')[1] for a in comment_id]\n",
    "            commentTimes = [int(a.abbr['data-utime']) for a in comment_id] #attribute\n",
    "            commentTimes = pd.to_datetime(commentTimes[0],unit='s').strftime(\"%Y-%m-%d %H:%M:%S\")\n",
    "\n",
    "        #print('loop')\n",
    "        comment_list.append({\n",
    "            'post_id' : postId,\n",
    "            'comment_id': commentIds,\n",
    "            'comment_time': commentTimes,\n",
    "            'comment_content' : commentText,      \n",
    "            'user_id': userIds,\n",
    "            'comment_like_count' : commentInteractionCount,\n",
    "            'crawl_timestamp' : datetime.now().strftime(\"%Y-%m-%d %H:%M:%S\")\n",
    "        }) \n",
    "\n",
    "    #detail = \"\"\n",
    "    print(comment_list)\n",
    "    #print(len(comment_list), 'data were collected.')\n",
    "    return comment_list"
   ]
  },
  {
   "cell_type": "code",
   "execution_count": null,
   "metadata": {},
   "outputs": [],
   "source": [
    "import random\n",
    "import os.path\n",
    "import pandas as pd\n",
    "import numpy as np\n",
    "from pandas import read_csv\n",
    "\n",
    "data = read_csv('khaosod.csv', header=0)\n",
    "list_post_page_id = ((data['post_page_id'].tolist()))\n",
    "list_post_id = ((data['post_id'].tolist()))\n",
    "\n",
    "output_filename = 'postcomment.csv'\n",
    "\n",
    "for i in range(len(list_post_page_id)):\n",
    "    print(i)\n",
    "    pageNameOrId = list_post_page_id[i]\n",
    "    postId = list_post_id[i]\n",
    "    count=0\n",
    "    comment_list = find_all_comment(pageNameOrId,postId)\n",
    "    #print(comment_list) \n",
    "\n",
    "    file = open(output_filename,'a',encoding='utf-8')\n",
    "    for c in comment_list:       \n",
    "        file.write(str(c['post_id'])+','+c['comment_id'][0]+','+c['comment_time']+','+c['comment_content'][0]+','+c['user_id'][0]+','+str(c['comment_like_count'][0])+','+c['crawl_timestamp'] )#+','+c[2]+','+c[3])\n",
    "        file.write('\\n')\n",
    "        count = count+1\n",
    "        print(\"write record {}\".format(count))\n",
    "    file.close()"
   ]
  },
  {
   "cell_type": "code",
   "execution_count": null,
   "metadata": {},
   "outputs": [],
   "source": []
  }
 ],
 "metadata": {
  "kernelspec": {
   "display_name": "Python 3",
   "language": "python",
   "name": "python3"
  },
  "language_info": {
   "codemirror_mode": {
    "name": "ipython",
    "version": 3
   },
   "file_extension": ".py",
   "mimetype": "text/x-python",
   "name": "python",
   "nbconvert_exporter": "python",
   "pygments_lexer": "ipython3",
   "version": "3.6.9"
  }
 },
 "nbformat": 4,
 "nbformat_minor": 2
}
