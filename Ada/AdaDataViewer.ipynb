{
 "cells": [
  {
   "cell_type": "code",
   "execution_count": 8,
   "metadata": {},
   "outputs": [
    {
     "data": {
      "text/html": [
       "<div>\n",
       "<style scoped>\n",
       "    .dataframe tbody tr th:only-of-type {\n",
       "        vertical-align: middle;\n",
       "    }\n",
       "\n",
       "    .dataframe tbody tr th {\n",
       "        vertical-align: top;\n",
       "    }\n",
       "\n",
       "    .dataframe thead th {\n",
       "        text-align: right;\n",
       "    }\n",
       "</style>\n",
       "<table border=\"1\" class=\"dataframe\">\n",
       "  <thead>\n",
       "    <tr style=\"text-align: right;\">\n",
       "      <th></th>\n",
       "      <th>Unnamed: 0</th>\n",
       "      <th>post_page_id</th>\n",
       "      <th>post_id</th>\n",
       "      <th>post_time</th>\n",
       "      <th>post_link</th>\n",
       "      <th>post_message</th>\n",
       "      <th>post_like_count</th>\n",
       "      <th>post_share_count</th>\n",
       "      <th>post_reactor_count</th>\n",
       "      <th>post_comment_count</th>\n",
       "      <th>post_angry_count</th>\n",
       "      <th>post_love_count</th>\n",
       "      <th>post_sad_count</th>\n",
       "      <th>post_wow_count</th>\n",
       "      <th>post_haha_count</th>\n",
       "      <th>post_crawl_time</th>\n",
       "      <th>page_name</th>\n",
       "    </tr>\n",
       "  </thead>\n",
       "  <tbody>\n",
       "    <tr>\n",
       "      <th>0</th>\n",
       "      <td>0</td>\n",
       "      <td>129558990394402</td>\n",
       "      <td>4333442143339378</td>\n",
       "      <td>2019-11-13 12:35:43</td>\n",
       "      <td>https://www.facebook.com/khaosod/posts/4333442...</td>\n",
       "      <td>เพื่อนบ้านรังเกียจ ลูกไม่ยอมให้เงิน เพราะกลัวจ...</td>\n",
       "      <td>1415</td>\n",
       "      <td>190</td>\n",
       "      <td>1777</td>\n",
       "      <td>205</td>\n",
       "      <td>2</td>\n",
       "      <td>10</td>\n",
       "      <td>326</td>\n",
       "      <td>19</td>\n",
       "      <td>5</td>\n",
       "      <td>2019-11-13 14:40:02.211674</td>\n",
       "      <td>khaosod</td>\n",
       "    </tr>\n",
       "    <tr>\n",
       "      <th>1</th>\n",
       "      <td>1</td>\n",
       "      <td>129558990394402</td>\n",
       "      <td>4333407490009510</td>\n",
       "      <td>2019-11-13 12:24:11</td>\n",
       "      <td>https://www.facebook.com/khaosod/videos/122637...</td>\n",
       "      <td>เดือดจัด!! ฟอร์จูนเนอร์ ชนแล้วหนี มอไซค์ตามไล่...</td>\n",
       "      <td>12608</td>\n",
       "      <td>3811</td>\n",
       "      <td>15338</td>\n",
       "      <td>2309</td>\n",
       "      <td>2060</td>\n",
       "      <td>6</td>\n",
       "      <td>96</td>\n",
       "      <td>364</td>\n",
       "      <td>204</td>\n",
       "      <td>2019-11-13 14:40:02.211674</td>\n",
       "      <td>khaosod</td>\n",
       "    </tr>\n",
       "    <tr>\n",
       "      <th>2</th>\n",
       "      <td>2</td>\n",
       "      <td>129558990394402</td>\n",
       "      <td>4333341343349458</td>\n",
       "      <td>2019-11-13 12:15:32</td>\n",
       "      <td>https://www.facebook.com/khaosod/posts/4333341...</td>\n",
       "      <td>กลุ่มผู้สูงวัย ร้องบิ๊กตู่ ขอขึ้นเบี้ยยังชีพ</td>\n",
       "      <td>1392</td>\n",
       "      <td>50</td>\n",
       "      <td>1864</td>\n",
       "      <td>504</td>\n",
       "      <td>8</td>\n",
       "      <td>4</td>\n",
       "      <td>5</td>\n",
       "      <td>40</td>\n",
       "      <td>415</td>\n",
       "      <td>2019-11-13 14:40:02.211674</td>\n",
       "      <td>khaosod</td>\n",
       "    </tr>\n",
       "    <tr>\n",
       "      <th>3</th>\n",
       "      <td>3</td>\n",
       "      <td>129558990394402</td>\n",
       "      <td>4333333783350214</td>\n",
       "      <td>2019-11-13 12:10:38</td>\n",
       "      <td>https://www.facebook.com/khaosod/posts/4333333...</td>\n",
       "      <td>ทุ่มทุนสร้าง เคว้ง ไทยซีรีส์เรื่องแรก บนเน็ตฟล...</td>\n",
       "      <td>304</td>\n",
       "      <td>3</td>\n",
       "      <td>310</td>\n",
       "      <td>4</td>\n",
       "      <td>0</td>\n",
       "      <td>2</td>\n",
       "      <td>0</td>\n",
       "      <td>3</td>\n",
       "      <td>1</td>\n",
       "      <td>2019-11-13 14:40:02.211674</td>\n",
       "      <td>khaosod</td>\n",
       "    </tr>\n",
       "    <tr>\n",
       "      <th>4</th>\n",
       "      <td>4</td>\n",
       "      <td>129558990394402</td>\n",
       "      <td>4333330193350573</td>\n",
       "      <td>2019-11-13 12:05:03</td>\n",
       "      <td>https://www.facebook.com/khaosod/posts/4333330...</td>\n",
       "      <td>ร้านเสริมสวยกระเจิง จงอางยาว 3 เมตร แผ่แม่เบี้...</td>\n",
       "      <td>349</td>\n",
       "      <td>7</td>\n",
       "      <td>385</td>\n",
       "      <td>11</td>\n",
       "      <td>0</td>\n",
       "      <td>0</td>\n",
       "      <td>0</td>\n",
       "      <td>28</td>\n",
       "      <td>8</td>\n",
       "      <td>2019-11-13 14:40:02.211674</td>\n",
       "      <td>khaosod</td>\n",
       "    </tr>\n",
       "  </tbody>\n",
       "</table>\n",
       "</div>"
      ],
      "text/plain": [
       "   Unnamed: 0     post_page_id           post_id            post_time  \\\n",
       "0           0  129558990394402  4333442143339378  2019-11-13 12:35:43   \n",
       "1           1  129558990394402  4333407490009510  2019-11-13 12:24:11   \n",
       "2           2  129558990394402  4333341343349458  2019-11-13 12:15:32   \n",
       "3           3  129558990394402  4333333783350214  2019-11-13 12:10:38   \n",
       "4           4  129558990394402  4333330193350573  2019-11-13 12:05:03   \n",
       "\n",
       "                                           post_link  \\\n",
       "0  https://www.facebook.com/khaosod/posts/4333442...   \n",
       "1  https://www.facebook.com/khaosod/videos/122637...   \n",
       "2  https://www.facebook.com/khaosod/posts/4333341...   \n",
       "3  https://www.facebook.com/khaosod/posts/4333333...   \n",
       "4  https://www.facebook.com/khaosod/posts/4333330...   \n",
       "\n",
       "                                        post_message  post_like_count  \\\n",
       "0  เพื่อนบ้านรังเกียจ ลูกไม่ยอมให้เงิน เพราะกลัวจ...             1415   \n",
       "1  เดือดจัด!! ฟอร์จูนเนอร์ ชนแล้วหนี มอไซค์ตามไล่...            12608   \n",
       "2       กลุ่มผู้สูงวัย ร้องบิ๊กตู่ ขอขึ้นเบี้ยยังชีพ             1392   \n",
       "3  ทุ่มทุนสร้าง เคว้ง ไทยซีรีส์เรื่องแรก บนเน็ตฟล...              304   \n",
       "4  ร้านเสริมสวยกระเจิง จงอางยาว 3 เมตร แผ่แม่เบี้...              349   \n",
       "\n",
       "   post_share_count  post_reactor_count  post_comment_count  post_angry_count  \\\n",
       "0               190                1777                 205                 2   \n",
       "1              3811               15338                2309              2060   \n",
       "2                50                1864                 504                 8   \n",
       "3                 3                 310                   4                 0   \n",
       "4                 7                 385                  11                 0   \n",
       "\n",
       "   post_love_count  post_sad_count  post_wow_count  post_haha_count  \\\n",
       "0               10             326              19                5   \n",
       "1                6              96             364              204   \n",
       "2                4               5              40              415   \n",
       "3                2               0               3                1   \n",
       "4                0               0              28                8   \n",
       "\n",
       "              post_crawl_time page_name  \n",
       "0  2019-11-13 14:40:02.211674   khaosod  \n",
       "1  2019-11-13 14:40:02.211674   khaosod  \n",
       "2  2019-11-13 14:40:02.211674   khaosod  \n",
       "3  2019-11-13 14:40:02.211674   khaosod  \n",
       "4  2019-11-13 14:40:02.211674   khaosod  "
      ]
     },
     "execution_count": 8,
     "metadata": {},
     "output_type": "execute_result"
    }
   ],
   "source": [
    "import pandas as pd\n",
    "import csv\n",
    "\n",
    "path = '../crawl_data/khaosod.csv'\n",
    "\n",
    "data = pd.read_csv(path, encoding=\"utf8\") \n",
    "#data.shape\n",
    "data.head()"
   ]
  },
  {
   "cell_type": "code",
   "execution_count": 124,
   "metadata": {},
   "outputs": [
    {
     "data": {
      "text/plain": [
       "1644034"
      ]
     },
     "execution_count": 124,
     "metadata": {},
     "output_type": "execute_result"
    }
   ],
   "source": [
    "import csv\n",
    "\n",
    "path = '../crawl_data/post interaction/khaosod_post_interact.csv'\n",
    "\n",
    "data = pd.read_csv(path, encoding=\"utf8\") \n",
    "#data.shape\n",
    "#data.head()\n",
    "\n",
    "#love = data.loc[data['type'] == 'Love']\n",
    "#love.head()\n",
    "\n",
    "#post_url = data.loc[data['post_url'] == 'https://www.facebook.com/khaosod/posts/4333442143339378']\n",
    "#post_url.size\n",
    "#post_url.head()\n",
    "\n",
    "#user_url = data.loc[data['user_url'] == '/profile.php?id=100043671036759']\n",
    "#user_url.head()\n",
    "\n",
    "data.size"
   ]
  },
  {
   "cell_type": "code",
   "execution_count": 135,
   "metadata": {},
   "outputs": [
    {
     "name": "stderr",
     "output_type": "stream",
     "text": [
      "\n",
      "0it [00:00, ?it/s]\u001b[A\n",
      "1it [00:00,  7.67it/s]\u001b[A"
     ]
    },
    {
     "name": "stdout",
     "output_type": "stream",
     "text": [
      "row: 1644034\n"
     ]
    },
    {
     "name": "stderr",
     "output_type": "stream",
     "text": [
      "\n",
      "654it [00:00, 10.95it/s]\u001b[A\n",
      "1189it [00:00, 15.63it/s]\u001b[A\n",
      "1844it [00:00, 22.30it/s]\u001b[A\n",
      "2521it [00:00, 31.81it/s]\u001b[A\n",
      "3230it [00:00, 45.36it/s]\u001b[A\n",
      "3784it [00:00, 64.57it/s]\u001b[A\n",
      "4337it [00:00, 91.69it/s]\u001b[A\n",
      "4861it [00:00, 129.98it/s]\u001b[A\n",
      "5381it [00:01, 183.58it/s]\u001b[A\n",
      "5891it [00:01, 258.10it/s]\u001b[A\n",
      "6395it [00:01, 360.55it/s]\u001b[A\n",
      "7071it [00:01, 503.55it/s]\u001b[A\n",
      "7665it [00:01, 694.14it/s]\u001b[A\n",
      "8230it [00:01, 916.17it/s]\u001b[A\n",
      "8734it [00:01, 1209.30it/s]\u001b[A\n",
      "9268it [00:01, 1574.74it/s]\u001b[A\n",
      "9865it [00:01, 2021.03it/s]\u001b[A\n",
      "10467it [00:02, 2523.83it/s]\u001b[A\n",
      "11022it [00:02, 2947.11it/s]\u001b[A\n",
      "11556it [00:02, 3389.09it/s]\u001b[A\n",
      "12086it [00:02, 3775.47it/s]\u001b[A\n",
      "12663it [00:02, 4211.85it/s]\u001b[A\n",
      "13204it [00:02, 4481.54it/s]\u001b[A\n",
      "13815it [00:02, 4869.36it/s]\u001b[A\n",
      "14374it [00:02, 4410.26it/s]\u001b[A\n",
      "14874it [00:02, 4165.96it/s]\u001b[A\n",
      "15335it [00:03, 4066.25it/s]\u001b[A\n",
      "15773it [00:03, 4045.20it/s]\u001b[A\n",
      "16200it [00:03, 3783.45it/s]\u001b[A\n",
      "16598it [00:03, 3598.38it/s]\u001b[A\n",
      "16973it [00:03, 3549.87it/s]\u001b[A\n",
      "17356it [00:03, 3628.40it/s]\u001b[A\n",
      "17835it [00:03, 3913.04it/s]\u001b[A\n",
      "18380it [00:03, 4273.96it/s]\u001b[A\n",
      "18826it [00:03, 4317.21it/s]\u001b[A\n",
      "19271it [00:04, 3996.96it/s]\u001b[A\n",
      "19685it [00:04, 3889.51it/s]\u001b[A\n",
      "20085it [00:04, 3841.95it/s]\u001b[A\n",
      "20629it [00:04, 4213.25it/s]\u001b[A\n",
      "21247it [00:04, 4657.05it/s]\u001b[A\n",
      "21857it [00:04, 5011.98it/s]\u001b[A\n",
      "22456it [00:04, 5268.55it/s]\u001b[A\n",
      "23051it [00:04, 5454.75it/s]\u001b[A\n",
      "23666it [00:04, 5644.69it/s]\u001b[A\n",
      "24266it [00:04, 5746.02it/s]\u001b[A\n",
      "24867it [00:05, 5822.09it/s]\u001b[A\n",
      "25503it [00:05, 5972.37it/s]\u001b[A\n",
      "26107it [00:05, 5850.15it/s]\u001b[A\n",
      "26697it [00:05, 5724.68it/s]\u001b[A\n",
      "27274it [00:05, 5701.47it/s]\u001b[A\n",
      "27934it [00:05, 5942.56it/s]\u001b[A\n",
      "28544it [00:05, 5988.35it/s]\u001b[A\n",
      "29147it [00:05, 5514.86it/s]\u001b[A\n",
      "29720it [00:05, 5575.98it/s]\u001b[A\n",
      "30331it [00:06, 5724.96it/s]\u001b[A\n",
      "30942it [00:06, 5833.82it/s]\u001b[A\n",
      "31530it [00:06, 5333.01it/s]\u001b[A\n",
      "32075it [00:06, 5302.67it/s]\u001b[A\n",
      "32630it [00:06, 5372.98it/s]\u001b[A\n",
      "33174it [00:06, 5392.33it/s]\u001b[A\n",
      "33718it [00:06, 5326.58it/s]\u001b[A\n",
      "34254it [00:06, 5198.33it/s]\u001b[A\n",
      "34777it [00:06, 5205.88it/s]\u001b[A\n",
      "35313it [00:06, 5249.03it/s]\u001b[A\n",
      "35840it [00:07, 5092.75it/s]\u001b[A\n",
      "36352it [00:07, 5013.49it/s]\u001b[A\n",
      "36896it [00:07, 5133.74it/s]\u001b[A\n",
      "37463it [00:07, 5283.11it/s]\u001b[A\n",
      "38013it [00:07, 5345.83it/s]\u001b[A\n",
      "38550it [00:07, 5261.14it/s]\u001b[A\n",
      "39152it [00:07, 5466.14it/s]\u001b[A\n",
      "39732it [00:07, 5561.76it/s]\u001b[A\n",
      "40291it [00:07, 5063.62it/s]\u001b[A\n",
      "40808it [00:08, 4816.39it/s]\u001b[A\n",
      "41300it [00:08, 4809.75it/s]\u001b[A\n",
      "41835it [00:08, 4958.86it/s]\u001b[A\n",
      "42409it [00:08, 5168.36it/s]\u001b[A\n",
      "42933it [00:08, 5181.47it/s]\u001b[A\n",
      "43510it [00:08, 5344.64it/s]\u001b[A\n",
      "44059it [00:08, 5385.76it/s]\u001b[A\n",
      "44616it [00:08, 5420.30it/s]\u001b[A\n",
      "45161it [00:08, 5382.35it/s]\u001b[A\n",
      "45756it [00:08, 5540.17it/s]\u001b[A\n",
      "46341it [00:09, 5625.93it/s]\u001b[A\n",
      "46969it [00:09, 5807.13it/s]\u001b[A\n",
      "47589it [00:09, 5919.61it/s]\u001b[A\n",
      "48246it [00:09, 6099.29it/s]\u001b[A\n",
      "48860it [00:09, 6047.03it/s]\u001b[A\n",
      "49467it [00:09, 5939.47it/s]\u001b[A\n",
      "50075it [00:09, 5979.34it/s]\u001b[A\n",
      "50675it [00:09, 5861.48it/s]\u001b[A\n",
      "51263it [00:09, 4926.72it/s]\u001b[A\n",
      "51783it [00:10, 4157.61it/s]\u001b[A\n",
      "52325it [00:10, 4469.46it/s]\u001b[A\n",
      "52879it [00:10, 4743.76it/s]\u001b[A\n",
      "53382it [00:10, 4301.18it/s]\u001b[A\n",
      "53840it [00:10, 4380.99it/s]\u001b[A\n",
      "54298it [00:10, 3979.33it/s]\u001b[A\n",
      "54717it [00:10, 4009.40it/s]\u001b[A\n",
      "55248it [00:10, 4327.15it/s]\u001b[A\n",
      "55915it [00:11, 4836.32it/s]\u001b[A\n",
      "56431it [00:11, 4898.60it/s]\u001b[A\n",
      "56944it [00:11, 3983.69it/s]\u001b[A\n",
      "57386it [00:11, 3803.13it/s]\u001b[A\n",
      "57799it [00:11, 3814.77it/s]\u001b[A\n",
      "58265it [00:11, 4032.72it/s]\u001b[A\n",
      "58841it [00:11, 4431.23it/s]\u001b[A\n",
      "59503it [00:11, 4918.39it/s]\u001b[A\n",
      "60077it [00:11, 5137.62it/s]\u001b[A\n",
      "60760it [00:12, 5549.25it/s]\u001b[A\n",
      "61344it [00:12, 5366.22it/s]\u001b[A\n",
      "61961it [00:12, 5583.14it/s]\u001b[A\n",
      "62557it [00:12, 5691.04it/s]\u001b[A\n",
      "63139it [00:12, 5583.83it/s]\u001b[A\n",
      "63794it [00:12, 5841.19it/s]\u001b[A\n",
      "64388it [00:12, 5755.29it/s]\u001b[A\n",
      "64971it [00:12, 4940.00it/s]\u001b[A\n",
      "65491it [00:12, 4436.45it/s]\u001b[A\n",
      "65962it [00:13, 4480.46it/s]\u001b[A\n",
      "66430it [00:13, 4260.07it/s]\u001b[A\n",
      "67075it [00:13, 4742.79it/s]\u001b[A\n",
      "67759it [00:13, 5222.20it/s]\u001b[A\n",
      "68373it [00:13, 5464.14it/s]\u001b[A\n",
      "68947it [00:13, 5085.18it/s]\u001b[A\n",
      "69518it [00:13, 5257.12it/s]\u001b[A\n",
      "70063it [00:13, 5223.83it/s]\u001b[A\n",
      "70599it [00:13, 5253.84it/s]\u001b[A\n",
      "71234it [00:14, 5540.00it/s]\u001b[A\n",
      "71844it [00:14, 5696.04it/s]\u001b[A\n",
      "72423it [00:14, 5685.32it/s]\u001b[A\n",
      "73001it [00:14, 5711.88it/s]\u001b[A\n",
      "73580it [00:14, 5734.02it/s]\u001b[A\n",
      "74269it [00:14, 6036.85it/s]\u001b[A\n",
      "74880it [00:14, 5748.04it/s]\u001b[A\n",
      "75486it [00:14, 5832.30it/s]\u001b[A\n",
      "76160it [00:14, 6077.63it/s]\u001b[A\n",
      "76775it [00:14, 6066.85it/s]\u001b[A\n",
      "77387it [00:15, 5886.27it/s]\u001b[A\n",
      "77980it [00:15, 5555.83it/s]\u001b[A\n",
      "78543it [00:15, 5500.31it/s]\u001b[A\n",
      "79098it [00:15, 5369.01it/s]\u001b[A\n",
      "79640it [00:15, 5322.43it/s]\u001b[A\n",
      "80223it [00:15, 5465.14it/s]\u001b[A\n",
      "80867it [00:15, 5725.07it/s]\u001b[A\n",
      "81445it [00:15, 5513.68it/s]\u001b[A\n",
      "82002it [00:16, 4349.65it/s]\u001b[A\n",
      "82480it [00:16, 3772.13it/s]\u001b[A\n",
      "82901it [00:16, 3839.76it/s]\u001b[A\n",
      "83316it [00:16, 2805.60it/s]\u001b[A\n",
      "83658it [00:16, 2698.93it/s]\u001b[A\n",
      "84057it [00:16, 2988.47it/s]\u001b[A\n",
      "84407it [00:16, 3125.47it/s]\u001b[A\n",
      "85055it [00:16, 3699.00it/s]\u001b[A\n",
      "85489it [00:17, 3816.40it/s]\u001b[A\n",
      "85933it [00:17, 3983.66it/s]\u001b[A\n",
      "86457it [00:17, 4292.02it/s]\u001b[A\n",
      "86958it [00:17, 4483.75it/s]\u001b[A\n",
      "87495it [00:17, 4716.31it/s]\u001b[A\n",
      "87987it [00:17, 4527.67it/s]\u001b[A\n",
      "88677it [00:17, 5045.35it/s]\u001b[A\n",
      "89223it [00:17, 5161.61it/s]\u001b[A\n",
      "89904it [00:17, 5564.64it/s]\u001b[A\n",
      "90491it [00:17, 5652.69it/s]\u001b[A\n",
      "91096it [00:18, 5765.90it/s]\u001b[A\n",
      "91686it [00:18, 5252.22it/s]\u001b[A\n",
      "92229it [00:18, 5211.11it/s]\u001b[A\n",
      "92773it [00:18, 5277.19it/s]\u001b[A\n",
      "93310it [00:18, 5098.31it/s]\u001b[A\n",
      "93828it [00:18, 5018.56it/s]\u001b[A\n",
      "94347it [00:18, 5067.86it/s]\u001b[A\n",
      "94882it [00:18, 5148.48it/s]\u001b[A\n",
      "95513it [00:18, 5448.07it/s]\u001b[A\n",
      "96065it [00:19, 5301.68it/s]\u001b[A\n",
      "96601it [00:19, 5106.89it/s]\u001b[A\n",
      "97120it [00:19, 5130.87it/s]\u001b[A\n",
      "97671it [00:19, 5238.81it/s]\u001b[A\n",
      "98199it [00:19, 5210.35it/s]\u001b[A\n",
      "98723it [00:19, 5151.68it/s]\u001b[A\n",
      "99240it [00:19, 4987.56it/s]\u001b[A\n",
      "99766it [00:19, 5065.49it/s]\u001b[A\n",
      "100369it [00:19, 5320.28it/s]\u001b[A\n",
      "100906it [00:20, 5164.92it/s]\u001b[A\n",
      "101427it [00:20, 4316.43it/s]\u001b[A\n",
      "101886it [00:20, 4252.34it/s]\u001b[A\n",
      "102366it [00:20, 4402.89it/s]\u001b[A\n",
      "102821it [00:20, 4272.37it/s]\u001b[A\n",
      "103260it [00:20, 4043.69it/s]\u001b[A\n",
      "103675it [00:20, 4048.91it/s]\u001b[A\n",
      "104088it [00:20, 3990.18it/s]\u001b[A\n",
      "104508it [00:20, 4048.75it/s]\u001b[A\n",
      "104917it [00:21, 3891.45it/s]\u001b[A\n",
      "105311it [00:21, 3779.86it/s]\u001b[A\n",
      "105693it [00:21, 3012.69it/s]\u001b[A\n",
      "106122it [00:21, 3308.03it/s]\u001b[A\n",
      "106481it [00:21, 3265.73it/s]\u001b[A\n",
      "106838it [00:21, 3351.22it/s]\u001b[A\n",
      "107188it [00:21, 3227.80it/s]\u001b[A\n",
      "107746it [00:21, 3694.33it/s]\u001b[A\n",
      "108263it [00:21, 4039.68it/s]\u001b[A\n",
      "108741it [00:22, 4236.30it/s]\u001b[A\n",
      "109249it [00:22, 4456.17it/s]\u001b[A\n",
      "109778it [00:22, 4677.15it/s]\u001b[A\n",
      "110273it [00:22, 4710.47it/s]\u001b[A\n",
      "110757it [00:22, 4070.88it/s]\u001b[A\n",
      "111188it [00:22, 3831.66it/s]\u001b[A\n",
      "111591it [00:22, 3692.38it/s]\u001b[A\n",
      "112123it [00:22, 4065.29it/s]\u001b[A\n",
      "112552it [00:23, 3782.60it/s]\u001b[A\n",
      "112970it [00:23, 3890.08it/s]\u001b[A\n",
      "113487it [00:23, 4201.47it/s]\u001b[A\n",
      "113986it [00:23, 4410.36it/s]\u001b[A\n",
      "114442it [00:23, 4207.55it/s]\u001b[A\n",
      "114876it [00:23, 3148.65it/s]\u001b[A\n",
      "115239it [00:23, 3055.34it/s]\u001b[A\n",
      "115579it [00:23, 3143.86it/s]\u001b[A\n",
      "116126it [00:23, 3603.08it/s]\u001b[A\n",
      "116763it [00:24, 4142.71it/s]\u001b[A\n",
      "117235it [00:24, 4292.03it/s]\u001b[A\n",
      "117859it [00:24, 4734.89it/s]\u001b[A\n",
      "118376it [00:24, 4801.97it/s]\u001b[A\n",
      "118982it [00:24, 5120.21it/s]\u001b[A\n",
      "119593it [00:24, 5380.84it/s]\u001b[A\n",
      "120209it [00:24, 5591.74it/s]\u001b[A\n",
      "120825it [00:24, 5748.93it/s]\u001b[A\n",
      "121414it [00:24, 5634.88it/s]\u001b[A\n",
      "122002it [00:24, 5703.91it/s]\u001b[A\n",
      "122580it [00:25, 5407.23it/s]\u001b[A\n",
      "123179it [00:25, 5568.97it/s]\u001b[A\n",
      "123813it [00:25, 5779.80it/s]\u001b[A\n",
      "124398it [00:25, 5574.39it/s]\u001b[A\n",
      "124962it [00:25, 5305.52it/s]\u001b[A\n",
      "125519it [00:25, 5380.75it/s]\u001b[A\n",
      "126146it [00:25, 5619.55it/s]\u001b[A\n",
      "126715it [00:25, 5512.83it/s]\u001b[A\n",
      "127272it [00:25, 5426.31it/s]\u001b[A\n",
      "127831it [00:26, 5472.86it/s]\u001b[A\n",
      "128471it [00:26, 5720.55it/s]\u001b[A\n",
      "129048it [00:26, 5357.52it/s]\u001b[A\n",
      "129592it [00:26, 4897.44it/s]\u001b[A\n",
      "130096it [00:26, 4748.43it/s]\u001b[A\n",
      "130582it [00:26, 4503.39it/s]\u001b[A\n",
      "131081it [00:26, 4638.82it/s]\u001b[A\n",
      "131553it [00:26, 4091.63it/s]\u001b[A\n",
      "131980it [00:26, 4098.32it/s]\u001b[A\n",
      "132402it [00:27, 4113.88it/s]\u001b[A\n",
      "132822it [00:27, 3492.20it/s]\u001b[A\n",
      "133194it [00:27, 3155.07it/s]\u001b[A\n",
      "133532it [00:27, 2928.34it/s]\u001b[A\n",
      "133844it [00:27, 2952.92it/s]\u001b[A\n",
      "134154it [00:27, 2994.61it/s]\u001b[A\n",
      "134463it [00:27, 2922.50it/s]\u001b[A\n",
      "134763it [00:27, 2672.82it/s]\u001b[A\n",
      "135040it [00:28, 2695.59it/s]\u001b[A\n",
      "135316it [00:28, 2589.82it/s]\u001b[A\n",
      "135581it [00:28, 2476.00it/s]\u001b[A\n",
      "135834it [00:28, 2386.48it/s]\u001b[A\n",
      "136197it [00:28, 2659.80it/s]\u001b[A\n",
      "136495it [00:28, 2746.15it/s]\u001b[A\n",
      "136839it [00:28, 2922.20it/s]\u001b[A\n",
      "137142it [00:28, 2821.09it/s]\u001b[A\n",
      "137481it [00:28, 2968.06it/s]\u001b[A\n",
      "137786it [00:29, 2905.63it/s]\u001b[A\n",
      "138083it [00:29, 2921.07it/s]\u001b[A\n",
      "138379it [00:29, 2505.75it/s]\u001b[A\n",
      "138643it [00:29, 2252.63it/s]\u001b[A\n",
      "138883it [00:29, 1781.81it/s]\u001b[A\n",
      "139217it [00:29, 2071.10it/s]\u001b[A\n",
      "139607it [00:29, 2409.01it/s]\u001b[A\n",
      "139935it [00:29, 2617.01it/s]\u001b[A\n",
      "140234it [00:30, 2668.69it/s]\u001b[A\n",
      "140761it [00:30, 3130.18it/s]\u001b[A\n",
      "141334it [00:30, 3622.92it/s]\u001b[A\n",
      "141760it [00:30, 3176.53it/s]\u001b[A\n",
      "142496it [00:30, 3829.03it/s]\u001b[A\n",
      "143158it [00:30, 4382.82it/s]\u001b[A\n",
      "143964it [00:30, 5076.83it/s]\u001b[A\n",
      "144761it [00:30, 5697.11it/s]\u001b[A\n",
      "145591it [00:30, 6287.22it/s]\u001b[A\n",
      "146402it [00:31, 6740.27it/s]\u001b[A\n",
      "147161it [00:31, 6971.39it/s]\u001b[A\n",
      "147917it [00:31, 7134.34it/s]\u001b[A\n",
      "148668it [00:31, 7161.97it/s]\u001b[A\n",
      "149411it [00:31, 7056.62it/s]\u001b[A\n",
      "150136it [00:31, 6799.88it/s]\u001b[A\n",
      "150832it [00:31, 6588.63it/s]\u001b[A\n",
      "151503it [00:31, 6006.17it/s]\u001b[A\n",
      "152166it [00:31, 6180.38it/s]\u001b[A\n",
      "152811it [00:32, 6257.72it/s]\u001b[A\n",
      "153447it [00:32, 5933.42it/s]\u001b[A\n",
      "154171it [00:32, 6271.97it/s]\u001b[A\n",
      "154992it [00:32, 6748.77it/s]\u001b[A\n",
      "155740it [00:32, 6950.99it/s]\u001b[A\n",
      "156536it [00:32, 7224.53it/s]\u001b[A\n",
      "157272it [00:32, 7127.43it/s]\u001b[A\n",
      "158069it [00:32, 7356.69it/s]\u001b[A\n",
      "158868it [00:32, 7535.03it/s]\u001b[A\n",
      "159629it [00:32, 7528.15it/s]\u001b[A\n",
      "160445it [00:33, 7706.75it/s]\u001b[A\n",
      "161221it [00:33, 7427.84it/s]\u001b[A\n",
      "162019it [00:33, 7583.15it/s]\u001b[A\n",
      "162782it [00:33, 7563.98it/s]\u001b[A\n",
      "163542it [00:33, 7246.22it/s]\u001b[A\n",
      "164272it [00:33, 7093.95it/s]\u001b[A\n",
      "164986it [00:33, 7082.93it/s]\u001b[A\n",
      "165797it [00:33, 7360.52it/s]\u001b[A\n",
      "166583it [00:33, 7502.70it/s]\u001b[A\n",
      "167338it [00:33, 7492.93it/s]\u001b[A\n",
      "168091it [00:34, 7158.59it/s]\u001b[A\n",
      "168820it [00:34, 7196.38it/s]\u001b[A\n",
      "169544it [00:34, 6847.39it/s]\u001b[A\n",
      "170235it [00:34, 6390.25it/s]\u001b[A\n",
      "170885it [00:34, 6408.01it/s]\u001b[A\n",
      "171635it [00:34, 6699.18it/s]\u001b[A\n",
      "172319it [00:34, 6740.79it/s]\u001b[A\n",
      "173055it [00:34, 6913.33it/s]\u001b[A\n",
      "173853it [00:34, 7201.71it/s]\u001b[A\n",
      "174678it [00:35, 7485.42it/s]\u001b[A\n",
      "175440it [00:35, 7523.20it/s]\u001b[A\n",
      "176251it [00:35, 7687.63it/s]\u001b[A\n",
      "177062it [00:35, 7807.26it/s]\u001b[A\n",
      "177897it [00:35, 7960.61it/s]\u001b[A\n",
      "178742it [00:35, 8098.93it/s]\u001b[A\n",
      "179571it [00:35, 8153.51it/s]\u001b[A\n",
      "180389it [00:35, 7926.58it/s]\u001b[A\n",
      "181185it [00:35, 7842.55it/s]\u001b[A\n",
      "181972it [00:35, 7719.42it/s]\u001b[A\n",
      "182786it [00:36, 7838.84it/s]\u001b[A\n",
      "183585it [00:36, 7882.59it/s]\u001b[A\n",
      "184405it [00:36, 7972.78it/s]\u001b[A\n",
      "185204it [00:36, 7919.09it/s]\u001b[A\n",
      "185997it [00:36, 7890.76it/s]\u001b[A\n",
      "186787it [00:36, 7879.48it/s]\u001b[A\n",
      "187600it [00:36, 7950.96it/s]\u001b[A\n",
      "188396it [00:36, 7710.99it/s]\u001b[A\n",
      "189170it [00:36, 7486.18it/s]\u001b[A\n",
      "189922it [00:37, 7368.05it/s]\u001b[A\n",
      "190662it [00:37, 6964.42it/s]\u001b[A\n",
      "191410it [00:37, 7109.81it/s]\u001b[A\n",
      "192143it [00:37, 7173.96it/s]\u001b[A\n",
      "192888it [00:37, 7253.63it/s]\u001b[A\n",
      "193651it [00:37, 7360.28it/s]\u001b[A\n",
      "194390it [00:37, 7171.54it/s]\u001b[A\n",
      "195110it [00:37, 6891.87it/s]\u001b[A\n",
      "195804it [00:37, 6808.71it/s]\u001b[A\n",
      "196489it [00:37, 6746.24it/s]\u001b[A\n",
      "197166it [00:38, 6746.42it/s]\u001b[A\n",
      "197931it [00:38, 6993.88it/s]\u001b[A\n",
      "198634it [00:38, 6759.52it/s]\u001b[A\n",
      "199329it [00:38, 6814.20it/s]\u001b[A\n",
      "200065it [00:38, 6967.52it/s]\u001b[A\n",
      "200765it [00:38, 6948.69it/s]\u001b[A\n",
      "201581it [00:38, 7270.38it/s]\u001b[A\n",
      "202346it [00:38, 7380.23it/s]\u001b[A\n",
      "203115it [00:38, 7470.31it/s]\u001b[A\n",
      "203866it [00:38, 7413.79it/s]\u001b[A\n",
      "204610it [00:39, 7366.96it/s]\u001b[A\n",
      "205423it [00:39, 7579.76it/s]\u001b[A\n",
      "206260it [00:39, 7799.84it/s]\u001b[A\n",
      "207084it [00:39, 7920.17it/s]\u001b[A\n",
      "207882it [00:39, 7937.24it/s]\u001b[A\n",
      "208729it [00:39, 8088.55it/s]\u001b[A\n",
      "209577it [00:39, 8201.26it/s]\u001b[A\n",
      "210399it [00:39, 7723.24it/s]\u001b[A\n",
      "211179it [00:39, 7208.52it/s]\u001b[A\n",
      "211912it [00:40, 6410.98it/s]\u001b[A\n",
      "212578it [00:40, 5544.19it/s]\u001b[A\n",
      "213198it [00:40, 5725.26it/s]\u001b[A\n",
      "213814it [00:40, 5845.26it/s]\u001b[A\n",
      "214419it [00:40, 3615.97it/s]\u001b[A\n",
      "214900it [00:40, 2855.40it/s]\u001b[A\n",
      "215295it [00:41, 3027.49it/s]\u001b[A\n",
      "215677it [00:41, 3018.77it/s]\u001b[A\n",
      "216362it [00:41, 3626.79it/s]\u001b[A\n",
      "217050it [00:41, 4225.43it/s]\u001b[A\n",
      "217717it [00:41, 4747.28it/s]\u001b[A\n",
      "218418it [00:41, 5242.35it/s]\u001b[A\n",
      "219024it [00:41, 4467.52it/s]\u001b[A\n",
      "219548it [00:41, 4130.35it/s]\u001b[A\n",
      "220020it [00:42, 3712.58it/s]\u001b[A\n",
      "220441it [00:42, 3786.90it/s]\u001b[A\n",
      "220976it [00:42, 4150.15it/s]\u001b[A\n",
      "221537it [00:42, 4501.54it/s]\u001b[A\n",
      "222021it [00:42, 2358.53it/s]\u001b[A\n",
      "222393it [00:43, 2399.16it/s]\u001b[A\n",
      "222796it [00:43, 2726.26it/s]\u001b[A\n",
      "223151it [00:43, 2543.64it/s]\u001b[A\n",
      "223466it [00:43, 2430.19it/s]\u001b[A\n",
      "223972it [00:43, 2878.73it/s]\u001b[A\n",
      "224480it [00:43, 3308.53it/s]\u001b[A\n",
      "225095it [00:43, 3840.43it/s]\u001b[A\n",
      "225864it [00:43, 4518.86it/s]\u001b[A\n",
      "226612it [00:43, 5126.63it/s]\u001b[A\n",
      "227398it [00:44, 5722.83it/s]\u001b[A\n",
      "228106it [00:44, 6071.93it/s]\u001b[A\n",
      "228857it [00:44, 6439.88it/s]\u001b[A\n",
      "229616it [00:44, 6744.79it/s]\u001b[A\n",
      "230372it [00:44, 6969.89it/s]\u001b[A\n",
      "231134it [00:44, 7152.39it/s]\u001b[A\n",
      "231873it [00:44, 7053.68it/s]\u001b[A\n",
      "232642it [00:44, 7231.07it/s]\u001b[A\n",
      "233401it [00:44, 7333.61it/s]\u001b[A\n",
      "234168it [00:44, 7431.30it/s]\u001b[A\n",
      "234862it [00:45, 5216.94it/s]\u001b[A"
     ]
    },
    {
     "name": "stdout",
     "output_type": "stream",
     "text": [
      "Finished!\n"
     ]
    }
   ],
   "source": [
    "from tqdm import tqdm, tqdm_notebook\n",
    "\n",
    "'''\n",
    "    map[user_url][post_user_type] = user_url\n",
    "'''\n",
    "mapper = {}\n",
    "\n",
    "print (\"row: %d\" % (data.size))\n",
    "\n",
    "for row in tqdm_notebook(data.iterrows()):\n",
    "    \n",
    "    post_url = row[1]['post_url']\n",
    "    type_t = row[1]['type']\n",
    "    user_url = row[1]['user_url']\n",
    "\n",
    "    if not post_url in mapper:\n",
    "        mapper[post_url] = {}\n",
    "\n",
    "    if not type_t in mapper[post_url]:\n",
    "        mapper[post_url][type_t] = []\n",
    "    \n",
    "    mapper[post_url][type_t].append(user_url)\n",
    "        \n",
    "print (\"Finished!\")"
   ]
  },
  {
   "cell_type": "code",
   "execution_count": 123,
   "metadata": {},
   "outputs": [
    {
     "data": {
      "text/plain": [
       "183"
      ]
     },
     "execution_count": 123,
     "metadata": {},
     "output_type": "execute_result"
    }
   ],
   "source": [
    "len(mapper)"
   ]
  },
  {
   "cell_type": "code",
   "execution_count": 159,
   "metadata": {},
   "outputs": [
    {
     "name": "stderr",
     "output_type": "stream",
     "text": [
      "\n",
      "  0%|          | 0/183 [00:00<?, ?it/s]\u001b[A"
     ]
    },
    {
     "name": "stdout",
     "output_type": "stream",
     "text": [
      "https://www.facebook.com/khaosod/posts/4333442143339378\n",
      "Like\n",
      "2018\n"
     ]
    },
    {
     "name": "stderr",
     "output_type": "stream",
     "text": [
      "\n",
      "  1%|          | 1/183 [00:02<07:02,  2.32s/it]\u001b[A"
     ]
    },
    {
     "name": "stdout",
     "output_type": "stream",
     "text": [
      "Sad\n",
      "508\n",
      "Wow\n",
      "34\n",
      "Love\n",
      "17\n",
      "Haha\n",
      "6\n",
      "Angry\n",
      "4\n",
      "https://www.facebook.com/khaosod/videos/1226371814224085/\n",
      "Like\n",
      "4000\n",
      "Wow\n",
      "771\n"
     ]
    },
    {
     "name": "stderr",
     "output_type": "stream",
     "text": [
      "\n",
      "  1%|          | 2/183 [00:11<12:58,  4.30s/it]\u001b[A"
     ]
    },
    {
     "name": "stdout",
     "output_type": "stream",
     "text": [
      "Haha\n",
      "298\n",
      "Sad\n",
      "197\n",
      "Love\n",
      "15\n",
      "https://www.facebook.com/khaosod/posts/4333341343349458\n",
      "Like\n",
      "1703\n"
     ]
    },
    {
     "name": "stderr",
     "output_type": "stream",
     "text": [
      "\n",
      "  2%|▏         | 3/183 [00:12<10:35,  3.53s/it]\u001b[A"
     ]
    },
    {
     "name": "stdout",
     "output_type": "stream",
     "text": [
      "Haha\n",
      "532\n",
      "Wow\n",
      "55\n",
      "Angry\n",
      "10\n",
      "Love\n",
      "6\n",
      "Sad\n",
      "6\n"
     ]
    },
    {
     "name": "stderr",
     "output_type": "stream",
     "text": [
      "\n",
      "  3%|▎         | 5/183 [00:13<07:24,  2.50s/it]\u001b[A"
     ]
    },
    {
     "name": "stdout",
     "output_type": "stream",
     "text": [
      "https://www.facebook.com/khaosod/posts/4333333783350214\n",
      "Like\n",
      "329\n",
      "Wow\n",
      "3\n",
      "Love\n",
      "2\n",
      "Haha\n",
      "1\n",
      "https://www.facebook.com/khaosod/posts/4333330193350573\n",
      "Like\n",
      "383\n",
      "Wow\n",
      "28\n",
      "Haha\n",
      "8\n",
      "https://www.facebook.com/khaosod/videos/434972417076781/\n",
      "Like\n",
      "821\n"
     ]
    },
    {
     "name": "stderr",
     "output_type": "stream",
     "text": [
      "\n",
      "  3%|▎         | 6/183 [00:13<05:34,  1.89s/it]\u001b[A"
     ]
    },
    {
     "name": "stdout",
     "output_type": "stream",
     "text": [
      "Haha\n",
      "224\n",
      "Love\n",
      "9\n",
      "Wow\n",
      "1\n",
      "https://www.facebook.com/khaosod/videos/1086889835020731/\n",
      "Like\n",
      "3999\n",
      "Sad\n",
      "658\n"
     ]
    },
    {
     "name": "stderr",
     "output_type": "stream",
     "text": [
      "\n",
      "  4%|▍         | 7/183 [00:24<13:23,  4.56s/it]\u001b[A"
     ]
    },
    {
     "name": "stdout",
     "output_type": "stream",
     "text": [
      "Wow\n",
      "66\n",
      "Angry\n",
      "12\n",
      "Love\n",
      "7\n",
      "Haha\n",
      "2\n",
      "https://www.facebook.com/khaosod/posts/4333273870022872\n",
      "Like\n",
      "1798\n",
      "Haha\n",
      "787\n"
     ]
    },
    {
     "name": "stderr",
     "output_type": "stream",
     "text": [
      "\n",
      "  4%|▍         | 8/183 [00:26<11:26,  3.92s/it]\u001b[A"
     ]
    },
    {
     "name": "stdout",
     "output_type": "stream",
     "text": [
      "Angry\n",
      "355\n",
      "Wow\n",
      "20\n",
      "Sad\n",
      "12\n",
      "Love\n",
      "2\n",
      "https://www.facebook.com/khaosod/posts/4333260983357494\n",
      "Like\n",
      "403\n",
      "Haha\n",
      "12\n",
      "Wow\n",
      "4\n",
      "Love\n",
      "2\n",
      "https://www.facebook.com/khaosod/posts/4333254106691515\n",
      "Like\n",
      "478\n"
     ]
    },
    {
     "name": "stderr",
     "output_type": "stream",
     "text": [
      "\n",
      "  5%|▌         | 10/183 [00:27<08:01,  2.78s/it]\u001b[A"
     ]
    },
    {
     "name": "stdout",
     "output_type": "stream",
     "text": [
      "Angry\n",
      "50\n",
      "Haha\n",
      "12\n",
      "Wow\n",
      "5\n",
      "Sad\n",
      "1\n",
      "https://www.facebook.com/khaosod/posts/4333249283358664\n",
      "Like\n",
      "1131\n"
     ]
    },
    {
     "name": "stderr",
     "output_type": "stream",
     "text": [
      "\n",
      "  6%|▌         | 11/183 [00:27<06:08,  2.14s/it]\u001b[A\n",
      "  7%|▋         | 12/183 [00:27<04:23,  1.54s/it]\u001b[A"
     ]
    },
    {
     "name": "stdout",
     "output_type": "stream",
     "text": [
      "Sad\n",
      "56\n",
      "Haha\n",
      "31\n",
      "Angry\n",
      "16\n",
      "Wow\n",
      "10\n",
      "https://www.facebook.com/khaosod/posts/4333229796693946\n",
      "Like\n",
      "509\n",
      "Haha\n",
      "36\n",
      "Wow\n",
      "3\n",
      "Love\n",
      "1\n",
      "Angry\n",
      "1\n",
      "https://www.facebook.com/khaosod/posts/4333223943361198\n",
      "Like\n",
      "299\n",
      "Haha\n",
      "1\n",
      "Wow\n",
      "1\n",
      "https://www.facebook.com/khaosod/posts/4333216906695235\n",
      "Like\n",
      "556\n"
     ]
    },
    {
     "name": "stderr",
     "output_type": "stream",
     "text": [
      "\n",
      "  8%|▊         | 14/183 [00:28<03:07,  1.11s/it]\u001b[A"
     ]
    },
    {
     "name": "stdout",
     "output_type": "stream",
     "text": [
      "Haha\n",
      "25\n",
      "Wow\n",
      "23\n",
      "https://www.facebook.com/khaosod/posts/4333203260029933\n",
      "Like\n",
      "1436\n"
     ]
    },
    {
     "name": "stderr",
     "output_type": "stream",
     "text": [
      "\n",
      "  8%|▊         | 15/183 [00:29<03:07,  1.11s/it]\u001b[A"
     ]
    },
    {
     "name": "stdout",
     "output_type": "stream",
     "text": [
      "Haha\n",
      "352\n",
      "Wow\n",
      "56\n",
      "Love\n",
      "8\n",
      "Angry\n",
      "1\n",
      "https://www.facebook.com/khaosod/posts/4333212880028971\n",
      "Like\n",
      "395\n",
      "Haha\n",
      "45\n",
      "Angry\n",
      "18\n",
      "Love\n",
      "3\n",
      "Wow\n",
      "3\n",
      "Sad\n",
      "1\n",
      "https://www.facebook.com/khaosod/posts/4333172100033049\n",
      "Like\n",
      "2038\n"
     ]
    },
    {
     "name": "stderr",
     "output_type": "stream",
     "text": [
      "\n",
      "  9%|▉         | 17/183 [00:31<03:14,  1.17s/it]\u001b[A"
     ]
    },
    {
     "name": "stdout",
     "output_type": "stream",
     "text": [
      "Sad\n",
      "331\n",
      "Angry\n",
      "15\n",
      "Wow\n",
      "5\n",
      "Haha\n",
      "2\n",
      "https://www.facebook.com/khaosod/posts/4333189703364622\n",
      "Like\n",
      "519\n"
     ]
    },
    {
     "name": "stderr",
     "output_type": "stream",
     "text": [
      "\n",
      " 10%|▉         | 18/183 [00:31<02:23,  1.15it/s]\u001b[A"
     ]
    },
    {
     "name": "stdout",
     "output_type": "stream",
     "text": [
      "Haha\n",
      "9\n",
      "Wow\n",
      "3\n",
      "Love\n",
      "1\n",
      "https://www.facebook.com/khaosod/posts/4333155103368082\n",
      "Like\n",
      "403\n",
      "Haha\n",
      "5\n",
      "Wow\n",
      "5\n",
      "Sad\n",
      "3\n",
      "Angry\n",
      "1\n",
      "https://www.facebook.com/khaosod/posts/4333137983369794\n",
      "Like\n",
      "2383\n",
      "Haha\n",
      "1108\n"
     ]
    },
    {
     "name": "stderr",
     "output_type": "stream",
     "text": [
      "\n",
      " 11%|█         | 20/183 [00:35<03:14,  1.19s/it]\u001b[A"
     ]
    },
    {
     "name": "stdout",
     "output_type": "stream",
     "text": [
      "Angry\n",
      "84\n",
      "Wow\n",
      "17\n",
      "Sad\n",
      "12\n",
      "Love\n",
      "4\n",
      "https://www.facebook.com/khaosod/posts/4333160503367542\n",
      "Like\n",
      "148\n",
      "Haha\n",
      "1\n",
      "https://www.facebook.com/khaosod/posts/4333129920037267\n",
      "Like\n",
      "1106\n"
     ]
    },
    {
     "name": "stderr",
     "output_type": "stream",
     "text": [
      "\n",
      " 12%|█▏        | 22/183 [00:36<02:30,  1.07it/s]\u001b[A"
     ]
    },
    {
     "name": "stdout",
     "output_type": "stream",
     "text": [
      "Love\n",
      "35\n",
      "Wow\n",
      "20\n",
      "Sad\n",
      "5\n",
      "https://www.facebook.com/khaosod/posts/4333130580037201\n",
      "Like\n",
      "967\n"
     ]
    },
    {
     "name": "stderr",
     "output_type": "stream",
     "text": [
      "\n",
      " 13%|█▎        | 23/183 [00:37<02:12,  1.20it/s]\u001b[A"
     ]
    },
    {
     "name": "stdout",
     "output_type": "stream",
     "text": [
      "Haha\n",
      "401\n",
      "Wow\n",
      "69\n",
      "Angry\n",
      "16\n",
      "Sad\n",
      "7\n",
      "Love\n",
      "1\n",
      "https://www.facebook.com/khaosod/posts/4333087776708148\n",
      "Like\n",
      "857\n"
     ]
    },
    {
     "name": "stderr",
     "output_type": "stream",
     "text": [
      "\n",
      " 13%|█▎        | 24/183 [00:37<01:59,  1.33it/s]\u001b[A"
     ]
    },
    {
     "name": "stdout",
     "output_type": "stream",
     "text": [
      "Haha\n",
      "169\n",
      "Sad\n",
      "23\n",
      "Angry\n",
      "18\n",
      "Wow\n",
      "15\n",
      "https://www.facebook.com/khaosod/posts/4333077326709193\n",
      "Like\n",
      "801\n"
     ]
    },
    {
     "name": "stderr",
     "output_type": "stream",
     "text": [
      "\n",
      " 14%|█▎        | 25/183 [00:38<01:39,  1.59it/s]\u001b[A\n",
      " 15%|█▍        | 27/183 [00:38<01:12,  2.15it/s]\u001b[A"
     ]
    },
    {
     "name": "stdout",
     "output_type": "stream",
     "text": [
      "Angry\n",
      "35\n",
      "Haha\n",
      "26\n",
      "Sad\n",
      "6\n",
      "Wow\n",
      "4\n",
      "https://www.facebook.com/khaosod/posts/4333071130043146\n",
      "Like\n",
      "366\n",
      "Sad\n",
      "15\n",
      "Wow\n",
      "9\n",
      "Haha\n",
      "3\n",
      "https://www.facebook.com/khaosod/posts/4333053593378233\n",
      "Like\n",
      "353\n",
      "Love\n",
      "8\n",
      "Haha\n",
      "2\n",
      "Wow\n",
      "2\n",
      "https://www.facebook.com/khaosod/posts/4332983140051945\n",
      "Like\n",
      "639\n"
     ]
    },
    {
     "name": "stderr",
     "output_type": "stream",
     "text": [
      "\n",
      " 15%|█▌        | 28/183 [00:38<01:01,  2.52it/s]\u001b[A"
     ]
    },
    {
     "name": "stdout",
     "output_type": "stream",
     "text": [
      "Haha\n",
      "39\n",
      "Wow\n",
      "2\n",
      "Sad\n",
      "2\n",
      "Angry\n",
      "2\n",
      "https://www.facebook.com/khaosod/posts/4332997883383804\n",
      "Like\n",
      "735\n"
     ]
    },
    {
     "name": "stderr",
     "output_type": "stream",
     "text": [
      "\n",
      " 16%|█▌        | 29/183 [00:38<01:06,  2.33it/s]\u001b[A"
     ]
    },
    {
     "name": "stdout",
     "output_type": "stream",
     "text": [
      "Haha\n",
      "563\n",
      "Angry\n",
      "125\n",
      "Wow\n",
      "6\n",
      "Sad\n",
      "6\n",
      "Love\n",
      "3\n",
      "https://www.facebook.com/khaosod/posts/4333033040046955\n",
      "Like\n",
      "183\n",
      "Haha\n",
      "4\n",
      "Wow\n",
      "2\n",
      "https://www.facebook.com/khaosod/videos/458566041455070/\n",
      "Like\n",
      "4000\n",
      "Angry\n",
      "1487\n"
     ]
    },
    {
     "name": "stderr",
     "output_type": "stream",
     "text": [
      "\n",
      " 17%|█▋        | 31/183 [00:49<04:38,  1.83s/it]\u001b[A"
     ]
    },
    {
     "name": "stdout",
     "output_type": "stream",
     "text": [
      "Haha\n",
      "448\n",
      "Wow\n",
      "203\n",
      "Sad\n",
      "147\n",
      "Love\n",
      "16\n",
      "https://www.facebook.com/khaosod/posts/4332972546719671\n",
      "Like\n",
      "381\n",
      "Haha\n",
      "16\n",
      "Sad\n",
      "10\n",
      "Wow\n",
      "5\n",
      "Angry\n",
      "1\n",
      "https://www.facebook.com/khaosod/videos/2446014939004517/\n",
      "Like\n",
      "3998\n",
      "Wow\n",
      "843\n"
     ]
    },
    {
     "name": "stderr",
     "output_type": "stream",
     "text": [
      "\n",
      " 18%|█▊        | 33/183 [01:00<07:16,  2.91s/it]\u001b[A"
     ]
    },
    {
     "name": "stdout",
     "output_type": "stream",
     "text": [
      "Haha\n",
      "559\n",
      "Sad\n",
      "52\n",
      "Angry\n",
      "18\n",
      "Love\n",
      "16\n",
      "https://www.facebook.com/khaosod/posts/4332939423389650\n",
      "Like\n",
      "421\n"
     ]
    },
    {
     "name": "stderr",
     "output_type": "stream",
     "text": [
      "\n",
      " 19%|█▊        | 34/183 [01:00<05:08,  2.07s/it]\u001b[A"
     ]
    },
    {
     "name": "stdout",
     "output_type": "stream",
     "text": [
      "Haha\n",
      "11\n",
      "Wow\n",
      "10\n",
      "Love\n",
      "3\n",
      "https://www.facebook.com/khaosod/posts/4332926840057575\n",
      "Like\n",
      "1075\n",
      "Angry\n",
      "664\n"
     ]
    },
    {
     "name": "stderr",
     "output_type": "stream",
     "text": [
      "\n",
      " 19%|█▉        | 35/183 [01:01<04:15,  1.72s/it]\u001b[A"
     ]
    },
    {
     "name": "stdout",
     "output_type": "stream",
     "text": [
      "Sad\n",
      "203\n",
      "Wow\n",
      "20\n",
      "Haha\n",
      "6\n",
      "https://www.facebook.com/khaosod/posts/4332907126726213\n",
      "Like\n",
      "292\n",
      "Haha\n",
      "6\n",
      "Wow\n",
      "6\n",
      "Love\n",
      "1\n",
      "Sad\n",
      "1\n",
      "https://www.facebook.com/khaosod/posts/4332891530061106\n",
      "Like\n",
      "3997\n",
      "Haha\n",
      "2835\n"
     ]
    },
    {
     "name": "stderr",
     "output_type": "stream",
     "text": [
      "\n",
      " 20%|██        | 37/183 [01:18<09:23,  3.86s/it]\u001b[A"
     ]
    },
    {
     "name": "stdout",
     "output_type": "stream",
     "text": [
      "Angry\n",
      "283\n",
      "Wow\n",
      "69\n",
      "Sad\n",
      "10\n",
      "Love\n",
      "6\n",
      "https://www.facebook.com/khaosod/posts/4332882396728686\n",
      "Like\n",
      "1057\n"
     ]
    },
    {
     "name": "stderr",
     "output_type": "stream",
     "text": [
      "\n",
      " 21%|██        | 38/183 [01:19<07:13,  2.99s/it]\u001b[A\n",
      " 21%|██▏       | 39/183 [01:19<05:05,  2.12s/it]\u001b[A"
     ]
    },
    {
     "name": "stdout",
     "output_type": "stream",
     "text": [
      "Haha\n",
      "157\n",
      "Wow\n",
      "34\n",
      "Sad\n",
      "13\n",
      "Angry\n",
      "8\n",
      "Love\n",
      "3\n",
      "https://www.facebook.com/khaosod/posts/4332872756729650\n",
      "Like\n",
      "345\n",
      "Haha\n",
      "64\n",
      "Wow\n",
      "12\n",
      "Sad\n",
      "4\n",
      "Angry\n",
      "3\n",
      "Love\n",
      "1\n",
      "https://www.facebook.com/khaosod/posts/4332866203396972\n",
      "Like\n",
      "269\n",
      "Haha\n",
      "21\n",
      "Wow\n",
      "1\n",
      "Angry\n",
      "1\n",
      "https://www.facebook.com/khaosod/posts/4332837160066543\n",
      "Like\n",
      "367\n"
     ]
    },
    {
     "name": "stderr",
     "output_type": "stream",
     "text": [
      "\n",
      " 22%|██▏       | 41/183 [01:19<03:34,  1.51s/it]\u001b[A"
     ]
    },
    {
     "name": "stdout",
     "output_type": "stream",
     "text": [
      "Haha\n",
      "16\n",
      "Sad\n",
      "14\n",
      "Wow\n",
      "4\n",
      "Angry\n",
      "1\n",
      "https://www.facebook.com/khaosod/posts/4332859613397631\n",
      "Like\n",
      "483\n",
      "Haha\n",
      "376\n"
     ]
    },
    {
     "name": "stderr",
     "output_type": "stream",
     "text": [
      "\n",
      " 23%|██▎       | 42/183 [01:20<02:41,  1.15s/it]\u001b[A"
     ]
    },
    {
     "name": "stdout",
     "output_type": "stream",
     "text": [
      "Angry\n",
      "185\n",
      "Wow\n",
      "9\n",
      "Love\n",
      "4\n",
      "Sad\n",
      "3\n",
      "https://www.facebook.com/khaosod/posts/4332836610066598\n",
      "Like\n",
      "242\n",
      "Angry\n",
      "22\n",
      "Haha\n",
      "6\n",
      "Wow\n",
      "5\n",
      "Sad\n",
      "2\n",
      "https://www.facebook.com/khaosod/posts/4332806186736307\n",
      "Like\n",
      "561\n"
     ]
    },
    {
     "name": "stderr",
     "output_type": "stream",
     "text": [
      "\n",
      " 24%|██▍       | 44/183 [01:20<01:57,  1.18it/s]\u001b[A"
     ]
    },
    {
     "name": "stdout",
     "output_type": "stream",
     "text": [
      "Haha\n",
      "8\n",
      "Love\n",
      "3\n",
      "Wow\n",
      "3\n",
      "https://www.facebook.com/khaosod/videos/2450945505146911/\n",
      "Love\n",
      "615\n"
     ]
    },
    {
     "name": "stderr",
     "output_type": "stream",
     "text": [
      "\n",
      " 25%|██▍       | 45/183 [01:20<01:32,  1.49it/s]\u001b[A"
     ]
    },
    {
     "name": "stdout",
     "output_type": "stream",
     "text": [
      "Wow\n",
      "161\n",
      "Angry\n",
      "92\n",
      "Sad\n",
      "20\n",
      "https://www.facebook.com/khaosod/posts/4332814036735522\n",
      "Like\n",
      "1404\n",
      "Haha\n",
      "695\n"
     ]
    },
    {
     "name": "stderr",
     "output_type": "stream",
     "text": [
      "\n",
      " 25%|██▌       | 46/183 [01:22<02:18,  1.01s/it]\u001b[A"
     ]
    },
    {
     "name": "stdout",
     "output_type": "stream",
     "text": [
      "Wow\n",
      "58\n",
      "Love\n",
      "4\n",
      "Sad\n",
      "3\n",
      "Angry\n",
      "1\n",
      "https://www.facebook.com/khaosod/posts/4332730196743906\n",
      "Like\n",
      "1127\n"
     ]
    },
    {
     "name": "stderr",
     "output_type": "stream",
     "text": [
      "\n",
      " 26%|██▌       | 47/183 [01:23<02:13,  1.02it/s]\u001b[A\n",
      " 27%|██▋       | 49/183 [01:23<01:36,  1.39it/s]\u001b[A"
     ]
    },
    {
     "name": "stdout",
     "output_type": "stream",
     "text": [
      "Angry\n",
      "57\n",
      "Haha\n",
      "32\n",
      "Sad\n",
      "10\n",
      "Wow\n",
      "8\n",
      "Love\n",
      "1\n",
      "https://www.facebook.com/khaosod/posts/4332725900077669\n",
      "Like\n",
      "312\n",
      "Haha\n",
      "17\n",
      "Wow\n",
      "3\n",
      "Angry\n",
      "2\n",
      "Love\n",
      "1\n",
      "https://www.facebook.com/khaosod/posts/4332722003411392\n",
      "Like\n",
      "370\n",
      "Haha\n",
      "244\n",
      "Angry\n",
      "72\n",
      "Wow\n",
      "5\n",
      "Sad\n",
      "3\n",
      "Love\n",
      "2\n",
      "https://www.facebook.com/khaosod/posts/4332719076745018\n",
      "Like\n",
      "2641\n",
      "Haha\n",
      "2190\n",
      "Angry\n",
      "996\n"
     ]
    },
    {
     "name": "stderr",
     "output_type": "stream",
     "text": [
      "\n",
      " 27%|██▋       | 50/183 [01:32<06:41,  3.02s/it]\u001b[A"
     ]
    },
    {
     "name": "stdout",
     "output_type": "stream",
     "text": [
      "Sad\n",
      "102\n",
      "Wow\n",
      "57\n",
      "Love\n",
      "2\n",
      "https://www.facebook.com/khaosod/posts/4332714873412105\n",
      "Like\n",
      "599\n"
     ]
    },
    {
     "name": "stderr",
     "output_type": "stream",
     "text": [
      "\n",
      " 28%|██▊       | 51/183 [01:32<04:48,  2.19s/it]\u001b[A"
     ]
    },
    {
     "name": "stdout",
     "output_type": "stream",
     "text": [
      "Sad\n",
      "20\n",
      "Haha\n",
      "14\n",
      "Wow\n",
      "8\n",
      "https://www.facebook.com/khaosod/posts/4332699273413665\n",
      "Like\n",
      "2890\n",
      "Haha\n",
      "2584\n",
      "Angry\n",
      "708\n"
     ]
    },
    {
     "name": "stderr",
     "output_type": "stream",
     "text": [
      "\n",
      " 28%|██▊       | 52/183 [01:42<09:46,  4.48s/it]\u001b[A"
     ]
    },
    {
     "name": "stdout",
     "output_type": "stream",
     "text": [
      "Sad\n",
      "62\n",
      "Wow\n",
      "54\n",
      "Love\n",
      "10\n",
      "https://www.facebook.com/khaosod/posts/4332693123414280\n",
      "Like\n",
      "1901\n",
      "Haha\n",
      "365\n",
      "Love\n"
     ]
    },
    {
     "name": "stderr",
     "output_type": "stream",
     "text": [
      "\n",
      " 29%|██▉       | 53/183 [01:45<08:49,  4.07s/it]\u001b[A"
     ]
    },
    {
     "name": "stdout",
     "output_type": "stream",
     "text": [
      "37\n",
      "Wow\n",
      "19\n",
      "Angry\n",
      "6\n",
      "https://www.facebook.com/khaosod/posts/4332681463415446\n",
      "Like\n",
      "1266\n"
     ]
    },
    {
     "name": "stderr",
     "output_type": "stream",
     "text": [
      "\n",
      " 30%|██▉       | 54/183 [01:47<07:31,  3.50s/it]\u001b[A"
     ]
    },
    {
     "name": "stdout",
     "output_type": "stream",
     "text": [
      "Haha\n",
      "267\n",
      "Wow\n",
      "41\n",
      "Angry\n",
      "11\n",
      "Sad\n",
      "6\n",
      "Love\n",
      "2\n",
      "https://www.facebook.com/khaosod/posts/4332677500082509\n",
      "Like\n",
      "211\n",
      "Wow\n",
      "6\n",
      "Love\n",
      "1\n",
      "https://www.facebook.com/khaosod/posts/4332673080082951\n",
      "Like\n",
      "436\n"
     ]
    },
    {
     "name": "stderr",
     "output_type": "stream",
     "text": [
      "\n",
      " 31%|███       | 56/183 [01:47<05:18,  2.51s/it]\u001b[A"
     ]
    },
    {
     "name": "stdout",
     "output_type": "stream",
     "text": [
      "Sad\n",
      "48\n",
      "Haha\n",
      "16\n",
      "Wow\n",
      "12\n",
      "Angry\n",
      "3\n",
      "https://www.facebook.com/khaosod/posts/4332660523417540\n",
      "Like\n",
      "645\n"
     ]
    },
    {
     "name": "stderr",
     "output_type": "stream",
     "text": [
      "\n",
      " 31%|███       | 57/183 [01:48<03:59,  1.90s/it]\u001b[A"
     ]
    },
    {
     "name": "stdout",
     "output_type": "stream",
     "text": [
      "Sad\n",
      "44\n",
      "Haha\n",
      "30\n",
      "Wow\n",
      "23\n",
      "Love\n",
      "3\n",
      "Angry\n",
      "2\n",
      "https://www.facebook.com/khaosod/posts/4332649023418690\n",
      "Like\n",
      "2429\n"
     ]
    },
    {
     "name": "stderr",
     "output_type": "stream",
     "text": [
      "\n",
      " 32%|███▏      | 58/183 [01:52<05:18,  2.55s/it]\u001b[A"
     ]
    },
    {
     "name": "stdout",
     "output_type": "stream",
     "text": [
      "Haha\n",
      "294\n",
      "Love\n",
      "59\n",
      "Wow\n",
      "20\n",
      "Angry\n",
      "5\n",
      "Sad\n",
      "3\n",
      "https://www.facebook.com/khaosod/posts/4332642010086058\n",
      "Like\n",
      "186\n",
      "Love\n",
      "2\n",
      "Haha\n",
      "1\n",
      "https://www.facebook.com/khaosod/posts/4332626946754231\n",
      "Like\n",
      "358\n",
      "Haha\n",
      "123\n"
     ]
    },
    {
     "name": "stderr",
     "output_type": "stream",
     "text": [
      "\n",
      " 33%|███▎      | 60/183 [01:52<03:42,  1.81s/it]\u001b[A\n",
      " 34%|███▍      | 63/183 [01:52<02:33,  1.28s/it]\u001b[A"
     ]
    },
    {
     "name": "stdout",
     "output_type": "stream",
     "text": [
      "Angry\n",
      "35\n",
      "Wow\n",
      "3\n",
      "Sad\n",
      "3\n",
      "Love\n",
      "1\n",
      "https://www.facebook.com/khaosod/posts/4332623253421267\n",
      "Like\n",
      "137\n",
      "Haha\n",
      "21\n",
      "https://www.facebook.com/khaosod/posts/4332637390086520\n",
      "Like\n",
      "139\n",
      "Sad\n",
      "7\n",
      "Haha\n",
      "1\n",
      "Wow\n",
      "1\n",
      "https://www.facebook.com/khaosod/posts/4332629036754022\n",
      "Like\n",
      "316\n",
      "Sad\n",
      "35\n",
      "Wow\n",
      "2\n",
      "https://www.facebook.com/khaosod/posts/4332618096755116\n",
      "Like\n",
      "224\n",
      "Haha\n",
      "7\n",
      "Wow\n",
      "1\n",
      "https://www.facebook.com/khaosod/posts/4332597400090519\n",
      "Like\n",
      "1158\n"
     ]
    },
    {
     "name": "stderr",
     "output_type": "stream",
     "text": [
      "\n",
      " 36%|███▌      | 65/183 [01:53<02:00,  1.02s/it]\u001b[A"
     ]
    },
    {
     "name": "stdout",
     "output_type": "stream",
     "text": [
      "Haha\n",
      "62\n",
      "Wow\n",
      "18\n",
      "Sad\n",
      "5\n",
      "Love\n",
      "2\n",
      "Angry\n",
      "2\n",
      "https://www.facebook.com/khaosod/posts/4332582723425320\n",
      "Like\n",
      "353\n",
      "Love\n",
      "7\n",
      "Haha\n",
      "4\n",
      "https://www.facebook.com/khaosod/posts/4332571126759813\n",
      "Like\n",
      "388\n",
      "Haha\n",
      "326\n"
     ]
    },
    {
     "name": "stderr",
     "output_type": "stream",
     "text": [
      "\n",
      " 37%|███▋      | 67/183 [01:53<01:27,  1.33it/s]\u001b[A"
     ]
    },
    {
     "name": "stdout",
     "output_type": "stream",
     "text": [
      "Angry\n",
      "72\n",
      "Sad\n",
      "9\n",
      "Wow\n",
      "2\n",
      "https://www.facebook.com/khaosod/posts/4332556746761251\n",
      "Like\n",
      "701\n"
     ]
    },
    {
     "name": "stderr",
     "output_type": "stream",
     "text": [
      "\n",
      " 37%|███▋      | 68/183 [01:54<01:12,  1.59it/s]\u001b[A"
     ]
    },
    {
     "name": "stdout",
     "output_type": "stream",
     "text": [
      "Haha\n",
      "27\n",
      "Wow\n",
      "11\n",
      "Sad\n",
      "2\n",
      "Angry\n",
      "1\n",
      "https://www.facebook.com/khaosod/posts/4332538986763027\n",
      "Like\n",
      "300\n",
      "Haha\n",
      "17\n",
      "Angry\n",
      "3\n",
      "Love\n",
      "1\n",
      "https://www.facebook.com/khaosod/posts/4332522160098043\n",
      "Like\n",
      "3232\n",
      "Angry\n",
      "1962\n",
      "Haha\n",
      "1613\n"
     ]
    },
    {
     "name": "stderr",
     "output_type": "stream",
     "text": [
      "\n",
      " 38%|███▊      | 70/183 [02:08<04:54,  2.60s/it]\u001b[A"
     ]
    },
    {
     "name": "stdout",
     "output_type": "stream",
     "text": [
      "Sad\n",
      "312\n",
      "Wow\n",
      "101\n",
      "Love\n",
      "30\n",
      "https://www.facebook.com/khaosod/posts/4332513000098959\n",
      "Like\n",
      "1065\n"
     ]
    },
    {
     "name": "stderr",
     "output_type": "stream",
     "text": [
      "\n",
      " 39%|███▉      | 71/183 [02:12<05:32,  2.97s/it]\u001b[A"
     ]
    },
    {
     "name": "stdout",
     "output_type": "stream",
     "text": [
      "Haha\n",
      "50\n",
      "Wow\n",
      "9\n",
      "Love\n",
      "6\n",
      "Angry\n",
      "3\n",
      "Sad\n",
      "2\n",
      "https://www.facebook.com/khaosod/posts/4332502443433348\n",
      "Like\n",
      "3448\n"
     ]
    },
    {
     "name": "stderr",
     "output_type": "stream",
     "text": [
      "\n",
      " 39%|███▉      | 72/183 [02:20<08:16,  4.47s/it]\u001b[A"
     ]
    },
    {
     "name": "stdout",
     "output_type": "stream",
     "text": [
      "Wow\n",
      "204\n",
      "Love\n",
      "46\n",
      "Sad\n",
      "23\n",
      "Haha\n",
      "13\n",
      "Angry\n",
      "1\n",
      "https://www.facebook.com/khaosod/posts/4332485863435006\n",
      "Like\n",
      "1506\n"
     ]
    },
    {
     "name": "stderr",
     "output_type": "stream",
     "text": [
      "\n",
      " 40%|███▉      | 73/183 [02:22<06:42,  3.66s/it]\u001b[A"
     ]
    },
    {
     "name": "stdout",
     "output_type": "stream",
     "text": [
      "Sad\n",
      "224\n",
      "Angry\n",
      "58\n",
      "Wow\n",
      "9\n",
      "Haha\n",
      "2\n",
      "https://www.facebook.com/khaosod/posts/4332451633438429\n",
      "Like\n",
      "557\n"
     ]
    },
    {
     "name": "stderr",
     "output_type": "stream",
     "text": [
      "\n",
      " 40%|████      | 74/183 [02:22<04:47,  2.64s/it]\u001b[A"
     ]
    },
    {
     "name": "stdout",
     "output_type": "stream",
     "text": [
      "Love\n",
      "7\n",
      "Wow\n",
      "3\n",
      "Haha\n",
      "2\n",
      "https://www.facebook.com/khaosod/posts/4332440813439511\n",
      "Like\n",
      "1524\n"
     ]
    },
    {
     "name": "stderr",
     "output_type": "stream",
     "text": [
      "\n",
      " 41%|████      | 75/183 [02:24<04:14,  2.36s/it]\u001b[A"
     ]
    },
    {
     "name": "stdout",
     "output_type": "stream",
     "text": [
      "Haha\n",
      "188\n",
      "Wow\n",
      "51\n",
      "Sad\n",
      "44\n",
      "Angry\n",
      "5\n",
      "Love\n",
      "3\n",
      "https://www.facebook.com/khaosod/posts/4332428666774059\n",
      "Like\n",
      "2719\n",
      "Haha\n",
      "1019\n"
     ]
    },
    {
     "name": "stderr",
     "output_type": "stream",
     "text": [
      "\n",
      " 42%|████▏     | 76/183 [02:29<06:06,  3.43s/it]\u001b[A"
     ]
    },
    {
     "name": "stdout",
     "output_type": "stream",
     "text": [
      "Love\n",
      "60\n",
      "Wow\n",
      "22\n",
      "Angry\n",
      "6\n",
      "Sad\n",
      "2\n",
      "https://www.facebook.com/khaosod/posts/4332416346775291\n",
      "Like\n",
      "971\n"
     ]
    },
    {
     "name": "stderr",
     "output_type": "stream",
     "text": [
      "\n",
      " 42%|████▏     | 77/183 [02:31<04:51,  2.75s/it]\u001b[A"
     ]
    },
    {
     "name": "stdout",
     "output_type": "stream",
     "text": [
      "Sad\n",
      "124\n",
      "Wow\n",
      "85\n",
      "Angry\n",
      "9\n",
      "Haha\n",
      "4\n",
      "Love\n",
      "1\n",
      "https://www.facebook.com/khaosod/posts/4332406790109580\n",
      "Like\n",
      "763\n"
     ]
    },
    {
     "name": "stderr",
     "output_type": "stream",
     "text": [
      "\n",
      " 43%|████▎     | 78/183 [02:31<03:38,  2.08s/it]\u001b[A"
     ]
    },
    {
     "name": "stdout",
     "output_type": "stream",
     "text": [
      "Haha\n",
      "33\n",
      "Wow\n",
      "13\n",
      "Sad\n",
      "3\n",
      "Love\n",
      "1\n",
      "Angry\n",
      "1\n",
      "https://www.facebook.com/khaosod/photos/a.919857804697846/4332399726776953/?type=3\n",
      "Like\n",
      "1084\n"
     ]
    },
    {
     "name": "stderr",
     "output_type": "stream",
     "text": [
      "\n",
      " 43%|████▎     | 79/183 [02:32<03:01,  1.74s/it]\u001b[A"
     ]
    },
    {
     "name": "stdout",
     "output_type": "stream",
     "text": [
      "Haha\n",
      "57\n",
      "Sad\n",
      "16\n",
      "Wow\n",
      "11\n",
      "Angry\n",
      "10\n",
      "Love\n",
      "2\n",
      "https://www.facebook.com/khaosod/posts/4332395453444047\n",
      "Like\n",
      "724\n"
     ]
    },
    {
     "name": "stderr",
     "output_type": "stream",
     "text": [
      "\n",
      " 44%|████▎     | 80/183 [02:33<02:18,  1.34s/it]\u001b[A\n",
      " 44%|████▍     | 81/183 [02:33<01:39,  1.03it/s]\u001b[A"
     ]
    },
    {
     "name": "stdout",
     "output_type": "stream",
     "text": [
      "Love\n",
      "40\n",
      "Haha\n",
      "7\n",
      "https://www.facebook.com/khaosod/posts/4332381580112101\n",
      "Like\n",
      "336\n",
      "Haha\n",
      "44\n",
      "Love\n",
      "8\n",
      "Wow\n",
      "2\n",
      "Sad\n",
      "1\n",
      "https://www.facebook.com/khaosod/posts/4332368723446720\n",
      "Like\n",
      "333\n"
     ]
    },
    {
     "name": "stderr",
     "output_type": "stream",
     "text": [
      "\n",
      " 45%|████▍     | 82/183 [02:33<01:16,  1.32it/s]\u001b[A\n",
      " 46%|████▌     | 84/183 [02:33<00:54,  1.83it/s]\u001b[A"
     ]
    },
    {
     "name": "stdout",
     "output_type": "stream",
     "text": [
      "Haha\n",
      "202\n",
      "Angry\n",
      "94\n",
      "Wow\n",
      "4\n",
      "Sad\n",
      "2\n",
      "Love\n",
      "1\n",
      "https://www.facebook.com/khaosod/posts/4332356546781271\n",
      "Like\n",
      "226\n",
      "Haha\n",
      "14\n",
      "Wow\n",
      "1\n",
      "https://www.facebook.com/khaosod/posts/4332337923449800\n",
      "Like\n",
      "201\n",
      "Wow\n",
      "5\n",
      "Love\n",
      "1\n",
      "https://www.facebook.com/khaosod/posts/4332315233452069\n",
      "Haha\n",
      "2342\n",
      "Angry\n",
      "1310\n"
     ]
    },
    {
     "name": "stderr",
     "output_type": "stream",
     "text": [
      "\n",
      " 46%|████▋     | 85/183 [02:40<03:50,  2.35s/it]\u001b[A"
     ]
    },
    {
     "name": "stdout",
     "output_type": "stream",
     "text": [
      "Wow\n",
      "72\n",
      "Sad\n",
      "60\n",
      "Love\n",
      "12\n",
      "https://www.facebook.com/khaosod/posts/4332302440120015\n",
      "Like\n",
      "1551\n"
     ]
    },
    {
     "name": "stderr",
     "output_type": "stream",
     "text": [
      "\n",
      " 47%|████▋     | 86/183 [02:42<03:52,  2.40s/it]\u001b[A"
     ]
    },
    {
     "name": "stdout",
     "output_type": "stream",
     "text": [
      "Angry\n",
      "310\n",
      "Sad\n",
      "181\n",
      "Wow\n",
      "23\n",
      "Haha\n",
      "12\n",
      "Love\n",
      "2\n",
      "https://www.facebook.com/khaosod/posts/4332289443454648\n",
      "Like\n",
      "204\n",
      "Haha\n",
      "7\n",
      "Wow\n",
      "1\n",
      "https://www.facebook.com/khaosod/posts/4332275010122758\n",
      "Like\n",
      "1199\n"
     ]
    },
    {
     "name": "stderr",
     "output_type": "stream",
     "text": [
      "\n",
      " 48%|████▊     | 88/183 [02:44<03:00,  1.90s/it]\u001b[A"
     ]
    },
    {
     "name": "stdout",
     "output_type": "stream",
     "text": [
      "Haha\n",
      "85\n",
      "Wow\n",
      "23\n",
      "Sad\n",
      "2\n",
      "Love\n",
      "1\n",
      "https://www.facebook.com/khaosod/posts/4332259503457642\n",
      "Like\n",
      "1788\n"
     ]
    },
    {
     "name": "stderr",
     "output_type": "stream",
     "text": [
      "\n",
      " 49%|████▊     | 89/183 [02:47<03:29,  2.22s/it]\u001b[A"
     ]
    },
    {
     "name": "stdout",
     "output_type": "stream",
     "text": [
      "Sad\n",
      "292\n",
      "Wow\n",
      "47\n",
      "Haha\n",
      "4\n",
      "Love\n",
      "2\n",
      "Angry\n",
      "1\n",
      "https://www.facebook.com/khaosod/posts/4332230290127230\n",
      "Like\n",
      "692\n"
     ]
    },
    {
     "name": "stderr",
     "output_type": "stream",
     "text": [
      "\n",
      " 49%|████▉     | 90/183 [02:47<02:36,  1.68s/it]\u001b[A"
     ]
    },
    {
     "name": "stdout",
     "output_type": "stream",
     "text": [
      "Haha\n",
      "16\n",
      "Sad\n",
      "11\n",
      "Wow\n",
      "4\n",
      "Love\n",
      "3\n",
      "https://www.facebook.com/khaosod/posts/4332207176796208\n",
      "Like\n",
      "2661\n"
     ]
    },
    {
     "name": "stderr",
     "output_type": "stream",
     "text": [
      "\n",
      " 50%|████▉     | 91/183 [02:53<04:29,  2.93s/it]\u001b[A"
     ]
    },
    {
     "name": "stdout",
     "output_type": "stream",
     "text": [
      "Haha\n",
      "176\n",
      "Sad\n",
      "74\n",
      "Wow\n",
      "55\n",
      "Love\n",
      "10\n",
      "Angry\n",
      "5\n",
      "https://www.facebook.com/khaosod/posts/4332177126799213\n",
      "Like\n",
      "753\n"
     ]
    },
    {
     "name": "stderr",
     "output_type": "stream",
     "text": [
      "\n",
      " 50%|█████     | 92/183 [02:53<03:24,  2.25s/it]\u001b[A"
     ]
    },
    {
     "name": "stdout",
     "output_type": "stream",
     "text": [
      "Angry\n",
      "204\n",
      "Haha\n",
      "44\n",
      "Sad\n",
      "21\n",
      "Wow\n",
      "20\n",
      "https://www.facebook.com/khaosod/posts/4332106543472938\n",
      "Like\n",
      "1575\n"
     ]
    },
    {
     "name": "stderr",
     "output_type": "stream",
     "text": [
      "\n",
      " 51%|█████     | 93/183 [02:55<03:15,  2.17s/it]\u001b[A"
     ]
    },
    {
     "name": "stdout",
     "output_type": "stream",
     "text": [
      "Love\n",
      "48\n",
      "Haha\n",
      "21\n",
      "Wow\n",
      "4\n",
      "Sad\n",
      "1\n",
      "Angry\n",
      "1\n",
      "https://www.facebook.com/khaosod/posts/4331012323582360\n",
      "Like\n",
      "225\n",
      "Haha\n",
      "9\n",
      "Love\n",
      "1\n",
      "Sad\n",
      "1\n",
      "https://www.facebook.com/khaosod/posts/4332047693478823\n",
      "Like\n",
      "1086\n",
      "Sad\n",
      "208\n"
     ]
    },
    {
     "name": "stderr",
     "output_type": "stream",
     "text": [
      "\n",
      " 52%|█████▏    | 95/183 [02:57<02:31,  1.72s/it]\u001b[A\n",
      " 52%|█████▏    | 96/183 [02:57<01:48,  1.25s/it]\u001b[A"
     ]
    },
    {
     "name": "stdout",
     "output_type": "stream",
     "text": [
      "Wow\n",
      "19\n",
      "Angry\n",
      "2\n",
      "Haha\n",
      "1\n",
      "https://www.facebook.com/khaosod/posts/4330181546998771\n",
      "Like\n",
      "133\n",
      "Haha\n",
      "18\n",
      "https://www.facebook.com/khaosod/posts/4332029303480662\n",
      "Like\n",
      "1413\n"
     ]
    },
    {
     "name": "stderr",
     "output_type": "stream",
     "text": [
      "\n",
      " 53%|█████▎    | 97/183 [02:59<02:15,  1.57s/it]\u001b[A"
     ]
    },
    {
     "name": "stdout",
     "output_type": "stream",
     "text": [
      "Haha\n",
      "318\n",
      "Wow\n",
      "10\n",
      "Love\n",
      "4\n",
      "Sad\n",
      "1\n",
      "https://www.facebook.com/khaosod/posts/4330174823666110\n",
      "Like\n",
      "319\n"
     ]
    },
    {
     "name": "stderr",
     "output_type": "stream",
     "text": [
      "\n",
      " 54%|█████▎    | 98/183 [02:59<01:36,  1.14s/it]\u001b[A\n",
      " 55%|█████▍    | 100/183 [02:59<01:07,  1.23it/s]\u001b[A"
     ]
    },
    {
     "name": "stdout",
     "output_type": "stream",
     "text": [
      "Sad\n",
      "25\n",
      "Haha\n",
      "11\n",
      "Wow\n",
      "3\n",
      "Angry\n",
      "2\n",
      "https://www.facebook.com/khaosod/posts/4332015760148683\n",
      "Like\n",
      "125\n",
      "Wow\n",
      "2\n",
      "Love\n",
      "1\n",
      "https://www.facebook.com/khaosod/posts/4330169416999984\n",
      "Like\n",
      "225\n",
      "Haha\n",
      "54\n",
      "Angry\n",
      "7\n",
      "Love\n",
      "2\n",
      "Wow\n",
      "2\n",
      "https://www.facebook.com/khaosod/posts/4330167297000196\n",
      "Like\n",
      "71\n",
      "Haha\n",
      "12\n",
      "https://www.facebook.com/khaosod/posts/4330161210334138\n",
      "Like\n",
      "433\n"
     ]
    },
    {
     "name": "stderr",
     "output_type": "stream",
     "text": [
      "\n",
      " 56%|█████▌    | 102/183 [03:00<00:49,  1.63it/s]\u001b[A"
     ]
    },
    {
     "name": "stdout",
     "output_type": "stream",
     "text": [
      "Haha\n",
      "136\n",
      "Angry\n",
      "46\n",
      "Wow\n",
      "5\n",
      "Love\n",
      "3\n",
      "https://www.facebook.com/khaosod/posts/4331980700152189\n",
      "Like\n",
      "421\n"
     ]
    },
    {
     "name": "stderr",
     "output_type": "stream",
     "text": [
      "\n",
      " 56%|█████▋    | 103/183 [03:00<00:39,  2.04it/s]\u001b[A\n",
      " 57%|█████▋    | 105/183 [03:00<00:28,  2.78it/s]\u001b[A"
     ]
    },
    {
     "name": "stdout",
     "output_type": "stream",
     "text": [
      "Haha\n",
      "22\n",
      "https://www.facebook.com/khaosod/posts/4330148680335391\n",
      "Like\n",
      "206\n",
      "Haha\n",
      "3\n",
      "Wow\n",
      "1\n",
      "Sad\n",
      "1\n",
      "https://www.facebook.com/khaosod/posts/4330144800335779\n",
      "Like\n",
      "165\n",
      "Haha\n",
      "38\n",
      "Angry\n",
      "35\n",
      "https://www.facebook.com/khaosod/posts/4330184896998436\n",
      "Like\n",
      "537\n",
      "Angry\n",
      "42\n",
      "Sad\n",
      "32\n",
      "Wow\n",
      "3\n",
      "Haha\n",
      "1\n",
      "https://www.facebook.com/khaosod/posts/4331918216825104\n",
      "Like\n",
      "837\n"
     ]
    },
    {
     "name": "stderr",
     "output_type": "stream",
     "text": [
      "\n",
      " 58%|█████▊    | 107/183 [03:01<00:31,  2.40it/s]\u001b[A"
     ]
    },
    {
     "name": "stdout",
     "output_type": "stream",
     "text": [
      "Wow\n",
      "22\n",
      "Haha\n",
      "9\n",
      "Love\n",
      "3\n",
      "https://www.facebook.com/khaosod/posts/4330119213671671\n",
      "Like\n",
      "839\n"
     ]
    },
    {
     "name": "stderr",
     "output_type": "stream",
     "text": [
      "\n",
      " 59%|█████▉    | 108/183 [03:02<00:33,  2.21it/s]\u001b[A"
     ]
    },
    {
     "name": "stdout",
     "output_type": "stream",
     "text": [
      "Love\n",
      "12\n",
      "Wow\n",
      "10\n",
      "https://www.facebook.com/khaosod/posts/4330113590338900\n",
      "Like\n",
      "247\n",
      "Love\n",
      "11\n",
      "Wow\n",
      "1\n",
      "https://www.facebook.com/khaosod/posts/4330665786950347\n",
      "Like\n",
      "531\n"
     ]
    },
    {
     "name": "stderr",
     "output_type": "stream",
     "text": [
      "\n",
      " 60%|██████    | 110/183 [03:02<00:26,  2.72it/s]\u001b[A"
     ]
    },
    {
     "name": "stdout",
     "output_type": "stream",
     "text": [
      "Haha\n",
      "26\n",
      "Love\n",
      "4\n",
      "Wow\n",
      "1\n",
      "Sad\n",
      "1\n",
      "Angry\n",
      "1\n",
      "https://www.facebook.com/khaosod/posts/4331823103501282\n",
      "Like\n",
      "2651\n",
      "Angry\n",
      "1190\n"
     ]
    },
    {
     "name": "stderr",
     "output_type": "stream",
     "text": [
      "\n",
      " 61%|██████    | 111/183 [03:09<02:38,  2.19s/it]\u001b[A"
     ]
    },
    {
     "name": "stdout",
     "output_type": "stream",
     "text": [
      "Sad\n",
      "334\n",
      "Haha\n",
      "176\n",
      "Wow\n",
      "67\n",
      "Love\n",
      "6\n",
      "https://www.facebook.com/khaosod/posts/4330121153671477\n",
      "Like\n",
      "95\n",
      "Wow\n",
      "1\n",
      "https://www.facebook.com/khaosod/posts/4331800403503552\n",
      "Like\n",
      "372\n"
     ]
    },
    {
     "name": "stderr",
     "output_type": "stream",
     "text": [
      "\n",
      " 62%|██████▏   | 113/183 [03:09<01:49,  1.57s/it]\u001b[A\n",
      " 63%|██████▎   | 115/183 [03:09<01:16,  1.12s/it]\u001b[A"
     ]
    },
    {
     "name": "stdout",
     "output_type": "stream",
     "text": [
      "Haha\n",
      "14\n",
      "Wow\n",
      "10\n",
      "Sad\n",
      "3\n",
      "Angry\n",
      "3\n",
      "Love\n",
      "1\n",
      "https://www.facebook.com/khaosod/posts/4330112473672345\n",
      "Like\n",
      "158\n",
      "Love\n",
      "3\n",
      "Wow\n",
      "2\n",
      "https://www.facebook.com/khaosod/posts/4330667546950171\n",
      "Like\n",
      "320\n",
      "Wow\n",
      "9\n",
      "Angry\n",
      "7\n",
      "Haha\n",
      "1\n",
      "Sad\n",
      "1\n",
      "https://www.facebook.com/khaosod/posts/4330122803671312\n",
      "Like\n",
      "226\n",
      "Wow\n",
      "6\n",
      "https://www.facebook.com/khaosod/posts/4330832706933655\n",
      "Like\n",
      "1431\n"
     ]
    },
    {
     "name": "stderr",
     "output_type": "stream",
     "text": [
      "\n",
      " 64%|██████▍   | 117/183 [03:11<01:10,  1.07s/it]\u001b[A"
     ]
    },
    {
     "name": "stdout",
     "output_type": "stream",
     "text": [
      "Sad\n",
      "336\n",
      "Angry\n",
      "20\n",
      "Wow\n",
      "4\n",
      "Love\n",
      "1\n",
      "Haha\n",
      "1\n",
      "https://www.facebook.com/khaosod/posts/4330669210283338\n",
      "Like\n",
      "340\n"
     ]
    },
    {
     "name": "stderr",
     "output_type": "stream",
     "text": [
      "\n",
      " 64%|██████▍   | 118/183 [03:11<00:51,  1.27it/s]\u001b[A"
     ]
    },
    {
     "name": "stdout",
     "output_type": "stream",
     "text": [
      "Wow\n",
      "7\n",
      "Sad\n",
      "4\n",
      "Haha\n",
      "3\n",
      "Angry\n",
      "2\n",
      "https://www.facebook.com/khaosod/posts/4330111573672435\n",
      "Like\n",
      "113\n",
      "Love\n",
      "2\n",
      "Wow\n",
      "1\n",
      "https://www.facebook.com/khaosod/posts/4331648650185394\n",
      "Like\n",
      "1147\n",
      "Haha\n",
      "450\n"
     ]
    },
    {
     "name": "stderr",
     "output_type": "stream",
     "text": [
      "\n",
      " 66%|██████▌   | 120/183 [03:12<00:47,  1.33it/s]\u001b[A"
     ]
    },
    {
     "name": "stdout",
     "output_type": "stream",
     "text": [
      "Sad\n",
      "40\n",
      "Wow\n",
      "31\n",
      "Love\n",
      "6\n",
      "Angry\n",
      "1\n",
      "https://www.facebook.com/khaosod/posts/4330123790337880\n",
      "Like\n",
      "86\n",
      "Wow\n",
      "5\n",
      "Sad\n",
      "1\n",
      "https://www.facebook.com/khaosod/posts/4330110050339254\n",
      "Like\n",
      "99\n",
      "Love\n",
      "2\n",
      "Wow\n",
      "1\n",
      "https://www.facebook.com/khaosod/posts/4330844550265804\n",
      "Like\n",
      "594\n"
     ]
    },
    {
     "name": "stderr",
     "output_type": "stream",
     "text": [
      "\n",
      " 67%|██████▋   | 123/183 [03:13<00:34,  1.74it/s]\u001b[A\n",
      " 69%|██████▉   | 126/183 [03:13<00:23,  2.42it/s]\u001b[A"
     ]
    },
    {
     "name": "stdout",
     "output_type": "stream",
     "text": [
      "Angry\n",
      "133\n",
      "Haha\n",
      "57\n",
      "Sad\n",
      "10\n",
      "Wow\n",
      "7\n",
      "Love\n",
      "1\n",
      "https://www.facebook.com/khaosod/posts/4331543366862589\n",
      "Like\n",
      "88\n",
      "Love\n",
      "3\n",
      "Wow\n",
      "1\n",
      "https://www.facebook.com/khaosod/posts/4330655726951353\n",
      "Like\n",
      "290\n",
      "Love\n",
      "2\n",
      "Wow\n",
      "2\n",
      "https://www.facebook.com/khaosod/posts/4330125213671071\n",
      "Like\n",
      "85\n",
      "Haha\n",
      "1\n",
      "Wow\n",
      "1\n",
      "Sad\n",
      "1\n",
      "https://www.facebook.com/khaosod/posts/4331517850198474\n",
      "Like\n",
      "228\n"
     ]
    },
    {
     "name": "stderr",
     "output_type": "stream",
     "text": [
      "\n",
      " 72%|███████▏  | 131/183 [03:13<00:15,  3.38it/s]\u001b[A"
     ]
    },
    {
     "name": "stdout",
     "output_type": "stream",
     "text": [
      "Sad\n",
      "12\n",
      "Angry\n",
      "11\n",
      "Wow\n",
      "1\n",
      "https://www.facebook.com/khaosod/posts/4330672730282986\n",
      "Like\n",
      "82\n",
      "Love\n",
      "3\n",
      "Haha\n",
      "3\n",
      "Wow\n",
      "1\n",
      "https://www.facebook.com/khaosod/posts/4330132480337011\n",
      "Like\n",
      "86\n",
      "Wow\n",
      "2\n",
      "https://www.facebook.com/khaosod/posts/4330127410337518\n",
      "Like\n",
      "47\n",
      "https://www.facebook.com/khaosod/posts/4330131303670462\n",
      "Like\n",
      "142\n",
      "Wow\n",
      "4\n",
      "https://www.facebook.com/khaosod/posts/4330838943599698\n",
      "Like\n",
      "237\n",
      "Haha\n",
      "7\n",
      "Love\n",
      "4\n",
      "Wow\n",
      "3\n",
      "https://www.facebook.com/khaosod/posts/4330659060284353\n",
      "Like\n",
      "165\n",
      "Haha\n",
      "6\n",
      "Angry\n",
      "2\n",
      "Wow\n",
      "1\n",
      "Sad\n",
      "1\n",
      "https://www.facebook.com/khaosod/posts/4330129667003959\n",
      "Like\n",
      "272\n"
     ]
    },
    {
     "name": "stderr",
     "output_type": "stream",
     "text": [
      "\n",
      " 73%|███████▎  | 134/183 [03:13<00:10,  4.46it/s]\u001b[A"
     ]
    },
    {
     "name": "stdout",
     "output_type": "stream",
     "text": [
      "Love\n",
      "2\n",
      "Sad\n",
      "2\n",
      "https://www.facebook.com/khaosod/posts/4331269970223262\n",
      "Like\n",
      "706\n"
     ]
    },
    {
     "name": "stderr",
     "output_type": "stream",
     "text": [
      "\n",
      " 74%|███████▍  | 136/183 [03:14<00:11,  4.16it/s]\u001b[A"
     ]
    },
    {
     "name": "stdout",
     "output_type": "stream",
     "text": [
      "Angry\n",
      "125\n",
      "Haha\n",
      "84\n",
      "Wow\n",
      "15\n",
      "Sad\n",
      "5\n",
      "https://www.facebook.com/khaosod/posts/4330835126933413\n",
      "Like\n",
      "169\n",
      "Haha\n",
      "2\n",
      "https://www.facebook.com/khaosod/posts/4331224246894501\n",
      "Like\n",
      "976\n"
     ]
    },
    {
     "name": "stderr",
     "output_type": "stream",
     "text": [
      "\n",
      " 75%|███████▌  | 138/183 [03:15<00:13,  3.29it/s]\u001b[A"
     ]
    },
    {
     "name": "stdout",
     "output_type": "stream",
     "text": [
      "Haha\n",
      "54\n",
      "Love\n",
      "29\n",
      "Sad\n",
      "2\n",
      "Wow\n",
      "1\n",
      "https://www.facebook.com/khaosod/posts/4330837216933204\n",
      "Like\n",
      "217\n",
      "Haha\n",
      "4\n",
      "Sad\n",
      "1\n",
      "https://www.facebook.com/khaosod/posts/4331193623564230\n",
      "Like\n",
      "334\n",
      "Haha\n",
      "4\n",
      "Love\n",
      "2\n",
      "Wow\n",
      "1\n",
      "https://www.facebook.com/khaosod/posts/4331163276900598\n",
      "Like\n",
      "2956\n",
      "Haha\n",
      "788\n"
     ]
    },
    {
     "name": "stderr",
     "output_type": "stream",
     "text": [
      "\n",
      " 77%|███████▋  | 140/183 [03:24<01:06,  1.55s/it]\u001b[A"
     ]
    },
    {
     "name": "stdout",
     "output_type": "stream",
     "text": [
      "Angry\n",
      "266\n",
      "Wow\n",
      "22\n",
      "Love\n",
      "6\n",
      "Sad\n",
      "6\n",
      "https://www.facebook.com/khaosod/videos/469255600363079/\n",
      "Like\n",
      "599\n"
     ]
    },
    {
     "name": "stderr",
     "output_type": "stream",
     "text": [
      "\n",
      " 77%|███████▋  | 141/183 [03:24<00:51,  1.23s/it]\u001b[A"
     ]
    },
    {
     "name": "stdout",
     "output_type": "stream",
     "text": [
      "Love\n",
      "8\n",
      "Wow\n",
      "5\n",
      "https://www.facebook.com/khaosod/posts/4331103746906551\n",
      "Like\n",
      "495\n"
     ]
    },
    {
     "name": "stderr",
     "output_type": "stream",
     "text": [
      "\n",
      " 78%|███████▊  | 142/183 [03:24<00:39,  1.05it/s]\u001b[A"
     ]
    },
    {
     "name": "stdout",
     "output_type": "stream",
     "text": [
      "Wow\n",
      "28\n",
      "Sad\n",
      "11\n",
      "Haha\n",
      "2\n",
      "https://www.facebook.com/khaosod/posts/4331072340243025\n",
      "Like\n",
      "646\n"
     ]
    },
    {
     "name": "stderr",
     "output_type": "stream",
     "text": [
      "\n",
      " 78%|███████▊  | 143/183 [03:25<00:32,  1.22it/s]\u001b[A"
     ]
    },
    {
     "name": "stdout",
     "output_type": "stream",
     "text": [
      "Sad\n",
      "79\n",
      "Wow\n",
      "4\n",
      "https://www.facebook.com/khaosod/posts/4331060946910831\n",
      "Like\n",
      "242\n",
      "Angry\n",
      "7\n",
      "Haha\n",
      "5\n",
      "Wow\n",
      "3\n",
      "Sad\n",
      "3\n",
      "Love\n",
      "1\n",
      "https://www.facebook.com/khaosod/posts/4331032443580348\n",
      "Like\n",
      "261\n",
      "Sad\n",
      "21\n",
      "Wow\n",
      "9\n",
      "Love\n",
      "1\n",
      "Haha\n",
      "1\n",
      "Angry\n"
     ]
    },
    {
     "name": "stderr",
     "output_type": "stream",
     "text": [
      "\n",
      " 79%|███████▉  | 145/183 [03:25<00:22,  1.66it/s]\u001b[A"
     ]
    },
    {
     "name": "stdout",
     "output_type": "stream",
     "text": [
      "1\n",
      "https://www.facebook.com/khaosod/posts/4331018070248452\n",
      "Like\n",
      "990\n",
      "Haha\n",
      "529\n"
     ]
    },
    {
     "name": "stderr",
     "output_type": "stream",
     "text": [
      "\n",
      " 80%|███████▉  | 146/183 [03:26<00:30,  1.20it/s]\u001b[A"
     ]
    },
    {
     "name": "stdout",
     "output_type": "stream",
     "text": [
      "Wow\n",
      "44\n",
      "Angry\n",
      "9\n",
      "Love\n",
      "4\n",
      "Sad\n",
      "3\n",
      "https://www.facebook.com/khaosod/posts/4330991473584445\n",
      "Like\n",
      "650\n"
     ]
    },
    {
     "name": "stderr",
     "output_type": "stream",
     "text": [
      "\n",
      " 80%|████████  | 147/183 [03:27<00:26,  1.37it/s]\u001b[A"
     ]
    },
    {
     "name": "stdout",
     "output_type": "stream",
     "text": [
      "Haha\n",
      "51\n",
      "Wow\n",
      "13\n",
      "Sad\n",
      "2\n",
      "Love\n",
      "1\n",
      "Angry\n",
      "1\n",
      "https://www.facebook.com/khaosod/posts/4330912990258960\n",
      "Like\n",
      "930\n",
      "Haha\n",
      "648\n"
     ]
    },
    {
     "name": "stderr",
     "output_type": "stream",
     "text": [
      "\n",
      " 81%|████████  | 148/183 [03:28<00:30,  1.15it/s]\u001b[A"
     ]
    },
    {
     "name": "stdout",
     "output_type": "stream",
     "text": [
      "Wow\n",
      "36\n",
      "Angry\n",
      "16\n",
      "Love\n",
      "1\n",
      "Sad\n",
      "1\n",
      "https://www.facebook.com/khaosod/posts/4330938996923026\n",
      "Like\n",
      "825\n"
     ]
    },
    {
     "name": "stderr",
     "output_type": "stream",
     "text": [
      "\n",
      " 81%|████████▏ | 149/183 [03:29<00:28,  1.19it/s]\u001b[A"
     ]
    },
    {
     "name": "stdout",
     "output_type": "stream",
     "text": [
      "Sad\n",
      "183\n",
      "Wow\n",
      "26\n",
      "Haha\n",
      "2\n",
      "Angry\n",
      "2\n",
      "https://www.facebook.com/khaosod/videos/830441187410253/\n",
      "Like\n",
      "1958\n"
     ]
    },
    {
     "name": "stderr",
     "output_type": "stream",
     "text": [
      "\n",
      " 82%|████████▏ | 150/183 [03:33<00:57,  1.76s/it]\u001b[A"
     ]
    },
    {
     "name": "stdout",
     "output_type": "stream",
     "text": [
      "Haha\n",
      "91\n",
      "Angry\n",
      "76\n",
      "Wow\n",
      "13\n",
      "Sad\n",
      "9\n",
      "Love\n",
      "5\n",
      "https://www.facebook.com/khaosod/posts/4330885563595036\n",
      "Like\n",
      "1744\n"
     ]
    },
    {
     "name": "stderr",
     "output_type": "stream",
     "text": [
      "\n",
      " 83%|████████▎ | 151/183 [03:36<01:12,  2.25s/it]\u001b[A"
     ]
    },
    {
     "name": "stdout",
     "output_type": "stream",
     "text": [
      "Sad\n",
      "217\n",
      "Wow\n",
      "20\n",
      "Angry\n",
      "5\n",
      "Love\n",
      "4\n",
      "Haha\n",
      "4\n",
      "https://www.facebook.com/khaosod/posts/4330864763597116\n",
      "Like\n",
      "3089\n",
      "Sad\n",
      "628\n"
     ]
    },
    {
     "name": "stderr",
     "output_type": "stream",
     "text": [
      "\n",
      " 83%|████████▎ | 152/183 [03:46<02:24,  4.65s/it]\u001b[A"
     ]
    },
    {
     "name": "stdout",
     "output_type": "stream",
     "text": [
      "Angry\n",
      "195\n",
      "Wow\n",
      "37\n",
      "Love\n",
      "2\n",
      "https://www.facebook.com/khaosod/posts/4330852090265050\n",
      "Like\n",
      "264\n"
     ]
    },
    {
     "name": "stderr",
     "output_type": "stream",
     "text": [
      "\n",
      " 84%|████████▎ | 153/183 [03:47<01:39,  3.32s/it]\u001b[A"
     ]
    },
    {
     "name": "stdout",
     "output_type": "stream",
     "text": [
      "Sad\n",
      "5\n",
      "Haha\n",
      "3\n",
      "Love\n",
      "1\n",
      "https://www.facebook.com/khaosod/posts/4330842176932708\n",
      "Like\n",
      "1277\n",
      "Haha\n",
      "404\n"
     ]
    },
    {
     "name": "stderr",
     "output_type": "stream",
     "text": [
      "\n",
      " 84%|████████▍ | 154/183 [03:48<01:23,  2.88s/it]\u001b[A"
     ]
    },
    {
     "name": "stdout",
     "output_type": "stream",
     "text": [
      "Wow\n",
      "28\n",
      "Love\n",
      "7\n",
      "Angry\n",
      "5\n",
      "https://www.facebook.com/khaosod/posts/4330827473600845\n",
      "Like\n",
      "828\n"
     ]
    },
    {
     "name": "stderr",
     "output_type": "stream",
     "text": [
      "\n",
      " 85%|████████▍ | 155/183 [03:49<01:02,  2.23s/it]\u001b[A"
     ]
    },
    {
     "name": "stdout",
     "output_type": "stream",
     "text": [
      "Wow\n",
      "31\n",
      "Sad\n",
      "26\n",
      "Haha\n",
      "4\n",
      "https://www.facebook.com/khaosod/videos/2184114441889610/\n",
      "Like\n",
      "3995\n",
      "Haha\n",
      "161\n",
      "Wow\n",
      "102\n",
      "Sad\n",
      "19\n",
      "Angry\n",
      "16\n"
     ]
    },
    {
     "name": "stderr",
     "output_type": "stream",
     "text": [
      "\n",
      " 85%|████████▌ | 156/183 [04:07<03:06,  6.89s/it]\u001b[A"
     ]
    },
    {
     "name": "stdout",
     "output_type": "stream",
     "text": [
      "Love\n",
      "8\n",
      "https://www.facebook.com/khaosod/posts/4330782590272000\n",
      "Like\n",
      "421\n"
     ]
    },
    {
     "name": "stderr",
     "output_type": "stream",
     "text": [
      "\n",
      " 86%|████████▌ | 157/183 [04:07<02:08,  4.94s/it]\u001b[A"
     ]
    },
    {
     "name": "stdout",
     "output_type": "stream",
     "text": [
      "Haha\n",
      "57\n",
      "Wow\n",
      "8\n",
      "Sad\n",
      "1\n",
      "Angry\n",
      "1\n",
      "https://www.facebook.com/khaosod/posts/4330767666940159\n",
      "Like\n",
      "1308\n"
     ]
    },
    {
     "name": "stderr",
     "output_type": "stream",
     "text": [
      "\n",
      " 86%|████████▋ | 158/183 [04:09<01:38,  3.94s/it]\u001b[A"
     ]
    },
    {
     "name": "stdout",
     "output_type": "stream",
     "text": [
      "Sad\n",
      "190\n",
      "Wow\n",
      "16\n",
      "Love\n",
      "3\n",
      "Angry\n",
      "2\n",
      "https://www.facebook.com/khaosod/posts/4330748216942104\n",
      "Like\n",
      "500\n"
     ]
    },
    {
     "name": "stderr",
     "output_type": "stream",
     "text": [
      "\n",
      " 87%|████████▋ | 159/183 [04:09<01:08,  2.84s/it]\u001b[A"
     ]
    },
    {
     "name": "stdout",
     "output_type": "stream",
     "text": [
      "Haha\n",
      "11\n",
      "Wow\n",
      "2\n",
      "https://www.facebook.com/khaosod/posts/4330732243610368\n",
      "Like\n",
      "1279\n"
     ]
    },
    {
     "name": "stderr",
     "output_type": "stream",
     "text": [
      "\n",
      " 87%|████████▋ | 160/183 [04:11<00:56,  2.46s/it]\u001b[A"
     ]
    },
    {
     "name": "stdout",
     "output_type": "stream",
     "text": [
      "Haha\n",
      "141\n",
      "Wow\n",
      "138\n",
      "Love\n",
      "6\n",
      "Sad\n",
      "4\n",
      "Angry\n",
      "1\n",
      "https://www.facebook.com/khaosod/posts/4330713443612248\n",
      "Like\n",
      "708\n"
     ]
    },
    {
     "name": "stderr",
     "output_type": "stream",
     "text": [
      "\n",
      " 88%|████████▊ | 161/183 [04:11<00:41,  1.88s/it]\u001b[A"
     ]
    },
    {
     "name": "stdout",
     "output_type": "stream",
     "text": [
      "Love\n",
      "29\n",
      "Haha\n",
      "21\n",
      "Wow\n",
      "2\n",
      "https://www.facebook.com/khaosod/posts/4330698643613728\n",
      "Like\n",
      "470\n"
     ]
    },
    {
     "name": "stderr",
     "output_type": "stream",
     "text": [
      "\n",
      " 89%|████████▊ | 162/183 [04:12<00:29,  1.39s/it]\u001b[A"
     ]
    },
    {
     "name": "stdout",
     "output_type": "stream",
     "text": [
      "Sad\n",
      "98\n",
      "Wow\n",
      "2\n",
      "https://www.facebook.com/khaosod/posts/4330680090282250\n",
      "Like\n",
      "1483\n",
      "Haha\n",
      "1056\n"
     ]
    },
    {
     "name": "stderr",
     "output_type": "stream",
     "text": [
      "\n",
      " 89%|████████▉ | 163/183 [04:15<00:37,  1.89s/it]\u001b[A"
     ]
    },
    {
     "name": "stdout",
     "output_type": "stream",
     "text": [
      "Angry\n",
      "256\n",
      "Wow\n",
      "27\n",
      "Love\n",
      "7\n",
      "Sad\n",
      "6\n",
      "https://www.facebook.com/khaosod/posts/4330663483617244\n",
      "Like\n",
      "886\n"
     ]
    },
    {
     "name": "stderr",
     "output_type": "stream",
     "text": [
      "\n",
      " 90%|████████▉ | 164/183 [04:15<00:29,  1.56s/it]\u001b[A"
     ]
    },
    {
     "name": "stdout",
     "output_type": "stream",
     "text": [
      "Haha\n",
      "132\n",
      "Sad\n",
      "61\n",
      "Wow\n",
      "22\n",
      "Angry\n",
      "7\n",
      "https://www.facebook.com/khaosod/videos/614821826013657/\n",
      "Like\n",
      "2839\n",
      "Haha\n",
      "776\n"
     ]
    },
    {
     "name": "stderr",
     "output_type": "stream",
     "text": [
      "\n",
      " 90%|█████████ | 165/183 [04:24<01:07,  3.77s/it]\u001b[A"
     ]
    },
    {
     "name": "stdout",
     "output_type": "stream",
     "text": [
      "Wow\n",
      "77\n",
      "Sad\n",
      "8\n",
      "Love\n",
      "4\n",
      "Angry\n",
      "3\n",
      "https://www.facebook.com/khaosod/posts/4330623926954533\n",
      "Like\n",
      "579\n"
     ]
    },
    {
     "name": "stderr",
     "output_type": "stream",
     "text": [
      "\n",
      " 91%|█████████ | 166/183 [04:25<00:50,  2.98s/it]\u001b[A"
     ]
    },
    {
     "name": "stdout",
     "output_type": "stream",
     "text": [
      "Sad\n",
      "40\n",
      "Wow\n",
      "18\n",
      "Haha\n",
      "3\n",
      "Angry\n",
      "3\n",
      "Love\n",
      "1\n",
      "https://www.facebook.com/khaosod/posts/4330603816956544\n",
      "Like\n",
      "1365\n",
      "Haha\n",
      "248\n",
      "Wow\n",
      "146\n",
      "Sad\n",
      "15\n",
      "Angry\n",
      "12\n",
      "Love"
     ]
    },
    {
     "name": "stderr",
     "output_type": "stream",
     "text": [
      "\n",
      " 91%|█████████▏| 167/183 [04:28<00:45,  2.85s/it]\u001b[A"
     ]
    },
    {
     "name": "stdout",
     "output_type": "stream",
     "text": [
      "\n",
      "2\n",
      "https://www.facebook.com/khaosod/posts/4330573936959532\n",
      "Like\n",
      "3997\n",
      "Haha\n",
      "3998\n",
      "Angry\n",
      "771\n"
     ]
    },
    {
     "name": "stderr",
     "output_type": "stream",
     "text": [
      "\n",
      " 92%|█████████▏| 168/183 [05:00<02:53, 11.57s/it]\u001b[A"
     ]
    },
    {
     "name": "stdout",
     "output_type": "stream",
     "text": [
      "Wow\n",
      "123\n",
      "Sad\n",
      "49\n",
      "Love\n",
      "29\n",
      "https://www.facebook.com/khaosod/posts/4330570623626530\n",
      "Like\n",
      "524\n"
     ]
    },
    {
     "name": "stderr",
     "output_type": "stream",
     "text": [
      "\n",
      " 92%|█████████▏| 169/183 [05:00<01:55,  8.26s/it]\u001b[A"
     ]
    },
    {
     "name": "stdout",
     "output_type": "stream",
     "text": [
      "Love\n",
      "11\n",
      "Wow\n",
      "5\n",
      "https://www.facebook.com/khaosod/posts/4330556666961259\n",
      "Like\n",
      "1143\n"
     ]
    },
    {
     "name": "stderr",
     "output_type": "stream",
     "text": [
      "\n",
      " 93%|█████████▎| 170/183 [05:02<01:22,  6.32s/it]\u001b[A"
     ]
    },
    {
     "name": "stdout",
     "output_type": "stream",
     "text": [
      "Sad\n",
      "200\n",
      "Angry\n",
      "73\n",
      "Wow\n",
      "17\n",
      "Haha\n",
      "13\n",
      "Love\n",
      "1\n",
      "https://www.facebook.com/khaosod/videos/455029048481135/\n",
      "Like\n",
      "3998\n"
     ]
    },
    {
     "name": "stderr",
     "output_type": "stream",
     "text": [
      "\n"
     ]
    },
    {
     "name": "stdout",
     "output_type": "stream",
     "text": [
      "Haha\n",
      "254\n",
      "Wow\n",
      "158\n",
      "Sad\n",
      "17\n",
      "Angry\n",
      "13\n",
      "Love\n",
      "4\n"
     ]
    },
    {
     "name": "stderr",
     "output_type": "stream",
     "text": [
      " 93%|█████████▎| 171/183 [05:16<01:41,  8.44s/it]\u001b[A"
     ]
    },
    {
     "name": "stdout",
     "output_type": "stream",
     "text": [
      "https://www.facebook.com/khaosod/posts/4330519870298272\n",
      "Like\n",
      "2505\n"
     ]
    },
    {
     "name": "stderr",
     "output_type": "stream",
     "text": [
      "\n",
      " 94%|█████████▍| 172/183 [05:21<01:23,  7.61s/it]\u001b[A"
     ]
    },
    {
     "name": "stdout",
     "output_type": "stream",
     "text": [
      "Haha\n",
      "123\n",
      "Love\n",
      "69\n",
      "Wow\n",
      "16\n",
      "Sad\n",
      "1\n",
      "https://www.facebook.com/khaosod/posts/4330504490299810\n",
      "Like\n",
      "917\n"
     ]
    },
    {
     "name": "stderr",
     "output_type": "stream",
     "text": [
      "\n",
      " 95%|█████████▍| 173/183 [05:22<00:56,  5.67s/it]\u001b[A"
     ]
    },
    {
     "name": "stdout",
     "output_type": "stream",
     "text": [
      "Haha\n",
      "168\n",
      "Angry\n",
      "87\n",
      "Wow\n",
      "9\n",
      "Sad\n",
      "8\n",
      "Love\n",
      "4\n",
      "https://www.facebook.com/khaosod/posts/4330492640300995\n",
      "Like\n",
      "866\n"
     ]
    },
    {
     "name": "stderr",
     "output_type": "stream",
     "text": [
      "\n",
      " 95%|█████████▌| 174/183 [05:24<00:38,  4.28s/it]\u001b[A"
     ]
    },
    {
     "name": "stdout",
     "output_type": "stream",
     "text": [
      "Sad\n",
      "207\n",
      "Wow\n",
      "70\n",
      "Haha\n",
      "4\n",
      "https://www.facebook.com/khaosod/posts/4330477533635839\n",
      "Like\n",
      "719\n"
     ]
    },
    {
     "name": "stderr",
     "output_type": "stream",
     "text": [
      "\n",
      " 96%|█████████▌| 175/183 [05:24<00:25,  3.21s/it]\u001b[A"
     ]
    },
    {
     "name": "stdout",
     "output_type": "stream",
     "text": [
      "Haha\n",
      "84\n",
      "Wow\n",
      "9\n",
      "Sad\n",
      "6\n",
      "Angry\n",
      "2\n",
      "Love\n",
      "1\n",
      "https://www.facebook.com/khaosod/posts/4330466206970305\n",
      "Like\n",
      "603\n"
     ]
    },
    {
     "name": "stderr",
     "output_type": "stream",
     "text": [
      "\n",
      " 96%|█████████▌| 176/183 [05:25<00:16,  2.39s/it]\u001b[A"
     ]
    },
    {
     "name": "stdout",
     "output_type": "stream",
     "text": [
      "Wow\n",
      "10\n",
      "Haha\n",
      "8\n",
      "Love\n",
      "3\n",
      "https://www.facebook.com/khaosod/posts/4330449780305281\n",
      "Like\n",
      "1842\n"
     ]
    },
    {
     "name": "stderr",
     "output_type": "stream",
     "text": [
      "\n",
      " 97%|█████████▋| 177/183 [05:29<00:18,  3.06s/it]\u001b[A"
     ]
    },
    {
     "name": "stdout",
     "output_type": "stream",
     "text": [
      "Sad\n",
      "69\n",
      "Wow\n",
      "64\n",
      "Haha\n",
      "18\n",
      "Love\n",
      "4\n",
      "Angry\n",
      "2\n",
      "https://www.facebook.com/khaosod/posts/4330438523639740\n",
      "Like\n",
      "767\n"
     ]
    },
    {
     "name": "stderr",
     "output_type": "stream",
     "text": [
      "\n",
      " 97%|█████████▋| 178/183 [05:30<00:11,  2.31s/it]\u001b[A"
     ]
    },
    {
     "name": "stdout",
     "output_type": "stream",
     "text": [
      "Wow\n",
      "18\n",
      "Haha\n",
      "7\n",
      "Love\n",
      "1\n",
      "https://www.facebook.com/khaosod/videos/428575418033768/\n",
      "Like\n",
      "444\n"
     ]
    },
    {
     "name": "stderr",
     "output_type": "stream",
     "text": [
      "\n",
      " 98%|█████████▊| 179/183 [05:30<00:06,  1.69s/it]\u001b[A"
     ]
    },
    {
     "name": "stdout",
     "output_type": "stream",
     "text": [
      "Haha\n",
      "14\n",
      "Love\n",
      "2\n",
      "Wow\n",
      "1\n",
      "Angry\n",
      "1\n",
      "https://www.facebook.com/khaosod/videos/2461469797441990/\n",
      "Like\n",
      "105\n",
      "https://www.facebook.com/khaosod/posts/4330406090309650\n",
      "Like\n",
      "1614\n",
      "Haha\n",
      "339\n"
     ]
    },
    {
     "name": "stderr",
     "output_type": "stream",
     "text": [
      "\n",
      " 99%|█████████▉| 181/183 [05:33<00:03,  1.60s/it]\u001b[A"
     ]
    },
    {
     "name": "stdout",
     "output_type": "stream",
     "text": [
      "Angry\n",
      "251\n",
      "Wow\n",
      "29\n",
      "Sad\n",
      "13\n",
      "Love\n",
      "4\n",
      "https://www.facebook.com/khaosod/posts/4330401413643451\n",
      "Like\n",
      "620\n"
     ]
    },
    {
     "name": "stderr",
     "output_type": "stream",
     "text": [
      "\n",
      " 99%|█████████▉| 182/183 [05:33<00:01,  1.27s/it]\u001b[A"
     ]
    },
    {
     "name": "stdout",
     "output_type": "stream",
     "text": [
      "Haha\n",
      "45\n",
      "Wow\n",
      "28\n",
      "Sad\n",
      "15\n",
      "Angry\n",
      "7\n",
      "Love\n",
      "1\n",
      "https://www.facebook.com/khaosod/posts/4330387983644794\n",
      "Like\n",
      "390\n"
     ]
    },
    {
     "name": "stderr",
     "output_type": "stream",
     "text": [
      "\n",
      "100%|██████████| 183/183 [05:34<00:00,  1.06it/s]\u001b[A"
     ]
    },
    {
     "name": "stdout",
     "output_type": "stream",
     "text": [
      "Wow\n",
      "7\n",
      "Love\n",
      "1\n",
      "Haha\n",
      "1\n"
     ]
    }
   ],
   "source": [
    "# Create relation between users\n",
    "user_map = {}\n",
    "\n",
    "for post_url, post_data in tqdm(mapper.items()):\n",
    "    print (post_url)\n",
    "    for type_k, type_data in post_data.items():\n",
    "        print (type_k)\n",
    "        print (len(type_data))\n",
    "        #print (type_data)\n",
    "        for user_id_i in type_data:\n",
    "            for user_id_j in type_data:\n",
    "                if not user_id_i in user_map:\n",
    "                    user_map[user_id_i] = {}\n",
    "                if not user_id_j in user_map[user_id_i]:\n",
    "                    user_map[user_id_i][user_id_j] = 0\n",
    "                    \n",
    "                user_map[user_id_i][user_id_j] += 1"
   ]
  },
  {
   "cell_type": "code",
   "execution_count": null,
   "metadata": {},
   "outputs": [
    {
     "data": {
      "application/vnd.jupyter.widget-view+json": {
       "model_id": "2fb91f939d8e44ddb2c65a427b8ead0e",
       "version_major": 2,
       "version_minor": 0
      },
      "text/plain": [
       "HBox(children=(IntProgress(value=0, max=87787), HTML(value='')))"
      ]
     },
     "metadata": {},
     "output_type": "display_data"
    }
   ],
   "source": [
    "from tqdm import tqdm, tqdm_notebook\n",
    "\n",
    "# Get similarity set\n",
    "out_data = []\n",
    "\n",
    "for user_i, user_i_dat in tqdm_notebook(user_map.items()):\n",
    "    i_action_count = len(user_map[user_i])\n",
    "    #print ('i_action_count: %d' % (i_action_count))\n",
    "    for user_j in user_map[user_i]:\n",
    "        if user_i == user_j:\n",
    "            continue\n",
    "        j_action_count = len(user_map[user_j])\n",
    "        #print ('j_action_count: %d' % (j_action_count))\n",
    "        ij_action_count = user_map[user_i][user_j]\n",
    "        #print ('ij_action_count: %d' % (ij_action_count))\n",
    "        \n",
    "        row = []\n",
    "        row.append(user_i)\n",
    "        row.append(user_j)\n",
    "        row.append(ij_action_count)\n",
    "        i_not_ij = i_action_count - ij_action_count\n",
    "        row.append(i_not_ij)\n",
    "        j_not_ij = j_action_count - ij_action_count\n",
    "        row.append(j_not_ij)\n",
    "        \n",
    "        # Get jaccard similarity\n",
    "        intersec = ij_action_count\n",
    "        union = i_not_ij + ij_action_count + j_not_ij\n",
    "        row.append(intersec / union)\n",
    "        \n",
    "        # Get overlapping coefficient\n",
    "        min_ij = min((i_not_ij, j_not_ij))\n",
    "        #print ('min_ij: %d' % min_ij)\n",
    "        row.append(intersec / min_ij)\n",
    "        \n",
    "        out_data.append(row)\n",
    "    \n",
    "df = pd.DataFrame(out_data, columns = [\"user_i\", \"user_j\", \"intersec\", \"i_not_intersec\", \"j_not_intersec\", \"jaccard_sim\", \"overlap_coef\"])\n",
    "df.head()"
   ]
  },
  {
   "cell_type": "code",
   "execution_count": null,
   "metadata": {},
   "outputs": [],
   "source": [
    "#sort\n",
    "df_by_overlap_coef = df.sort(['overlap_coef'], ascending=[0])\n",
    "df_by_overlap_coef.head()"
   ]
  }
 ],
 "metadata": {
  "kernelspec": {
   "display_name": "Python 3",
   "language": "python",
   "name": "python3"
  },
  "language_info": {
   "codemirror_mode": {
    "name": "ipython",
    "version": 3
   },
   "file_extension": ".py",
   "mimetype": "text/x-python",
   "name": "python",
   "nbconvert_exporter": "python",
   "pygments_lexer": "ipython3",
   "version": "3.7.3"
  }
 },
 "nbformat": 4,
 "nbformat_minor": 2
}
