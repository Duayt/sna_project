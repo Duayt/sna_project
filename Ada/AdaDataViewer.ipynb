{
 "cells": [
  {
   "cell_type": "code",
   "execution_count": 1,
   "metadata": {},
   "outputs": [
    {
     "data": {
      "text/html": [
       "<div>\n",
       "<style scoped>\n",
       "    .dataframe tbody tr th:only-of-type {\n",
       "        vertical-align: middle;\n",
       "    }\n",
       "\n",
       "    .dataframe tbody tr th {\n",
       "        vertical-align: top;\n",
       "    }\n",
       "\n",
       "    .dataframe thead th {\n",
       "        text-align: right;\n",
       "    }\n",
       "</style>\n",
       "<table border=\"1\" class=\"dataframe\">\n",
       "  <thead>\n",
       "    <tr style=\"text-align: right;\">\n",
       "      <th></th>\n",
       "      <th>Unnamed: 0</th>\n",
       "      <th>post_page_id</th>\n",
       "      <th>post_id</th>\n",
       "      <th>post_time</th>\n",
       "      <th>post_link</th>\n",
       "      <th>post_message</th>\n",
       "      <th>post_like_count</th>\n",
       "      <th>post_share_count</th>\n",
       "      <th>post_reactor_count</th>\n",
       "      <th>post_comment_count</th>\n",
       "      <th>post_angry_count</th>\n",
       "      <th>post_love_count</th>\n",
       "      <th>post_sad_count</th>\n",
       "      <th>post_wow_count</th>\n",
       "      <th>post_haha_count</th>\n",
       "      <th>post_crawl_time</th>\n",
       "      <th>page_name</th>\n",
       "    </tr>\n",
       "  </thead>\n",
       "  <tbody>\n",
       "    <tr>\n",
       "      <th>0</th>\n",
       "      <td>0</td>\n",
       "      <td>129558990394402</td>\n",
       "      <td>4333442143339378</td>\n",
       "      <td>2019-11-13 12:35:43</td>\n",
       "      <td>https://www.facebook.com/khaosod/posts/4333442...</td>\n",
       "      <td>เพื่อนบ้านรังเกียจ ลูกไม่ยอมให้เงิน เพราะกลัวจ...</td>\n",
       "      <td>1415</td>\n",
       "      <td>190</td>\n",
       "      <td>1777</td>\n",
       "      <td>205</td>\n",
       "      <td>2</td>\n",
       "      <td>10</td>\n",
       "      <td>326</td>\n",
       "      <td>19</td>\n",
       "      <td>5</td>\n",
       "      <td>2019-11-13 14:40:02.211674</td>\n",
       "      <td>khaosod</td>\n",
       "    </tr>\n",
       "    <tr>\n",
       "      <th>1</th>\n",
       "      <td>1</td>\n",
       "      <td>129558990394402</td>\n",
       "      <td>4333407490009510</td>\n",
       "      <td>2019-11-13 12:24:11</td>\n",
       "      <td>https://www.facebook.com/khaosod/videos/122637...</td>\n",
       "      <td>เดือดจัด!! ฟอร์จูนเนอร์ ชนแล้วหนี มอไซค์ตามไล่...</td>\n",
       "      <td>12608</td>\n",
       "      <td>3811</td>\n",
       "      <td>15338</td>\n",
       "      <td>2309</td>\n",
       "      <td>2060</td>\n",
       "      <td>6</td>\n",
       "      <td>96</td>\n",
       "      <td>364</td>\n",
       "      <td>204</td>\n",
       "      <td>2019-11-13 14:40:02.211674</td>\n",
       "      <td>khaosod</td>\n",
       "    </tr>\n",
       "    <tr>\n",
       "      <th>2</th>\n",
       "      <td>2</td>\n",
       "      <td>129558990394402</td>\n",
       "      <td>4333341343349458</td>\n",
       "      <td>2019-11-13 12:15:32</td>\n",
       "      <td>https://www.facebook.com/khaosod/posts/4333341...</td>\n",
       "      <td>กลุ่มผู้สูงวัย ร้องบิ๊กตู่ ขอขึ้นเบี้ยยังชีพ</td>\n",
       "      <td>1392</td>\n",
       "      <td>50</td>\n",
       "      <td>1864</td>\n",
       "      <td>504</td>\n",
       "      <td>8</td>\n",
       "      <td>4</td>\n",
       "      <td>5</td>\n",
       "      <td>40</td>\n",
       "      <td>415</td>\n",
       "      <td>2019-11-13 14:40:02.211674</td>\n",
       "      <td>khaosod</td>\n",
       "    </tr>\n",
       "    <tr>\n",
       "      <th>3</th>\n",
       "      <td>3</td>\n",
       "      <td>129558990394402</td>\n",
       "      <td>4333333783350214</td>\n",
       "      <td>2019-11-13 12:10:38</td>\n",
       "      <td>https://www.facebook.com/khaosod/posts/4333333...</td>\n",
       "      <td>ทุ่มทุนสร้าง เคว้ง ไทยซีรีส์เรื่องแรก บนเน็ตฟล...</td>\n",
       "      <td>304</td>\n",
       "      <td>3</td>\n",
       "      <td>310</td>\n",
       "      <td>4</td>\n",
       "      <td>0</td>\n",
       "      <td>2</td>\n",
       "      <td>0</td>\n",
       "      <td>3</td>\n",
       "      <td>1</td>\n",
       "      <td>2019-11-13 14:40:02.211674</td>\n",
       "      <td>khaosod</td>\n",
       "    </tr>\n",
       "    <tr>\n",
       "      <th>4</th>\n",
       "      <td>4</td>\n",
       "      <td>129558990394402</td>\n",
       "      <td>4333330193350573</td>\n",
       "      <td>2019-11-13 12:05:03</td>\n",
       "      <td>https://www.facebook.com/khaosod/posts/4333330...</td>\n",
       "      <td>ร้านเสริมสวยกระเจิง จงอางยาว 3 เมตร แผ่แม่เบี้...</td>\n",
       "      <td>349</td>\n",
       "      <td>7</td>\n",
       "      <td>385</td>\n",
       "      <td>11</td>\n",
       "      <td>0</td>\n",
       "      <td>0</td>\n",
       "      <td>0</td>\n",
       "      <td>28</td>\n",
       "      <td>8</td>\n",
       "      <td>2019-11-13 14:40:02.211674</td>\n",
       "      <td>khaosod</td>\n",
       "    </tr>\n",
       "  </tbody>\n",
       "</table>\n",
       "</div>"
      ],
      "text/plain": [
       "   Unnamed: 0     post_page_id           post_id            post_time  \\\n",
       "0           0  129558990394402  4333442143339378  2019-11-13 12:35:43   \n",
       "1           1  129558990394402  4333407490009510  2019-11-13 12:24:11   \n",
       "2           2  129558990394402  4333341343349458  2019-11-13 12:15:32   \n",
       "3           3  129558990394402  4333333783350214  2019-11-13 12:10:38   \n",
       "4           4  129558990394402  4333330193350573  2019-11-13 12:05:03   \n",
       "\n",
       "                                           post_link  \\\n",
       "0  https://www.facebook.com/khaosod/posts/4333442...   \n",
       "1  https://www.facebook.com/khaosod/videos/122637...   \n",
       "2  https://www.facebook.com/khaosod/posts/4333341...   \n",
       "3  https://www.facebook.com/khaosod/posts/4333333...   \n",
       "4  https://www.facebook.com/khaosod/posts/4333330...   \n",
       "\n",
       "                                        post_message  post_like_count  \\\n",
       "0  เพื่อนบ้านรังเกียจ ลูกไม่ยอมให้เงิน เพราะกลัวจ...             1415   \n",
       "1  เดือดจัด!! ฟอร์จูนเนอร์ ชนแล้วหนี มอไซค์ตามไล่...            12608   \n",
       "2       กลุ่มผู้สูงวัย ร้องบิ๊กตู่ ขอขึ้นเบี้ยยังชีพ             1392   \n",
       "3  ทุ่มทุนสร้าง เคว้ง ไทยซีรีส์เรื่องแรก บนเน็ตฟล...              304   \n",
       "4  ร้านเสริมสวยกระเจิง จงอางยาว 3 เมตร แผ่แม่เบี้...              349   \n",
       "\n",
       "   post_share_count  post_reactor_count  post_comment_count  post_angry_count  \\\n",
       "0               190                1777                 205                 2   \n",
       "1              3811               15338                2309              2060   \n",
       "2                50                1864                 504                 8   \n",
       "3                 3                 310                   4                 0   \n",
       "4                 7                 385                  11                 0   \n",
       "\n",
       "   post_love_count  post_sad_count  post_wow_count  post_haha_count  \\\n",
       "0               10             326              19                5   \n",
       "1                6              96             364              204   \n",
       "2                4               5              40              415   \n",
       "3                2               0               3                1   \n",
       "4                0               0              28                8   \n",
       "\n",
       "              post_crawl_time page_name  \n",
       "0  2019-11-13 14:40:02.211674   khaosod  \n",
       "1  2019-11-13 14:40:02.211674   khaosod  \n",
       "2  2019-11-13 14:40:02.211674   khaosod  \n",
       "3  2019-11-13 14:40:02.211674   khaosod  \n",
       "4  2019-11-13 14:40:02.211674   khaosod  "
      ]
     },
     "execution_count": 1,
     "metadata": {},
     "output_type": "execute_result"
    }
   ],
   "source": [
    "import pandas as pd\n",
    "import csv\n",
    "\n",
    "path = '../crawl_data/khaosod.csv'\n",
    "\n",
    "data = pd.read_csv(path, encoding=\"utf8\") \n",
    "#data.shape\n",
    "data.head()"
   ]
  },
  {
   "cell_type": "code",
   "execution_count": 2,
   "metadata": {},
   "outputs": [
    {
     "data": {
      "text/plain": [
       "1644034"
      ]
     },
     "execution_count": 2,
     "metadata": {},
     "output_type": "execute_result"
    }
   ],
   "source": [
    "import csv\n",
    "\n",
    "path = '../crawl_data/post interaction/khaosod_post_interact.csv'\n",
    "\n",
    "data = pd.read_csv(path, encoding=\"utf8\") \n",
    "#data.shape\n",
    "#data.head()\n",
    "\n",
    "#love = data.loc[data['type'] == 'Love']\n",
    "#love.head()\n",
    "\n",
    "#post_url = data.loc[data['post_url'] == 'https://www.facebook.com/khaosod/posts/4333442143339378']\n",
    "#post_url.size\n",
    "#post_url.head()\n",
    "\n",
    "#user_url = data.loc[data['user_url'] == '/profile.php?id=100043671036759']\n",
    "#user_url.head()\n",
    "\n",
    "data.size"
   ]
  },
  {
   "cell_type": "code",
   "execution_count": 5,
   "metadata": {},
   "outputs": [
    {
     "name": "stdout",
     "output_type": "stream",
     "text": [
      "row: 1644034\n"
     ]
    },
    {
     "data": {
      "application/vnd.jupyter.widget-view+json": {
       "model_id": "4fb215356aff40bb9bbf7443fb5e61dd",
       "version_major": 2,
       "version_minor": 0
      },
      "text/plain": [
       "HBox(children=(IntProgress(value=1, bar_style='info', max=1), HTML(value='')))"
      ]
     },
     "metadata": {},
     "output_type": "display_data"
    },
    {
     "name": "stdout",
     "output_type": "stream",
     "text": [
      "Finished!\n"
     ]
    }
   ],
   "source": [
    "from tqdm import tqdm, tqdm_notebook\n",
    "\n",
    "'''\n",
    "    map[user_url][post_user_type] = user_url\n",
    "'''\n",
    "mapper = {}\n",
    "\n",
    "print (\"row: %d\" % (data.size))\n",
    "\n",
    "for row in tqdm_notebook(data.iterrows()):\n",
    "    \n",
    "    post_url = row[1]['post_url']\n",
    "    type_t = row[1]['type']\n",
    "    user_url = row[1]['user_url']\n",
    "\n",
    "    if not post_url in mapper:\n",
    "        mapper[post_url] = {}\n",
    "\n",
    "    if not type_t in mapper[post_url]:\n",
    "        mapper[post_url][type_t] = []\n",
    "    \n",
    "    mapper[post_url][type_t].append(user_url)\n",
    "        \n",
    "print (\"Finished!\")"
   ]
  },
  {
   "cell_type": "code",
   "execution_count": 6,
   "metadata": {},
   "outputs": [
    {
     "data": {
      "text/plain": [
       "183"
      ]
     },
     "execution_count": 6,
     "metadata": {},
     "output_type": "execute_result"
    }
   ],
   "source": [
    "len(mapper)"
   ]
  },
  {
   "cell_type": "code",
   "execution_count": 10,
   "metadata": {},
   "outputs": [
    {
     "data": {
      "application/vnd.jupyter.widget-view+json": {
       "model_id": "c5b1a71253d04580a5082d55b4b635c9",
       "version_major": 2,
       "version_minor": 0
      },
      "text/plain": [
       "HBox(children=(IntProgress(value=0, max=183), HTML(value='')))"
      ]
     },
     "metadata": {},
     "output_type": "display_data"
    }
   ],
   "source": [
    "# Create relation between users\n",
    "user_map = {}\n",
    "\n",
    "for post_url, post_data in tqdm_notebook(mapper.items()):\n",
    "    #print (post_url)\n",
    "    for type_k, type_data in post_data.items():\n",
    "        #print (type_k)\n",
    "        #print (len(type_data))\n",
    "        #print (type_data)\n",
    "        for user_id_i in type_data:\n",
    "            for user_id_j in type_data:\n",
    "                if not user_id_i in user_map:\n",
    "                    user_map[user_id_i] = {}\n",
    "                if not user_id_j in user_map[user_id_i]:\n",
    "                    user_map[user_id_i][user_id_j] = 0\n",
    "                    \n",
    "                user_map[user_id_i][user_id_j] += 1"
   ]
  },
  {
   "cell_type": "code",
   "execution_count": 11,
   "metadata": {},
   "outputs": [
    {
     "data": {
      "application/vnd.jupyter.widget-view+json": {
       "model_id": "e4e50ad5b4994e9e8ef6efd6ccc21231",
       "version_major": 2,
       "version_minor": 0
      },
      "text/plain": [
       "HBox(children=(IntProgress(value=0, max=87787), HTML(value='')))"
      ]
     },
     "metadata": {},
     "output_type": "display_data"
    },
    {
     "name": "stderr",
     "output_type": "stream",
     "text": [
      "Exception ignored in: <generator object tqdm_notebook.__iter__ at 0x0000027D3CDCD660>\n",
      "Traceback (most recent call last):\n",
      "  File \"C:\\ProgramData\\Anaconda3\\lib\\site-packages\\tqdm\\_tqdm_notebook.py\", line 226, in __iter__\n",
      "    self.sp(bar_style='danger')\n",
      "  File \"C:\\ProgramData\\Anaconda3\\lib\\site-packages\\tqdm\\_tqdm_notebook.py\", line 171, in print_status\n",
      "    pbar.bar_style = bar_style\n",
      "  File \"C:\\ProgramData\\Anaconda3\\lib\\site-packages\\traitlets\\traitlets.py\", line 585, in __set__\n",
      "    self.set(obj, value)\n",
      "  File \"C:\\ProgramData\\Anaconda3\\lib\\site-packages\\traitlets\\traitlets.py\", line 559, in set\n",
      "    new_value = self._validate(obj, value)\n",
      "  File \"C:\\ProgramData\\Anaconda3\\lib\\site-packages\\traitlets\\traitlets.py\", line 591, in _validate\n",
      "    value = self.validate(obj, value)\n",
      "  File \"C:\\ProgramData\\Anaconda3\\lib\\site-packages\\traitlets\\traitlets.py\", line 2156, in validate\n",
      "    value = cast_unicode_py2(value)\n",
      "KeyboardInterrupt: \n"
     ]
    },
    {
     "ename": "KeyboardInterrupt",
     "evalue": "",
     "output_type": "error",
     "traceback": [
      "\u001b[1;31m---------------------------------------------------------------------------\u001b[0m",
      "\u001b[1;31mKeyboardInterrupt\u001b[0m                         Traceback (most recent call last)",
      "\u001b[1;32m<ipython-input-11-95e130ce5721>\u001b[0m in \u001b[0;36m<module>\u001b[1;34m\u001b[0m\n\u001b[0;32m     10\u001b[0m         \u001b[1;32mif\u001b[0m \u001b[0muser_i\u001b[0m \u001b[1;33m==\u001b[0m \u001b[0muser_j\u001b[0m\u001b[1;33m:\u001b[0m\u001b[1;33m\u001b[0m\u001b[1;33m\u001b[0m\u001b[0m\n\u001b[0;32m     11\u001b[0m             \u001b[1;32mcontinue\u001b[0m\u001b[1;33m\u001b[0m\u001b[1;33m\u001b[0m\u001b[0m\n\u001b[1;32m---> 12\u001b[1;33m         \u001b[0mj_action_count\u001b[0m \u001b[1;33m=\u001b[0m \u001b[0mlen\u001b[0m\u001b[1;33m(\u001b[0m\u001b[0muser_map\u001b[0m\u001b[1;33m[\u001b[0m\u001b[0muser_j\u001b[0m\u001b[1;33m]\u001b[0m\u001b[1;33m)\u001b[0m\u001b[1;33m\u001b[0m\u001b[1;33m\u001b[0m\u001b[0m\n\u001b[0m\u001b[0;32m     13\u001b[0m         \u001b[1;31m#print ('j_action_count: %d' % (j_action_count))\u001b[0m\u001b[1;33m\u001b[0m\u001b[1;33m\u001b[0m\u001b[1;33m\u001b[0m\u001b[0m\n\u001b[0;32m     14\u001b[0m         \u001b[0mij_action_count\u001b[0m \u001b[1;33m=\u001b[0m \u001b[0muser_map\u001b[0m\u001b[1;33m[\u001b[0m\u001b[0muser_i\u001b[0m\u001b[1;33m]\u001b[0m\u001b[1;33m[\u001b[0m\u001b[0muser_j\u001b[0m\u001b[1;33m]\u001b[0m\u001b[1;33m\u001b[0m\u001b[1;33m\u001b[0m\u001b[0m\n",
      "\u001b[1;31mKeyboardInterrupt\u001b[0m: "
     ]
    }
   ],
   "source": [
    "from tqdm import tqdm, tqdm_notebook\n",
    "\n",
    "# Get similarity set\n",
    "out_data = []\n",
    "\n",
    "for user_i, user_i_dat in tqdm_notebook(user_map.items()):\n",
    "    i_action_count = len(user_map[user_i])\n",
    "    \n",
    "    if i_action_count < 10:\n",
    "        continue\n",
    "        \n",
    "    for user_j in user_map[user_i]:\n",
    "        \n",
    "        if user_i == user_j:\n",
    "            continue\n",
    "            \n",
    "        j_action_count = len(user_map[user_j])\n",
    "        if j_action_count < 10:\n",
    "            continue\n",
    "        \n",
    "        ij_action_count = user_map[user_i][user_j]\n",
    "        if ij_action_count < 10:\n",
    "            continue\n",
    "        \n",
    "        row = []\n",
    "        row.append(user_i)\n",
    "        row.append(user_j)\n",
    "        row.append(ij_action_count)\n",
    "        i_not_ij = i_action_count - ij_action_count\n",
    "        row.append(i_not_ij)\n",
    "        j_not_ij = j_action_count - ij_action_count\n",
    "        row.append(j_not_ij)\n",
    "        \n",
    "        # Get jaccard similarity\n",
    "        intersec = ij_action_count\n",
    "        union = i_not_ij + ij_action_count + j_not_ij\n",
    "        row.append(intersec / union)\n",
    "        \n",
    "        # Get overlapping coefficient\n",
    "        min_ij = min((i_not_ij, j_not_ij))\n",
    "        #print ('min_ij: %d' % min_ij)\n",
    "        row.append(intersec / min_ij)\n",
    "        \n",
    "        out_data.append(row)\n",
    "    \n",
    "df = pd.DataFrame(out_data, columns = [\"user_i\", \"user_j\", \"intersec\", \"i_not_intersec\", \"j_not_intersec\", \"jaccard_sim\", \"overlap_coef\"])\n",
    "df.head()"
   ]
  },
  {
   "cell_type": "code",
   "execution_count": null,
   "metadata": {},
   "outputs": [],
   "source": [
    "df = pd.DataFrame(out_data, columns = [\"user_i\", \"user_j\", \"intersec\", \"i_not_intersec\", \"j_not_intersec\", \"jaccard_sim\", \"overlap_coef\"])\n",
    "df.head()"
   ]
  },
  {
   "cell_type": "code",
   "execution_count": null,
   "metadata": {},
   "outputs": [],
   "source": [
    "#sort\n",
    "df_by_overlap_coef = df.sort(['overlap_coef'], ascending=[0])\n",
    "df_by_overlap_coef.head()"
   ]
  }
 ],
 "metadata": {
  "kernelspec": {
   "display_name": "Python 3",
   "language": "python",
   "name": "python3"
  },
  "language_info": {
   "codemirror_mode": {
    "name": "ipython",
    "version": 3
   },
   "file_extension": ".py",
   "mimetype": "text/x-python",
   "name": "python",
   "nbconvert_exporter": "python",
   "pygments_lexer": "ipython3",
   "version": "3.7.3"
  }
 },
 "nbformat": 4,
 "nbformat_minor": 2
}
