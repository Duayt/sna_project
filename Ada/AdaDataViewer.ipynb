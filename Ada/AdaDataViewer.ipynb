{
 "cells": [
  {
   "cell_type": "code",
   "execution_count": 1,
   "metadata": {},
   "outputs": [
    {
     "data": {
      "text/html": [
       "<div>\n",
       "<style scoped>\n",
       "    .dataframe tbody tr th:only-of-type {\n",
       "        vertical-align: middle;\n",
       "    }\n",
       "\n",
       "    .dataframe tbody tr th {\n",
       "        vertical-align: top;\n",
       "    }\n",
       "\n",
       "    .dataframe thead th {\n",
       "        text-align: right;\n",
       "    }\n",
       "</style>\n",
       "<table border=\"1\" class=\"dataframe\">\n",
       "  <thead>\n",
       "    <tr style=\"text-align: right;\">\n",
       "      <th></th>\n",
       "      <th>Unnamed: 0</th>\n",
       "      <th>post_page_id</th>\n",
       "      <th>post_id</th>\n",
       "      <th>post_time</th>\n",
       "      <th>post_link</th>\n",
       "      <th>post_message</th>\n",
       "      <th>post_like_count</th>\n",
       "      <th>post_share_count</th>\n",
       "      <th>post_reactor_count</th>\n",
       "      <th>post_comment_count</th>\n",
       "      <th>post_angry_count</th>\n",
       "      <th>post_love_count</th>\n",
       "      <th>post_sad_count</th>\n",
       "      <th>post_wow_count</th>\n",
       "      <th>post_haha_count</th>\n",
       "      <th>post_crawl_time</th>\n",
       "      <th>page_name</th>\n",
       "    </tr>\n",
       "  </thead>\n",
       "  <tbody>\n",
       "    <tr>\n",
       "      <th>0</th>\n",
       "      <td>0</td>\n",
       "      <td>129558990394402</td>\n",
       "      <td>4333442143339378</td>\n",
       "      <td>2019-11-13 12:35:43</td>\n",
       "      <td>https://www.facebook.com/khaosod/posts/4333442...</td>\n",
       "      <td>เพื่อนบ้านรังเกียจ ลูกไม่ยอมให้เงิน เพราะกลัวจ...</td>\n",
       "      <td>1415</td>\n",
       "      <td>190</td>\n",
       "      <td>1777</td>\n",
       "      <td>205</td>\n",
       "      <td>2</td>\n",
       "      <td>10</td>\n",
       "      <td>326</td>\n",
       "      <td>19</td>\n",
       "      <td>5</td>\n",
       "      <td>2019-11-13 14:40:02.211674</td>\n",
       "      <td>khaosod</td>\n",
       "    </tr>\n",
       "    <tr>\n",
       "      <th>1</th>\n",
       "      <td>1</td>\n",
       "      <td>129558990394402</td>\n",
       "      <td>4333407490009510</td>\n",
       "      <td>2019-11-13 12:24:11</td>\n",
       "      <td>https://www.facebook.com/khaosod/videos/122637...</td>\n",
       "      <td>เดือดจัด!! ฟอร์จูนเนอร์ ชนแล้วหนี มอไซค์ตามไล่...</td>\n",
       "      <td>12608</td>\n",
       "      <td>3811</td>\n",
       "      <td>15338</td>\n",
       "      <td>2309</td>\n",
       "      <td>2060</td>\n",
       "      <td>6</td>\n",
       "      <td>96</td>\n",
       "      <td>364</td>\n",
       "      <td>204</td>\n",
       "      <td>2019-11-13 14:40:02.211674</td>\n",
       "      <td>khaosod</td>\n",
       "    </tr>\n",
       "    <tr>\n",
       "      <th>2</th>\n",
       "      <td>2</td>\n",
       "      <td>129558990394402</td>\n",
       "      <td>4333341343349458</td>\n",
       "      <td>2019-11-13 12:15:32</td>\n",
       "      <td>https://www.facebook.com/khaosod/posts/4333341...</td>\n",
       "      <td>กลุ่มผู้สูงวัย ร้องบิ๊กตู่ ขอขึ้นเบี้ยยังชีพ</td>\n",
       "      <td>1392</td>\n",
       "      <td>50</td>\n",
       "      <td>1864</td>\n",
       "      <td>504</td>\n",
       "      <td>8</td>\n",
       "      <td>4</td>\n",
       "      <td>5</td>\n",
       "      <td>40</td>\n",
       "      <td>415</td>\n",
       "      <td>2019-11-13 14:40:02.211674</td>\n",
       "      <td>khaosod</td>\n",
       "    </tr>\n",
       "    <tr>\n",
       "      <th>3</th>\n",
       "      <td>3</td>\n",
       "      <td>129558990394402</td>\n",
       "      <td>4333333783350214</td>\n",
       "      <td>2019-11-13 12:10:38</td>\n",
       "      <td>https://www.facebook.com/khaosod/posts/4333333...</td>\n",
       "      <td>ทุ่มทุนสร้าง เคว้ง ไทยซีรีส์เรื่องแรก บนเน็ตฟล...</td>\n",
       "      <td>304</td>\n",
       "      <td>3</td>\n",
       "      <td>310</td>\n",
       "      <td>4</td>\n",
       "      <td>0</td>\n",
       "      <td>2</td>\n",
       "      <td>0</td>\n",
       "      <td>3</td>\n",
       "      <td>1</td>\n",
       "      <td>2019-11-13 14:40:02.211674</td>\n",
       "      <td>khaosod</td>\n",
       "    </tr>\n",
       "    <tr>\n",
       "      <th>4</th>\n",
       "      <td>4</td>\n",
       "      <td>129558990394402</td>\n",
       "      <td>4333330193350573</td>\n",
       "      <td>2019-11-13 12:05:03</td>\n",
       "      <td>https://www.facebook.com/khaosod/posts/4333330...</td>\n",
       "      <td>ร้านเสริมสวยกระเจิง จงอางยาว 3 เมตร แผ่แม่เบี้...</td>\n",
       "      <td>349</td>\n",
       "      <td>7</td>\n",
       "      <td>385</td>\n",
       "      <td>11</td>\n",
       "      <td>0</td>\n",
       "      <td>0</td>\n",
       "      <td>0</td>\n",
       "      <td>28</td>\n",
       "      <td>8</td>\n",
       "      <td>2019-11-13 14:40:02.211674</td>\n",
       "      <td>khaosod</td>\n",
       "    </tr>\n",
       "  </tbody>\n",
       "</table>\n",
       "</div>"
      ],
      "text/plain": [
       "   Unnamed: 0     post_page_id           post_id            post_time  \\\n",
       "0           0  129558990394402  4333442143339378  2019-11-13 12:35:43   \n",
       "1           1  129558990394402  4333407490009510  2019-11-13 12:24:11   \n",
       "2           2  129558990394402  4333341343349458  2019-11-13 12:15:32   \n",
       "3           3  129558990394402  4333333783350214  2019-11-13 12:10:38   \n",
       "4           4  129558990394402  4333330193350573  2019-11-13 12:05:03   \n",
       "\n",
       "                                           post_link  \\\n",
       "0  https://www.facebook.com/khaosod/posts/4333442...   \n",
       "1  https://www.facebook.com/khaosod/videos/122637...   \n",
       "2  https://www.facebook.com/khaosod/posts/4333341...   \n",
       "3  https://www.facebook.com/khaosod/posts/4333333...   \n",
       "4  https://www.facebook.com/khaosod/posts/4333330...   \n",
       "\n",
       "                                        post_message  post_like_count  \\\n",
       "0  เพื่อนบ้านรังเกียจ ลูกไม่ยอมให้เงิน เพราะกลัวจ...             1415   \n",
       "1  เดือดจัด!! ฟอร์จูนเนอร์ ชนแล้วหนี มอไซค์ตามไล่...            12608   \n",
       "2       กลุ่มผู้สูงวัย ร้องบิ๊กตู่ ขอขึ้นเบี้ยยังชีพ             1392   \n",
       "3  ทุ่มทุนสร้าง เคว้ง ไทยซีรีส์เรื่องแรก บนเน็ตฟล...              304   \n",
       "4  ร้านเสริมสวยกระเจิง จงอางยาว 3 เมตร แผ่แม่เบี้...              349   \n",
       "\n",
       "   post_share_count  post_reactor_count  post_comment_count  post_angry_count  \\\n",
       "0               190                1777                 205                 2   \n",
       "1              3811               15338                2309              2060   \n",
       "2                50                1864                 504                 8   \n",
       "3                 3                 310                   4                 0   \n",
       "4                 7                 385                  11                 0   \n",
       "\n",
       "   post_love_count  post_sad_count  post_wow_count  post_haha_count  \\\n",
       "0               10             326              19                5   \n",
       "1                6              96             364              204   \n",
       "2                4               5              40              415   \n",
       "3                2               0               3                1   \n",
       "4                0               0              28                8   \n",
       "\n",
       "              post_crawl_time page_name  \n",
       "0  2019-11-13 14:40:02.211674   khaosod  \n",
       "1  2019-11-13 14:40:02.211674   khaosod  \n",
       "2  2019-11-13 14:40:02.211674   khaosod  \n",
       "3  2019-11-13 14:40:02.211674   khaosod  \n",
       "4  2019-11-13 14:40:02.211674   khaosod  "
      ]
     },
     "execution_count": 1,
     "metadata": {},
     "output_type": "execute_result"
    }
   ],
   "source": [
    "import pandas as pd\n",
    "import csv\n",
    "\n",
    "path = '../crawl_data/khaosod.csv'\n",
    "\n",
    "data = pd.read_csv(path, encoding=\"utf8\") \n",
    "#data.shape\n",
    "data.head()"
   ]
  },
  {
   "cell_type": "code",
   "execution_count": 2,
   "metadata": {},
   "outputs": [
    {
     "data": {
      "text/plain": [
       "1644034"
      ]
     },
     "execution_count": 2,
     "metadata": {},
     "output_type": "execute_result"
    }
   ],
   "source": [
    "import csv\n",
    "\n",
    "path = '../crawl_data/post interaction/khaosod_post_interact.csv'\n",
    "\n",
    "data = pd.read_csv(path, encoding=\"utf8\") \n",
    "#data.shape\n",
    "#data.head()\n",
    "\n",
    "#love = data.loc[data['type'] == 'Love']\n",
    "#love.head()\n",
    "\n",
    "#post_url = data.loc[data['post_url'] == 'https://www.facebook.com/khaosod/posts/4333442143339378']\n",
    "#post_url.size\n",
    "#post_url.head()\n",
    "\n",
    "#user_url = data.loc[data['user_url'] == '/profile.php?id=100043671036759']\n",
    "#user_url.head()\n",
    "\n",
    "data.size"
   ]
  },
  {
   "cell_type": "code",
   "execution_count": 4,
   "metadata": {},
   "outputs": [
    {
     "name": "stdout",
     "output_type": "stream",
     "text": [
      "row: 1644034\n"
     ]
    },
    {
     "data": {
      "application/vnd.jupyter.widget-view+json": {
       "model_id": "f1c722efeb4a4d599fb0a80917f6297e",
       "version_major": 2,
       "version_minor": 0
      },
      "text/plain": [
       "HBox(children=(IntProgress(value=1, bar_style='info', max=1), HTML(value='')))"
      ]
     },
     "metadata": {},
     "output_type": "display_data"
    },
    {
     "name": "stdout",
     "output_type": "stream",
     "text": [
      "\n",
      "Finished!\n"
     ]
    }
   ],
   "source": [
    "from tqdm import tqdm, tqdm_notebook\n",
    "\n",
    "'''\n",
    "    map[user_url][post_user_type] = user_url\n",
    "'''\n",
    "mapper = {}\n",
    "\n",
    "print (\"row: %d\" % (data.size))\n",
    "\n",
    "for row in tqdm_notebook(data.iterrows()):\n",
    "    \n",
    "    post_url = row[1]['post_url']\n",
    "    type_t = row[1]['type']\n",
    "    user_url = row[1]['user_url']\n",
    "\n",
    "    if not post_url in mapper:\n",
    "        mapper[post_url] = {}\n",
    "\n",
    "    if not type_t in mapper[post_url]:\n",
    "        mapper[post_url][type_t] = []\n",
    "    \n",
    "    mapper[post_url][type_t].append(user_url)\n",
    "        \n",
    "print (\"Finished!\")"
   ]
  },
  {
   "cell_type": "code",
   "execution_count": 5,
   "metadata": {},
   "outputs": [
    {
     "data": {
      "text/plain": [
       "183"
      ]
     },
     "execution_count": 5,
     "metadata": {},
     "output_type": "execute_result"
    }
   ],
   "source": [
    "len(mapper)"
   ]
  },
  {
   "cell_type": "code",
   "execution_count": 6,
   "metadata": {},
   "outputs": [
    {
     "data": {
      "application/vnd.jupyter.widget-view+json": {
       "model_id": "055a3ad04a524a998d2809e791ee9a6c",
       "version_major": 2,
       "version_minor": 0
      },
      "text/plain": [
       "HBox(children=(IntProgress(value=0, max=183), HTML(value='')))"
      ]
     },
     "metadata": {},
     "output_type": "display_data"
    },
    {
     "name": "stdout",
     "output_type": "stream",
     "text": [
      "\n"
     ]
    }
   ],
   "source": [
    "# Create relation between users\n",
    "user_map = {}\n",
    "\n",
    "for post_url, post_data in tqdm_notebook(mapper.items()):\n",
    "    #print (post_url)\n",
    "    for type_k, type_data in post_data.items():\n",
    "        #print (type_k)\n",
    "        #print (len(type_data))\n",
    "        #print (type_data)\n",
    "        for user_id_i in type_data:\n",
    "            for user_id_j in type_data:\n",
    "                if not user_id_i in user_map:\n",
    "                    user_map[user_id_i] = {}\n",
    "                if not user_id_j in user_map[user_id_i]:\n",
    "                    user_map[user_id_i][user_id_j] = 0\n",
    "                    \n",
    "                user_map[user_id_i][user_id_j] += 1"
   ]
  },
  {
   "cell_type": "code",
   "execution_count": 9,
   "metadata": {},
   "outputs": [
    {
     "data": {
      "application/vnd.jupyter.widget-view+json": {
       "model_id": "73f0ffbd2cdd4aefae9da820cf310f0c",
       "version_major": 2,
       "version_minor": 0
      },
      "text/plain": [
       "HBox(children=(IntProgress(value=0, max=87787), HTML(value='')))"
      ]
     },
     "metadata": {},
     "output_type": "display_data"
    },
    {
     "name": "stdout",
     "output_type": "stream",
     "text": [
      "\n"
     ]
    }
   ],
   "source": [
    "w = csv.writer(open(\"user_map.csv\", \"w\"))\n",
    "for key, val in tqdm_notebook(user_map.items()):\n",
    "    w.writerow([key, val])"
   ]
  },
  {
   "cell_type": "code",
   "execution_count": null,
   "metadata": {},
   "outputs": [],
   "source": [
    "# Maybe, this needs csv reader to dict"
   ]
  },
  {
   "cell_type": "code",
   "execution_count": 11,
   "metadata": {},
   "outputs": [
    {
     "data": {
      "application/vnd.jupyter.widget-view+json": {
       "model_id": "28d91749eccf40cdbcd33f505afea787",
       "version_major": 2,
       "version_minor": 0
      },
      "text/plain": [
       "HBox(children=(IntProgress(value=0, max=87787), HTML(value='')))"
      ]
     },
     "metadata": {},
     "output_type": "display_data"
    },
    {
     "name": "stdout",
     "output_type": "stream",
     "text": [
      "\n"
     ]
    },
    {
     "data": {
      "text/html": [
       "<div>\n",
       "<style scoped>\n",
       "    .dataframe tbody tr th:only-of-type {\n",
       "        vertical-align: middle;\n",
       "    }\n",
       "\n",
       "    .dataframe tbody tr th {\n",
       "        vertical-align: top;\n",
       "    }\n",
       "\n",
       "    .dataframe thead th {\n",
       "        text-align: right;\n",
       "    }\n",
       "</style>\n",
       "<table border=\"1\" class=\"dataframe\">\n",
       "  <thead>\n",
       "    <tr style=\"text-align: right;\">\n",
       "      <th></th>\n",
       "      <th>user_i</th>\n",
       "      <th>user_j</th>\n",
       "      <th>intersec</th>\n",
       "      <th>i_not_intersec</th>\n",
       "      <th>j_not_intersec</th>\n",
       "      <th>jaccard_sim</th>\n",
       "      <th>overlap_coef</th>\n",
       "    </tr>\n",
       "  </thead>\n",
       "  <tbody>\n",
       "    <tr>\n",
       "      <th>0</th>\n",
       "      <td>/profile.php?id=100043671036759</td>\n",
       "      <td>/profile.php?id=100042177541728</td>\n",
       "      <td>10</td>\n",
       "      <td>17886</td>\n",
       "      <td>46836</td>\n",
       "      <td>0.000154</td>\n",
       "      <td>0.000559</td>\n",
       "    </tr>\n",
       "    <tr>\n",
       "      <th>1</th>\n",
       "      <td>/profile.php?id=100043671036759</td>\n",
       "      <td>/suwanna.chanklin.18</td>\n",
       "      <td>15</td>\n",
       "      <td>17881</td>\n",
       "      <td>47887</td>\n",
       "      <td>0.000228</td>\n",
       "      <td>0.000839</td>\n",
       "    </tr>\n",
       "    <tr>\n",
       "      <th>2</th>\n",
       "      <td>/profile.php?id=100043671036759</td>\n",
       "      <td>/pongsit.prombunchu</td>\n",
       "      <td>10</td>\n",
       "      <td>17886</td>\n",
       "      <td>28634</td>\n",
       "      <td>0.000215</td>\n",
       "      <td>0.000559</td>\n",
       "    </tr>\n",
       "    <tr>\n",
       "      <th>3</th>\n",
       "      <td>/profile.php?id=100043671036759</td>\n",
       "      <td>/profile.php?id=100034542546272</td>\n",
       "      <td>14</td>\n",
       "      <td>17882</td>\n",
       "      <td>59353</td>\n",
       "      <td>0.000181</td>\n",
       "      <td>0.000783</td>\n",
       "    </tr>\n",
       "    <tr>\n",
       "      <th>4</th>\n",
       "      <td>/profile.php?id=100043671036759</td>\n",
       "      <td>/profile.php?id=100033999286026</td>\n",
       "      <td>14</td>\n",
       "      <td>17882</td>\n",
       "      <td>56013</td>\n",
       "      <td>0.000189</td>\n",
       "      <td>0.000783</td>\n",
       "    </tr>\n",
       "  </tbody>\n",
       "</table>\n",
       "</div>"
      ],
      "text/plain": [
       "                            user_i                           user_j  intersec  \\\n",
       "0  /profile.php?id=100043671036759  /profile.php?id=100042177541728        10   \n",
       "1  /profile.php?id=100043671036759             /suwanna.chanklin.18        15   \n",
       "2  /profile.php?id=100043671036759              /pongsit.prombunchu        10   \n",
       "3  /profile.php?id=100043671036759  /profile.php?id=100034542546272        14   \n",
       "4  /profile.php?id=100043671036759  /profile.php?id=100033999286026        14   \n",
       "\n",
       "   i_not_intersec  j_not_intersec  jaccard_sim  overlap_coef  \n",
       "0           17886           46836     0.000154      0.000559  \n",
       "1           17881           47887     0.000228      0.000839  \n",
       "2           17886           28634     0.000215      0.000559  \n",
       "3           17882           59353     0.000181      0.000783  \n",
       "4           17882           56013     0.000189      0.000783  "
      ]
     },
     "execution_count": 11,
     "metadata": {},
     "output_type": "execute_result"
    }
   ],
   "source": [
    "from tqdm import tqdm, tqdm_notebook\n",
    "\n",
    "# Get similarity set\n",
    "out_data = []\n",
    "\n",
    "for user_i, user_i_dat in tqdm_notebook(user_map.items()):\n",
    "    i_action_count = len(user_map[user_i])\n",
    "    \n",
    "    if i_action_count < 10:\n",
    "        continue\n",
    "        \n",
    "    for user_j in user_map[user_i]:\n",
    "        \n",
    "        if user_i == user_j:\n",
    "            continue\n",
    "            \n",
    "        j_action_count = len(user_map[user_j])\n",
    "        if j_action_count < 10:\n",
    "            continue\n",
    "        \n",
    "        ij_action_count = user_map[user_i][user_j]\n",
    "        if ij_action_count < 10:\n",
    "            continue\n",
    "        \n",
    "        row = []\n",
    "        row.append(user_i)\n",
    "        row.append(user_j)\n",
    "        row.append(ij_action_count)\n",
    "        i_not_ij = i_action_count - ij_action_count\n",
    "        row.append(i_not_ij)\n",
    "        j_not_ij = j_action_count - ij_action_count\n",
    "        row.append(j_not_ij)\n",
    "        \n",
    "        # Get jaccard similarity\n",
    "        intersec = ij_action_count\n",
    "        union = i_not_ij + ij_action_count + j_not_ij\n",
    "        row.append(intersec / union)\n",
    "        \n",
    "        # Get overlapping coefficient\n",
    "        min_ij = min((i_not_ij, j_not_ij))\n",
    "        #print ('min_ij: %d' % min_ij)\n",
    "        row.append(intersec / min_ij)\n",
    "        \n",
    "        out_data.append(row)\n",
    "    \n",
    "df = pd.DataFrame(out_data, columns = [\"user_i\", \"user_j\", \"intersec\", \"i_not_intersec\", \"j_not_intersec\", \"jaccard_sim\", \"overlap_coef\"])\n",
    "df.head()"
   ]
  },
  {
   "cell_type": "code",
   "execution_count": 16,
   "metadata": {},
   "outputs": [
    {
     "data": {
      "text/plain": [
       "342738"
      ]
     },
     "execution_count": 16,
     "metadata": {},
     "output_type": "execute_result"
    }
   ],
   "source": [
    "len(out_data)"
   ]
  },
  {
   "cell_type": "code",
   "execution_count": 24,
   "metadata": {
    "scrolled": true
   },
   "outputs": [
    {
     "data": {
      "application/vnd.jupyter.widget-view+json": {
       "model_id": "9588f6e5e44f4d8aabfce8b8fe78d7e6",
       "version_major": 2,
       "version_minor": 0
      },
      "text/plain": [
       "HBox(children=(IntProgress(value=0, max=342738), HTML(value='')))"
      ]
     },
     "metadata": {},
     "output_type": "display_data"
    },
    {
     "name": "stdout",
     "output_type": "stream",
     "text": [
      "\n"
     ]
    }
   ],
   "source": [
    "with open('user_similarity.csv', 'w') as csvfile:\n",
    "    \n",
    "    # Create file writer\n",
    "    w = csv.writer(csvfile, delimiter=',')\n",
    "    \n",
    "    # Write header\n",
    "    h = [\"user_i\", \"user_j\", \"intersec\", \"i_not_intersec\", \"j_not_intersec\", \"jaccard_sim\", \"overlap_coef\"]\n",
    "    w.writerow(h)\n",
    "    \n",
    "    # Write row\n",
    "    for i in tqdm_notebook(range(len(out_data))):\n",
    "        row = out_data[i]\n",
    "        w.writerow(row)"
   ]
  },
  {
   "cell_type": "code",
   "execution_count": 25,
   "metadata": {},
   "outputs": [],
   "source": [
    "# Might need a file reader for user similarity"
   ]
  },
  {
   "cell_type": "code",
   "execution_count": 26,
   "metadata": {},
   "outputs": [
    {
     "data": {
      "text/html": [
       "<div>\n",
       "<style scoped>\n",
       "    .dataframe tbody tr th:only-of-type {\n",
       "        vertical-align: middle;\n",
       "    }\n",
       "\n",
       "    .dataframe tbody tr th {\n",
       "        vertical-align: top;\n",
       "    }\n",
       "\n",
       "    .dataframe thead th {\n",
       "        text-align: right;\n",
       "    }\n",
       "</style>\n",
       "<table border=\"1\" class=\"dataframe\">\n",
       "  <thead>\n",
       "    <tr style=\"text-align: right;\">\n",
       "      <th></th>\n",
       "      <th>user_i</th>\n",
       "      <th>user_j</th>\n",
       "      <th>intersec</th>\n",
       "      <th>i_not_intersec</th>\n",
       "      <th>j_not_intersec</th>\n",
       "      <th>jaccard_sim</th>\n",
       "      <th>overlap_coef</th>\n",
       "    </tr>\n",
       "  </thead>\n",
       "  <tbody>\n",
       "    <tr>\n",
       "      <th>0</th>\n",
       "      <td>/profile.php?id=100043671036759</td>\n",
       "      <td>/profile.php?id=100042177541728</td>\n",
       "      <td>10</td>\n",
       "      <td>17886</td>\n",
       "      <td>46836</td>\n",
       "      <td>0.000154</td>\n",
       "      <td>0.000559</td>\n",
       "    </tr>\n",
       "    <tr>\n",
       "      <th>1</th>\n",
       "      <td>/profile.php?id=100043671036759</td>\n",
       "      <td>/suwanna.chanklin.18</td>\n",
       "      <td>15</td>\n",
       "      <td>17881</td>\n",
       "      <td>47887</td>\n",
       "      <td>0.000228</td>\n",
       "      <td>0.000839</td>\n",
       "    </tr>\n",
       "    <tr>\n",
       "      <th>2</th>\n",
       "      <td>/profile.php?id=100043671036759</td>\n",
       "      <td>/pongsit.prombunchu</td>\n",
       "      <td>10</td>\n",
       "      <td>17886</td>\n",
       "      <td>28634</td>\n",
       "      <td>0.000215</td>\n",
       "      <td>0.000559</td>\n",
       "    </tr>\n",
       "    <tr>\n",
       "      <th>3</th>\n",
       "      <td>/profile.php?id=100043671036759</td>\n",
       "      <td>/profile.php?id=100034542546272</td>\n",
       "      <td>14</td>\n",
       "      <td>17882</td>\n",
       "      <td>59353</td>\n",
       "      <td>0.000181</td>\n",
       "      <td>0.000783</td>\n",
       "    </tr>\n",
       "    <tr>\n",
       "      <th>4</th>\n",
       "      <td>/profile.php?id=100043671036759</td>\n",
       "      <td>/profile.php?id=100033999286026</td>\n",
       "      <td>14</td>\n",
       "      <td>17882</td>\n",
       "      <td>56013</td>\n",
       "      <td>0.000189</td>\n",
       "      <td>0.000783</td>\n",
       "    </tr>\n",
       "  </tbody>\n",
       "</table>\n",
       "</div>"
      ],
      "text/plain": [
       "                            user_i                           user_j  intersec  \\\n",
       "0  /profile.php?id=100043671036759  /profile.php?id=100042177541728        10   \n",
       "1  /profile.php?id=100043671036759             /suwanna.chanklin.18        15   \n",
       "2  /profile.php?id=100043671036759              /pongsit.prombunchu        10   \n",
       "3  /profile.php?id=100043671036759  /profile.php?id=100034542546272        14   \n",
       "4  /profile.php?id=100043671036759  /profile.php?id=100033999286026        14   \n",
       "\n",
       "   i_not_intersec  j_not_intersec  jaccard_sim  overlap_coef  \n",
       "0           17886           46836     0.000154      0.000559  \n",
       "1           17881           47887     0.000228      0.000839  \n",
       "2           17886           28634     0.000215      0.000559  \n",
       "3           17882           59353     0.000181      0.000783  \n",
       "4           17882           56013     0.000189      0.000783  "
      ]
     },
     "execution_count": 26,
     "metadata": {},
     "output_type": "execute_result"
    }
   ],
   "source": [
    "df = pd.DataFrame(out_data, columns = [\"user_i\", \"user_j\", \"intersec\", \"i_not_intersec\", \"j_not_intersec\", \"jaccard_sim\", \"overlap_coef\"])\n",
    "df.head()"
   ]
  },
  {
   "cell_type": "code",
   "execution_count": 28,
   "metadata": {},
   "outputs": [
    {
     "data": {
      "text/html": [
       "<div>\n",
       "<style scoped>\n",
       "    .dataframe tbody tr th:only-of-type {\n",
       "        vertical-align: middle;\n",
       "    }\n",
       "\n",
       "    .dataframe tbody tr th {\n",
       "        vertical-align: top;\n",
       "    }\n",
       "\n",
       "    .dataframe thead th {\n",
       "        text-align: right;\n",
       "    }\n",
       "</style>\n",
       "<table border=\"1\" class=\"dataframe\">\n",
       "  <thead>\n",
       "    <tr style=\"text-align: right;\">\n",
       "      <th></th>\n",
       "      <th>user_i</th>\n",
       "      <th>user_j</th>\n",
       "      <th>intersec</th>\n",
       "      <th>i_not_intersec</th>\n",
       "      <th>j_not_intersec</th>\n",
       "      <th>jaccard_sim</th>\n",
       "      <th>overlap_coef</th>\n",
       "    </tr>\n",
       "  </thead>\n",
       "  <tbody>\n",
       "    <tr>\n",
       "      <th>127368</th>\n",
       "      <td>/maewmeaw2560</td>\n",
       "      <td>/view.greddy</td>\n",
       "      <td>16</td>\n",
       "      <td>38348</td>\n",
       "      <td>4046</td>\n",
       "      <td>0.000377</td>\n",
       "      <td>0.003955</td>\n",
       "    </tr>\n",
       "    <tr>\n",
       "      <th>242528</th>\n",
       "      <td>/profile.php?id=100007268886811</td>\n",
       "      <td>/view.greddy</td>\n",
       "      <td>16</td>\n",
       "      <td>49331</td>\n",
       "      <td>4046</td>\n",
       "      <td>0.000300</td>\n",
       "      <td>0.003955</td>\n",
       "    </tr>\n",
       "    <tr>\n",
       "      <th>341448</th>\n",
       "      <td>/view.greddy</td>\n",
       "      <td>/profile.php?id=100007318419813</td>\n",
       "      <td>16</td>\n",
       "      <td>4046</td>\n",
       "      <td>45350</td>\n",
       "      <td>0.000324</td>\n",
       "      <td>0.003955</td>\n",
       "    </tr>\n",
       "    <tr>\n",
       "      <th>341446</th>\n",
       "      <td>/view.greddy</td>\n",
       "      <td>/profile.php?id=100007804512872</td>\n",
       "      <td>16</td>\n",
       "      <td>4046</td>\n",
       "      <td>55791</td>\n",
       "      <td>0.000267</td>\n",
       "      <td>0.003955</td>\n",
       "    </tr>\n",
       "    <tr>\n",
       "      <th>341435</th>\n",
       "      <td>/view.greddy</td>\n",
       "      <td>/profile.php?id=100041918164293</td>\n",
       "      <td>16</td>\n",
       "      <td>4046</td>\n",
       "      <td>48079</td>\n",
       "      <td>0.000307</td>\n",
       "      <td>0.003955</td>\n",
       "    </tr>\n",
       "  </tbody>\n",
       "</table>\n",
       "</div>"
      ],
      "text/plain": [
       "                                 user_i                           user_j  \\\n",
       "127368                    /maewmeaw2560                     /view.greddy   \n",
       "242528  /profile.php?id=100007268886811                     /view.greddy   \n",
       "341448                     /view.greddy  /profile.php?id=100007318419813   \n",
       "341446                     /view.greddy  /profile.php?id=100007804512872   \n",
       "341435                     /view.greddy  /profile.php?id=100041918164293   \n",
       "\n",
       "        intersec  i_not_intersec  j_not_intersec  jaccard_sim  overlap_coef  \n",
       "127368        16           38348            4046     0.000377      0.003955  \n",
       "242528        16           49331            4046     0.000300      0.003955  \n",
       "341448        16            4046           45350     0.000324      0.003955  \n",
       "341446        16            4046           55791     0.000267      0.003955  \n",
       "341435        16            4046           48079     0.000307      0.003955  "
      ]
     },
     "execution_count": 28,
     "metadata": {},
     "output_type": "execute_result"
    }
   ],
   "source": [
    "#sort\n",
    "df_by_overlap_coef = df.sort_values(['overlap_coef'], ascending=[0])\n",
    "df_by_overlap_coef.head()"
   ]
  },
  {
   "cell_type": "code",
   "execution_count": null,
   "metadata": {},
   "outputs": [],
   "source": []
  }
 ],
 "metadata": {
  "kernelspec": {
   "display_name": "Python 3",
   "language": "python",
   "name": "python3"
  },
  "language_info": {
   "codemirror_mode": {
    "name": "ipython",
    "version": 3
   },
   "file_extension": ".py",
   "mimetype": "text/x-python",
   "name": "python",
   "nbconvert_exporter": "python",
   "pygments_lexer": "ipython3",
   "version": "3.7.3"
  }
 },
 "nbformat": 4,
 "nbformat_minor": 2
}
