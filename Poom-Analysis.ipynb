{
 "cells": [
  {
   "cell_type": "markdown",
   "metadata": {},
   "source": [
    "# Raw"
   ]
  },
  {
   "cell_type": "code",
   "execution_count": 394,
   "metadata": {},
   "outputs": [],
   "source": [
    "import requests\n",
    "import re\n",
    "import html\n",
    "import json\n",
    "from bs4 import BeautifulSoup\n",
    "import pandas as pd"
   ]
  },
  {
   "cell_type": "code",
   "execution_count": 8,
   "metadata": {},
   "outputs": [],
   "source": [
    "def getPostInfosFromContent(content):\n",
    "    jsonDataArray = re.findall(r'\\{\\\"result\\\"\\:\\{\\\"data.*?,\\\"variables', content)\n",
    "    #ex. {\"result\": [get this result], \"variables\": [ignored]}\n",
    "    posts = {}\n",
    "    for jsonData in jsonDataArray:\n",
    "        jsonData = jsonData[10: -31]\n",
    "        try:\n",
    "            data = json.loads(jsonData)['data']['feedback']\n",
    "            commentsInfo = data['display_comments']['edges']\n",
    "            comments = []\n",
    "            for comment in commentsInfo:\n",
    "                comment = comment['node']\n",
    "                if comment['body'] is not None:\n",
    "                    comments.append({\n",
    "                        'id': comment['id'],\n",
    "                        'time': comment['created_time'],\n",
    "#                         'author': comment['author'], # deep information of user\n",
    "                        'message': comment['body']['text'],\n",
    "                        'like': comment['feedback']['reactors']['count']\n",
    "                    })\n",
    "            actorId = data['owning_profile']['id']\n",
    "            postId = data['share_fbid']\n",
    "            posts['{}_{}'.format(actorId, postId)] = {\n",
    "                'like': data['reaction_count']['count'],\n",
    "                'share': data['share_count']['count'],\n",
    "                'comment': data['display_comments_count']['count'],\n",
    "                'commentsHighlight': comments\n",
    "            }\n",
    "        except:\n",
    "            continue\n",
    "    return posts"
   ]
  },
  {
   "cell_type": "code",
   "execution_count": 9,
   "metadata": {},
   "outputs": [],
   "source": [
    "def getPostsFromContent(content, postInfos):\n",
    "    soup = BeautifulSoup(content, 'html.parser')\n",
    "    divs = soup.find_all('div', {'class': '_5pcr userContentWrapper'})\n",
    "    posts = []\n",
    "    for div in divs:\n",
    "        try:\n",
    "            posts_id = div.find_all('div', {'class': '_5pcp _5lel _2jyu _232_'})\n",
    "            posts_time = div.find_all('span', {'class': 'fsm fwn fcg'})\n",
    "            posts_link = div.find_all('a', {'class': '_5pcq'})\n",
    "            posts_text = div.find_all('div', {'class': '_5pbx userContent _3576'})\n",
    "            postIds = [re.search(r'_[0-9]+;[0-9]+;', div['id']).group()[1:-1].replace(';', '_') for div in posts_id]\n",
    "            postTimes = [int(span.abbr['data-utime']) for span in posts_time]\n",
    "            postLinks = ['https://www.facebook.com' + a['href'] for a in posts_link]\n",
    "            postMessages = []\n",
    "            for div in posts_text:\n",
    "                for span in div.find_all('span', {'class': 'text_exposed_hide'}):\n",
    "                    span.decompose()\n",
    "                for span in div.find_all('span', {'class': 'see_more_link_inner'}):\n",
    "                    span.decompose()\n",
    "                postMessages.append(div.get_text())\n",
    "            posts.append({\n",
    "                'id': postIds[0],\n",
    "                'time': postTimes[0],\n",
    "                'link': postLinks[0],\n",
    "                'message': postMessages[0],\n",
    "                'like': postInfos[postIds[0]]['like'],\n",
    "                'share': postInfos[postIds[0]]['share'],\n",
    "                'comment': postInfos[postIds[0]]['comment'],\n",
    "                'commentsHighlight': postInfos[postIds[0]]['commentsHighlight']\n",
    "            })\n",
    "        except:\n",
    "#             print('Exception')\n",
    "            continue\n",
    "    return posts"
   ]
  },
  {
   "cell_type": "code",
   "execution_count": 10,
   "metadata": {},
   "outputs": [
    {
     "data": {
      "text/plain": [
       "'/pages_reaction_units/more/?page_id=129558990394402&cursor=%7B%22timeline_cursor%22%3A%22AQHRulO8K-JNrfe80CH86ocODRGjYm_hEryIfGnGWbQOJXgsj58wTfE8lKQ9n-Uy57We7Gf1gmECPWQuOGP8r9YWPGi0M5wkMtb9vXhfiAsPy_EmObMdjrlLmP5a6ujEpTqQ%22%2C%22timeline_section_cursor%22%3A%7B%7D%2C%22has_next_page%22%3Atrue%7D&surface=www_pages_posts&unit_count=8'"
      ]
     },
     "execution_count": 10,
     "metadata": {},
     "output_type": "execute_result"
    }
   ],
   "source": [
    "pageNameOrId = 'khaosod' #'MorningNewsTV3' #'thairath' #'khaosod' \n",
    "source_url = 'https://www.facebook.com/pg/%s/posts/' % pageNameOrId\n",
    "content = html.unescape(requests.get(source_url).text)\n",
    "postInfos = getPostInfosFromContent(content)\n",
    "posts = getPostsFromContent(content, postInfos)\n",
    "urlResult = re.search(r'\\/pages_reaction_units.*?unit_count=8', content).group()\n",
    "# print(len(posts), posts[-1])\n",
    "urlResult"
   ]
  },
  {
   "cell_type": "code",
   "execution_count": 9,
   "metadata": {},
   "outputs": [
    {
     "name": "stdout",
     "output_type": "stream",
     "text": [
      "2019-07-01 00:00:00\n",
      "1561914000\n",
      "1568653200\n"
     ]
    }
   ],
   "source": [
    "import datetime \n",
    "import time\n",
    "now = datetime.datetime.now()\n",
    "firstofjuly = now.replace(month=7,day=1,hour=0, minute=0, second=0, microsecond=0)\n",
    "print(firstofjuly)\n",
    "firstofjuly=int(time.mktime(firstofjuly.timetuple()))\n",
    "print(firstofjuly)\n",
    "\n",
    "testdate = now.replace(month=9,day=17,hour=0, minute=0, second=0, microsecond=0)\n",
    "print(int(time.mktime(testdate.timetuple())))"
   ]
  },
  {
   "cell_type": "code",
   "execution_count": null,
   "metadata": {},
   "outputs": [],
   "source": [
    "# for i in range(5):\n",
    "  while True:\n",
    "    try:\n",
    "        next_url = 'https://www.facebook.com%s&__a=1' % urlResult\n",
    "        tmp_content = requests.get(next_url).text[9:]\n",
    "        next_content = json.loads(tmp_content)\n",
    "        content = html.unescape(next_content['domops'][0][3]['__html'])\n",
    "        postInfos = getPostInfosFromContent(tmp_content)\n",
    "        next_posts = getPostsFromContent(content, postInfos)\n",
    "        filtered_post = [next_post for next_post in next_posts if next_post['time'] > firstofjuly]\n",
    "        out_post = [next_post for next_post in next_posts if next_post['time'] <= firstofjuly]\n",
    "        posts += filtered_post\n",
    "        if len(filtered_post) < len(next_posts):\n",
    "            print('End by date')\n",
    "            break\n",
    "        try:\n",
    "            urlResult = re.search(r'\\/pages_reaction_units.*?unit_count=8', content).group()\n",
    "        except:\n",
    "            print('end')\n",
    "            break\n",
    "    except:\n",
    "        print(next_url)\n",
    "        continue\n",
    "print(len(posts), posts[-1])"
   ]
  },
  {
   "cell_type": "code",
   "execution_count": null,
   "metadata": {
    "collapsed": true
   },
   "outputs": [
    {
     "name": "stdout",
     "output_type": "stream",
     "text": [
      "/pages_reaction_units/more/?page_id=129558990394402&cursor=%7B%22timeline_cursor%22%3A%22AQHRwjQt8lPxNrlQgNdtk0GHOWNUe9T8Yv6ZpTYNBAHwHJdnAoViNhAZdkHsit6Tc5DMiGGkDfBw1o8LroUtm8ResfaHtW0cJmHEUAa_Nkvq1ZWlnUxEF-Ax-q2J6YPXLn5e%22%2C%22timeline_section_cursor%22%3A%7B%7D%2C%22has_next_page%22%3Atrue%7D&surface=www_pages_posts&unit_count=8\n",
      "/pages_reaction_units/more/?page_id=129558990394402&cursor=%7B%22timeline_cursor%22%3A%22AQHRCQx_3q3WUpPHfq2I-lk2vzjYjZUkwpAiXK2c3sPH_fn17WEf6UiEKZhQlaWFOuSJ1T_Xk24Y7HYpoDwdBeAHSbwJ6LNCff9meznikz04gmNCJvsNbLdhOlQykCXCGSRf%22%2C%22timeline_section_cursor%22%3A%7B%7D%2C%22has_next_page%22%3Atrue%7D&surface=www_pages_posts&unit_count=8\n",
      "/pages_reaction_units/more/?page_id=129558990394402&cursor=%7B%22timeline_cursor%22%3A%22AQHRZ5_hIEKtgeOk4rAq_Ng3xm9dh_rHezou6cD5edF8ZAUBPB1ICzyG2Z69_RxCAtAbdJrj8X1EV7RzaY9h1pY82RFG7szke4rz_MOjLmDPR-1w2pTSGujLiZHFX5LvFnDT%22%2C%22timeline_section_cursor%22%3A%7B%7D%2C%22has_next_page%22%3Atrue%7D&surface=www_pages_posts&unit_count=8\n",
      "/pages_reaction_units/more/?page_id=129558990394402&cursor=%7B%22timeline_cursor%22%3A%22AQHRN_-RsZrBpof8ZaAbjYYILANSMwyvWzodTdnSrdjDG9-t2g7MmpXdLoYtCL71zsx0a9tvo4C922RyVhcmMx6DrC_GrvUWkr_0W_YIRVrGGn0kf2ONik4RfZ3iakg6bz-e%22%2C%22timeline_section_cursor%22%3A%7B%7D%2C%22has_next_page%22%3Atrue%7D&surface=www_pages_posts&unit_count=8\n",
      "/pages_reaction_units/more/?page_id=129558990394402&cursor=%7B%22timeline_cursor%22%3A%22AQHR_u47ik-A4J9yuP2X__LFtdKtiF1aN6ZhniD15RzbcGTQZlLKpiRKs4I4Vwr0I15O1J8jtPUthivgt62_v1ggD5AsbQ6_ffp6u9Y3W4xSwxcqtWi_ztxIGdHUr-CwB6iz%22%2C%22timeline_section_cursor%22%3A%7B%7D%2C%22has_next_page%22%3Atrue%7D&surface=www_pages_posts&unit_count=8\n",
      "/pages_reaction_units/more/?page_id=129558990394402&cursor=%7B%22timeline_cursor%22%3A%22AQHRyGIQLm7nE_isYQG8wgV9ctYnkYLFIYEBCd3aoB0ouxdzOVNwSedo2d9kViIcNuYbE5qVgYNIfXAAglEmL72n63BPCP7JNAOYgm8T5nWpHN6YcZgCgxLgCgxqKe3csJ10%22%2C%22timeline_section_cursor%22%3A%7B%7D%2C%22has_next_page%22%3Atrue%7D&surface=www_pages_posts&unit_count=8\n",
      "/pages_reaction_units/more/?page_id=129558990394402&cursor=%7B%22timeline_cursor%22%3A%22AQHRck9jQFYIjxmqks5zcOw77l_sqbPWwnF_QF8mDuT_kcVQkIl1JjaobL5Z6o4lmK7c6MqLw8ahIJz_l0G8766aCUDnHSci2KH5HUMMM_6rU4W2F9GCmFGIlmKms-whYJYt%22%2C%22timeline_section_cursor%22%3A%7B%7D%2C%22has_next_page%22%3Atrue%7D&surface=www_pages_posts&unit_count=8\n",
      "/pages_reaction_units/more/?page_id=129558990394402&cursor=%7B%22timeline_cursor%22%3A%22AQHRLgOCQtYb61dsZqoYS1tPtX1ibgQkN1g0ZdpbxrWr0kN8qHbWvZziPfEn52Q3A1Ytfr-BkbSTk4wicff6BxrmITyNjW9piXoqt5z5YnLn1WNWK_lLpmn6DR5JVL3UmuWz%22%2C%22timeline_section_cursor%22%3A%7B%7D%2C%22has_next_page%22%3Atrue%7D&surface=www_pages_posts&unit_count=8\n",
      "/pages_reaction_units/more/?page_id=129558990394402&cursor=%7B%22timeline_cursor%22%3A%22AQHRfzc_rjghP5pLz9Yu3a28HSYU0MiBqaxosgCw2ndL-IlKll6lyiRqyDfBVCYzunBdm6rrm_-Y_CYmRy8xygx7BnUR6Gc1rmYOKmGh8KrTl77gYhtYYeRviHOBy8wf-KvL%22%2C%22timeline_section_cursor%22%3A%7B%7D%2C%22has_next_page%22%3Atrue%7D&surface=www_pages_posts&unit_count=8\n",
      "/pages_reaction_units/more/?page_id=129558990394402&cursor=%7B%22timeline_cursor%22%3A%22AQHRGlVexK0olhMvkGb2eRQY4wg9mkKcc5AoJQTMJLUH6Q2C7clK5WMhDi9VdsotBhvu8TAatmfdaQjiCsHnfHA8k7tljhpVA7xxtD8x0wYjQfDyWA1TuGD45zkQeysUipdO%22%2C%22timeline_section_cursor%22%3A%7B%7D%2C%22has_next_page%22%3Atrue%7D&surface=www_pages_posts&unit_count=8\n",
      "/pages_reaction_units/more/?page_id=129558990394402&cursor=%7B%22timeline_cursor%22%3A%22AQHRqu9uNIeBx8toeZe_OIf2A074jJIpHujfeItQOoyQBl2qeRjPn6vINR3-C0rgzbiF9FKx-fCtwFg1Zq-p9Jk1XYOTknfUFo6txRwmzVij053ZXr4Qlecg6ClTV0ueM4p0%22%2C%22timeline_section_cursor%22%3A%7B%7D%2C%22has_next_page%22%3Atrue%7D&surface=www_pages_posts&unit_count=8\n",
      "/pages_reaction_units/more/?page_id=129558990394402&cursor=%7B%22timeline_cursor%22%3A%22AQHRsMcsEUwRedaZQJ14UCTvRrSn1sAPAG84ciwmYF5w4fFnRvO-JQJ6zYP_gfbF5dcevYnLbVLrBZ16ihUHZontB3SlWOd7Zcj9KdbRhsmM3H6q78gtlWPZ9zJkuCL5eMqh%22%2C%22timeline_section_cursor%22%3A%7B%7D%2C%22has_next_page%22%3Atrue%7D&surface=www_pages_posts&unit_count=8\n",
      "/pages_reaction_units/more/?page_id=129558990394402&cursor=%7B%22timeline_cursor%22%3A%22AQHRhvCMECPpNhGQbNt4aaWx2yJjJ4QNhqCZRhcJo3bNjeTqAUYqiIN5vo0mfdL9vIBeWyP0yumLcHB5WFFFumRmAVCfGhl4FbTn1waU6RTg2lyMqSGRVcYvpajhZzE6YO4Y%22%2C%22timeline_section_cursor%22%3A%7B%7D%2C%22has_next_page%22%3Atrue%7D&surface=www_pages_posts&unit_count=8\n",
      "/pages_reaction_units/more/?page_id=129558990394402&cursor=%7B%22timeline_cursor%22%3A%22AQHRRuCzXY0n88CE03kbgbszDNhhNJlw37TJBrkgYdf2gdWOpY0R54mR75kNuaZzcW63uLq-6VXJX-6UwjsEvHjyOqfgqJ0NuZQr29YwlJHnS8dWwF0TeWF0yYCwXXIybfaQ%22%2C%22timeline_section_cursor%22%3A%7B%7D%2C%22has_next_page%22%3Atrue%7D&surface=www_pages_posts&unit_count=8\n",
      "https://www.facebook.com/pages_reaction_units/more/?page_id=129558990394402&cursor=%7B%22timeline_cursor%22%3A%22AQHRRuCzXY0n88CE03kbgbszDNhhNJlw37TJBrkgYdf2gdWOpY0R54mR75kNuaZzcW63uLq-6VXJX-6UwjsEvHjyOqfgqJ0NuZQr29YwlJHnS8dWwF0TeWF0yYCwXXIybfaQ%22%2C%22timeline_section_cursor%22%3A%7B%7D%2C%22has_next_page%22%3Atrue%7D&surface=www_pages_posts&unit_count=8&__a=1\n",
      "/pages_reaction_units/more/?page_id=129558990394402&cursor=%7B%22timeline_cursor%22%3A%22AQHRfEAGLeuvXr93s5BWvMxHYG0x--UGHtDhCDKOR-2aERxmaOQmXPYKyQ_uhFSaQt878JiYuMo3HRY5W5O7MC0CB8cguudwttEsuxnvGFC9IDiTQdFmWxz_SzYLC2jnBW1S%22%2C%22timeline_section_cursor%22%3A%7B%7D%2C%22has_next_page%22%3Atrue%7D&surface=www_pages_posts&unit_count=8\n",
      "/pages_reaction_units/more/?page_id=129558990394402&cursor=%7B%22timeline_cursor%22%3A%22AQHRf8zmyf4b6IMrfDUkeUutov1UoZDFlQAHm1cRSnvNSlUxa4z9Tb26sRKio8kNp_EwL8lKSBRnPAucTjxIcp6b4AvicO2GbsYt-ddHfhKINYO-SDy03uxm29a6HDDOykdn%22%2C%22timeline_section_cursor%22%3A%7B%7D%2C%22has_next_page%22%3Atrue%7D&surface=www_pages_posts&unit_count=8\n",
      "/pages_reaction_units/more/?page_id=129558990394402&cursor=%7B%22timeline_cursor%22%3A%22AQHRCvO2ScnKJOat5lky-ngQh3bvcs1BgwCp0hzUfdVytjzx4LsPhcxd_KkYmRvSI4nAR0Aa_WafqtjWo_aJO72Xcauqx7sRtz1OjyP8HTnubiz84bReHt43VRYNYMrG8iK7%22%2C%22timeline_section_cursor%22%3A%7B%7D%2C%22has_next_page%22%3Atrue%7D&surface=www_pages_posts&unit_count=8\n",
      "/pages_reaction_units/more/?page_id=129558990394402&cursor=%7B%22timeline_cursor%22%3A%22AQHRmBnk1IphrMm2uuyeK8YnuY86jJkHNBqlOBJbl76P7MFUv8U0K68BEGz_s96ZoOFE2hVw3SpVgo4Udnvng3SJ617hveHhgquUpNCgvILi8H2eiVn7cvHbfzL39Ci29tBj%22%2C%22timeline_section_cursor%22%3A%7B%7D%2C%22has_next_page%22%3Atrue%7D&surface=www_pages_posts&unit_count=8\n",
      "/pages_reaction_units/more/?page_id=129558990394402&cursor=%7B%22timeline_cursor%22%3A%22AQHRqIkMbhwjCHci7BZLq55jIILqiiAjnhdtsC60z3zkS7t10bfbQZ_dY3hT93Q8d1lUAZYaKFb28FgFeezeFhynN3oNrfjenivyQdi0xRTITSTtRSHaiNOZ1jv0_42otoje%22%2C%22timeline_section_cursor%22%3A%7B%7D%2C%22has_next_page%22%3Atrue%7D&surface=www_pages_posts&unit_count=8\n",
      "/pages_reaction_units/more/?page_id=129558990394402&cursor=%7B%22timeline_cursor%22%3A%22AQHR5AROqpNAZhg2feEjJMNwoKsB7KBDt9j6PFRMPIyRqrrJTF2HACJgtl8Yv_VhvWF5NmCeVcMkZqf24xTlncrsJ92tvbfZGwPfxTv290scFK-AVuahPHgFLhYLSYSK6rvL%22%2C%22timeline_section_cursor%22%3A%7B%7D%2C%22has_next_page%22%3Atrue%7D&surface=www_pages_posts&unit_count=8\n",
      "/pages_reaction_units/more/?page_id=129558990394402&cursor=%7B%22timeline_cursor%22%3A%22AQHROrR1hC5WPknOXVJM_NmkGvdisBdBj-Vs47h8fflIPRS18Q6vQi7IjJNrVFXBuapxDvb-WuFO8T1nyeaTlgyJJ7d71cjHB17fH1l8hYR_lJnHoAvJFdqPvnTXKTAzBoZQ%22%2C%22timeline_section_cursor%22%3A%7B%7D%2C%22has_next_page%22%3Atrue%7D&surface=www_pages_posts&unit_count=8\n",
      "/pages_reaction_units/more/?page_id=129558990394402&cursor=%7B%22timeline_cursor%22%3A%22AQHRHKrlqLwq4OjqVWtjnzI6gDeg6Fw10A-nHmdYegjUlN5CO-14DoyYKlFGu6cRMoZZl9Co7biwl3S_XEcg3iEdPHNjlqG8XUz4TjWS-0pAAKNeDUG4S3pYK5yr6dR5Oi6r%22%2C%22timeline_section_cursor%22%3A%7B%7D%2C%22has_next_page%22%3Atrue%7D&surface=www_pages_posts&unit_count=8\n",
      "/pages_reaction_units/more/?page_id=129558990394402&cursor=%7B%22timeline_cursor%22%3A%22AQHReJcI3hlJqyk0quuyOznR5Lhy3_diZsI6SX--fZMl41_kF3c2f9yMc_XbaU3-FR-ROVRjAPfgD0usr7C4PBJoHe4vI9z22SdYZnHomNo3VVW2p3Y35I2KL53bROAWRzCu%22%2C%22timeline_section_cursor%22%3A%7B%7D%2C%22has_next_page%22%3Atrue%7D&surface=www_pages_posts&unit_count=8\n",
      "/pages_reaction_units/more/?page_id=129558990394402&cursor=%7B%22timeline_cursor%22%3A%22AQHROUsPjWJ8M1al2yZvdgWT9Kw_IrYI5CvY5gnNGnEyoFzrpho646uZZsQcex0RVkvxzqnYMiNx1FO6Irj8loMKC2l7XVpL65quSMwEoDsUuFte5HZhQDRmb93G_wiXP52d%22%2C%22timeline_section_cursor%22%3A%7B%7D%2C%22has_next_page%22%3Atrue%7D&surface=www_pages_posts&unit_count=8\n"
     ]
    },
    {
     "name": "stdout",
     "output_type": "stream",
     "text": [
      "/pages_reaction_units/more/?page_id=129558990394402&cursor=%7B%22timeline_cursor%22%3A%22AQHRjN8ZUYhOsHrjkFlHNn77EtNFxPFQRVaFIzcyKxDP2v_sqvsYEEUgATGcyTd7ryAYq2ZAdYJ8lsD7lIWSsbw1XB4s-8f_EHzFdVDRxEulk9K7w-M78T0lM07BH9U5f_eR%22%2C%22timeline_section_cursor%22%3A%7B%7D%2C%22has_next_page%22%3Atrue%7D&surface=www_pages_posts&unit_count=8\n",
      "/pages_reaction_units/more/?page_id=129558990394402&cursor=%7B%22timeline_cursor%22%3A%22AQHRyUY-wGEsiAHBWa17n4jzM4bPi_y8hdq3YzFXAbSkBlLX_0KKTwKcrO0oNn6tAubeDB3poXXjbCbbDM7TV2baZLvZv4z2Yi9mts6Qg_4T3qx1w9gHhKwZUQ-wRWc1VEdw%22%2C%22timeline_section_cursor%22%3A%7B%7D%2C%22has_next_page%22%3Atrue%7D&surface=www_pages_posts&unit_count=8\n",
      "/pages_reaction_units/more/?page_id=129558990394402&cursor=%7B%22timeline_cursor%22%3A%22AQHRCpwK3r6Y6ugs5FAdwOctk7rnjLIStROuL1W38uCRHDbKG1-ynJus3uiWGS30v68IpDmPadBw4Cn0k1d_JThWwX9P85v23Ft709bjRJqxpHnvsM8uTKGPoVYbatP8SKW8%22%2C%22timeline_section_cursor%22%3A%7B%7D%2C%22has_next_page%22%3Atrue%7D&surface=www_pages_posts&unit_count=8\n",
      "/pages_reaction_units/more/?page_id=129558990394402&cursor=%7B%22timeline_cursor%22%3A%22AQHRGMndcSHYywLKFyErZuaaY4lUoxW4UYwJTa9jx0SYo7rAaiCwG-vQXbaN6_GF9YaZKN2HsQXCxJTZT0ezNCTq2HjUujqEpg3-0a3Tf0uWhyihjb2ESjw3bNxxBK97oxDL%22%2C%22timeline_section_cursor%22%3A%7B%7D%2C%22has_next_page%22%3Atrue%7D&surface=www_pages_posts&unit_count=8\n",
      "/pages_reaction_units/more/?page_id=129558990394402&cursor=%7B%22timeline_cursor%22%3A%22AQHR4PJdejzUbWxn0QSJrxEsPu32CZ_KJ0YIJeCoZJUXtZoVJK-E-vw4kx0JD49nrW1h32QVQbv0m2i_fSrMaz4Or_-BbUVpipLFIz_tykfQTCGlsO-Oal4Bok5S_McIOPOg%22%2C%22timeline_section_cursor%22%3A%7B%7D%2C%22has_next_page%22%3Atrue%7D&surface=www_pages_posts&unit_count=8\n",
      "/pages_reaction_units/more/?page_id=129558990394402&cursor=%7B%22timeline_cursor%22%3A%22AQHRGBsop7UxEdY8zgE5iEjTjECO4qdoVu6j9nOomGb1Pm9kAJkKOV1HoqPf6GJTiUOEJNs5GfXpKCRI6ArEJfHpA_zTb2jsPYcy37T-WZYe3PABepCnT5iUuIsbSBKZO0Hd%22%2C%22timeline_section_cursor%22%3A%7B%7D%2C%22has_next_page%22%3Atrue%7D&surface=www_pages_posts&unit_count=8\n",
      "/pages_reaction_units/more/?page_id=129558990394402&cursor=%7B%22timeline_cursor%22%3A%22AQHRVd7fFHq3_LW2d2C_cifIUOruEKZc84QqtmTYuieBvj8i4YXQdFddXyoE6kKGvlNsYg3DT5dZKamprU95n6ijmBeGK-1QRxSE1G1W6K6XPhLJlan6YjizUhzKG9GmURk3%22%2C%22timeline_section_cursor%22%3A%7B%7D%2C%22has_next_page%22%3Atrue%7D&surface=www_pages_posts&unit_count=8\n",
      "/pages_reaction_units/more/?page_id=129558990394402&cursor=%7B%22timeline_cursor%22%3A%22AQHR5px0sSAIPbPzLeHHNvWPKDM8XGI_DwtnkV8jB-g4txGp3w733wMeGAn1D4oWZmh2qsL3sgXD-FoLDSA4IGfmW1fIJgT7KDME05eCrXlJaKhUfsAKF5bp1SM3WriUd6f7%22%2C%22timeline_section_cursor%22%3A%7B%7D%2C%22has_next_page%22%3Atrue%7D&surface=www_pages_posts&unit_count=8\n",
      "/pages_reaction_units/more/?page_id=129558990394402&cursor=%7B%22timeline_cursor%22%3A%22AQHRkiX5-KJWm_kJruU2CJEwP0DN3ZvnVHXw9B02pa_xA7X7UqA57fHjHhLmoNfTTmhebGpbz_nAxI04xFOfaOEZudVxgXHdIB3--60N73Qntq1mX6tvMDlJ-hFBNLm41azk%22%2C%22timeline_section_cursor%22%3A%7B%7D%2C%22has_next_page%22%3Atrue%7D&surface=www_pages_posts&unit_count=8\n",
      "/pages_reaction_units/more/?page_id=129558990394402&cursor=%7B%22timeline_cursor%22%3A%22AQHRC2dhZb2YqEa43wEc5vUr_HdqUCCOyG9-rh4ZxU0wcsM2NmSobJPaWp2Xp_3Gk9a7dMmG4EPJPz7D7hQHqctbCRe7TcHW0pZJRgyyHLBeV2-AXKY--vpwH9qcK7bsPBpg%22%2C%22timeline_section_cursor%22%3A%7B%7D%2C%22has_next_page%22%3Atrue%7D&surface=www_pages_posts&unit_count=8\n",
      "/pages_reaction_units/more/?page_id=129558990394402&cursor=%7B%22timeline_cursor%22%3A%22AQHRu97p6BGSUUsl73-eERPJnS9bwDTmjO9oirbITToyx_m07Wg8J2B5ZZgZ6_FBmhbXeIGRIp-AUhhVOSsHbDJ8DhNeqlDPQuQobSe7u8AbZFWHtEOtUi-V28uYXeQnx3do%22%2C%22timeline_section_cursor%22%3A%7B%7D%2C%22has_next_page%22%3Atrue%7D&surface=www_pages_posts&unit_count=8\n",
      "https://www.facebook.com/pages_reaction_units/more/?page_id=129558990394402&cursor=%7B%22timeline_cursor%22%3A%22AQHRu97p6BGSUUsl73-eERPJnS9bwDTmjO9oirbITToyx_m07Wg8J2B5ZZgZ6_FBmhbXeIGRIp-AUhhVOSsHbDJ8DhNeqlDPQuQobSe7u8AbZFWHtEOtUi-V28uYXeQnx3do%22%2C%22timeline_section_cursor%22%3A%7B%7D%2C%22has_next_page%22%3Atrue%7D&surface=www_pages_posts&unit_count=8&__a=1\n",
      "/pages_reaction_units/more/?page_id=129558990394402&cursor=%7B%22timeline_cursor%22%3A%22AQHR22bG3G67-EljQXTPaSaphWimTVbzYxEmv6N4JMIlEBO_GxR8d3i8uJxVnGC494Id8iQil_Stnk2cYkjcQbRyNJ944Ra0FUFIzVCQhe_zcAG5Y-CAlE92BH8UoWIkWoKQ%22%2C%22timeline_section_cursor%22%3A%7B%7D%2C%22has_next_page%22%3Atrue%7D&surface=www_pages_posts&unit_count=8\n",
      "/pages_reaction_units/more/?page_id=129558990394402&cursor=%7B%22timeline_cursor%22%3A%22AQHRLZ1kP40D9xQ0pLLbVT-iefDRKg9zXob_VeCvLNIH308kHw12clh1AE3BDa_SO_y2NS1V7WmAIoekBC-9oVrmG5pgkuP4WQSqIo5LTAVx1JvYca00gRDURG9thRCAnHGB%22%2C%22timeline_section_cursor%22%3A%7B%7D%2C%22has_next_page%22%3Atrue%7D&surface=www_pages_posts&unit_count=8\n",
      "/pages_reaction_units/more/?page_id=129558990394402&cursor=%7B%22timeline_cursor%22%3A%22AQHRVlF32JsOPNfvoOAQTxh3CuQgb2y3Uu4-IYosx-mRcbqsQVS7BIafVqDvLuvhYZxe5pDgU9w-LXndcwDivUenY9ZZRXN-IwfHmhT2yVl95w4UKctxQE9kPZsscIQkzMDs%22%2C%22timeline_section_cursor%22%3A%7B%7D%2C%22has_next_page%22%3Atrue%7D&surface=www_pages_posts&unit_count=8\n",
      "/pages_reaction_units/more/?page_id=129558990394402&cursor=%7B%22timeline_cursor%22%3A%22AQHRCu6WxDTTRioPRdHy9J5Z5QFBn6GEnTZHP3Rf3pBxGifnVXjwF-QIf4tTIF4k4Dt33ClsqtA6rlEEzpoXAf_BOXUvXyVYciSEBe2xopvuoMlblD96fCj7Ofdv2bFS7iEA%22%2C%22timeline_section_cursor%22%3A%7B%7D%2C%22has_next_page%22%3Atrue%7D&surface=www_pages_posts&unit_count=8\n",
      "/pages_reaction_units/more/?page_id=129558990394402&cursor=%7B%22timeline_cursor%22%3A%22AQHRBh2ZgLzi6dNifQLCvD5LwfIr2TE2Mzocwe3CbtEC0QpUtKs80WGcwfNKOZlvWX1rQPg_BFivpul3Tbl0ek0WPpCLvgPNYSWJ77wmOhzFVdRUKOYc4CJB_KiU_F61d39-%22%2C%22timeline_section_cursor%22%3A%7B%7D%2C%22has_next_page%22%3Atrue%7D&surface=www_pages_posts&unit_count=8\n",
      "/pages_reaction_units/more/?page_id=129558990394402&cursor=%7B%22timeline_cursor%22%3A%22AQHR4Y0YaQiJuH1bm1dN7TiA5HYWypqmDb8Qf443rWGoE4Sxl3PRAXd-ojoSGcEH1y9HNnPDIbrCIawwztC60KRewU9GKhbH5DeMoPMArzlT6EUbzqexPS-nm5AL_LTXgcfc%22%2C%22timeline_section_cursor%22%3A%7B%7D%2C%22has_next_page%22%3Atrue%7D&surface=www_pages_posts&unit_count=8\n",
      "/pages_reaction_units/more/?page_id=129558990394402&cursor=%7B%22timeline_cursor%22%3A%22AQHR8t_HAExmyfHcya-uTc0M6_vVVH3hthaqrD-I-U9psrBO3B_cE_OkRyEmmT1ozJLQ6o1PKgUWhcYmOVY9pKZQN7j4Y2RuQrdgzZkp2YdMsarHfHIUu-_0u0rgYFkJLewK%22%2C%22timeline_section_cursor%22%3A%7B%7D%2C%22has_next_page%22%3Atrue%7D&surface=www_pages_posts&unit_count=8\n",
      "/pages_reaction_units/more/?page_id=129558990394402&cursor=%7B%22timeline_cursor%22%3A%22AQHRoqiPIPS4gxTPWcIv049Y27VrvvyiqCl2vEOSCGV2OTmbvYTi1FxCo1GUi5cpLEbdJ1aSMGeQ1aATef0I3ytro87l7BY4ePCXX9LTBpY-CboHYLdoajpr4FlF4ag9St-q%22%2C%22timeline_section_cursor%22%3A%7B%7D%2C%22has_next_page%22%3Atrue%7D&surface=www_pages_posts&unit_count=8\n",
      "https://www.facebook.com/pages_reaction_units/more/?page_id=129558990394402&cursor=%7B%22timeline_cursor%22%3A%22AQHRoqiPIPS4gxTPWcIv049Y27VrvvyiqCl2vEOSCGV2OTmbvYTi1FxCo1GUi5cpLEbdJ1aSMGeQ1aATef0I3ytro87l7BY4ePCXX9LTBpY-CboHYLdoajpr4FlF4ag9St-q%22%2C%22timeline_section_cursor%22%3A%7B%7D%2C%22has_next_page%22%3Atrue%7D&surface=www_pages_posts&unit_count=8&__a=1\n",
      "/pages_reaction_units/more/?page_id=129558990394402&cursor=%7B%22timeline_cursor%22%3A%22AQHRbXcoULuhBuo0Z1ThiFU91sM07l6Tj4W9nCvnN71FY5ntvlec-jmuk9XMypIxBCYocNUfvnfUFdAMOBADBjapRWElU1QkjXcMAFxqaaERoICtoVkpBMmWqbv9nFmGYufZ%22%2C%22timeline_section_cursor%22%3A%7B%7D%2C%22has_next_page%22%3Atrue%7D&surface=www_pages_posts&unit_count=8\n",
      "/pages_reaction_units/more/?page_id=129558990394402&cursor=%7B%22timeline_cursor%22%3A%22AQHRAQJ6C-dNHEOcypGV2MaJdFaeFK-Y_Ex6l41Uu-zH3hbrlZS2nMVzygOEuVtckJ6AgB9SY-L8VAT81XGSQEI9f09r0SNrrpgRSRtuQbbc7myb-gpjmwILjpCn7OX8LJs3%22%2C%22timeline_section_cursor%22%3A%7B%7D%2C%22has_next_page%22%3Atrue%7D&surface=www_pages_posts&unit_count=8\n",
      "/pages_reaction_units/more/?page_id=129558990394402&cursor=%7B%22timeline_cursor%22%3A%22AQHRYPCHdyWG_p4Su0m5da99PTgCvzTfXe82Mgi86wqX4pyb6y0b6A5xOUx3Zw0TZP5oAtIuG_HvWbb4r_DDMsbWcpku-BXfbDlacarJ0JeSwZfBmAfsvpnyW_7mR7OeO2kY%22%2C%22timeline_section_cursor%22%3A%7B%7D%2C%22has_next_page%22%3Atrue%7D&surface=www_pages_posts&unit_count=8\n",
      "/pages_reaction_units/more/?page_id=129558990394402&cursor=%7B%22timeline_cursor%22%3A%22AQHRsFJAYwhIYrYTr43Arwa1D4GJJ3p9-03Hst2Q8h0Mc5Mcpl6Hv45p4_BuTLjR8wlN_lhN059EobgPVND6_H20FKghvGzT9XEeD50xD1tznLGrFNyCG_qRCxr9ZQ4Yq75M%22%2C%22timeline_section_cursor%22%3A%7B%7D%2C%22has_next_page%22%3Atrue%7D&surface=www_pages_posts&unit_count=8\n"
     ]
    },
    {
     "name": "stdout",
     "output_type": "stream",
     "text": [
      "/pages_reaction_units/more/?page_id=129558990394402&cursor=%7B%22timeline_cursor%22%3A%22AQHREjgvT_2xwFBCKSCtjZbDlRgCXzv6xM-ajsycusuZMfRk5KbtTSwZB744iJZ-jmzAqFBRnIBTIuxFELPVrDXlPlAn-YnH7Qw5OpFBIhbfFWBo6x1NwLE_lZUktrGZOZk7%22%2C%22timeline_section_cursor%22%3A%7B%7D%2C%22has_next_page%22%3Atrue%7D&surface=www_pages_posts&unit_count=8\n",
      "/pages_reaction_units/more/?page_id=129558990394402&cursor=%7B%22timeline_cursor%22%3A%22AQHRZZIlK8uLxrQNdGb5UHviygv1uhiirW0uByp2deJuLVcY3AIy6belFrpCNi9o5DFaLe4Jwn8cpjOe3WNHd8N1ggNLVGPn1mXY399YZ3G8iH7FWYVs6yvFgPwHfS4GAr2Q%22%2C%22timeline_section_cursor%22%3A%7B%7D%2C%22has_next_page%22%3Atrue%7D&surface=www_pages_posts&unit_count=8\n",
      "/pages_reaction_units/more/?page_id=129558990394402&cursor=%7B%22timeline_cursor%22%3A%22AQHROhmELdmREKcjD2QbSU0vKUEfJBQO6oHNWJAgP2kheuunOehbN3OeDbYLBzAvZn5xPMZc_7P7Bs-suY68qFv_b3tO-flqPerH5BvLc1RzGWLHUbRu4Q4-HrZ-Qrp-BTD0%22%2C%22timeline_section_cursor%22%3A%7B%7D%2C%22has_next_page%22%3Atrue%7D&surface=www_pages_posts&unit_count=8\n",
      "/pages_reaction_units/more/?page_id=129558990394402&cursor=%7B%22timeline_cursor%22%3A%22AQHRyy-XFSzAsK9GxWtHn2igCVbZ4lWy8igS9nqA_eiEpfZYWgsm4XSoCnwHRk7PlFzp54yK76xoQdorLAXahBR0QDJK89QA_WJb2fmdb00bhZo7AUedSM1194Ll2CI9gXA3%22%2C%22timeline_section_cursor%22%3A%7B%7D%2C%22has_next_page%22%3Atrue%7D&surface=www_pages_posts&unit_count=8\n",
      "/pages_reaction_units/more/?page_id=129558990394402&cursor=%7B%22timeline_cursor%22%3A%22AQHR916OM213XU1AgfTKIhlSVGxLiY7rG2sMQaNgbndMY6bUOQDsRB3AAfqCncDNoZXT5c6oufOd3rFMhCqO4JhKm2fuhE8PrhqchR3YDu5DT6ouXUGnAMucbGQXNlQpRttq%22%2C%22timeline_section_cursor%22%3A%7B%7D%2C%22has_next_page%22%3Atrue%7D&surface=www_pages_posts&unit_count=8\n",
      "/pages_reaction_units/more/?page_id=129558990394402&cursor=%7B%22timeline_cursor%22%3A%22AQHRa0ACso7n0AtbTDNX-NntSGs1OH8lz7cA0c0rZ1cuCWzcAodKxUoEYoW2sQSMfO-rDCeKCzDSV2XdFhg1MhplAJpoSeJyhi8QFJ7TlBYZo-IoyxDNtc98Y25hJB4bOryU%22%2C%22timeline_section_cursor%22%3A%7B%7D%2C%22has_next_page%22%3Atrue%7D&surface=www_pages_posts&unit_count=8\n",
      "/pages_reaction_units/more/?page_id=129558990394402&cursor=%7B%22timeline_cursor%22%3A%22AQHRL0yxKvQ0tj8dIZ4Nm2QOxn5wQQx6zASIBdC4pebRp31376nYdoxREFTFRA6rGQklpnlbS2PEkAD0RcIDSZA9TwBxKX14oHFqr2Q7kyWwktQuXj2TxTb6vfTYw7TiZtre%22%2C%22timeline_section_cursor%22%3A%7B%7D%2C%22has_next_page%22%3Atrue%7D&surface=www_pages_posts&unit_count=8\n",
      "/pages_reaction_units/more/?page_id=129558990394402&cursor=%7B%22timeline_cursor%22%3A%22AQHRZX5eWJr15TAEGvMySG6ykFhOGaQBAa64OfuYowLHB2_cwKGmb5D3J7W8sU5AWRzMnCAgwLWwQE6eTlgSRD_DIxXOcaeZ43CDzH0EJGZiEvqjAGHj12PD1-CWojF1Oabf%22%2C%22timeline_section_cursor%22%3A%7B%7D%2C%22has_next_page%22%3Atrue%7D&surface=www_pages_posts&unit_count=8\n",
      "/pages_reaction_units/more/?page_id=129558990394402&cursor=%7B%22timeline_cursor%22%3A%22AQHRF_EML0ZpCY1QgLSVQeMqBpM51tcOy2V4NHHXZljvWIlttLGe6JLpVdNoOGLOtSuBUNPfD9eIMzY1CAGF1M5Az-H0oB3TibQpgG57g4YPNHL4Jc7RHcAxVagU2SCWbV1Z%22%2C%22timeline_section_cursor%22%3A%7B%7D%2C%22has_next_page%22%3Atrue%7D&surface=www_pages_posts&unit_count=8\n",
      "/pages_reaction_units/more/?page_id=129558990394402&cursor=%7B%22timeline_cursor%22%3A%22AQHR_b15aHSjTSYCRkRDvGuhZE7r54ofie9a-1YXlAPC9OYbQZDeeZ7URCWLmjP4RmB6R3xTd2a7oLL4qeGA9Cwfb9joYDLfhbqkIV0tgm7McOMf3nWtYYBXY4tPQlMmjs5s%22%2C%22timeline_section_cursor%22%3A%7B%7D%2C%22has_next_page%22%3Atrue%7D&surface=www_pages_posts&unit_count=8\n",
      "/pages_reaction_units/more/?page_id=129558990394402&cursor=%7B%22timeline_cursor%22%3A%22AQHRkj4wC3r2v5GKZgcWaWNsnqyQykpBK82eGMJZFITQIyD1h0DG1MDgpmRKEo6kiCgSEAtKm-LV1u0j0w_xhFBkJDRfhVXIXt9LKThkY7kuIrbh3cZx1VRoRXno11viy-OV%22%2C%22timeline_section_cursor%22%3A%7B%7D%2C%22has_next_page%22%3Atrue%7D&surface=www_pages_posts&unit_count=8\n",
      "/pages_reaction_units/more/?page_id=129558990394402&cursor=%7B%22timeline_cursor%22%3A%22AQHR5BzuIKPW43_nwRjmwg4tfCUXAdJNj0A7NN_WJQjOFe_dPP7gBJ-uKPXEYMMUQ_7ELVEYUfQWuVy_thnMEnmzKr-Q1FaSwmz2Rc1l1DP62pIJpKQUkyscN_5ZYGxJcN1T%22%2C%22timeline_section_cursor%22%3A%7B%7D%2C%22has_next_page%22%3Atrue%7D&surface=www_pages_posts&unit_count=8\n",
      "/pages_reaction_units/more/?page_id=129558990394402&cursor=%7B%22timeline_cursor%22%3A%22AQHRMZsu8GHZaFrkpVamKrzjZeFKlv-O2hBDb6jelTjkrhKj5kblLcmCHyG4MQsSDcIq-anycdVX6DHqK_dUdSYJ1yORLlnQlWFs_leAKv-_nb_YTdhk_eCE15QEar7bnWht%22%2C%22timeline_section_cursor%22%3A%7B%7D%2C%22has_next_page%22%3Atrue%7D&surface=www_pages_posts&unit_count=8\n",
      "/pages_reaction_units/more/?page_id=129558990394402&cursor=%7B%22timeline_cursor%22%3A%22AQHRIih7e6ZHsSxnb6TWzQhVXg4GvFe9rJHLzCzi9xZNJWlACUJxKxjnmxxml0glSD5q6c4jEmicGnBmX2V4X1mDucNmdP1r4F3KQH7svad3lELWpQkk0K5XUwZ4V4x6udfa%22%2C%22timeline_section_cursor%22%3A%7B%7D%2C%22has_next_page%22%3Atrue%7D&surface=www_pages_posts&unit_count=8\n",
      "/pages_reaction_units/more/?page_id=129558990394402&cursor=%7B%22timeline_cursor%22%3A%22AQHRxiJUuM-EABaeMmBmd9aFJCBTjTfK59NbslcApp4I8d2BME8SNG6aoL3zdfhOfRJQ8V8SGLXPk7Ti_ahiaZi8r1JTPLBM5hjQY1utYJptf8EQJsRFe-D79ibeN7lISWgs%22%2C%22timeline_section_cursor%22%3A%7B%7D%2C%22has_next_page%22%3Atrue%7D&surface=www_pages_posts&unit_count=8\n",
      "/pages_reaction_units/more/?page_id=129558990394402&cursor=%7B%22timeline_cursor%22%3A%22AQHRohYSB4i7fM31CxaF5WHA1wGISkeVUFGJqaMYsmb2MWZneRwM_rchSc2_id9SKkepzk_ELwV9-SZ-qQjfbGOhUzxpRR3adROec4GkYMXXHxmFybm50kwri-FNTPZmH2jq%22%2C%22timeline_section_cursor%22%3A%7B%7D%2C%22has_next_page%22%3Atrue%7D&surface=www_pages_posts&unit_count=8\n",
      "/pages_reaction_units/more/?page_id=129558990394402&cursor=%7B%22timeline_cursor%22%3A%22AQHRMJZJvJP3pTXptB0NS6qmhdNGcPrW_iJe1SYtu0I_VyvUeUxbsKcf_87sIsMPkaiD3zwEIlveS3Q4iV5jm9r31s3KJf9gTS54bhQcb54Lj5BXcBA2R_QLdx9CNHBxMLbt%22%2C%22timeline_section_cursor%22%3A%7B%7D%2C%22has_next_page%22%3Atrue%7D&surface=www_pages_posts&unit_count=8\n",
      "/pages_reaction_units/more/?page_id=129558990394402&cursor=%7B%22timeline_cursor%22%3A%22AQHR4wzJAcBjodkc7EfZ8CbXfIedIQXe9ea8cn0ZchmAC1NEsHIvDnw55w4bAhIsAdfqpbGj5heJplO8s8C8lSNMLrem3Yx-oTZ4JVJ-mXq1zEz6nHOrf9YYsuMkEy9s-a5g%22%2C%22timeline_section_cursor%22%3A%7B%7D%2C%22has_next_page%22%3Atrue%7D&surface=www_pages_posts&unit_count=8\n",
      "/pages_reaction_units/more/?page_id=129558990394402&cursor=%7B%22timeline_cursor%22%3A%22AQHR9pzLsQt7DXd5J_Q2TyosjkKbLrj2yO6mpIgw4cNI72XKHhWsCgaohIXJWBUbVATv-Aj3DR6biqkqO8y4gsueO3tkjWk4ZUWPUSMeU8zFnFuFFIuJH34Zl1Ec5IM0zUqT%22%2C%22timeline_section_cursor%22%3A%7B%7D%2C%22has_next_page%22%3Atrue%7D&surface=www_pages_posts&unit_count=8\n",
      "/pages_reaction_units/more/?page_id=129558990394402&cursor=%7B%22timeline_cursor%22%3A%22AQHRao33SnhPFRRyKpKTqzsdc_d4uFMcTUpKequFz9hfidzrWCxpWO6McB1fvGXPPSWf0C7zkJ6b-HlFl1AtluMCyUeN1oFEYM21zpToHwt-c3FS7NgC3ooMkCgbTbEnWGKU%22%2C%22timeline_section_cursor%22%3A%7B%7D%2C%22has_next_page%22%3Atrue%7D&surface=www_pages_posts&unit_count=8\n",
      "/pages_reaction_units/more/?page_id=129558990394402&cursor=%7B%22timeline_cursor%22%3A%22AQHRJGntOuT14Jrojc-mVgouID7wAr-TpE98m1sd_VvMgXLmwzyK_Cp6xLB9UuhFdVzXdgGTlkORovN5YSLwA2m4Qlo_e3j262aH01bXbT4AHeCtJYQYvn6kIcgdQyKov3dO%22%2C%22timeline_section_cursor%22%3A%7B%7D%2C%22has_next_page%22%3Atrue%7D&surface=www_pages_posts&unit_count=8\n",
      "/pages_reaction_units/more/?page_id=129558990394402&cursor=%7B%22timeline_cursor%22%3A%22AQHR9DN-BBSkJQ6WdiPnSO4G8fhWCsO8M0E7OydGUglo-5lVeKiZb6xDedIBf9flma_WZ10BHb7z39Nk3sf8Gr32jTY4eZlbMPIpj056ZA7WGuJBPyHUEutSWSnq1k68bBeD%22%2C%22timeline_section_cursor%22%3A%7B%7D%2C%22has_next_page%22%3Atrue%7D&surface=www_pages_posts&unit_count=8\n",
      "/pages_reaction_units/more/?page_id=129558990394402&cursor=%7B%22timeline_cursor%22%3A%22AQHR2KP1JUFAsosHBMkDNnuh2QFSdKtY0TOvUfUY0IYp2AOlWMKayR7BnvjnwLgHW2oSa8-5ecHgJ9O59mq7bWU3BETR6V-XayC9X29g6I5BafrRYoB-1MaBr6MnjmE51-sF%22%2C%22timeline_section_cursor%22%3A%7B%7D%2C%22has_next_page%22%3Atrue%7D&surface=www_pages_posts&unit_count=8\n",
      "/pages_reaction_units/more/?page_id=129558990394402&cursor=%7B%22timeline_cursor%22%3A%22AQHRZUyiKvcEiVBxTszi-lenPyG8AwAzAQH4oZKYZzH7-bUH3zlngfEr6sufD1iggD2dFYVpgBm1nz_ZLZv42hpa8wfV_ezdqR47Fj0-12x2E0gK95CZokbsR_ZQC_omfdx9%22%2C%22timeline_section_cursor%22%3A%7B%7D%2C%22has_next_page%22%3Atrue%7D&surface=www_pages_posts&unit_count=8\n",
      "/pages_reaction_units/more/?page_id=129558990394402&cursor=%7B%22timeline_cursor%22%3A%22AQHRben3i9KgDDIl0GQGbnB__H_a0GxCszz8VkjWvYYrV2jlrvtKPhtMillUC80A9kJlYX2T3N1UJKAEMaXnKX__jCLbMffHxk3AHwfDGs3BYqUsar7HIOwIr8TjCHInRa7b%22%2C%22timeline_section_cursor%22%3A%7B%7D%2C%22has_next_page%22%3Atrue%7D&surface=www_pages_posts&unit_count=8\n"
     ]
    },
    {
     "name": "stdout",
     "output_type": "stream",
     "text": [
      "/pages_reaction_units/more/?page_id=129558990394402&cursor=%7B%22timeline_cursor%22%3A%22AQHRrqLMjtLO8zeci12fkYGBpJY-5MnRMA-A1hEoZfwvWUMe1pRQPQUAsixmoAL6iQw_2-sGlsyDno0Zz2hMycoiwCsLCmvZHW2zeMCqyrgNHkzkaPIPz6YQNH3wJA5zhVnR%22%2C%22timeline_section_cursor%22%3A%7B%7D%2C%22has_next_page%22%3Atrue%7D&surface=www_pages_posts&unit_count=8\n",
      "/pages_reaction_units/more/?page_id=129558990394402&cursor=%7B%22timeline_cursor%22%3A%22AQHRQekthk4bWw9kNeFu7paoh7NFERXup_0B29fAKln5DrvkyGpCu5c6YKCoYuZRJifV-ZlfXMtTsZF_ClUovS5CAnMStRtYFq8WhV82SCJwitnkP4Kn0PLawY87XVGmrAe_%22%2C%22timeline_section_cursor%22%3A%7B%7D%2C%22has_next_page%22%3Atrue%7D&surface=www_pages_posts&unit_count=8\n",
      "/pages_reaction_units/more/?page_id=129558990394402&cursor=%7B%22timeline_cursor%22%3A%22AQHRvKDQoGTGlU_WlxF7V3RP93akzrsCPOKa7UJRbwBc9s-b_nVy1hbRo3L18r5a04BxEokexENqdtmWHknwtjn977eF8KSqF9-oT1lGLlI5iSYn8bwf8MawAZcM8LdF7hB8%22%2C%22timeline_section_cursor%22%3A%7B%7D%2C%22has_next_page%22%3Atrue%7D&surface=www_pages_posts&unit_count=8\n",
      "/pages_reaction_units/more/?page_id=129558990394402&cursor=%7B%22timeline_cursor%22%3A%22AQHRysN55JN4UdFXunIwfepFfljmgIGVtmGZatUAt6UtYNuUVaMv6J_XUZ3q-w_e_KsugzZvN0okGg578Nnj2ffSBgaaER_-A0t_D0SF30wGucW_XH6jjm42eX87x0gV4YiN%22%2C%22timeline_section_cursor%22%3A%7B%7D%2C%22has_next_page%22%3Atrue%7D&surface=www_pages_posts&unit_count=8\n",
      "/pages_reaction_units/more/?page_id=129558990394402&cursor=%7B%22timeline_cursor%22%3A%22AQHRU-roDPErNF5P3_K7CnDL55kMA0xzdboG1YMq1oNtRkbf-GZMxaRHEtYHBHgYB-qo9RiHIeWaSEH7MD3WQh_67DvZ37F6ySM7VhfgvDLN00Imx6F2Wj77U0eyckKTitUS%22%2C%22timeline_section_cursor%22%3A%7B%7D%2C%22has_next_page%22%3Atrue%7D&surface=www_pages_posts&unit_count=8\n",
      "/pages_reaction_units/more/?page_id=129558990394402&cursor=%7B%22timeline_cursor%22%3A%22AQHR5zfQhdzmV-UYgPpmCpgLLBMzf6kOFKZFaf9HKkl5bMAvfIv-373e6QDdh2PF0orxjgaL1WcnS-y2_0U1ngGdgLM7njuX6EEQFIqPVO4ZibCXyJ6jU3kF62jmJQBq71EF%22%2C%22timeline_section_cursor%22%3A%7B%7D%2C%22has_next_page%22%3Atrue%7D&surface=www_pages_posts&unit_count=8\n",
      "/pages_reaction_units/more/?page_id=129558990394402&cursor=%7B%22timeline_cursor%22%3A%22AQHRIq4lpnGOtXN89C_tRbFBhIvJABga7urwgJ3WGQYez6cOkE5n_EI9ZhXlIZxYgzfPIoaWlHaJnKhsCqGuAzcgEVSVnAqkWfXDZlGDye4uZHfQExwPBsljU07vqcSIMI1R%22%2C%22timeline_section_cursor%22%3A%7B%7D%2C%22has_next_page%22%3Atrue%7D&surface=www_pages_posts&unit_count=8\n",
      "/pages_reaction_units/more/?page_id=129558990394402&cursor=%7B%22timeline_cursor%22%3A%22AQHREiZ8Fn1jsTRgshCRshEL7HvpF2M84WhKhg_X_GaQi0X6_9L6CHM7urorTQccNfHfgid6hMDBLGxh-8Mtel9t0vk4-fIbbN4PztcHdPIxpfoLXbKGFh1pXZC9lXM29uK2%22%2C%22timeline_section_cursor%22%3A%7B%7D%2C%22has_next_page%22%3Atrue%7D&surface=www_pages_posts&unit_count=8\n",
      "/pages_reaction_units/more/?page_id=129558990394402&cursor=%7B%22timeline_cursor%22%3A%22AQHRQi6Ua21q7SQbYyZlsvoDrQAWCSUgDtk_HP2id6_FPM0an7syG5i29NT8zrBMjT1F8ws--uDp-7COYrN-WRg0xn9G-nKmuLYzFn5VGJGgANLZFipEbuuudCE-Hkzox7nb%22%2C%22timeline_section_cursor%22%3A%7B%7D%2C%22has_next_page%22%3Atrue%7D&surface=www_pages_posts&unit_count=8\n",
      "/pages_reaction_units/more/?page_id=129558990394402&cursor=%7B%22timeline_cursor%22%3A%22AQHRr_F_H6FlfISEogJKVycL9If0derJP1yvrRjuGJMXnnXGMe75JX3CCL7SZP_0SOM3ngBD2gn6GZRhMmewmWX3o7kPNdmUvaxeYYmykt_wNhwUq2hu8HIyc4nsOxJiMNal%22%2C%22timeline_section_cursor%22%3A%7B%7D%2C%22has_next_page%22%3Atrue%7D&surface=www_pages_posts&unit_count=8\n",
      "/pages_reaction_units/more/?page_id=129558990394402&cursor=%7B%22timeline_cursor%22%3A%22AQHRxq3CA9q0OCquJQvirANqoGIdLjQXwSZg3jhs3YWKNv-Uzxi3bUJRnGi5isjQDOYrYeJnQ2XWuWxmy3p8gH6ck9krLFMnfJ2YeDBzGYc6aWOP2_ESNJtSbiC3M1-98Mhl%22%2C%22timeline_section_cursor%22%3A%7B%7D%2C%22has_next_page%22%3Atrue%7D&surface=www_pages_posts&unit_count=8\n",
      "/pages_reaction_units/more/?page_id=129558990394402&cursor=%7B%22timeline_cursor%22%3A%22AQHRwjoI-JpBoIGCErWFjaCU_31XrM2W8b_1COZK5Eo7CDt6G8Q9lfTMEk4VZ4SDZS_aqOP4uytAX8f2xD_kffvzju7hTk9xI8f3f55aRSttZpOJBpxgjeLdhfSs5Xmcp2AM%22%2C%22timeline_section_cursor%22%3A%7B%7D%2C%22has_next_page%22%3Atrue%7D&surface=www_pages_posts&unit_count=8\n",
      "/pages_reaction_units/more/?page_id=129558990394402&cursor=%7B%22timeline_cursor%22%3A%22AQHROg4b-HARX1KCeDx737hyo7yj2yj4g4WBq0ODxC3J4E46_ysxiqpsq-aRHyxJECzfhLdBjMiPl7JdQ8OWRGZJ_sEKbLtgfxCnvY_KtkO_xPshPWQlKhf31yj0MG-cDQ7g%22%2C%22timeline_section_cursor%22%3A%7B%7D%2C%22has_next_page%22%3Atrue%7D&surface=www_pages_posts&unit_count=8\n",
      "/pages_reaction_units/more/?page_id=129558990394402&cursor=%7B%22timeline_cursor%22%3A%22AQHRP2HbcpJhiFL7nHXTyKEYuJxqJcS1tDu9CBWXmltGjZxOo7ojVfvPNOUg3EyT-TCHlgipjMHonj-LYs6USaOgw_Y9wDoF2wjW0X7SJtlm7_a7wb_ApDzaV5FBPam2ka_y%22%2C%22timeline_section_cursor%22%3A%7B%7D%2C%22has_next_page%22%3Atrue%7D&surface=www_pages_posts&unit_count=8\n",
      "/pages_reaction_units/more/?page_id=129558990394402&cursor=%7B%22timeline_cursor%22%3A%22AQHRpZ-jLneagh-klLy59FUfWMKWwkOzENAaAQorJW5X62uWfr4Azf_J3jcxiEk6nXM8ig4ee5LDPEAPP4oYuQAw3haH0wdZPgqwQh3tpMqVOlkpTEx0NfigyYq-qu4fAdX9%22%2C%22timeline_section_cursor%22%3A%7B%7D%2C%22has_next_page%22%3Atrue%7D&surface=www_pages_posts&unit_count=8\n",
      "/pages_reaction_units/more/?page_id=129558990394402&cursor=%7B%22timeline_cursor%22%3A%22AQHRngDda8eUv9KAXkzebjfQqfVj1Z8eOy8k1v5_YhMBOHYhXhNY-U3zBhJsZFwlqMJyRRzbs-lUrcRzdgzQYI1dD3OCU_JpA76RD2Z_OcZurY0qKxnok2uYE6rKZe0w8bAm%22%2C%22timeline_section_cursor%22%3A%7B%7D%2C%22has_next_page%22%3Atrue%7D&surface=www_pages_posts&unit_count=8\n",
      "/pages_reaction_units/more/?page_id=129558990394402&cursor=%7B%22timeline_cursor%22%3A%22AQHRf_Po9RQUeMjz2zz4SMcb8ZcxR8rzLgi0tRtw4vqMI4PKJjO8HZVGk18H8If7_bqMmKANMgzIv9tDyQ53pVmnf3bq79pWFkZeJwJhT5EDa1KktF5q_NggZf71yIG5jTsh%22%2C%22timeline_section_cursor%22%3A%7B%7D%2C%22has_next_page%22%3Atrue%7D&surface=www_pages_posts&unit_count=8\n",
      "/pages_reaction_units/more/?page_id=129558990394402&cursor=%7B%22timeline_cursor%22%3A%22AQHRA7regbliReAtLuceMTaMpiTwY9mU4kgiKTyXQjgPQwO62-RVMVMeIz0d_oN0NSqN2nZvIC2OoYrhycEgKx0qlIrUw4oHDueg4iigrzLzZfDfredFQQL6gCmwqKlpqg59%22%2C%22timeline_section_cursor%22%3A%7B%7D%2C%22has_next_page%22%3Atrue%7D&surface=www_pages_posts&unit_count=8\n",
      "/pages_reaction_units/more/?page_id=129558990394402&cursor=%7B%22timeline_cursor%22%3A%22AQHR5ya6zPB3VBApwFo8_qtSVhoC2czbjTKeYNGh9w8Ej3Vf4vPBBUyJ0e2Wo6iZLmvPLUi2cJju3g4sL6JNdi4WaDUYV5FWu_n0DwNTQWxs9jawTH5CyZk9_WDe0OLVMqMu%22%2C%22timeline_section_cursor%22%3A%7B%7D%2C%22has_next_page%22%3Atrue%7D&surface=www_pages_posts&unit_count=8\n",
      "/pages_reaction_units/more/?page_id=129558990394402&cursor=%7B%22timeline_cursor%22%3A%22AQHRvqBzwzh1_gXwdySyQ0cpv9B1kNvNooKdsKPps1giCbkTbtX76U9sylX35Qc76ERef3VC8Wk9zTye4p03ZfFFztN15Kuc4mnH57OurZYbJJnBPfHGl7g-AaW2WLL6Pok6%22%2C%22timeline_section_cursor%22%3A%7B%7D%2C%22has_next_page%22%3Atrue%7D&surface=www_pages_posts&unit_count=8\n",
      "/pages_reaction_units/more/?page_id=129558990394402&cursor=%7B%22timeline_cursor%22%3A%22AQHRxxmjXnih0g9ThPrywIcRuuopEYA_Rq-1K__lhBA7WezJM4E326w0hwE0EPIi-LAnguwHEVoyR2x6zsvXOvQ-a37rUPDpxuL8aLOHVpSEVvanR3kv1EKygPrg8k5Gmymh%22%2C%22timeline_section_cursor%22%3A%7B%7D%2C%22has_next_page%22%3Atrue%7D&surface=www_pages_posts&unit_count=8\n",
      "/pages_reaction_units/more/?page_id=129558990394402&cursor=%7B%22timeline_cursor%22%3A%22AQHRFl030Ld8tr49umpqvALlpDQdF40JzFVQDCAdMmW3Dz63o0PDAKjc7zVbDqxt6TGI2SfVdYMQXe6vR5xAKtu2Z3LklEyrEK1GZnhG9ekI5NT6Zq6DLLGIY7b6iOL4Gv89%22%2C%22timeline_section_cursor%22%3A%7B%7D%2C%22has_next_page%22%3Atrue%7D&surface=www_pages_posts&unit_count=8\n",
      "/pages_reaction_units/more/?page_id=129558990394402&cursor=%7B%22timeline_cursor%22%3A%22AQHRSFQL_MN2RVZkcL1sjFzNweusZDum3qAjIJ2pnUqh1O3xgdjIuRth304FJO7CwO4SuxtXmEcwQXFn7SV_3vUFkCPzcQmKib_AcyPtlBL9UW0eFRNumJDbhmLJrvEMju_j%22%2C%22timeline_section_cursor%22%3A%7B%7D%2C%22has_next_page%22%3Atrue%7D&surface=www_pages_posts&unit_count=8\n",
      "/pages_reaction_units/more/?page_id=129558990394402&cursor=%7B%22timeline_cursor%22%3A%22AQHRaUBN-C-3aTHamXofHCAHgawFiEk9mjsU6vL5HBSe49p9BpSHZxkpwvXgt5riqvYuCOWTanJEaG6F4Hn-JmxmMlCC1BnPG2s__mf9kgUxA2rQ0_BzlXCHdQ0GWvP42zUq%22%2C%22timeline_section_cursor%22%3A%7B%7D%2C%22has_next_page%22%3Atrue%7D&surface=www_pages_posts&unit_count=8\n",
      "/pages_reaction_units/more/?page_id=129558990394402&cursor=%7B%22timeline_cursor%22%3A%22AQHRSUROsQ5LzKW4TM67hQsmo0vKDGBaVNFIbINPG1KRQfT-F7xlA83lOlFty5Rap_ugB-FSZGqHf56LoUkYsC0J7oimnSZR1G-HXTc0Ai_L0oCrmywv34DEW6gqukZSFi4e%22%2C%22timeline_section_cursor%22%3A%7B%7D%2C%22has_next_page%22%3Atrue%7D&surface=www_pages_posts&unit_count=8\n"
     ]
    },
    {
     "name": "stdout",
     "output_type": "stream",
     "text": [
      "https://www.facebook.com/pages_reaction_units/more/?page_id=129558990394402&cursor=%7B%22timeline_cursor%22%3A%22AQHRSUROsQ5LzKW4TM67hQsmo0vKDGBaVNFIbINPG1KRQfT-F7xlA83lOlFty5Rap_ugB-FSZGqHf56LoUkYsC0J7oimnSZR1G-HXTc0Ai_L0oCrmywv34DEW6gqukZSFi4e%22%2C%22timeline_section_cursor%22%3A%7B%7D%2C%22has_next_page%22%3Atrue%7D&surface=www_pages_posts&unit_count=8&__a=1\n",
      "/pages_reaction_units/more/?page_id=129558990394402&cursor=%7B%22timeline_cursor%22%3A%22AQHRbY9XBPr9mJ5sy6SclYc6hsrOMkQWIu_yMATKws9oYPjajyi4op7Ftf_becJzRLT2_DbpbjCBdGPsnSXZTxkWL6o38LiR8Mlg9rm6wNJ-oaJL_UOWdP872Tn9iCNxVg4x%22%2C%22timeline_section_cursor%22%3A%7B%7D%2C%22has_next_page%22%3Atrue%7D&surface=www_pages_posts&unit_count=8\n",
      "/pages_reaction_units/more/?page_id=129558990394402&cursor=%7B%22timeline_cursor%22%3A%22AQHRJmUMQXUWB6ibby2gGBEtIKA3skWntMeaWz_AT4KUacVZIHm6EqvMPmDztmq-BD60QyaxqVeCCOLvBJmpz_iUuMAvvB6-SYDQ38LDAL1ldMxaopyutD4FS8z9U6d1kpyh%22%2C%22timeline_section_cursor%22%3A%7B%7D%2C%22has_next_page%22%3Atrue%7D&surface=www_pages_posts&unit_count=8\n",
      "/pages_reaction_units/more/?page_id=129558990394402&cursor=%7B%22timeline_cursor%22%3A%22AQHR9GyEKiJd2rYhJzqZeUnK3WPX04nXcUzyqscgMJdeH-PQawu-ArphortU2nWTOzWyu5ZI2o3gwIlBu2SbRqfHbB37JE34cIQ99ZuVjZRdD6nuhJNqc6SqSnZH9fZE5Oew%22%2C%22timeline_section_cursor%22%3A%7B%7D%2C%22has_next_page%22%3Atrue%7D&surface=www_pages_posts&unit_count=8\n",
      "/pages_reaction_units/more/?page_id=129558990394402&cursor=%7B%22timeline_cursor%22%3A%22AQHRaHPqvPIZEJEcWCZAQh9pPgXZEz1ebnTB3gKdkpSVK38YjFopBzXTSYUZwJBdCTlrWlmUsVmDHRjP3ozgRtkYPe0IqophuQ8n2unzgUcUWd0zSHqf37VcD7GgJWJklD0B%22%2C%22timeline_section_cursor%22%3A%7B%7D%2C%22has_next_page%22%3Atrue%7D&surface=www_pages_posts&unit_count=8\n",
      "/pages_reaction_units/more/?page_id=129558990394402&cursor=%7B%22timeline_cursor%22%3A%22AQHRqi7uzEOcuNR0-ryAh40HJPwYeGcELtmCVO_MwzlLOYVwSede0dR7Ux5L1n8UuyrGPxXGRx9f3gCQ1GfFNi3zS8vJvTyei8DkQNEmMAJXsXJtmjzYFt_7hQRK2IXe05vs%22%2C%22timeline_section_cursor%22%3A%7B%7D%2C%22has_next_page%22%3Atrue%7D&surface=www_pages_posts&unit_count=8\n"
     ]
    }
   ],
   "source": [
    "# for i in range(5):\n",
    "while True:\n",
    "    try:\n",
    "        next_url = 'https://www.facebook.com%s&__a=1' % urlResult\n",
    "        tmp_content = requests.get(next_url).text[9:]\n",
    "        next_content = json.loads(tmp_content)\n",
    "        content = html.unescape(next_content['domops'][0][3]['__html'])\n",
    "        postInfos = getPostInfosFromContent(tmp_content)\n",
    "        next_posts = getPostsFromContent(content, postInfos)\n",
    "        posts += next_posts\n",
    "        try:\n",
    "            urlResult = re.search(r'\\/pages_reaction_units.*?unit_count=8', content).group()\n",
    "            print(urlResult)\n",
    "        except:\n",
    "            print('end')\n",
    "            break\n",
    "    except:\n",
    "        print(next_url)\n",
    "        continue\n",
    "print(len(posts), posts[-1])"
   ]
  },
  {
   "cell_type": "code",
   "execution_count": 3,
   "metadata": {},
   "outputs": [
    {
     "ename": "NameError",
     "evalue": "name 'content' is not defined",
     "output_type": "error",
     "traceback": [
      "\u001b[1;31m---------------------------------------------------------------------------\u001b[0m",
      "\u001b[1;31mNameError\u001b[0m                                 Traceback (most recent call last)",
      "\u001b[1;32m<ipython-input-3-7fe70820e08a>\u001b[0m in \u001b[0;36m<module>\u001b[1;34m\u001b[0m\n\u001b[1;32m----> 1\u001b[1;33m \u001b[0mcontent\u001b[0m\u001b[1;33m\u001b[0m\u001b[0m\n\u001b[0m",
      "\u001b[1;31mNameError\u001b[0m: name 'content' is not defined"
     ]
    }
   ],
   "source": [
    "content"
   ]
  },
  {
   "cell_type": "markdown",
   "metadata": {},
   "source": [
    "# TEST"
   ]
  },
  {
   "cell_type": "code",
   "execution_count": 4,
   "metadata": {},
   "outputs": [],
   "source": [
    "def getPostInfosFromContent(content):\n",
    "    jsonDataArray = re.findall(r'\\{\\\"result\\\"\\:\\{\\\"data.*?,\\\"variables', content)\n",
    "    #ex. {\"result\": [get this result], \"variables\": [ignored]}\n",
    "    posts = {}\n",
    "    for jsonData in jsonDataArray:\n",
    "        jsonData = jsonData[10: -31]\n",
    "        try:\n",
    "            data = json.loads(jsonData)['data']['feedback']\n",
    "            commentsInfo = data['display_comments']['edges']\n",
    "            comments = []\n",
    "            for comment in commentsInfo:\n",
    "                comment = comment['node']\n",
    "                if comment['body'] is not None:\n",
    "                    comments.append({\n",
    "                        'id': comment['id'],\n",
    "                        'time': comment['created_time'],\n",
    "#                         'author': comment['author'], # deep information of user\n",
    "                        'message': comment['body']['text'],\n",
    "                        'like': comment['feedback']['reactors']['count']\n",
    "                    })\n",
    "            actorId = data['owning_profile']['id']\n",
    "            postId = data['share_fbid']\n",
    "            posts['{}_{}'.format(actorId, postId)] = {\n",
    "                'like': data['reaction_count']['count'],\n",
    "                'share': data['share_count']['count'],\n",
    "                'comment': data['display_comments_count']['count'],\n",
    "                'commentsHighlight': comments\n",
    "            }\n",
    "        except:\n",
    "            continue\n",
    "    return posts\n",
    "\n",
    "def getPostsFromContent(content, postInfos):\n",
    "    soup = BeautifulSoup(content, 'html.parser')\n",
    "    divs = soup.find_all('div', {'class': '_5pcr userContentWrapper'})\n",
    "    posts = []\n",
    "    for div in divs:\n",
    "        try:\n",
    "            posts_id = div.find_all('div', {'class': '_5pcp _5lel _2jyu _232_'})\n",
    "            posts_time = div.find_all('span', {'class': 'fsm fwn fcg'})\n",
    "            posts_link = div.find_all('a', {'class': '_5pcq'})\n",
    "            posts_text = div.find_all('div', {'class': '_5pbx userContent _3576'})\n",
    "            postIds = [re.search(r'_[0-9]+;[0-9]+;', div['id']).group()[1:-1].replace(';', '_') for div in posts_id]\n",
    "            postTimes = [int(span.abbr['data-utime']) for span in posts_time]\n",
    "            postLinks = ['https://www.facebook.com' + a['href'] for a in posts_link]\n",
    "            postMessages = []\n",
    "            for div in posts_text:\n",
    "                for span in div.find_all('span', {'class': 'text_exposed_hide'}):\n",
    "                    span.decompose()\n",
    "                for span in div.find_all('span', {'class': 'see_more_link_inner'}):\n",
    "                    span.decompose()\n",
    "                postMessages.append(div.get_text())\n",
    "            posts.append({\n",
    "                'id': postIds[0],\n",
    "                'time': postTimes[0],\n",
    "                'link': postLinks[0],\n",
    "                'message': postMessages[0],\n",
    "                'like': postInfos[postIds[0]]['like'],\n",
    "                'share': postInfos[postIds[0]]['share'],\n",
    "                'comment': postInfos[postIds[0]]['comment'],\n",
    "                'commentsHighlight': postInfos[postIds[0]]['commentsHighlight']\n",
    "            })\n",
    "        except:\n",
    "#             print('Exception')\n",
    "            continue\n",
    "    return posts"
   ]
  },
  {
   "cell_type": "markdown",
   "metadata": {},
   "source": [
    "# Working"
   ]
  },
  {
   "cell_type": "markdown",
   "metadata": {},
   "source": [
    "page_id(varchar)\t\n",
    "post_id(int)\n",
    "post_user_id(int)\n",
    "post_link(varchar)\t\n",
    "post_time(datetime)\t\n",
    "post_share_count(int)\t\n",
    "post_like_count(int)\t\n",
    "post_angry_count(int)\t\n",
    "post_love_count(int)\t\n",
    "post_sad_count(int)\t\n",
    "post_wow_count(int)\t\n",
    "post_haha_count(int)\t\n",
    "crawl_timestamp(datetime)"
   ]
  },
  {
   "cell_type": "code",
   "execution_count": 5,
   "metadata": {
    "scrolled": true
   },
   "outputs": [],
   "source": [
    "import datetime\n",
    "def get_post_detail(content,content2):\n",
    "    jsonDataArray = re.findall(r'\\{\\\"result\\\"\\:\\{\\\"data.*?,\\\"variables', content)\n",
    "#     print(len(jsonDataArray))#19\n",
    "    posts_info = {}\n",
    "    for jsonData in jsonDataArray: # some string\n",
    "        # print(jsonData[0:10])#{\"result\":\n",
    "        jsonData=jsonData[10: -31] # remove {\"result\":\n",
    "\n",
    "        data= json.loads(jsonData)['data']['feedback']\n",
    "        # print(data.keys())\n",
    "        post_id =data['share_fbid']\n",
    "        # print(post_id)\n",
    "        post_user_id = data['owning_profile']['id']\n",
    "        # print(post_user_id)\n",
    "        post_link = data['url']\n",
    "        # post_time(datetime)#########\n",
    "        post_share_count =data['share_count']['count']\n",
    "        post_reactor_count= data['reactors']['count']\n",
    "        # print(len(data['top_reactions']['edges']))\n",
    "        post_comment_count=data['comment_count']['total_count']\n",
    "        post_react_dict ={'LIKE':0\n",
    "                         ,'HAHA':0\n",
    "                         ,'WOW':0\n",
    "                         ,'SORRY':0\n",
    "                         ,'LOVE':0\n",
    "                         ,'ANGER':0}\n",
    "\n",
    "        for edge in data['top_reactions']['edges']:\n",
    "            post_react_dict[edge['node']['reaction_type']]=edge['reaction_count']\n",
    "\n",
    "        post_like_count = post_react_dict['LIKE']\n",
    "        post_angry_count = post_react_dict['ANGER']\n",
    "        post_love_count = post_react_dict['LOVE']\n",
    "        post_sad_count = post_react_dict['SORRY']\n",
    "        post_wow_count = post_react_dict['WOW']\n",
    "        post_haha_count = post_react_dict['HAHA']\n",
    "        crawl_timestamp =datetime.datetime.now()\n",
    "\n",
    "        posts_info['{}_{}'.format(post_user_id, post_id)] = {\n",
    "            'post_id':post_id\n",
    "            ,'post_user_id':post_user_id\n",
    "            ,'post_link': post_link\n",
    "            ,'post_share_count':post_share_count\n",
    "            ,'post_reactor_count': post_reactor_count\n",
    "            ,'post_comment_count': post_comment_count\n",
    "            ,'post_like_count':post_like_count\n",
    "            ,'post_angry_count':post_angry_count\n",
    "            ,'post_love_count':post_love_count\n",
    "            ,'post_sad_count':post_sad_count\n",
    "            ,'post_wow_count':post_wow_count\n",
    "            ,'post_haha_count':post_haha_count\n",
    "            ,'crawl_timestamp':crawl_timestamp}\n",
    "        \n",
    "    soup = BeautifulSoup(content2, 'html.parser')\n",
    "    divs = soup.find_all('div', {'class': '_5pcr userContentWrapper'})\n",
    "    posts = []\n",
    "\n",
    "    for div in divs:\n",
    "        try:\n",
    "            posts_id = div.find_all('div', {'class': '_5pcp _5lel _2jyu _232_'})\n",
    "            posts_time = div.find_all('span', {'class': 'fsm fwn fcg'})\n",
    "            posts_link = div.find_all('a', {'class': '_5pcq'})\n",
    "            posts_text = div.find_all('div', {'class': '_5pbx userContent _3576'})\n",
    "            postIds = [re.search(r'_[0-9]+;[0-9]+;', div['id']).group()[1:-1].replace(';', '_') for div in posts_id]\n",
    "            postTimes = [int(span.abbr['data-utime']) for span in posts_time]\n",
    "            postLinks = ['https://www.facebook.com' + a['href'] for a in posts_link]\n",
    "            postMessages = []\n",
    "            for div in posts_text:\n",
    "                for span in div.find_all('span', {'class': 'text_exposed_hide'}):\n",
    "                    span.decompose()\n",
    "                for span in div.find_all('span', {'class': 'see_more_link_inner'}):\n",
    "                    span.decompose()\n",
    "                postMessages.append(div.get_text())\n",
    "            posts.append({\n",
    "                'post_page_id':posts_info[postIds[0]]['post_user_id'],\n",
    "                'post_id': posts_info[postIds[0]]['post_id'],\n",
    "                'post_time': postTimes[0],\n",
    "                'post_link': postLinks[0],\n",
    "                'post_message': postMessages[0],\n",
    "                'post_like_count': posts_info[postIds[0]]['post_like_count'],\n",
    "                'post_share_count': posts_info[postIds[0]]['post_share_count'],\n",
    "                'post_reactor_count': posts_info[postIds[0]]['post_reactor_count'],\n",
    "                'post_comment_count': posts_info[postIds[0]]['post_comment_count'],\n",
    "                'post_angry_count':posts_info[postIds[0]]['post_angry_count'],\n",
    "                'post_love_count':posts_info[postIds[0]]['post_love_count'],\n",
    "                'post_sad_count':posts_info[postIds[0]]['post_sad_count'],\n",
    "                'post_wow_count':posts_info[postIds[0]]['post_wow_count'],\n",
    "                'post_haha_count':posts_info[postIds[0]]['post_haha_count'],\n",
    "                'post_crawl_time':crawl_timestamp\n",
    "            })\n",
    "        except:\n",
    "            continue\n",
    "    return posts\n",
    "# get_post_detail(content)"
   ]
  },
  {
   "cell_type": "code",
   "execution_count": null,
   "metadata": {},
   "outputs": [],
   "source": [
    "jsonDataArray = re.findall(r'\\{\\\"result\\\"\\:\\{\\\"data.*?,\\\"variables', content)\n",
    "#     print(len(jsonDataArray))#19\n",
    "posts_info = {}\n",
    "for jsonData in jsonDataArray: # some string\n",
    "    # print(jsonData[0:10])#{\"result\":\n",
    "    jsonData=jsonData[10: -31] # remove {\"result\":\n",
    "\n",
    "    data= json.loads(jsonData)['data']['feedback']\n",
    "    # print(data.keys())\n",
    "    post_id =data['share_fbid']\n",
    "    # print(post_id)\n",
    "    post_user_id = data['owning_profile']['id']\n",
    "    # print(post_user_id)\n",
    "    post_link = data['url']\n",
    "    # post_time(datetime)#########\n",
    "    post_share_count =data['share_count']['count']\n",
    "    post_reactor_count= data['reactors']['count']\n",
    "    # print(len(data['top_reactions']['edges']))\n",
    "    post_comment_count=data['comment_count']['total_count']\n",
    "    post_react_dict ={'LIKE':0\n",
    "                     ,'HAHA':0\n",
    "                     ,'WOW':0\n",
    "                     ,'SORRY':0\n",
    "                     ,'LOVE':0\n",
    "                     ,'ANGER':0}\n",
    "\n",
    "    for edge in data['top_reactions']['edges']:\n",
    "        post_react_dict[edge['node']['reaction_type']]=edge['reaction_count']\n",
    "\n",
    "    post_like_count = post_react_dict['LIKE']\n",
    "    post_angry_count = post_react_dict['ANGER']\n",
    "    post_love_count = post_react_dict['LOVE']\n",
    "    post_sad_count = post_react_dict['SORRY']\n",
    "    post_wow_count = post_react_dict['WOW']\n",
    "    post_haha_count = post_react_dict['HAHA']\n",
    "    crawl_timestamp =datetime.datetime.now()\n",
    "\n",
    "    posts_info['{}_{}'.format(post_user_id, post_id)] = {\n",
    "        'post_id':post_id\n",
    "        ,'post_user_id':post_user_id\n",
    "        ,'post_link': post_link\n",
    "        ,'post_share_count':post_share_count\n",
    "        ,'post_reactor_count': post_reactor_count\n",
    "        ,'post_comment_count': post_comment_count\n",
    "        ,'post_like_count':post_like_count\n",
    "        ,'post_angry_count':post_angry_count\n",
    "        ,'post_love_count':post_love_count\n",
    "        ,'post_sad_count':post_sad_count\n",
    "        ,'post_wow_count':post_wow_count\n",
    "        ,'post_haha_count':post_haha_count\n",
    "        ,'crawl_timestamp':crawl_timestamp}"
   ]
  },
  {
   "cell_type": "code",
   "execution_count": 16,
   "metadata": {},
   "outputs": [
    {
     "data": {
      "text/plain": [
       "'https://www.facebook.com/pages_reaction_units/more/?page_id=129558990394402&cursor=%7B%22timeline_cursor%22%3A%22AQHRulO8K-JNrfe80CH86ocODRGjYm_hEryIfGnGWbQOJXgsj58wTfE8lKQ9n-Uy57We7Gf1gmECPWQuOGP8r9YWPGi0M5wkMtb9vXhfiAsPy_EmObMdjrlLmP5a6ujEpTqQ%22%2C%22timeline_section_cursor%22%3A%7B%7D%2C%22has_next_page%22%3Atrue%7D&surface=www_pages_posts&unit_count=8&__a=1'"
      ]
     },
     "execution_count": 16,
     "metadata": {},
     "output_type": "execute_result"
    }
   ],
   "source": [
    "next_url = 'https://www.facebook.com%s&__a=1' % urlResult\n",
    "next_url"
   ]
  },
  {
   "cell_type": "markdown",
   "metadata": {},
   "source": [
    "# RUN"
   ]
  },
  {
   "cell_type": "code",
   "execution_count": null,
   "metadata": {
    "scrolled": false
   },
   "outputs": [
    {
     "name": "stdout",
     "output_type": "stream",
     "text": [
      "https://www.facebook.com/pages_reaction_units/more/?page_id=129558990394402&cursor=%7B%22timeline_cursor%22%3A%22AQHREVRg3B98o3N6ESlHihpKvgQHK6DcX-da_HmBcTwr5Tyhl7__1hjGDd0xdvrDtsPdVGO_wLwBJ09D-P8JCg3TH67WSFS-ECmrBEYwf24SQtusiopWx8eIn7RJn5nlUmqK%22%2C%22timeline_section_cursor%22%3A%7B%7D%2C%22has_next_page%22%3Atrue%7D&surface=www_pages_posts&unit_count=8&__a=1\n"
     ]
    }
   ],
   "source": [
    "pageNameOrId = 'khaosod' #'MorningNewsTV3' #'thairath' #'khaosod' \n",
    "source_url = 'https://www.facebook.com/pg/%s/posts/' % pageNameOrId\n",
    "content = html.unescape(requests.get(source_url).text)\n",
    "# postInfos = getPostInfosFromContent(content)\n",
    "# posts = getPostsFromContent(content, postInfos)\n",
    "urlResult = re.search(r'\\/pages_reaction_units.*?unit_count=8', content).group()\n",
    "# print(len(posts), posts[-1])\n",
    "urlResult\n",
    "posts=[]\n",
    "# for i in range(10):\n",
    "while True:\n",
    "    try:\n",
    "        next_url = 'https://www.facebook.com%s&__a=1' % urlResult\n",
    "        tmp_content = requests.get(next_url).text[9:]\n",
    "        next_content = json.loads(tmp_content)\n",
    "        content = html.unescape(next_content['domops'][0][3]['__html'])\n",
    "#         postInfos = getPostInfosFromContent(tmp_content)\n",
    "#         next_posts = getPostsFromContent(content, postInfos)\n",
    "        next_posts=get_post_detail(tmp_content,content)\n",
    "#         print(next_posts[0])\n",
    "        posts += next_posts\n",
    "        try:\n",
    "            urlResult = re.search(r'\\/pages_reaction_units.*?unit_count=8', content).group()\n",
    "        except:\n",
    "            print('end')\n",
    "            break\n",
    "    except:\n",
    "        print(next_url)\n",
    "        continue\n",
    "        \n",
    "df = pd.DataFrame(posts)\n",
    "df['page_name']=pageNameOrId\n",
    "df['post_time']=pd.to_datetime(df['post_time'],unit='s')\n",
    "df['post_crawl_time']=pd.to_datetime(df['post_crawl_time'])\n",
    "df.to_csv(pageNameOrId.replace('.','_')+'.csv')\n",
    "# from google.colab import files\n",
    "# files.download(pageNameOrId.replace('.','_')+'.csv')\n",
    "print(df.head(1))"
   ]
  },
  {
   "cell_type": "code",
   "execution_count": 26,
   "metadata": {},
   "outputs": [
    {
     "data": {
      "text/html": [
       "<div>\n",
       "<style scoped>\n",
       "    .dataframe tbody tr th:only-of-type {\n",
       "        vertical-align: middle;\n",
       "    }\n",
       "\n",
       "    .dataframe tbody tr th {\n",
       "        vertical-align: top;\n",
       "    }\n",
       "\n",
       "    .dataframe thead th {\n",
       "        text-align: right;\n",
       "    }\n",
       "</style>\n",
       "<table border=\"1\" class=\"dataframe\">\n",
       "  <thead>\n",
       "    <tr style=\"text-align: right;\">\n",
       "      <th></th>\n",
       "      <th>post_page_id</th>\n",
       "      <th>post_id</th>\n",
       "      <th>post_time</th>\n",
       "      <th>post_link</th>\n",
       "      <th>post_message</th>\n",
       "      <th>post_like_count</th>\n",
       "      <th>post_share_count</th>\n",
       "      <th>post_reactor_count</th>\n",
       "      <th>post_comment_count</th>\n",
       "      <th>post_angry_count</th>\n",
       "      <th>post_love_count</th>\n",
       "      <th>post_sad_count</th>\n",
       "      <th>post_wow_count</th>\n",
       "      <th>post_haha_count</th>\n",
       "      <th>post_crawl_time</th>\n",
       "      <th>pagename</th>\n",
       "    </tr>\n",
       "  </thead>\n",
       "  <tbody>\n",
       "    <tr>\n",
       "      <td>0</td>\n",
       "      <td>129558990394402</td>\n",
       "      <td>4331032443580348</td>\n",
       "      <td>2019-11-12 15:21:31</td>\n",
       "      <td>https://www.facebook.com/khaosod/posts/4331032...</td>\n",
       "      <td>คนงานไทยในอิสราเอลต้องระวังตัวอีกแล้ว ผลกระทบอ...</td>\n",
       "      <td>209</td>\n",
       "      <td>11</td>\n",
       "      <td>233</td>\n",
       "      <td>7</td>\n",
       "      <td>1</td>\n",
       "      <td>1</td>\n",
       "      <td>16</td>\n",
       "      <td>5</td>\n",
       "      <td>1</td>\n",
       "      <td>2019-11-13 02:47:37.357244</td>\n",
       "      <td>khaosod</td>\n",
       "    </tr>\n",
       "    <tr>\n",
       "      <td>1</td>\n",
       "      <td>129558990394402</td>\n",
       "      <td>4331018070248452</td>\n",
       "      <td>2019-11-12 15:14:58</td>\n",
       "      <td>https://www.facebook.com/khaosod/posts/4331018...</td>\n",
       "      <td>จะหยุดขาดทุนแล้ว!</td>\n",
       "      <td>818</td>\n",
       "      <td>23</td>\n",
       "      <td>1296</td>\n",
       "      <td>216</td>\n",
       "      <td>4</td>\n",
       "      <td>4</td>\n",
       "      <td>2</td>\n",
       "      <td>40</td>\n",
       "      <td>428</td>\n",
       "      <td>2019-11-13 02:47:37.357244</td>\n",
       "      <td>khaosod</td>\n",
       "    </tr>\n",
       "    <tr>\n",
       "      <td>2</td>\n",
       "      <td>129558990394402</td>\n",
       "      <td>4330991473584445</td>\n",
       "      <td>2019-11-12 15:01:10</td>\n",
       "      <td>https://www.facebook.com/khaosod/posts/4330991...</td>\n",
       "      <td>พิลึกจริง! หนุ่มส่งของออกอุบายหลอกยาย ขโมยทอง ...</td>\n",
       "      <td>582</td>\n",
       "      <td>9</td>\n",
       "      <td>640</td>\n",
       "      <td>26</td>\n",
       "      <td>1</td>\n",
       "      <td>1</td>\n",
       "      <td>2</td>\n",
       "      <td>11</td>\n",
       "      <td>43</td>\n",
       "      <td>2019-11-13 02:47:37.357244</td>\n",
       "      <td>khaosod</td>\n",
       "    </tr>\n",
       "    <tr>\n",
       "      <td>3</td>\n",
       "      <td>129558990394402</td>\n",
       "      <td>4330912990258960</td>\n",
       "      <td>2019-11-12 14:55:10</td>\n",
       "      <td>https://www.facebook.com/khaosod/posts/4330912...</td>\n",
       "      <td>ตัวแทนลิขสิทธิ์ แจ้งจับเกรียนคีย์บอร์ด</td>\n",
       "      <td>786</td>\n",
       "      <td>16</td>\n",
       "      <td>1367</td>\n",
       "      <td>303</td>\n",
       "      <td>14</td>\n",
       "      <td>1</td>\n",
       "      <td>1</td>\n",
       "      <td>32</td>\n",
       "      <td>533</td>\n",
       "      <td>2019-11-13 02:47:37.357244</td>\n",
       "      <td>khaosod</td>\n",
       "    </tr>\n",
       "    <tr>\n",
       "      <td>4</td>\n",
       "      <td>129558990394402</td>\n",
       "      <td>4330938996923026</td>\n",
       "      <td>2019-11-12 14:35:57</td>\n",
       "      <td>https://www.facebook.com/khaosod/posts/4330938...</td>\n",
       "      <td>เก๋งพุ่งชนจักรยาน คนขี่กระเด็น ตัวปลิวทะลุกระจ...</td>\n",
       "      <td>676</td>\n",
       "      <td>14</td>\n",
       "      <td>846</td>\n",
       "      <td>25</td>\n",
       "      <td>1</td>\n",
       "      <td>0</td>\n",
       "      <td>147</td>\n",
       "      <td>21</td>\n",
       "      <td>1</td>\n",
       "      <td>2019-11-13 02:47:37.357244</td>\n",
       "      <td>khaosod</td>\n",
       "    </tr>\n",
       "  </tbody>\n",
       "</table>\n",
       "</div>"
      ],
      "text/plain": [
       "      post_page_id           post_id           post_time  \\\n",
       "0  129558990394402  4331032443580348 2019-11-12 15:21:31   \n",
       "1  129558990394402  4331018070248452 2019-11-12 15:14:58   \n",
       "2  129558990394402  4330991473584445 2019-11-12 15:01:10   \n",
       "3  129558990394402  4330912990258960 2019-11-12 14:55:10   \n",
       "4  129558990394402  4330938996923026 2019-11-12 14:35:57   \n",
       "\n",
       "                                           post_link  \\\n",
       "0  https://www.facebook.com/khaosod/posts/4331032...   \n",
       "1  https://www.facebook.com/khaosod/posts/4331018...   \n",
       "2  https://www.facebook.com/khaosod/posts/4330991...   \n",
       "3  https://www.facebook.com/khaosod/posts/4330912...   \n",
       "4  https://www.facebook.com/khaosod/posts/4330938...   \n",
       "\n",
       "                                        post_message  post_like_count  \\\n",
       "0  คนงานไทยในอิสราเอลต้องระวังตัวอีกแล้ว ผลกระทบอ...              209   \n",
       "1                                  จะหยุดขาดทุนแล้ว!              818   \n",
       "2  พิลึกจริง! หนุ่มส่งของออกอุบายหลอกยาย ขโมยทอง ...              582   \n",
       "3             ตัวแทนลิขสิทธิ์ แจ้งจับเกรียนคีย์บอร์ด              786   \n",
       "4  เก๋งพุ่งชนจักรยาน คนขี่กระเด็น ตัวปลิวทะลุกระจ...              676   \n",
       "\n",
       "   post_share_count  post_reactor_count  post_comment_count  post_angry_count  \\\n",
       "0                11                 233                   7                 1   \n",
       "1                23                1296                 216                 4   \n",
       "2                 9                 640                  26                 1   \n",
       "3                16                1367                 303                14   \n",
       "4                14                 846                  25                 1   \n",
       "\n",
       "   post_love_count  post_sad_count  post_wow_count  post_haha_count  \\\n",
       "0                1              16               5                1   \n",
       "1                4               2              40              428   \n",
       "2                1               2              11               43   \n",
       "3                1               1              32              533   \n",
       "4                0             147              21                1   \n",
       "\n",
       "             post_crawl_time pagename  \n",
       "0 2019-11-13 02:47:37.357244  khaosod  \n",
       "1 2019-11-13 02:47:37.357244  khaosod  \n",
       "2 2019-11-13 02:47:37.357244  khaosod  \n",
       "3 2019-11-13 02:47:37.357244  khaosod  \n",
       "4 2019-11-13 02:47:37.357244  khaosod  "
      ]
     },
     "execution_count": 26,
     "metadata": {},
     "output_type": "execute_result"
    }
   ],
   "source": [
    "df = pd.DataFrame(posts)\n",
    "df['page_name']=pageNameOrId\n",
    "df['post_time']=pd.to_datetime(df['post_time'],unit='s')\n",
    "df['post_crawl_time']=pd.to_datetime(df['post_crawl_time'])\n",
    "df.to_csv(pageNameOrId.replace('.','_')+'.csv')\n",
    "# from google.colab import files\n",
    "# files.download(pageNameOrId.replace('.','_')+'.csv')\n",
    "print(df.head(1))"
   ]
  },
  {
   "cell_type": "markdown",
   "metadata": {},
   "source": [
    "# Post interactions\n"
   ]
  },
  {
   "cell_type": "code",
   "execution_count": 388,
   "metadata": {},
   "outputs": [],
   "source": [
    "import re, os, csv, sys, time\n",
    "import json, random, argparse\n",
    "\n",
    "from collections import Counter\n",
    "from selenium import webdriver\n",
    "from selenium.webdriver.common.keys import Keys\n",
    "from selenium.webdriver.firefox.options import Options\n",
    "from selenium.common.exceptions import TimeoutException, NoSuchElementException\n",
    "\n",
    "\n",
    "BASE_URL='https://mbasic.facebook.com/'\n",
    "def pause(min=2,max=5):\n",
    "    return round(random.uniform(min,max),1)\n",
    "def parse_likers(html):\n",
    "    return re.findall('<h3 class=\".[^\"]*\"><a href=\"(.[^\"]*)[^\"]*\">(.[^<]*)</a></h3>',html)\n",
    "\n",
    "def get_all_reactions(driver,url,reactions_per_page=4000,limit=2000,cur_length=0):\n",
    "\n",
    "    if cur_length >=limit: \n",
    "        return []\n",
    "\n",
    "    driver.get(url)\n",
    "    html = driver.page_source.encode(\"utf-8\",errors='replace').decode(\"utf-8\", errors=\"replace\")\n",
    "\n",
    "    reactions = parse_likers(html)\n",
    "    cur_length += len(reactions)\n",
    "    \n",
    "    reaction_urls = re.findall('(/ufi/reaction/profile/browser/(?!.*(?:reaction_type|total_count=0)).[^\"]*)',html)\n",
    "    reaction_urls = ['%s%s'% (BASE_URL,x.replace('&amp;','&').replace('?limit=10','?limit=%d' % reactions_per_page)) for x in reaction_urls]\n",
    "    if(reaction_urls) and limit > cur_length:\n",
    "        print(cur_length)\n",
    "        time.sleep(pause())\n",
    "        url= reaction_urls[0]\n",
    "        reactions += get_all_reactions(driver,url,reactions_per_page,limit,cur_length)\n",
    "    return reactions\n",
    "\n",
    "def do_login(driver,usr,pwd):\n",
    "\n",
    "    print('[*] Trying to log in with user %s' % usr)\n",
    "    driver.get('https://www.facebook.com')\n",
    "    try:\n",
    "        elem = driver.find_element_by_id('email')\n",
    "        elem.send_keys(usr)\n",
    "        elem = driver.find_element_by_id('pass')\n",
    "        elem.send_keys(pwd)\n",
    "    except NoSuchElementException:\n",
    "        elem = driver.find_element_by_name('email')\n",
    "        elem.send_keys(usr)\n",
    "        elem = driver.find_element_by_name('pass')\n",
    "        elem.send_keys(pwd)\n",
    "    except Exception as ex:\n",
    "        print('[!] Error while logging in:')\n",
    "        print(ex)\n",
    "        sys.exit(0)\n",
    "    elem.send_keys(Keys.RETURN)\n",
    "    time.sleep(pause(2,3))"
   ]
  },
  {
   "cell_type": "code",
   "execution_count": 259,
   "metadata": {},
   "outputs": [],
   "source": [
    "import configparser\n",
    "\n",
    "config = configparser.ConfigParser()\n",
    "config.read('myconfig.ini')\n",
    "usr=config['FB']['user']\n",
    "pwd=config['FB']['pw']"
   ]
  },
  {
   "cell_type": "code",
   "execution_count": 389,
   "metadata": {},
   "outputs": [],
   "source": [
    "from  selenium import webdriver\n",
    "import datetime\n",
    "\n",
    "\n",
    "def get_reaction_url(browser,post_link):\n",
    "    browser.get(post_link)\n",
    "    if post_link.find('/videos/')>0:\n",
    "        get_element  = browser.find_elements_by_class_name(\"_7goz\")\n",
    "        soup = BeautifulSoup(get_element[0].get_attribute('innerHTML'), 'html.parser')\n",
    "        return soup.find_all('a',{'class':'_7gm_'})[0]['href']\n",
    "    else:\n",
    "        get_element  = browser.find_elements_by_class_name(\"_66lg\")\n",
    "        soup = BeautifulSoup(get_element[0].get_attribute('innerHTML'), 'html.parser')\n",
    "        return soup.find_all('a',{'class':'_3dlf'})[0]['href']\n",
    "\n",
    "def get_react_usr_list(browser,post_url,reactions_per_page=4000):\n",
    "    react_url ='https://mbasic.facebook.com'+get_reaction_url(browser,post_url)\n",
    "    browser.get(react_url)\n",
    "    get_element  = browser.find_elements_by_class_name(\"z\")\n",
    "    # print(len(get_element))\n",
    "    soup = BeautifulSoup(get_element[0].get_attribute('innerHTML'), 'html.parser')\n",
    "    # print(len(soup))\n",
    "    reacts_list= soup.find_all('a',{'class':'ba'})\n",
    "    reacts_usr_list=[]\n",
    "    for react in reacts_list:\n",
    "        react_type_url =react['href'].replace('?limit=10','?limit=%d' % reactions_per_page)\n",
    "        if not(react.findChild() is None):\n",
    "            react_name=react.findChild()['alt']\n",
    "            tmp = get_all_reactions(browser,BASE_URL+react_type_url,reactions_per_page)\n",
    "            reacts_usr_list+=[(post_url,str(react_type_url),react_name,a[0],a[1],datetime.datetime.now()) for a in tmp]\n",
    "    return reacts_usr_list\n",
    "\n",
    "\n"
   ]
  },
  {
   "cell_type": "code",
   "execution_count": 349,
   "metadata": {},
   "outputs": [
    {
     "name": "stdout",
     "output_type": "stream",
     "text": [
      "[*] Trying to log in with user poom_tanawat@hotmail.com\n",
      "urls 0\n",
      "urls 0\n",
      "urls 0\n",
      "urls 0\n"
     ]
    }
   ],
   "source": [
    "driver_path = r'chromedriver.exe'\n",
    "browser = webdriver.Chrome(executable_path=driver_path)\n",
    "\n",
    "do_login(browser,usr,pwd)\n",
    "\n",
    "\n",
    "#DO LOOP POST URL  BELOW\n",
    "\n",
    "post_url = 'https://www.facebook.com/khaosod/posts/4333333783350214'\n",
    "\n",
    "usr_list=get_react_usr_list(browser,post_url)"
   ]
  },
  {
   "cell_type": "code",
   "execution_count": 379,
   "metadata": {},
   "outputs": [
    {
     "data": {
      "text/plain": [
       "'/ufi/reaction/profile/browser/fetch/?limit=10&reaction_type=4&total_count=1&ft_ent_identifier=4333333783350214'"
      ]
     },
     "execution_count": 379,
     "metadata": {},
     "output_type": "execute_result"
    }
   ],
   "source": [
    "react_type_url"
   ]
  },
  {
   "cell_type": "code",
   "execution_count": 386,
   "metadata": {},
   "outputs": [
    {
     "data": {
      "text/plain": [
       "['https://mbasic.facebook.com//ufi/reaction/profile/browser/fetch/?limit=9999&total_count=336&ft_ent_identifier=4333333783350214',\n",
       " 'https://mbasic.facebook.com//ufi/reaction/profile/browser/fetch/?limit=9999&reaction_type=1&total_count=330&ft_ent_identifier=4333333783350214',\n",
       " 'https://mbasic.facebook.com//ufi/reaction/profile/browser/fetch/?limit=9999&reaction_type=3&total_count=3&ft_ent_identifier=4333333783350214',\n",
       " 'https://mbasic.facebook.com//ufi/reaction/profile/browser/fetch/?limit=9999&reaction_type=2&total_count=2&ft_ent_identifier=4333333783350214',\n",
       " 'https://mbasic.facebook.com//ufi/reaction/profile/browser/fetch/?limit=9999&reaction_type=4&total_count=1&ft_ent_identifier=4333333783350214']"
      ]
     },
     "execution_count": 386,
     "metadata": {},
     "output_type": "execute_result"
    }
   ],
   "source": [
    "browser.get(BASE_URL+react_type_url)\n",
    "reactions_per_page=9999\n",
    "html = browser.page_source.encode(\"utf-8\",errors='replace').decode(\"utf-8\", errors=\"replace\")\n",
    "reaction_urls=re.findall('(/ufi/reaction/profile/browser/(?!.*(?:reaction_type=\\d{}|total_count=\\d{})).[^\"]*)',html)\n",
    "reaction_urls = ['%s%s'% (BASE_URL,x.replace('&amp;','&').replace('?limit=10','?limit=%d' % reactions_per_page)) for x in reaction_urls]\n",
    "reaction_urls"
   ]
  },
  {
   "cell_type": "code",
   "execution_count": 344,
   "metadata": {},
   "outputs": [
    {
     "data": {
      "text/html": [
       "<div>\n",
       "<style scoped>\n",
       "    .dataframe tbody tr th:only-of-type {\n",
       "        vertical-align: middle;\n",
       "    }\n",
       "\n",
       "    .dataframe tbody tr th {\n",
       "        vertical-align: top;\n",
       "    }\n",
       "\n",
       "    .dataframe thead th {\n",
       "        text-align: right;\n",
       "    }\n",
       "</style>\n",
       "<table border=\"1\" class=\"dataframe\">\n",
       "  <thead>\n",
       "    <tr style=\"text-align: right;\">\n",
       "      <th></th>\n",
       "      <th></th>\n",
       "      <th>react_url</th>\n",
       "      <th>user_url</th>\n",
       "      <th>usr_name</th>\n",
       "      <th>crawl_timestamp</th>\n",
       "    </tr>\n",
       "    <tr>\n",
       "      <th>post_url</th>\n",
       "      <th>type</th>\n",
       "      <th></th>\n",
       "      <th></th>\n",
       "      <th></th>\n",
       "      <th></th>\n",
       "    </tr>\n",
       "  </thead>\n",
       "  <tbody>\n",
       "    <tr>\n",
       "      <td rowspan=\"4\" valign=\"top\">https://www.facebook.com/khaosod/posts/4333333783350214</td>\n",
       "      <td>Haha</td>\n",
       "      <td>1</td>\n",
       "      <td>1</td>\n",
       "      <td>1</td>\n",
       "      <td>1</td>\n",
       "    </tr>\n",
       "    <tr>\n",
       "      <td>Like</td>\n",
       "      <td>329</td>\n",
       "      <td>329</td>\n",
       "      <td>329</td>\n",
       "      <td>329</td>\n",
       "    </tr>\n",
       "    <tr>\n",
       "      <td>Love</td>\n",
       "      <td>2</td>\n",
       "      <td>2</td>\n",
       "      <td>2</td>\n",
       "      <td>2</td>\n",
       "    </tr>\n",
       "    <tr>\n",
       "      <td>Wow</td>\n",
       "      <td>3</td>\n",
       "      <td>3</td>\n",
       "      <td>3</td>\n",
       "      <td>3</td>\n",
       "    </tr>\n",
       "  </tbody>\n",
       "</table>\n",
       "</div>"
      ],
      "text/plain": [
       "                                                         react_url  user_url  \\\n",
       "post_url                                           type                        \n",
       "https://www.facebook.com/khaosod/posts/43333337... Haha          1         1   \n",
       "                                                   Like        329       329   \n",
       "                                                   Love          2         2   \n",
       "                                                   Wow           3         3   \n",
       "\n",
       "                                                         usr_name  \\\n",
       "post_url                                           type             \n",
       "https://www.facebook.com/khaosod/posts/43333337... Haha         1   \n",
       "                                                   Like       329   \n",
       "                                                   Love         2   \n",
       "                                                   Wow          3   \n",
       "\n",
       "                                                         crawl_timestamp  \n",
       "post_url                                           type                   \n",
       "https://www.facebook.com/khaosod/posts/43333337... Haha                1  \n",
       "                                                   Like              329  \n",
       "                                                   Love                2  \n",
       "                                                   Wow                 3  "
      ]
     },
     "execution_count": 344,
     "metadata": {},
     "output_type": "execute_result"
    }
   ],
   "source": [
    "import pandas as pd\n",
    "df=pd.DataFrame(usr_list,columns=['post_url','react_url','type','user_url','usr_name','crawl_timestamp'])\n",
    "df.groupby(['post_url','type']).count()"
   ]
  },
  {
   "cell_type": "code",
   "execution_count": 413,
   "metadata": {},
   "outputs": [],
   "source": [
    "#all post\n",
    "link_list=df_post['post_link'].values\n",
    "\n",
    "#check point\n",
    "last_post ='https://www.facebook.com/khaosod/posts/4330387983644794'\n",
    "last_post_index=df_post[df_post['post_link']==last_post].index[0]\n",
    "link_list=df_post.loc[last_post_index:,['post_link']].values"
   ]
  },
  {
   "cell_type": "code",
   "execution_count": null,
   "metadata": {},
   "outputs": [
    {
     "name": "stdout",
     "output_type": "stream",
     "text": [
      "[*] Trying to log in with user poom_tanawat@hotmail.com\n"
     ]
    }
   ],
   "source": [
    "# Crawler\n",
    "driver_path = r'chromedriver.exe'\n",
    "browser = webdriver.Chrome(executable_path=driver_path)\n",
    "do_login(browser,usr,pwd)\n",
    "usr_list=[]\n",
    "filename='khaosod'\n",
    "df_post =pd.read_csv('crawl_data/{}.csv'.format(filename))\n",
    "\n",
    "for i, link in enumerate(link_list):\n",
    "    tmp=get_react_usr_list(browser,link)\n",
    "    usr_list+=tmp\n",
    "    print(i,'completed',len(tmp))"
   ]
  },
  {
   "cell_type": "code",
   "execution_count": 391,
   "metadata": {},
   "outputs": [],
   "source": [
    "import pandas as pd\n",
    "df=pd.DataFrame(usr_list,columns=['post_url','react_url','type','user_url','usr_name','crawl_timestamp'])\n",
    "df.to_csv('{}_post_interact.csv'.format(filename))"
   ]
  },
  {
   "cell_type": "code",
   "execution_count": 393,
   "metadata": {},
   "outputs": [
    {
     "data": {
      "text/plain": [
       "234862"
      ]
     },
     "execution_count": 393,
     "metadata": {},
     "output_type": "execute_result"
    }
   ],
   "source": [
    "df.groupby(['post_url','type']).count()\n",
    "len(df)"
   ]
  },
  {
   "cell_type": "markdown",
   "metadata": {},
   "source": [
    "# Analysis\n"
   ]
  },
  {
   "cell_type": "markdown",
   "metadata": {},
   "source": [
    "## page analysis"
   ]
  },
  {
   "cell_type": "code",
   "execution_count": 12,
   "metadata": {},
   "outputs": [
    {
     "name": "stdout",
     "output_type": "stream",
     "text": [
      "C:\\Users\\Tanawat Chiewhawn\\PycharmProjects\\sna_project\n"
     ]
    }
   ],
   "source": [
    "\n",
    "# varify the path using getcwd() \n",
    "cwd = os.getcwd() \n",
    "print(cwd)"
   ]
  },
  {
   "cell_type": "code",
   "execution_count": 13,
   "metadata": {},
   "outputs": [],
   "source": [
    "import glob\n",
    "import os\n",
    "import pandas as pd\n",
    "\n",
    "filelist = []\n",
    "\n",
    "csv_path ='crawl_data/'\n",
    "cwd = os.getcwd() \n",
    "os.chdir(csv_path)\n",
    "for counter, files in enumerate(glob.glob(\"*.csv\")):\n",
    "    filelist.append(files)\n",
    "    \n",
    "os.chdir(cwd)"
   ]
  },
  {
   "cell_type": "code",
   "execution_count": 5,
   "metadata": {},
   "outputs": [
    {
     "data": {
      "text/plain": [
       "['DramaAdd.csv',\n",
       " 'khaosod.csv',\n",
       " 'MorningNewsTV3.csv',\n",
       " 'thairath.csv',\n",
       " 'workpoint.csv']"
      ]
     },
     "execution_count": 5,
     "metadata": {},
     "output_type": "execute_result"
    }
   ],
   "source": [
    "filelist"
   ]
  },
  {
   "cell_type": "code",
   "execution_count": 57,
   "metadata": {},
   "outputs": [
    {
     "name": "stdout",
     "output_type": "stream",
     "text": [
      "12912\n"
     ]
    },
    {
     "data": {
      "text/html": [
       "<div>\n",
       "<style scoped>\n",
       "    .dataframe tbody tr th:only-of-type {\n",
       "        vertical-align: middle;\n",
       "    }\n",
       "\n",
       "    .dataframe tbody tr th {\n",
       "        vertical-align: top;\n",
       "    }\n",
       "\n",
       "    .dataframe thead th {\n",
       "        text-align: right;\n",
       "    }\n",
       "</style>\n",
       "<table border=\"1\" class=\"dataframe\">\n",
       "  <thead>\n",
       "    <tr style=\"text-align: right;\">\n",
       "      <th></th>\n",
       "      <th>Unnamed: 0</th>\n",
       "      <th>post_page_id</th>\n",
       "      <th>post_id</th>\n",
       "      <th>post_time</th>\n",
       "      <th>post_link</th>\n",
       "      <th>post_message</th>\n",
       "      <th>post_like_count</th>\n",
       "      <th>post_share_count</th>\n",
       "      <th>post_reactor_count</th>\n",
       "      <th>post_comment_count</th>\n",
       "      <th>post_angry_count</th>\n",
       "      <th>post_love_count</th>\n",
       "      <th>post_sad_count</th>\n",
       "      <th>post_wow_count</th>\n",
       "      <th>post_haha_count</th>\n",
       "      <th>post_crawl_time</th>\n",
       "      <th>page_name</th>\n",
       "      <th>filename</th>\n",
       "    </tr>\n",
       "  </thead>\n",
       "  <tbody>\n",
       "    <tr>\n",
       "      <td>0</td>\n",
       "      <td>0</td>\n",
       "      <td>141108613290</td>\n",
       "      <td>10158025410753291</td>\n",
       "      <td>2019-11-13 05:50:32</td>\n",
       "      <td>https://www.facebook.com/DramaAdd/posts/101580...</td>\n",
       "      <td>ขอแสดงความยินดีกับครอบครัวของคนเจ็บด้วยค้าบบบบบบ</td>\n",
       "      <td>5973</td>\n",
       "      <td>166</td>\n",
       "      <td>6304</td>\n",
       "      <td>425</td>\n",
       "      <td>11</td>\n",
       "      <td>102</td>\n",
       "      <td>48</td>\n",
       "      <td>34</td>\n",
       "      <td>136</td>\n",
       "      <td>2019-11-13 18:23:24.509213</td>\n",
       "      <td>DramaAdd</td>\n",
       "      <td>DramaAdd.csv</td>\n",
       "    </tr>\n",
       "    <tr>\n",
       "      <td>1</td>\n",
       "      <td>1</td>\n",
       "      <td>141108613290</td>\n",
       "      <td>10158025241038291</td>\n",
       "      <td>2019-11-13 04:30:49</td>\n",
       "      <td>https://www.facebook.com/DramaAdd/posts/101580...</td>\n",
       "      <td>ตามข่าวเมื่อวานเห็นว่า ตอนแรกพอเกิดเหตุ เจ้าหน...</td>\n",
       "      <td>3370</td>\n",
       "      <td>141</td>\n",
       "      <td>3797</td>\n",
       "      <td>687</td>\n",
       "      <td>14</td>\n",
       "      <td>4</td>\n",
       "      <td>151</td>\n",
       "      <td>72</td>\n",
       "      <td>186</td>\n",
       "      <td>2019-11-13 18:23:24.509213</td>\n",
       "      <td>DramaAdd</td>\n",
       "      <td>DramaAdd.csv</td>\n",
       "    </tr>\n",
       "    <tr>\n",
       "      <td>2</td>\n",
       "      <td>2</td>\n",
       "      <td>141108613290</td>\n",
       "      <td>10158025113403291</td>\n",
       "      <td>2019-11-13 03:38:43</td>\n",
       "      <td>https://www.facebook.com/DramaAdd/posts/101580...</td>\n",
       "      <td>ไม่มีลานกลางหมู่บ้านไว้ตากเหรอวะ</td>\n",
       "      <td>13709</td>\n",
       "      <td>1213</td>\n",
       "      <td>17280</td>\n",
       "      <td>2966</td>\n",
       "      <td>1936</td>\n",
       "      <td>13</td>\n",
       "      <td>332</td>\n",
       "      <td>216</td>\n",
       "      <td>1074</td>\n",
       "      <td>2019-11-13 18:23:24.509213</td>\n",
       "      <td>DramaAdd</td>\n",
       "      <td>DramaAdd.csv</td>\n",
       "    </tr>\n",
       "    <tr>\n",
       "      <td>3</td>\n",
       "      <td>3</td>\n",
       "      <td>141108613290</td>\n",
       "      <td>10158025087043291</td>\n",
       "      <td>2019-11-13 03:26:22</td>\n",
       "      <td>https://www.facebook.com/DramaAdd/posts/101580...</td>\n",
       "      <td>มีที่ประเทศเราที่เดียวปะวะ ตำรวจซ้อมแผนจำลอง ร...</td>\n",
       "      <td>3504</td>\n",
       "      <td>238</td>\n",
       "      <td>5645</td>\n",
       "      <td>519</td>\n",
       "      <td>46</td>\n",
       "      <td>8</td>\n",
       "      <td>215</td>\n",
       "      <td>85</td>\n",
       "      <td>1787</td>\n",
       "      <td>2019-11-13 18:23:25.668006</td>\n",
       "      <td>DramaAdd</td>\n",
       "      <td>DramaAdd.csv</td>\n",
       "    </tr>\n",
       "    <tr>\n",
       "      <td>4</td>\n",
       "      <td>4</td>\n",
       "      <td>141108613290</td>\n",
       "      <td>10157981610028291</td>\n",
       "      <td>2019-11-12 14:20:00</td>\n",
       "      <td>https://www.facebook.com/DramaAdd/videos/11937...</td>\n",
       "      <td>นอกจาก คาเฟ่อเมซอน จะใช้แก้วที่ผลิตจากพืชแล้ว ...</td>\n",
       "      <td>641</td>\n",
       "      <td>13</td>\n",
       "      <td>676</td>\n",
       "      <td>27</td>\n",
       "      <td>0</td>\n",
       "      <td>9</td>\n",
       "      <td>0</td>\n",
       "      <td>17</td>\n",
       "      <td>9</td>\n",
       "      <td>2019-11-13 18:23:25.668006</td>\n",
       "      <td>DramaAdd</td>\n",
       "      <td>DramaAdd.csv</td>\n",
       "    </tr>\n",
       "    <tr>\n",
       "      <td>...</td>\n",
       "      <td>...</td>\n",
       "      <td>...</td>\n",
       "      <td>...</td>\n",
       "      <td>...</td>\n",
       "      <td>...</td>\n",
       "      <td>...</td>\n",
       "      <td>...</td>\n",
       "      <td>...</td>\n",
       "      <td>...</td>\n",
       "      <td>...</td>\n",
       "      <td>...</td>\n",
       "      <td>...</td>\n",
       "      <td>...</td>\n",
       "      <td>...</td>\n",
       "      <td>...</td>\n",
       "      <td>...</td>\n",
       "      <td>...</td>\n",
       "      <td>...</td>\n",
       "    </tr>\n",
       "    <tr>\n",
       "      <td>2226</td>\n",
       "      <td>2226</td>\n",
       "      <td>138710736331</td>\n",
       "      <td>133964324203</td>\n",
       "      <td>2009-09-17 08:00:08</td>\n",
       "      <td>https://www.facebook.com/workpoint/posts/13396...</td>\n",
       "      <td>วันนี้ 4ทุ่มครึ่ง!!! อย่าลืมดู ล้วงลับ ตับแตก ...</td>\n",
       "      <td>2</td>\n",
       "      <td>0</td>\n",
       "      <td>2</td>\n",
       "      <td>0</td>\n",
       "      <td>0</td>\n",
       "      <td>0</td>\n",
       "      <td>0</td>\n",
       "      <td>0</td>\n",
       "      <td>0</td>\n",
       "      <td>2019-11-13 15:33:32.771176</td>\n",
       "      <td>workpoint</td>\n",
       "      <td>workpoint.csv</td>\n",
       "    </tr>\n",
       "    <tr>\n",
       "      <td>2227</td>\n",
       "      <td>2227</td>\n",
       "      <td>138710736331</td>\n",
       "      <td>134387848574</td>\n",
       "      <td>2009-09-16 10:12:17</td>\n",
       "      <td>https://www.facebook.com/workpoint/posts/13438...</td>\n",
       "      <td>ตลก 6 ฉาก ศุกร์นี้ พบกับ มิ้นท์ AF3 ศุกร์ที่ 1...</td>\n",
       "      <td>0</td>\n",
       "      <td>0</td>\n",
       "      <td>0</td>\n",
       "      <td>0</td>\n",
       "      <td>0</td>\n",
       "      <td>0</td>\n",
       "      <td>0</td>\n",
       "      <td>0</td>\n",
       "      <td>0</td>\n",
       "      <td>2019-11-13 15:33:32.771176</td>\n",
       "      <td>workpoint</td>\n",
       "      <td>workpoint.csv</td>\n",
       "    </tr>\n",
       "    <tr>\n",
       "      <td>2228</td>\n",
       "      <td>2228</td>\n",
       "      <td>138710736331</td>\n",
       "      <td>131830658084</td>\n",
       "      <td>2009-09-16 09:41:14</td>\n",
       "      <td>https://www.facebook.com/workpoint/posts/13183...</td>\n",
       "      <td>http://twitter.com/nongyoong</td>\n",
       "      <td>11</td>\n",
       "      <td>0</td>\n",
       "      <td>11</td>\n",
       "      <td>3</td>\n",
       "      <td>0</td>\n",
       "      <td>0</td>\n",
       "      <td>0</td>\n",
       "      <td>0</td>\n",
       "      <td>0</td>\n",
       "      <td>2019-11-13 15:33:34.280123</td>\n",
       "      <td>workpoint</td>\n",
       "      <td>workpoint.csv</td>\n",
       "    </tr>\n",
       "    <tr>\n",
       "      <td>2229</td>\n",
       "      <td>2229</td>\n",
       "      <td>138710736331</td>\n",
       "      <td>162035033942</td>\n",
       "      <td>2009-09-16 07:16:04</td>\n",
       "      <td>https://www.facebook.com/workpoint/posts/16203...</td>\n",
       "      <td>http://twitter.com/yoongworkpoint</td>\n",
       "      <td>2</td>\n",
       "      <td>0</td>\n",
       "      <td>2</td>\n",
       "      <td>0</td>\n",
       "      <td>0</td>\n",
       "      <td>0</td>\n",
       "      <td>0</td>\n",
       "      <td>0</td>\n",
       "      <td>0</td>\n",
       "      <td>2019-11-13 15:33:34.280123</td>\n",
       "      <td>workpoint</td>\n",
       "      <td>workpoint.csv</td>\n",
       "    </tr>\n",
       "    <tr>\n",
       "      <td>2230</td>\n",
       "      <td>2230</td>\n",
       "      <td>138710736331</td>\n",
       "      <td>135262916019</td>\n",
       "      <td>2009-09-15 13:45:31</td>\n",
       "      <td>https://www.facebook.com/workpoint/posts/13526...</td>\n",
       "      <td>ชมนิทานก่อนนอน หญิงสาวผู้อาภัพกับเจ้าชายเลอโฉม...</td>\n",
       "      <td>3</td>\n",
       "      <td>0</td>\n",
       "      <td>3</td>\n",
       "      <td>0</td>\n",
       "      <td>0</td>\n",
       "      <td>0</td>\n",
       "      <td>0</td>\n",
       "      <td>0</td>\n",
       "      <td>0</td>\n",
       "      <td>2019-11-13 15:33:34.280123</td>\n",
       "      <td>workpoint</td>\n",
       "      <td>workpoint.csv</td>\n",
       "    </tr>\n",
       "  </tbody>\n",
       "</table>\n",
       "<p>12912 rows × 18 columns</p>\n",
       "</div>"
      ],
      "text/plain": [
       "      Unnamed: 0  post_page_id            post_id            post_time  \\\n",
       "0              0  141108613290  10158025410753291  2019-11-13 05:50:32   \n",
       "1              1  141108613290  10158025241038291  2019-11-13 04:30:49   \n",
       "2              2  141108613290  10158025113403291  2019-11-13 03:38:43   \n",
       "3              3  141108613290  10158025087043291  2019-11-13 03:26:22   \n",
       "4              4  141108613290  10157981610028291  2019-11-12 14:20:00   \n",
       "...          ...           ...                ...                  ...   \n",
       "2226        2226  138710736331       133964324203  2009-09-17 08:00:08   \n",
       "2227        2227  138710736331       134387848574  2009-09-16 10:12:17   \n",
       "2228        2228  138710736331       131830658084  2009-09-16 09:41:14   \n",
       "2229        2229  138710736331       162035033942  2009-09-16 07:16:04   \n",
       "2230        2230  138710736331       135262916019  2009-09-15 13:45:31   \n",
       "\n",
       "                                              post_link  \\\n",
       "0     https://www.facebook.com/DramaAdd/posts/101580...   \n",
       "1     https://www.facebook.com/DramaAdd/posts/101580...   \n",
       "2     https://www.facebook.com/DramaAdd/posts/101580...   \n",
       "3     https://www.facebook.com/DramaAdd/posts/101580...   \n",
       "4     https://www.facebook.com/DramaAdd/videos/11937...   \n",
       "...                                                 ...   \n",
       "2226  https://www.facebook.com/workpoint/posts/13396...   \n",
       "2227  https://www.facebook.com/workpoint/posts/13438...   \n",
       "2228  https://www.facebook.com/workpoint/posts/13183...   \n",
       "2229  https://www.facebook.com/workpoint/posts/16203...   \n",
       "2230  https://www.facebook.com/workpoint/posts/13526...   \n",
       "\n",
       "                                           post_message  post_like_count  \\\n",
       "0      ขอแสดงความยินดีกับครอบครัวของคนเจ็บด้วยค้าบบบบบบ             5973   \n",
       "1     ตามข่าวเมื่อวานเห็นว่า ตอนแรกพอเกิดเหตุ เจ้าหน...             3370   \n",
       "2                      ไม่มีลานกลางหมู่บ้านไว้ตากเหรอวะ            13709   \n",
       "3     มีที่ประเทศเราที่เดียวปะวะ ตำรวจซ้อมแผนจำลอง ร...             3504   \n",
       "4     นอกจาก คาเฟ่อเมซอน จะใช้แก้วที่ผลิตจากพืชแล้ว ...              641   \n",
       "...                                                 ...              ...   \n",
       "2226  วันนี้ 4ทุ่มครึ่ง!!! อย่าลืมดู ล้วงลับ ตับแตก ...                2   \n",
       "2227  ตลก 6 ฉาก ศุกร์นี้ พบกับ มิ้นท์ AF3 ศุกร์ที่ 1...                0   \n",
       "2228                       http://twitter.com/nongyoong               11   \n",
       "2229                  http://twitter.com/yoongworkpoint                2   \n",
       "2230  ชมนิทานก่อนนอน หญิงสาวผู้อาภัพกับเจ้าชายเลอโฉม...                3   \n",
       "\n",
       "      post_share_count  post_reactor_count  post_comment_count  \\\n",
       "0                  166                6304                 425   \n",
       "1                  141                3797                 687   \n",
       "2                 1213               17280                2966   \n",
       "3                  238                5645                 519   \n",
       "4                   13                 676                  27   \n",
       "...                ...                 ...                 ...   \n",
       "2226                 0                   2                   0   \n",
       "2227                 0                   0                   0   \n",
       "2228                 0                  11                   3   \n",
       "2229                 0                   2                   0   \n",
       "2230                 0                   3                   0   \n",
       "\n",
       "      post_angry_count  post_love_count  post_sad_count  post_wow_count  \\\n",
       "0                   11              102              48              34   \n",
       "1                   14                4             151              72   \n",
       "2                 1936               13             332             216   \n",
       "3                   46                8             215              85   \n",
       "4                    0                9               0              17   \n",
       "...                ...              ...             ...             ...   \n",
       "2226                 0                0               0               0   \n",
       "2227                 0                0               0               0   \n",
       "2228                 0                0               0               0   \n",
       "2229                 0                0               0               0   \n",
       "2230                 0                0               0               0   \n",
       "\n",
       "      post_haha_count             post_crawl_time  page_name       filename  \n",
       "0                 136  2019-11-13 18:23:24.509213   DramaAdd   DramaAdd.csv  \n",
       "1                 186  2019-11-13 18:23:24.509213   DramaAdd   DramaAdd.csv  \n",
       "2                1074  2019-11-13 18:23:24.509213   DramaAdd   DramaAdd.csv  \n",
       "3                1787  2019-11-13 18:23:25.668006   DramaAdd   DramaAdd.csv  \n",
       "4                   9  2019-11-13 18:23:25.668006   DramaAdd   DramaAdd.csv  \n",
       "...               ...                         ...        ...            ...  \n",
       "2226                0  2019-11-13 15:33:32.771176  workpoint  workpoint.csv  \n",
       "2227                0  2019-11-13 15:33:32.771176  workpoint  workpoint.csv  \n",
       "2228                0  2019-11-13 15:33:34.280123  workpoint  workpoint.csv  \n",
       "2229                0  2019-11-13 15:33:34.280123  workpoint  workpoint.csv  \n",
       "2230                0  2019-11-13 15:33:34.280123  workpoint  workpoint.csv  \n",
       "\n",
       "[12912 rows x 18 columns]"
      ]
     },
     "execution_count": 57,
     "metadata": {},
     "output_type": "execute_result"
    }
   ],
   "source": [
    "import pandas as pd\n",
    "# filename='khaosod'\n",
    "\n",
    "for i,filename in enumerate(filelist):\n",
    "    if i == 0:\n",
    "        df_post =pd.read_csv('crawl_data/{}'.format(filename))\n",
    "        df_post['filename'] =filename\n",
    "    else:\n",
    "        tmp=pd.read_csv('crawl_data/{}'.format(filename))\n",
    "        tmp['filename'] =filename\n",
    "        df_post=df_post.append(tmp)\n",
    "        \n",
    "print(len(df_post))\n",
    "df_post"
   ]
  },
  {
   "cell_type": "markdown",
   "metadata": {},
   "source": [
    "# Tokenize\n"
   ]
  },
  {
   "cell_type": "code",
   "execution_count": 58,
   "metadata": {},
   "outputs": [
    {
     "name": "stdout",
     "output_type": "stream",
     "text": [
      "['ขอแสดงความยินดี', 'กับ', 'ครอบครัว', 'ของ', 'คนเจ็บ', 'ด้วย', 'ค้าบ', 'บบบบบ']\n"
     ]
    }
   ],
   "source": [
    "#test\n",
    "from pythainlp import word_tokenize\n",
    "\n",
    "text = df_post['post_message'].head(1).values[0]\n",
    "proc = word_tokenize(text, engine='newmm')\n",
    "print(proc)"
   ]
  },
  {
   "cell_type": "code",
   "execution_count": 59,
   "metadata": {},
   "outputs": [],
   "source": [
    "from pythainlp.tokenize import word_tokenize\n",
    "from pythainlp.corpus.common import thai_words\n",
    "import marisa_trie\n",
    "from pythainlp.corpus import thai_stopwords \n",
    "\n",
    "my_punc = set(['\"','“','”','ๆ','!','-','\\xa0•••',\"‘\",')','(','0','1','2','3','4','5','6','7','8','9','...','.','/',\"’\",':','%',\n",
    "               \"'\",'#'])\n",
    "\n",
    "# com_name_list=df_company['N_COMPANY_T'].apply(lambda x :str(x).split()).tolist()\n",
    "# com_name_list = set([y for x in com_name_list for y in x])\n",
    "# com_name_list= [ a for a in com_name_list if a[0] not in my_punc]\n",
    "\n",
    "\n",
    "added_words = ['ค้าบบบบบ']\n",
    "\n",
    "all_words = set(thai_words())\n",
    "for word in added_words:\n",
    "    all_words.add(word)\n",
    "c_dict = marisa_trie.Trie(all_words)\n"
   ]
  },
  {
   "cell_type": "code",
   "execution_count": 60,
   "metadata": {},
   "outputs": [],
   "source": [
    "def extract_words(title,c_dict):\n",
    "    words = ''\n",
    "    for token in title.split():\n",
    "        if token[0] == '#': # remove \n",
    "            continue\n",
    "        elif 'http'in token:\n",
    "            continue\n",
    "        else:\n",
    "            words += ' '+cut_words(token,c_dict)\n",
    "    return words\n",
    "\n",
    "def cut_words(title,c_dict):\n",
    "    words = word_tokenize(title,engine='newmm',custom_dict=c_dict,keep_whitespace=False)\n",
    "    words = [word for word in words if word not in my_punc and word not in thai_stopwords()]\n",
    "    words = [word for word in words if len(word) > 1]\n",
    "    return ' '.join(words)"
   ]
  },
  {
   "cell_type": "code",
   "execution_count": 61,
   "metadata": {
    "scrolled": true
   },
   "outputs": [
    {
     "name": "stdout",
     "output_type": "stream",
     "text": [
      "ขอแสดงความยินดีกับครอบครัวของคนเจ็บด้วยค้าบบบบบบ\n",
      " ขอแสดงความยินดี ครอบครัว คนเจ็บ ค้าบบบบบ\n"
     ]
    }
   ],
   "source": [
    "print(text)\n",
    "print(extract_words(text,c_dict))"
   ]
  },
  {
   "cell_type": "code",
   "execution_count": 62,
   "metadata": {},
   "outputs": [
    {
     "data": {
      "text/html": [
       "<div>\n",
       "<style scoped>\n",
       "    .dataframe tbody tr th:only-of-type {\n",
       "        vertical-align: middle;\n",
       "    }\n",
       "\n",
       "    .dataframe tbody tr th {\n",
       "        vertical-align: top;\n",
       "    }\n",
       "\n",
       "    .dataframe thead th {\n",
       "        text-align: right;\n",
       "    }\n",
       "</style>\n",
       "<table border=\"1\" class=\"dataframe\">\n",
       "  <thead>\n",
       "    <tr style=\"text-align: right;\">\n",
       "      <th></th>\n",
       "      <th>post_message_token</th>\n",
       "      <th>post_like_count</th>\n",
       "    </tr>\n",
       "  </thead>\n",
       "  <tbody>\n",
       "    <tr>\n",
       "      <td>0</td>\n",
       "      <td>ขอแสดงความยินดี ครอบครัว คนเจ็บ ค้าบบบบบ</td>\n",
       "      <td>5973</td>\n",
       "    </tr>\n",
       "    <tr>\n",
       "      <td>1</td>\n",
       "      <td>ข่าว ตอนแรก เกิดเหตุ เจ้าหน้าที่ตำรวจ ที่อยู่...</td>\n",
       "      <td>3370</td>\n",
       "    </tr>\n",
       "    <tr>\n",
       "      <td>2</td>\n",
       "      <td>ไม่มี ลาน กลาง หมู่บ้าน ตาก เหรอ วะ</td>\n",
       "      <td>13709</td>\n",
       "    </tr>\n",
       "    <tr>\n",
       "      <td>3</td>\n",
       "      <td>ประเทศ ปะ วะ ตำรวจ ซ้อม แผน จำลอง รับมือ วัยร...</td>\n",
       "      <td>3504</td>\n",
       "    </tr>\n",
       "    <tr>\n",
       "      <td>4</td>\n",
       "      <td>คาเฟ่ เม ซอน แก้ว ผลิต พืช ขยะ ทั้งหลายแหล่ ...</td>\n",
       "      <td>641</td>\n",
       "    </tr>\n",
       "  </tbody>\n",
       "</table>\n",
       "</div>"
      ],
      "text/plain": [
       "                                  post_message_token  post_like_count\n",
       "0           ขอแสดงความยินดี ครอบครัว คนเจ็บ ค้าบบบบบ             5973\n",
       "1   ข่าว ตอนแรก เกิดเหตุ เจ้าหน้าที่ตำรวจ ที่อยู่...             3370\n",
       "2                ไม่มี ลาน กลาง หมู่บ้าน ตาก เหรอ วะ            13709\n",
       "3   ประเทศ ปะ วะ ตำรวจ ซ้อม แผน จำลอง รับมือ วัยร...             3504\n",
       "4    คาเฟ่ เม ซอน แก้ว ผลิต พืช ขยะ ทั้งหลายแหล่ ...              641"
      ]
     },
     "execution_count": 62,
     "metadata": {},
     "output_type": "execute_result"
    }
   ],
   "source": [
    "df_post['post_message_token']=df_post['post_message'].apply(lambda x : extract_words(x,c_dict))\n",
    "df_post[['post_message_token','post_like_count']].head()"
   ]
  },
  {
   "cell_type": "code",
   "execution_count": 63,
   "metadata": {},
   "outputs": [
    {
     "name": "stdout",
     "output_type": "stream",
     "text": [
      "25334\n"
     ]
    },
    {
     "data": {
      "text/plain": [
       "(12912, 25334)"
      ]
     },
     "execution_count": 63,
     "metadata": {},
     "output_type": "execute_result"
    }
   ],
   "source": [
    "from sklearn.feature_extraction.text import CountVectorizer\n",
    "sentences= df_post['post_message_token'].str.split().tolist()\n",
    "\n",
    "tokens_list_j = [','.join(tkn) for tkn in sentences]\n",
    "cvec = CountVectorizer(analyzer=lambda x:x.split(','))\n",
    "c_feat = cvec.fit_transform(tokens_list_j)\n",
    "print(len(cvec.vocabulary_))\n",
    "c_feat.shape"
   ]
  },
  {
   "cell_type": "code",
   "execution_count": 64,
   "metadata": {},
   "outputs": [
    {
     "name": "stdout",
     "output_type": "stream",
     "text": [
      "25334\n"
     ]
    }
   ],
   "source": [
    "from sklearn.feature_extraction.text import TfidfVectorizer\n",
    "tvec = TfidfVectorizer(analyzer=lambda x:x.split(','),)\n",
    "t_feat = tvec.fit_transform(tokens_list_j)\n",
    "print(len(tvec.get_feature_names()))"
   ]
  },
  {
   "cell_type": "code",
   "execution_count": 69,
   "metadata": {},
   "outputs": [
    {
     "data": {
      "text/plain": [
       "(448, 20140)"
      ]
     },
     "execution_count": 69,
     "metadata": {},
     "output_type": "execute_result"
    }
   ],
   "source": [
    "df_post['page_name'].unique()\n",
    "X.shape"
   ]
  },
  {
   "cell_type": "code",
   "execution_count": null,
   "metadata": {},
   "outputs": [],
   "source": [
    "from sklearn.feature_extraction.text import TfidfVectorizer\n",
    "\n",
    "from yellowbrick.text import TSNEVisualizer\n",
    "from yellowbrick.datasets import load_hobbies\n",
    "\n",
    "# Load the data and create document vectors\n",
    "# corpus = load_hobbies()\n",
    "# tfidf = TfidfVectorizer()\n",
    "\n",
    "X = t_feat\n",
    "y = df_post['page_name'].tolist()\n",
    "\n",
    "# Create the visualizer and draw the vectors\n",
    "tsne = TSNEVisualizer()\n",
    "tsne.fit(X, y)\n",
    "tsne.show()"
   ]
  },
  {
   "cell_type": "markdown",
   "metadata": {},
   "source": [
    "### EXAMPLE"
   ]
  },
  {
   "cell_type": "code",
   "execution_count": 47,
   "metadata": {},
   "outputs": [
    {
     "name": "stderr",
     "output_type": "stream",
     "text": [
      "'c' argument looks like a single numeric RGB or RGBA sequence, which should be avoided as value-mapping will have precedence in case its length matches with 'x' & 'y'.  Please use a 2-D array with a single row if you really want to specify the same RGB or RGBA value for all points.\n",
      "'c' argument looks like a single numeric RGB or RGBA sequence, which should be avoided as value-mapping will have precedence in case its length matches with 'x' & 'y'.  Please use a 2-D array with a single row if you really want to specify the same RGB or RGBA value for all points.\n",
      "'c' argument looks like a single numeric RGB or RGBA sequence, which should be avoided as value-mapping will have precedence in case its length matches with 'x' & 'y'.  Please use a 2-D array with a single row if you really want to specify the same RGB or RGBA value for all points.\n",
      "'c' argument looks like a single numeric RGB or RGBA sequence, which should be avoided as value-mapping will have precedence in case its length matches with 'x' & 'y'.  Please use a 2-D array with a single row if you really want to specify the same RGB or RGBA value for all points.\n",
      "'c' argument looks like a single numeric RGB or RGBA sequence, which should be avoided as value-mapping will have precedence in case its length matches with 'x' & 'y'.  Please use a 2-D array with a single row if you really want to specify the same RGB or RGBA value for all points.\n"
     ]
    },
    {
     "data": {
      "image/png": "[encoded data removed]",
      "text/plain": [
       "<Figure size 432x288 with 1 Axes>"
      ]
     },
     "metadata": {},
     "output_type": "display_data"
    },
    {
     "data": {
      "text/plain": [
       "<matplotlib.axes._subplots.AxesSubplot at 0x1d53e6b4898>"
      ]
     },
     "execution_count": 47,
     "metadata": {},
     "output_type": "execute_result"
    }
   ],
   "source": [
    "from sklearn.feature_extraction.text import TfidfVectorizer\n",
    "\n",
    "from yellowbrick.text import TSNEVisualizer\n",
    "from yellowbrick.datasets import load_hobbies\n",
    "\n",
    "# Load the data and create document vectors\n",
    "corpus = load_hobbies()\n",
    "tfidf = TfidfVectorizer()\n",
    "\n",
    "X = tfidf.fit_transform(corpus.data)\n",
    "y = corpus.target\n",
    "\n",
    "# Create the visualizer and draw the vectors\n",
    "tsne = TSNEVisualizer()\n",
    "tsne.fit(X, y)\n",
    "tsne.show()"
   ]
  },
  {
   "cell_type": "code",
   "execution_count": 52,
   "metadata": {},
   "outputs": [
    {
     "data": {
      "text/plain": [
       "448"
      ]
     },
     "execution_count": 52,
     "metadata": {},
     "output_type": "execute_result"
    }
   ],
   "source": [
    "len(y)"
   ]
  },
  {
   "cell_type": "code",
   "execution_count": 48,
   "metadata": {},
   "outputs": [
    {
     "data": {
      "text/plain": [
       "(448, 20140)"
      ]
     },
     "execution_count": 48,
     "metadata": {},
     "output_type": "execute_result"
    }
   ],
   "source": [
    "X.shape"
   ]
  }
 ],
 "metadata": {
  "anaconda-cloud": {},
  "kernelspec": {
   "display_name": "SNA",
   "language": "python",
   "name": "sna"
  },
  "language_info": {
   "codemirror_mode": {
    "name": "ipython",
    "version": 3
   },
   "file_extension": ".py",
   "mimetype": "text/x-python",
   "name": "python",
   "nbconvert_exporter": "python",
   "pygments_lexer": "ipython3",
   "version": "3.7.0"
  },
  "toc": {
   "base_numbering": 1,
   "nav_menu": {},
   "number_sections": true,
   "sideBar": true,
   "skip_h1_title": false,
   "title_cell": "Table of Contents",
   "title_sidebar": "Contents",
   "toc_cell": false,
   "toc_position": {},
   "toc_section_display": true,
   "toc_window_display": false
  },
  "varInspector": {
   "cols": {
    "lenName": 16,
    "lenType": 16,
    "lenVar": 40
   },
   "kernels_config": {
    "python": {
     "delete_cmd_postfix": "",
     "delete_cmd_prefix": "del ",
     "library": "var_list.py",
     "varRefreshCmd": "print(var_dic_list())"
    },
    "r": {
     "delete_cmd_postfix": ") ",
     "delete_cmd_prefix": "rm(",
     "library": "var_list.r",
     "varRefreshCmd": "cat(var_dic_list()) "
    }
   },
   "types_to_exclude": [
    "module",
    "function",
    "builtin_function_or_method",
    "instance",
    "_Feature"
   ],
   "window_display": false
  }
 },
 "nbformat": 4,
 "nbformat_minor": 1
}
