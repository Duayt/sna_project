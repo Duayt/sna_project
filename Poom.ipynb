{
 "cells": [
  {
   "cell_type": "markdown",
   "metadata": {},
   "source": [
    "# Raw"
   ]
  },
  {
   "cell_type": "code",
   "execution_count": null,
   "metadata": {},
   "outputs": [],
   "source": [
    "import requests\n",
    "import re\n",
    "import html\n",
    "import json\n",
    "from bs4 import BeautifulSoup\n",
    "import pandas as pd\n"
   ]
  },
  {
   "cell_type": "code",
   "execution_count": 11,
   "metadata": {},
   "outputs": [],
   "source": [
    "def getPostInfosFromContent(content):\n",
    "    jsonDataArray = re.findall(r'\\{\\\"result\\\"\\:\\{\\\"data.*?,\\\"variables', content)\n",
    "    #ex. {\"result\": [get this result], \"variables\": [ignored]}\n",
    "    posts = {}\n",
    "    for jsonData in jsonDataArray:\n",
    "        jsonData = jsonData[10: -31]\n",
    "        try:\n",
    "            data = json.loads(jsonData)['data']['feedback']\n",
    "            commentsInfo = data['display_comments']['edges']\n",
    "            comments = []\n",
    "            for comment in commentsInfo:\n",
    "                comment = comment['node']\n",
    "                if comment['body'] is not None:\n",
    "                    comments.append({\n",
    "                        'id': comment['id'],\n",
    "                        'time': comment['created_time'],\n",
    "#                         'author': comment['author'], # deep information of user\n",
    "                        'message': comment['body']['text'],\n",
    "                        'like': comment['feedback']['reactors']['count']\n",
    "                    })\n",
    "            actorId = data['owning_profile']['id']\n",
    "            postId = data['share_fbid']\n",
    "            posts['{}_{}'.format(actorId, postId)] = {\n",
    "                'like': data['reaction_count']['count'],\n",
    "                'share': data['share_count']['count'],\n",
    "                'comment': data['display_comments_count']['count'],\n",
    "                'commentsHighlight': comments\n",
    "            }\n",
    "        except:\n",
    "            continue\n",
    "    return posts"
   ]
  },
  {
   "cell_type": "code",
   "execution_count": 12,
   "metadata": {},
   "outputs": [],
   "source": [
    "def getPostsFromContent(content, postInfos):\n",
    "    soup = BeautifulSoup(content, 'html.parser')\n",
    "    divs = soup.find_all('div', {'class': '_5pcr userContentWrapper'})\n",
    "    posts = []\n",
    "    for div in divs:\n",
    "        try:\n",
    "            posts_id = div.find_all('div', {'class': '_5pcp _5lel _2jyu _232_'})\n",
    "            posts_time = div.find_all('span', {'class': 'fsm fwn fcg'})\n",
    "            posts_link = div.find_all('a', {'class': '_5pcq'})\n",
    "            posts_text = div.find_all('div', {'class': '_5pbx userContent _3576'})\n",
    "            postIds = [re.search(r'_[0-9]+;[0-9]+;', div['id']).group()[1:-1].replace(';', '_') for div in posts_id]\n",
    "            postTimes = [int(span.abbr['data-utime']) for span in posts_time]\n",
    "            postLinks = ['https://www.facebook.com' + a['href'] for a in posts_link]\n",
    "            postMessages = []\n",
    "            for div in posts_text:\n",
    "                for span in div.find_all('span', {'class': 'text_exposed_hide'}):\n",
    "                    span.decompose()\n",
    "                for span in div.find_all('span', {'class': 'see_more_link_inner'}):\n",
    "                    span.decompose()\n",
    "                postMessages.append(div.get_text())\n",
    "            posts.append({\n",
    "                'id': postIds[0],\n",
    "                'time': postTimes[0],\n",
    "                'link': postLinks[0],\n",
    "                'message': postMessages[0],\n",
    "                'like': postInfos[postIds[0]]['like'],\n",
    "                'share': postInfos[postIds[0]]['share'],\n",
    "                'comment': postInfos[postIds[0]]['comment'],\n",
    "                'commentsHighlight': postInfos[postIds[0]]['commentsHighlight']\n",
    "            })\n",
    "        except:\n",
    "#             print('Exception')\n",
    "            continue\n",
    "    return posts"
   ]
  },
  {
   "cell_type": "code",
   "execution_count": 15,
   "metadata": {},
   "outputs": [
    {
     "data": {
      "text/plain": [
       "'/pages_reaction_units/more/?page_id=129558990394402&cursor=%7B%22timeline_cursor%22%3A%22AQHRrgsPACbXYbpx0ro3z1eJEcyGyofQK7HXEuYAFUyT5g7-AttoDzKGwhXqs74L9NasSV7Tee4w9Vi9raJN0USLXpUmdo09XY3Nk9h7q0KCFGEMXWKr-jx32Gv6fJIyVekB%22%2C%22timeline_section_cursor%22%3A%7B%7D%2C%22has_next_page%22%3Atrue%7D&surface=www_pages_posts&unit_count=8'"
      ]
     },
     "execution_count": 15,
     "metadata": {},
     "output_type": "execute_result"
    }
   ],
   "source": [
    "pageNameOrId = 'khaosod' #'MorningNewsTV3' #'thairath' #'khaosod' \n",
    "source_url = 'https://www.facebook.com/pg/%s/posts/' % pageNameOrId\n",
    "content = html.unescape(requests.get(source_url).text)\n",
    "postInfos = getPostInfosFromContent(content)\n",
    "posts = getPostsFromContent(content, postInfos)\n",
    "urlResult = re.search(r'\\/pages_reaction_units.*?unit_count=8', content).group()\n",
    "# print(len(posts), posts[-1])\n",
    "urlResult"
   ]
  },
  {
   "cell_type": "code",
   "execution_count": null,
   "metadata": {},
   "outputs": [],
   "source": [
    "import datetime \n",
    "import time\n",
    "now = datetime.datetime.now()\n",
    "firstofjuly = now.replace(month=7,day=1,hour=0, minute=0, second=0, microsecond=0)\n",
    "print(firstofjuly)\n",
    "firstofjuly=int(time.mktime(firstofjuly.timetuple()))\n",
    "print(firstofjuly)\n",
    "\n",
    "testdate = now.replace(month=9,day=17,hour=0, minute=0, second=0, microsecond=0)\n",
    "print(int(time.mktime(testdate.timetuple())))"
   ]
  },
  {
   "cell_type": "code",
   "execution_count": null,
   "metadata": {},
   "outputs": [],
   "source": [
    "# for i in range(5):\n",
    "  while True:\n",
    "    try:\n",
    "        next_url = 'https://www.facebook.com%s&__a=1' % urlResult\n",
    "        tmp_content = requests.get(next_url).text[9:]\n",
    "        next_content = json.loads(tmp_content)\n",
    "        content = html.unescape(next_content['domops'][0][3]['__html'])\n",
    "        postInfos = getPostInfosFromContent(tmp_content)\n",
    "        next_posts = getPostsFromContent(content, postInfos)\n",
    "        filtered_post = [next_post for next_post in next_posts if next_post['time'] > firstofjuly]\n",
    "        out_post = [next_post for next_post in next_posts if next_post['time'] <= firstofjuly]\n",
    "        posts += filtered_post\n",
    "        if len(filtered_post) < len(next_posts):\n",
    "            print('End by date')\n",
    "            break\n",
    "        try:\n",
    "            urlResult = re.search(r'\\/pages_reaction_units.*?unit_count=8', content).group()\n",
    "        except:\n",
    "            print('end')\n",
    "            break\n",
    "    except:\n",
    "        print(next_url)\n",
    "        continue\n",
    "print(len(posts), posts[-1])"
   ]
  },
  {
   "cell_type": "code",
   "execution_count": null,
   "metadata": {},
   "outputs": [
    {
     "name": "stdout",
     "output_type": "stream",
     "text": [
      "/pages_reaction_units/more/?page_id=129558990394402&cursor=%7B%22timeline_cursor%22%3A%22AQHRwjQt8lPxNrlQgNdtk0GHOWNUe9T8Yv6ZpTYNBAHwHJdnAoViNhAZdkHsit6Tc5DMiGGkDfBw1o8LroUtm8ResfaHtW0cJmHEUAa_Nkvq1ZWlnUxEF-Ax-q2J6YPXLn5e%22%2C%22timeline_section_cursor%22%3A%7B%7D%2C%22has_next_page%22%3Atrue%7D&surface=www_pages_posts&unit_count=8\n",
      "/pages_reaction_units/more/?page_id=129558990394402&cursor=%7B%22timeline_cursor%22%3A%22AQHRCQx_3q3WUpPHfq2I-lk2vzjYjZUkwpAiXK2c3sPH_fn17WEf6UiEKZhQlaWFOuSJ1T_Xk24Y7HYpoDwdBeAHSbwJ6LNCff9meznikz04gmNCJvsNbLdhOlQykCXCGSRf%22%2C%22timeline_section_cursor%22%3A%7B%7D%2C%22has_next_page%22%3Atrue%7D&surface=www_pages_posts&unit_count=8\n",
      "/pages_reaction_units/more/?page_id=129558990394402&cursor=%7B%22timeline_cursor%22%3A%22AQHRZ5_hIEKtgeOk4rAq_Ng3xm9dh_rHezou6cD5edF8ZAUBPB1ICzyG2Z69_RxCAtAbdJrj8X1EV7RzaY9h1pY82RFG7szke4rz_MOjLmDPR-1w2pTSGujLiZHFX5LvFnDT%22%2C%22timeline_section_cursor%22%3A%7B%7D%2C%22has_next_page%22%3Atrue%7D&surface=www_pages_posts&unit_count=8\n",
      "/pages_reaction_units/more/?page_id=129558990394402&cursor=%7B%22timeline_cursor%22%3A%22AQHRN_-RsZrBpof8ZaAbjYYILANSMwyvWzodTdnSrdjDG9-t2g7MmpXdLoYtCL71zsx0a9tvo4C922RyVhcmMx6DrC_GrvUWkr_0W_YIRVrGGn0kf2ONik4RfZ3iakg6bz-e%22%2C%22timeline_section_cursor%22%3A%7B%7D%2C%22has_next_page%22%3Atrue%7D&surface=www_pages_posts&unit_count=8\n",
      "/pages_reaction_units/more/?page_id=129558990394402&cursor=%7B%22timeline_cursor%22%3A%22AQHR_u47ik-A4J9yuP2X__LFtdKtiF1aN6ZhniD15RzbcGTQZlLKpiRKs4I4Vwr0I15O1J8jtPUthivgt62_v1ggD5AsbQ6_ffp6u9Y3W4xSwxcqtWi_ztxIGdHUr-CwB6iz%22%2C%22timeline_section_cursor%22%3A%7B%7D%2C%22has_next_page%22%3Atrue%7D&surface=www_pages_posts&unit_count=8\n",
      "/pages_reaction_units/more/?page_id=129558990394402&cursor=%7B%22timeline_cursor%22%3A%22AQHRyGIQLm7nE_isYQG8wgV9ctYnkYLFIYEBCd3aoB0ouxdzOVNwSedo2d9kViIcNuYbE5qVgYNIfXAAglEmL72n63BPCP7JNAOYgm8T5nWpHN6YcZgCgxLgCgxqKe3csJ10%22%2C%22timeline_section_cursor%22%3A%7B%7D%2C%22has_next_page%22%3Atrue%7D&surface=www_pages_posts&unit_count=8\n",
      "/pages_reaction_units/more/?page_id=129558990394402&cursor=%7B%22timeline_cursor%22%3A%22AQHRck9jQFYIjxmqks5zcOw77l_sqbPWwnF_QF8mDuT_kcVQkIl1JjaobL5Z6o4lmK7c6MqLw8ahIJz_l0G8766aCUDnHSci2KH5HUMMM_6rU4W2F9GCmFGIlmKms-whYJYt%22%2C%22timeline_section_cursor%22%3A%7B%7D%2C%22has_next_page%22%3Atrue%7D&surface=www_pages_posts&unit_count=8\n",
      "/pages_reaction_units/more/?page_id=129558990394402&cursor=%7B%22timeline_cursor%22%3A%22AQHRLgOCQtYb61dsZqoYS1tPtX1ibgQkN1g0ZdpbxrWr0kN8qHbWvZziPfEn52Q3A1Ytfr-BkbSTk4wicff6BxrmITyNjW9piXoqt5z5YnLn1WNWK_lLpmn6DR5JVL3UmuWz%22%2C%22timeline_section_cursor%22%3A%7B%7D%2C%22has_next_page%22%3Atrue%7D&surface=www_pages_posts&unit_count=8\n",
      "/pages_reaction_units/more/?page_id=129558990394402&cursor=%7B%22timeline_cursor%22%3A%22AQHRfzc_rjghP5pLz9Yu3a28HSYU0MiBqaxosgCw2ndL-IlKll6lyiRqyDfBVCYzunBdm6rrm_-Y_CYmRy8xygx7BnUR6Gc1rmYOKmGh8KrTl77gYhtYYeRviHOBy8wf-KvL%22%2C%22timeline_section_cursor%22%3A%7B%7D%2C%22has_next_page%22%3Atrue%7D&surface=www_pages_posts&unit_count=8\n",
      "/pages_reaction_units/more/?page_id=129558990394402&cursor=%7B%22timeline_cursor%22%3A%22AQHRGlVexK0olhMvkGb2eRQY4wg9mkKcc5AoJQTMJLUH6Q2C7clK5WMhDi9VdsotBhvu8TAatmfdaQjiCsHnfHA8k7tljhpVA7xxtD8x0wYjQfDyWA1TuGD45zkQeysUipdO%22%2C%22timeline_section_cursor%22%3A%7B%7D%2C%22has_next_page%22%3Atrue%7D&surface=www_pages_posts&unit_count=8\n",
      "/pages_reaction_units/more/?page_id=129558990394402&cursor=%7B%22timeline_cursor%22%3A%22AQHRqu9uNIeBx8toeZe_OIf2A074jJIpHujfeItQOoyQBl2qeRjPn6vINR3-C0rgzbiF9FKx-fCtwFg1Zq-p9Jk1XYOTknfUFo6txRwmzVij053ZXr4Qlecg6ClTV0ueM4p0%22%2C%22timeline_section_cursor%22%3A%7B%7D%2C%22has_next_page%22%3Atrue%7D&surface=www_pages_posts&unit_count=8\n",
      "/pages_reaction_units/more/?page_id=129558990394402&cursor=%7B%22timeline_cursor%22%3A%22AQHRsMcsEUwRedaZQJ14UCTvRrSn1sAPAG84ciwmYF5w4fFnRvO-JQJ6zYP_gfbF5dcevYnLbVLrBZ16ihUHZontB3SlWOd7Zcj9KdbRhsmM3H6q78gtlWPZ9zJkuCL5eMqh%22%2C%22timeline_section_cursor%22%3A%7B%7D%2C%22has_next_page%22%3Atrue%7D&surface=www_pages_posts&unit_count=8\n",
      "/pages_reaction_units/more/?page_id=129558990394402&cursor=%7B%22timeline_cursor%22%3A%22AQHRhvCMECPpNhGQbNt4aaWx2yJjJ4QNhqCZRhcJo3bNjeTqAUYqiIN5vo0mfdL9vIBeWyP0yumLcHB5WFFFumRmAVCfGhl4FbTn1waU6RTg2lyMqSGRVcYvpajhZzE6YO4Y%22%2C%22timeline_section_cursor%22%3A%7B%7D%2C%22has_next_page%22%3Atrue%7D&surface=www_pages_posts&unit_count=8\n",
      "/pages_reaction_units/more/?page_id=129558990394402&cursor=%7B%22timeline_cursor%22%3A%22AQHRRuCzXY0n88CE03kbgbszDNhhNJlw37TJBrkgYdf2gdWOpY0R54mR75kNuaZzcW63uLq-6VXJX-6UwjsEvHjyOqfgqJ0NuZQr29YwlJHnS8dWwF0TeWF0yYCwXXIybfaQ%22%2C%22timeline_section_cursor%22%3A%7B%7D%2C%22has_next_page%22%3Atrue%7D&surface=www_pages_posts&unit_count=8\n",
      "https://www.facebook.com/pages_reaction_units/more/?page_id=129558990394402&cursor=%7B%22timeline_cursor%22%3A%22AQHRRuCzXY0n88CE03kbgbszDNhhNJlw37TJBrkgYdf2gdWOpY0R54mR75kNuaZzcW63uLq-6VXJX-6UwjsEvHjyOqfgqJ0NuZQr29YwlJHnS8dWwF0TeWF0yYCwXXIybfaQ%22%2C%22timeline_section_cursor%22%3A%7B%7D%2C%22has_next_page%22%3Atrue%7D&surface=www_pages_posts&unit_count=8&__a=1\n",
      "/pages_reaction_units/more/?page_id=129558990394402&cursor=%7B%22timeline_cursor%22%3A%22AQHRfEAGLeuvXr93s5BWvMxHYG0x--UGHtDhCDKOR-2aERxmaOQmXPYKyQ_uhFSaQt878JiYuMo3HRY5W5O7MC0CB8cguudwttEsuxnvGFC9IDiTQdFmWxz_SzYLC2jnBW1S%22%2C%22timeline_section_cursor%22%3A%7B%7D%2C%22has_next_page%22%3Atrue%7D&surface=www_pages_posts&unit_count=8\n",
      "/pages_reaction_units/more/?page_id=129558990394402&cursor=%7B%22timeline_cursor%22%3A%22AQHRf8zmyf4b6IMrfDUkeUutov1UoZDFlQAHm1cRSnvNSlUxa4z9Tb26sRKio8kNp_EwL8lKSBRnPAucTjxIcp6b4AvicO2GbsYt-ddHfhKINYO-SDy03uxm29a6HDDOykdn%22%2C%22timeline_section_cursor%22%3A%7B%7D%2C%22has_next_page%22%3Atrue%7D&surface=www_pages_posts&unit_count=8\n",
      "/pages_reaction_units/more/?page_id=129558990394402&cursor=%7B%22timeline_cursor%22%3A%22AQHRCvO2ScnKJOat5lky-ngQh3bvcs1BgwCp0hzUfdVytjzx4LsPhcxd_KkYmRvSI4nAR0Aa_WafqtjWo_aJO72Xcauqx7sRtz1OjyP8HTnubiz84bReHt43VRYNYMrG8iK7%22%2C%22timeline_section_cursor%22%3A%7B%7D%2C%22has_next_page%22%3Atrue%7D&surface=www_pages_posts&unit_count=8\n",
      "/pages_reaction_units/more/?page_id=129558990394402&cursor=%7B%22timeline_cursor%22%3A%22AQHRmBnk1IphrMm2uuyeK8YnuY86jJkHNBqlOBJbl76P7MFUv8U0K68BEGz_s96ZoOFE2hVw3SpVgo4Udnvng3SJ617hveHhgquUpNCgvILi8H2eiVn7cvHbfzL39Ci29tBj%22%2C%22timeline_section_cursor%22%3A%7B%7D%2C%22has_next_page%22%3Atrue%7D&surface=www_pages_posts&unit_count=8\n",
      "/pages_reaction_units/more/?page_id=129558990394402&cursor=%7B%22timeline_cursor%22%3A%22AQHRqIkMbhwjCHci7BZLq55jIILqiiAjnhdtsC60z3zkS7t10bfbQZ_dY3hT93Q8d1lUAZYaKFb28FgFeezeFhynN3oNrfjenivyQdi0xRTITSTtRSHaiNOZ1jv0_42otoje%22%2C%22timeline_section_cursor%22%3A%7B%7D%2C%22has_next_page%22%3Atrue%7D&surface=www_pages_posts&unit_count=8\n",
      "/pages_reaction_units/more/?page_id=129558990394402&cursor=%7B%22timeline_cursor%22%3A%22AQHR5AROqpNAZhg2feEjJMNwoKsB7KBDt9j6PFRMPIyRqrrJTF2HACJgtl8Yv_VhvWF5NmCeVcMkZqf24xTlncrsJ92tvbfZGwPfxTv290scFK-AVuahPHgFLhYLSYSK6rvL%22%2C%22timeline_section_cursor%22%3A%7B%7D%2C%22has_next_page%22%3Atrue%7D&surface=www_pages_posts&unit_count=8\n",
      "/pages_reaction_units/more/?page_id=129558990394402&cursor=%7B%22timeline_cursor%22%3A%22AQHROrR1hC5WPknOXVJM_NmkGvdisBdBj-Vs47h8fflIPRS18Q6vQi7IjJNrVFXBuapxDvb-WuFO8T1nyeaTlgyJJ7d71cjHB17fH1l8hYR_lJnHoAvJFdqPvnTXKTAzBoZQ%22%2C%22timeline_section_cursor%22%3A%7B%7D%2C%22has_next_page%22%3Atrue%7D&surface=www_pages_posts&unit_count=8\n",
      "/pages_reaction_units/more/?page_id=129558990394402&cursor=%7B%22timeline_cursor%22%3A%22AQHRHKrlqLwq4OjqVWtjnzI6gDeg6Fw10A-nHmdYegjUlN5CO-14DoyYKlFGu6cRMoZZl9Co7biwl3S_XEcg3iEdPHNjlqG8XUz4TjWS-0pAAKNeDUG4S3pYK5yr6dR5Oi6r%22%2C%22timeline_section_cursor%22%3A%7B%7D%2C%22has_next_page%22%3Atrue%7D&surface=www_pages_posts&unit_count=8\n",
      "/pages_reaction_units/more/?page_id=129558990394402&cursor=%7B%22timeline_cursor%22%3A%22AQHReJcI3hlJqyk0quuyOznR5Lhy3_diZsI6SX--fZMl41_kF3c2f9yMc_XbaU3-FR-ROVRjAPfgD0usr7C4PBJoHe4vI9z22SdYZnHomNo3VVW2p3Y35I2KL53bROAWRzCu%22%2C%22timeline_section_cursor%22%3A%7B%7D%2C%22has_next_page%22%3Atrue%7D&surface=www_pages_posts&unit_count=8\n",
      "/pages_reaction_units/more/?page_id=129558990394402&cursor=%7B%22timeline_cursor%22%3A%22AQHROUsPjWJ8M1al2yZvdgWT9Kw_IrYI5CvY5gnNGnEyoFzrpho646uZZsQcex0RVkvxzqnYMiNx1FO6Irj8loMKC2l7XVpL65quSMwEoDsUuFte5HZhQDRmb93G_wiXP52d%22%2C%22timeline_section_cursor%22%3A%7B%7D%2C%22has_next_page%22%3Atrue%7D&surface=www_pages_posts&unit_count=8\n"
     ]
    },
    {
     "name": "stdout",
     "output_type": "stream",
     "text": [
      "/pages_reaction_units/more/?page_id=129558990394402&cursor=%7B%22timeline_cursor%22%3A%22AQHRjN8ZUYhOsHrjkFlHNn77EtNFxPFQRVaFIzcyKxDP2v_sqvsYEEUgATGcyTd7ryAYq2ZAdYJ8lsD7lIWSsbw1XB4s-8f_EHzFdVDRxEulk9K7w-M78T0lM07BH9U5f_eR%22%2C%22timeline_section_cursor%22%3A%7B%7D%2C%22has_next_page%22%3Atrue%7D&surface=www_pages_posts&unit_count=8\n",
      "/pages_reaction_units/more/?page_id=129558990394402&cursor=%7B%22timeline_cursor%22%3A%22AQHRyUY-wGEsiAHBWa17n4jzM4bPi_y8hdq3YzFXAbSkBlLX_0KKTwKcrO0oNn6tAubeDB3poXXjbCbbDM7TV2baZLvZv4z2Yi9mts6Qg_4T3qx1w9gHhKwZUQ-wRWc1VEdw%22%2C%22timeline_section_cursor%22%3A%7B%7D%2C%22has_next_page%22%3Atrue%7D&surface=www_pages_posts&unit_count=8\n",
      "/pages_reaction_units/more/?page_id=129558990394402&cursor=%7B%22timeline_cursor%22%3A%22AQHRCpwK3r6Y6ugs5FAdwOctk7rnjLIStROuL1W38uCRHDbKG1-ynJus3uiWGS30v68IpDmPadBw4Cn0k1d_JThWwX9P85v23Ft709bjRJqxpHnvsM8uTKGPoVYbatP8SKW8%22%2C%22timeline_section_cursor%22%3A%7B%7D%2C%22has_next_page%22%3Atrue%7D&surface=www_pages_posts&unit_count=8\n",
      "/pages_reaction_units/more/?page_id=129558990394402&cursor=%7B%22timeline_cursor%22%3A%22AQHRGMndcSHYywLKFyErZuaaY4lUoxW4UYwJTa9jx0SYo7rAaiCwG-vQXbaN6_GF9YaZKN2HsQXCxJTZT0ezNCTq2HjUujqEpg3-0a3Tf0uWhyihjb2ESjw3bNxxBK97oxDL%22%2C%22timeline_section_cursor%22%3A%7B%7D%2C%22has_next_page%22%3Atrue%7D&surface=www_pages_posts&unit_count=8\n",
      "/pages_reaction_units/more/?page_id=129558990394402&cursor=%7B%22timeline_cursor%22%3A%22AQHR4PJdejzUbWxn0QSJrxEsPu32CZ_KJ0YIJeCoZJUXtZoVJK-E-vw4kx0JD49nrW1h32QVQbv0m2i_fSrMaz4Or_-BbUVpipLFIz_tykfQTCGlsO-Oal4Bok5S_McIOPOg%22%2C%22timeline_section_cursor%22%3A%7B%7D%2C%22has_next_page%22%3Atrue%7D&surface=www_pages_posts&unit_count=8\n",
      "/pages_reaction_units/more/?page_id=129558990394402&cursor=%7B%22timeline_cursor%22%3A%22AQHRGBsop7UxEdY8zgE5iEjTjECO4qdoVu6j9nOomGb1Pm9kAJkKOV1HoqPf6GJTiUOEJNs5GfXpKCRI6ArEJfHpA_zTb2jsPYcy37T-WZYe3PABepCnT5iUuIsbSBKZO0Hd%22%2C%22timeline_section_cursor%22%3A%7B%7D%2C%22has_next_page%22%3Atrue%7D&surface=www_pages_posts&unit_count=8\n",
      "/pages_reaction_units/more/?page_id=129558990394402&cursor=%7B%22timeline_cursor%22%3A%22AQHRVd7fFHq3_LW2d2C_cifIUOruEKZc84QqtmTYuieBvj8i4YXQdFddXyoE6kKGvlNsYg3DT5dZKamprU95n6ijmBeGK-1QRxSE1G1W6K6XPhLJlan6YjizUhzKG9GmURk3%22%2C%22timeline_section_cursor%22%3A%7B%7D%2C%22has_next_page%22%3Atrue%7D&surface=www_pages_posts&unit_count=8\n",
      "/pages_reaction_units/more/?page_id=129558990394402&cursor=%7B%22timeline_cursor%22%3A%22AQHR5px0sSAIPbPzLeHHNvWPKDM8XGI_DwtnkV8jB-g4txGp3w733wMeGAn1D4oWZmh2qsL3sgXD-FoLDSA4IGfmW1fIJgT7KDME05eCrXlJaKhUfsAKF5bp1SM3WriUd6f7%22%2C%22timeline_section_cursor%22%3A%7B%7D%2C%22has_next_page%22%3Atrue%7D&surface=www_pages_posts&unit_count=8\n",
      "/pages_reaction_units/more/?page_id=129558990394402&cursor=%7B%22timeline_cursor%22%3A%22AQHRkiX5-KJWm_kJruU2CJEwP0DN3ZvnVHXw9B02pa_xA7X7UqA57fHjHhLmoNfTTmhebGpbz_nAxI04xFOfaOEZudVxgXHdIB3--60N73Qntq1mX6tvMDlJ-hFBNLm41azk%22%2C%22timeline_section_cursor%22%3A%7B%7D%2C%22has_next_page%22%3Atrue%7D&surface=www_pages_posts&unit_count=8\n",
      "/pages_reaction_units/more/?page_id=129558990394402&cursor=%7B%22timeline_cursor%22%3A%22AQHRC2dhZb2YqEa43wEc5vUr_HdqUCCOyG9-rh4ZxU0wcsM2NmSobJPaWp2Xp_3Gk9a7dMmG4EPJPz7D7hQHqctbCRe7TcHW0pZJRgyyHLBeV2-AXKY--vpwH9qcK7bsPBpg%22%2C%22timeline_section_cursor%22%3A%7B%7D%2C%22has_next_page%22%3Atrue%7D&surface=www_pages_posts&unit_count=8\n",
      "/pages_reaction_units/more/?page_id=129558990394402&cursor=%7B%22timeline_cursor%22%3A%22AQHRu97p6BGSUUsl73-eERPJnS9bwDTmjO9oirbITToyx_m07Wg8J2B5ZZgZ6_FBmhbXeIGRIp-AUhhVOSsHbDJ8DhNeqlDPQuQobSe7u8AbZFWHtEOtUi-V28uYXeQnx3do%22%2C%22timeline_section_cursor%22%3A%7B%7D%2C%22has_next_page%22%3Atrue%7D&surface=www_pages_posts&unit_count=8\n",
      "https://www.facebook.com/pages_reaction_units/more/?page_id=129558990394402&cursor=%7B%22timeline_cursor%22%3A%22AQHRu97p6BGSUUsl73-eERPJnS9bwDTmjO9oirbITToyx_m07Wg8J2B5ZZgZ6_FBmhbXeIGRIp-AUhhVOSsHbDJ8DhNeqlDPQuQobSe7u8AbZFWHtEOtUi-V28uYXeQnx3do%22%2C%22timeline_section_cursor%22%3A%7B%7D%2C%22has_next_page%22%3Atrue%7D&surface=www_pages_posts&unit_count=8&__a=1\n",
      "/pages_reaction_units/more/?page_id=129558990394402&cursor=%7B%22timeline_cursor%22%3A%22AQHR22bG3G67-EljQXTPaSaphWimTVbzYxEmv6N4JMIlEBO_GxR8d3i8uJxVnGC494Id8iQil_Stnk2cYkjcQbRyNJ944Ra0FUFIzVCQhe_zcAG5Y-CAlE92BH8UoWIkWoKQ%22%2C%22timeline_section_cursor%22%3A%7B%7D%2C%22has_next_page%22%3Atrue%7D&surface=www_pages_posts&unit_count=8\n",
      "/pages_reaction_units/more/?page_id=129558990394402&cursor=%7B%22timeline_cursor%22%3A%22AQHRLZ1kP40D9xQ0pLLbVT-iefDRKg9zXob_VeCvLNIH308kHw12clh1AE3BDa_SO_y2NS1V7WmAIoekBC-9oVrmG5pgkuP4WQSqIo5LTAVx1JvYca00gRDURG9thRCAnHGB%22%2C%22timeline_section_cursor%22%3A%7B%7D%2C%22has_next_page%22%3Atrue%7D&surface=www_pages_posts&unit_count=8\n",
      "/pages_reaction_units/more/?page_id=129558990394402&cursor=%7B%22timeline_cursor%22%3A%22AQHRVlF32JsOPNfvoOAQTxh3CuQgb2y3Uu4-IYosx-mRcbqsQVS7BIafVqDvLuvhYZxe5pDgU9w-LXndcwDivUenY9ZZRXN-IwfHmhT2yVl95w4UKctxQE9kPZsscIQkzMDs%22%2C%22timeline_section_cursor%22%3A%7B%7D%2C%22has_next_page%22%3Atrue%7D&surface=www_pages_posts&unit_count=8\n",
      "/pages_reaction_units/more/?page_id=129558990394402&cursor=%7B%22timeline_cursor%22%3A%22AQHRCu6WxDTTRioPRdHy9J5Z5QFBn6GEnTZHP3Rf3pBxGifnVXjwF-QIf4tTIF4k4Dt33ClsqtA6rlEEzpoXAf_BOXUvXyVYciSEBe2xopvuoMlblD96fCj7Ofdv2bFS7iEA%22%2C%22timeline_section_cursor%22%3A%7B%7D%2C%22has_next_page%22%3Atrue%7D&surface=www_pages_posts&unit_count=8\n",
      "/pages_reaction_units/more/?page_id=129558990394402&cursor=%7B%22timeline_cursor%22%3A%22AQHRBh2ZgLzi6dNifQLCvD5LwfIr2TE2Mzocwe3CbtEC0QpUtKs80WGcwfNKOZlvWX1rQPg_BFivpul3Tbl0ek0WPpCLvgPNYSWJ77wmOhzFVdRUKOYc4CJB_KiU_F61d39-%22%2C%22timeline_section_cursor%22%3A%7B%7D%2C%22has_next_page%22%3Atrue%7D&surface=www_pages_posts&unit_count=8\n",
      "/pages_reaction_units/more/?page_id=129558990394402&cursor=%7B%22timeline_cursor%22%3A%22AQHR4Y0YaQiJuH1bm1dN7TiA5HYWypqmDb8Qf443rWGoE4Sxl3PRAXd-ojoSGcEH1y9HNnPDIbrCIawwztC60KRewU9GKhbH5DeMoPMArzlT6EUbzqexPS-nm5AL_LTXgcfc%22%2C%22timeline_section_cursor%22%3A%7B%7D%2C%22has_next_page%22%3Atrue%7D&surface=www_pages_posts&unit_count=8\n",
      "/pages_reaction_units/more/?page_id=129558990394402&cursor=%7B%22timeline_cursor%22%3A%22AQHR8t_HAExmyfHcya-uTc0M6_vVVH3hthaqrD-I-U9psrBO3B_cE_OkRyEmmT1ozJLQ6o1PKgUWhcYmOVY9pKZQN7j4Y2RuQrdgzZkp2YdMsarHfHIUu-_0u0rgYFkJLewK%22%2C%22timeline_section_cursor%22%3A%7B%7D%2C%22has_next_page%22%3Atrue%7D&surface=www_pages_posts&unit_count=8\n",
      "/pages_reaction_units/more/?page_id=129558990394402&cursor=%7B%22timeline_cursor%22%3A%22AQHRoqiPIPS4gxTPWcIv049Y27VrvvyiqCl2vEOSCGV2OTmbvYTi1FxCo1GUi5cpLEbdJ1aSMGeQ1aATef0I3ytro87l7BY4ePCXX9LTBpY-CboHYLdoajpr4FlF4ag9St-q%22%2C%22timeline_section_cursor%22%3A%7B%7D%2C%22has_next_page%22%3Atrue%7D&surface=www_pages_posts&unit_count=8\n",
      "https://www.facebook.com/pages_reaction_units/more/?page_id=129558990394402&cursor=%7B%22timeline_cursor%22%3A%22AQHRoqiPIPS4gxTPWcIv049Y27VrvvyiqCl2vEOSCGV2OTmbvYTi1FxCo1GUi5cpLEbdJ1aSMGeQ1aATef0I3ytro87l7BY4ePCXX9LTBpY-CboHYLdoajpr4FlF4ag9St-q%22%2C%22timeline_section_cursor%22%3A%7B%7D%2C%22has_next_page%22%3Atrue%7D&surface=www_pages_posts&unit_count=8&__a=1\n",
      "/pages_reaction_units/more/?page_id=129558990394402&cursor=%7B%22timeline_cursor%22%3A%22AQHRbXcoULuhBuo0Z1ThiFU91sM07l6Tj4W9nCvnN71FY5ntvlec-jmuk9XMypIxBCYocNUfvnfUFdAMOBADBjapRWElU1QkjXcMAFxqaaERoICtoVkpBMmWqbv9nFmGYufZ%22%2C%22timeline_section_cursor%22%3A%7B%7D%2C%22has_next_page%22%3Atrue%7D&surface=www_pages_posts&unit_count=8\n",
      "/pages_reaction_units/more/?page_id=129558990394402&cursor=%7B%22timeline_cursor%22%3A%22AQHRAQJ6C-dNHEOcypGV2MaJdFaeFK-Y_Ex6l41Uu-zH3hbrlZS2nMVzygOEuVtckJ6AgB9SY-L8VAT81XGSQEI9f09r0SNrrpgRSRtuQbbc7myb-gpjmwILjpCn7OX8LJs3%22%2C%22timeline_section_cursor%22%3A%7B%7D%2C%22has_next_page%22%3Atrue%7D&surface=www_pages_posts&unit_count=8\n",
      "/pages_reaction_units/more/?page_id=129558990394402&cursor=%7B%22timeline_cursor%22%3A%22AQHRYPCHdyWG_p4Su0m5da99PTgCvzTfXe82Mgi86wqX4pyb6y0b6A5xOUx3Zw0TZP5oAtIuG_HvWbb4r_DDMsbWcpku-BXfbDlacarJ0JeSwZfBmAfsvpnyW_7mR7OeO2kY%22%2C%22timeline_section_cursor%22%3A%7B%7D%2C%22has_next_page%22%3Atrue%7D&surface=www_pages_posts&unit_count=8\n",
      "/pages_reaction_units/more/?page_id=129558990394402&cursor=%7B%22timeline_cursor%22%3A%22AQHRsFJAYwhIYrYTr43Arwa1D4GJJ3p9-03Hst2Q8h0Mc5Mcpl6Hv45p4_BuTLjR8wlN_lhN059EobgPVND6_H20FKghvGzT9XEeD50xD1tznLGrFNyCG_qRCxr9ZQ4Yq75M%22%2C%22timeline_section_cursor%22%3A%7B%7D%2C%22has_next_page%22%3Atrue%7D&surface=www_pages_posts&unit_count=8\n"
     ]
    },
    {
     "name": "stdout",
     "output_type": "stream",
     "text": [
      "/pages_reaction_units/more/?page_id=129558990394402&cursor=%7B%22timeline_cursor%22%3A%22AQHREjgvT_2xwFBCKSCtjZbDlRgCXzv6xM-ajsycusuZMfRk5KbtTSwZB744iJZ-jmzAqFBRnIBTIuxFELPVrDXlPlAn-YnH7Qw5OpFBIhbfFWBo6x1NwLE_lZUktrGZOZk7%22%2C%22timeline_section_cursor%22%3A%7B%7D%2C%22has_next_page%22%3Atrue%7D&surface=www_pages_posts&unit_count=8\n",
      "/pages_reaction_units/more/?page_id=129558990394402&cursor=%7B%22timeline_cursor%22%3A%22AQHRZZIlK8uLxrQNdGb5UHviygv1uhiirW0uByp2deJuLVcY3AIy6belFrpCNi9o5DFaLe4Jwn8cpjOe3WNHd8N1ggNLVGPn1mXY399YZ3G8iH7FWYVs6yvFgPwHfS4GAr2Q%22%2C%22timeline_section_cursor%22%3A%7B%7D%2C%22has_next_page%22%3Atrue%7D&surface=www_pages_posts&unit_count=8\n",
      "/pages_reaction_units/more/?page_id=129558990394402&cursor=%7B%22timeline_cursor%22%3A%22AQHROhmELdmREKcjD2QbSU0vKUEfJBQO6oHNWJAgP2kheuunOehbN3OeDbYLBzAvZn5xPMZc_7P7Bs-suY68qFv_b3tO-flqPerH5BvLc1RzGWLHUbRu4Q4-HrZ-Qrp-BTD0%22%2C%22timeline_section_cursor%22%3A%7B%7D%2C%22has_next_page%22%3Atrue%7D&surface=www_pages_posts&unit_count=8\n",
      "/pages_reaction_units/more/?page_id=129558990394402&cursor=%7B%22timeline_cursor%22%3A%22AQHRyy-XFSzAsK9GxWtHn2igCVbZ4lWy8igS9nqA_eiEpfZYWgsm4XSoCnwHRk7PlFzp54yK76xoQdorLAXahBR0QDJK89QA_WJb2fmdb00bhZo7AUedSM1194Ll2CI9gXA3%22%2C%22timeline_section_cursor%22%3A%7B%7D%2C%22has_next_page%22%3Atrue%7D&surface=www_pages_posts&unit_count=8\n",
      "/pages_reaction_units/more/?page_id=129558990394402&cursor=%7B%22timeline_cursor%22%3A%22AQHR916OM213XU1AgfTKIhlSVGxLiY7rG2sMQaNgbndMY6bUOQDsRB3AAfqCncDNoZXT5c6oufOd3rFMhCqO4JhKm2fuhE8PrhqchR3YDu5DT6ouXUGnAMucbGQXNlQpRttq%22%2C%22timeline_section_cursor%22%3A%7B%7D%2C%22has_next_page%22%3Atrue%7D&surface=www_pages_posts&unit_count=8\n",
      "/pages_reaction_units/more/?page_id=129558990394402&cursor=%7B%22timeline_cursor%22%3A%22AQHRa0ACso7n0AtbTDNX-NntSGs1OH8lz7cA0c0rZ1cuCWzcAodKxUoEYoW2sQSMfO-rDCeKCzDSV2XdFhg1MhplAJpoSeJyhi8QFJ7TlBYZo-IoyxDNtc98Y25hJB4bOryU%22%2C%22timeline_section_cursor%22%3A%7B%7D%2C%22has_next_page%22%3Atrue%7D&surface=www_pages_posts&unit_count=8\n",
      "/pages_reaction_units/more/?page_id=129558990394402&cursor=%7B%22timeline_cursor%22%3A%22AQHRL0yxKvQ0tj8dIZ4Nm2QOxn5wQQx6zASIBdC4pebRp31376nYdoxREFTFRA6rGQklpnlbS2PEkAD0RcIDSZA9TwBxKX14oHFqr2Q7kyWwktQuXj2TxTb6vfTYw7TiZtre%22%2C%22timeline_section_cursor%22%3A%7B%7D%2C%22has_next_page%22%3Atrue%7D&surface=www_pages_posts&unit_count=8\n",
      "/pages_reaction_units/more/?page_id=129558990394402&cursor=%7B%22timeline_cursor%22%3A%22AQHRZX5eWJr15TAEGvMySG6ykFhOGaQBAa64OfuYowLHB2_cwKGmb5D3J7W8sU5AWRzMnCAgwLWwQE6eTlgSRD_DIxXOcaeZ43CDzH0EJGZiEvqjAGHj12PD1-CWojF1Oabf%22%2C%22timeline_section_cursor%22%3A%7B%7D%2C%22has_next_page%22%3Atrue%7D&surface=www_pages_posts&unit_count=8\n",
      "/pages_reaction_units/more/?page_id=129558990394402&cursor=%7B%22timeline_cursor%22%3A%22AQHRF_EML0ZpCY1QgLSVQeMqBpM51tcOy2V4NHHXZljvWIlttLGe6JLpVdNoOGLOtSuBUNPfD9eIMzY1CAGF1M5Az-H0oB3TibQpgG57g4YPNHL4Jc7RHcAxVagU2SCWbV1Z%22%2C%22timeline_section_cursor%22%3A%7B%7D%2C%22has_next_page%22%3Atrue%7D&surface=www_pages_posts&unit_count=8\n",
      "/pages_reaction_units/more/?page_id=129558990394402&cursor=%7B%22timeline_cursor%22%3A%22AQHR_b15aHSjTSYCRkRDvGuhZE7r54ofie9a-1YXlAPC9OYbQZDeeZ7URCWLmjP4RmB6R3xTd2a7oLL4qeGA9Cwfb9joYDLfhbqkIV0tgm7McOMf3nWtYYBXY4tPQlMmjs5s%22%2C%22timeline_section_cursor%22%3A%7B%7D%2C%22has_next_page%22%3Atrue%7D&surface=www_pages_posts&unit_count=8\n",
      "/pages_reaction_units/more/?page_id=129558990394402&cursor=%7B%22timeline_cursor%22%3A%22AQHRkj4wC3r2v5GKZgcWaWNsnqyQykpBK82eGMJZFITQIyD1h0DG1MDgpmRKEo6kiCgSEAtKm-LV1u0j0w_xhFBkJDRfhVXIXt9LKThkY7kuIrbh3cZx1VRoRXno11viy-OV%22%2C%22timeline_section_cursor%22%3A%7B%7D%2C%22has_next_page%22%3Atrue%7D&surface=www_pages_posts&unit_count=8\n",
      "/pages_reaction_units/more/?page_id=129558990394402&cursor=%7B%22timeline_cursor%22%3A%22AQHR5BzuIKPW43_nwRjmwg4tfCUXAdJNj0A7NN_WJQjOFe_dPP7gBJ-uKPXEYMMUQ_7ELVEYUfQWuVy_thnMEnmzKr-Q1FaSwmz2Rc1l1DP62pIJpKQUkyscN_5ZYGxJcN1T%22%2C%22timeline_section_cursor%22%3A%7B%7D%2C%22has_next_page%22%3Atrue%7D&surface=www_pages_posts&unit_count=8\n",
      "/pages_reaction_units/more/?page_id=129558990394402&cursor=%7B%22timeline_cursor%22%3A%22AQHRMZsu8GHZaFrkpVamKrzjZeFKlv-O2hBDb6jelTjkrhKj5kblLcmCHyG4MQsSDcIq-anycdVX6DHqK_dUdSYJ1yORLlnQlWFs_leAKv-_nb_YTdhk_eCE15QEar7bnWht%22%2C%22timeline_section_cursor%22%3A%7B%7D%2C%22has_next_page%22%3Atrue%7D&surface=www_pages_posts&unit_count=8\n",
      "/pages_reaction_units/more/?page_id=129558990394402&cursor=%7B%22timeline_cursor%22%3A%22AQHRIih7e6ZHsSxnb6TWzQhVXg4GvFe9rJHLzCzi9xZNJWlACUJxKxjnmxxml0glSD5q6c4jEmicGnBmX2V4X1mDucNmdP1r4F3KQH7svad3lELWpQkk0K5XUwZ4V4x6udfa%22%2C%22timeline_section_cursor%22%3A%7B%7D%2C%22has_next_page%22%3Atrue%7D&surface=www_pages_posts&unit_count=8\n",
      "/pages_reaction_units/more/?page_id=129558990394402&cursor=%7B%22timeline_cursor%22%3A%22AQHRxiJUuM-EABaeMmBmd9aFJCBTjTfK59NbslcApp4I8d2BME8SNG6aoL3zdfhOfRJQ8V8SGLXPk7Ti_ahiaZi8r1JTPLBM5hjQY1utYJptf8EQJsRFe-D79ibeN7lISWgs%22%2C%22timeline_section_cursor%22%3A%7B%7D%2C%22has_next_page%22%3Atrue%7D&surface=www_pages_posts&unit_count=8\n",
      "/pages_reaction_units/more/?page_id=129558990394402&cursor=%7B%22timeline_cursor%22%3A%22AQHRohYSB4i7fM31CxaF5WHA1wGISkeVUFGJqaMYsmb2MWZneRwM_rchSc2_id9SKkepzk_ELwV9-SZ-qQjfbGOhUzxpRR3adROec4GkYMXXHxmFybm50kwri-FNTPZmH2jq%22%2C%22timeline_section_cursor%22%3A%7B%7D%2C%22has_next_page%22%3Atrue%7D&surface=www_pages_posts&unit_count=8\n",
      "/pages_reaction_units/more/?page_id=129558990394402&cursor=%7B%22timeline_cursor%22%3A%22AQHRMJZJvJP3pTXptB0NS6qmhdNGcPrW_iJe1SYtu0I_VyvUeUxbsKcf_87sIsMPkaiD3zwEIlveS3Q4iV5jm9r31s3KJf9gTS54bhQcb54Lj5BXcBA2R_QLdx9CNHBxMLbt%22%2C%22timeline_section_cursor%22%3A%7B%7D%2C%22has_next_page%22%3Atrue%7D&surface=www_pages_posts&unit_count=8\n",
      "/pages_reaction_units/more/?page_id=129558990394402&cursor=%7B%22timeline_cursor%22%3A%22AQHR4wzJAcBjodkc7EfZ8CbXfIedIQXe9ea8cn0ZchmAC1NEsHIvDnw55w4bAhIsAdfqpbGj5heJplO8s8C8lSNMLrem3Yx-oTZ4JVJ-mXq1zEz6nHOrf9YYsuMkEy9s-a5g%22%2C%22timeline_section_cursor%22%3A%7B%7D%2C%22has_next_page%22%3Atrue%7D&surface=www_pages_posts&unit_count=8\n",
      "/pages_reaction_units/more/?page_id=129558990394402&cursor=%7B%22timeline_cursor%22%3A%22AQHR9pzLsQt7DXd5J_Q2TyosjkKbLrj2yO6mpIgw4cNI72XKHhWsCgaohIXJWBUbVATv-Aj3DR6biqkqO8y4gsueO3tkjWk4ZUWPUSMeU8zFnFuFFIuJH34Zl1Ec5IM0zUqT%22%2C%22timeline_section_cursor%22%3A%7B%7D%2C%22has_next_page%22%3Atrue%7D&surface=www_pages_posts&unit_count=8\n",
      "/pages_reaction_units/more/?page_id=129558990394402&cursor=%7B%22timeline_cursor%22%3A%22AQHRao33SnhPFRRyKpKTqzsdc_d4uFMcTUpKequFz9hfidzrWCxpWO6McB1fvGXPPSWf0C7zkJ6b-HlFl1AtluMCyUeN1oFEYM21zpToHwt-c3FS7NgC3ooMkCgbTbEnWGKU%22%2C%22timeline_section_cursor%22%3A%7B%7D%2C%22has_next_page%22%3Atrue%7D&surface=www_pages_posts&unit_count=8\n",
      "/pages_reaction_units/more/?page_id=129558990394402&cursor=%7B%22timeline_cursor%22%3A%22AQHRJGntOuT14Jrojc-mVgouID7wAr-TpE98m1sd_VvMgXLmwzyK_Cp6xLB9UuhFdVzXdgGTlkORovN5YSLwA2m4Qlo_e3j262aH01bXbT4AHeCtJYQYvn6kIcgdQyKov3dO%22%2C%22timeline_section_cursor%22%3A%7B%7D%2C%22has_next_page%22%3Atrue%7D&surface=www_pages_posts&unit_count=8\n",
      "/pages_reaction_units/more/?page_id=129558990394402&cursor=%7B%22timeline_cursor%22%3A%22AQHR9DN-BBSkJQ6WdiPnSO4G8fhWCsO8M0E7OydGUglo-5lVeKiZb6xDedIBf9flma_WZ10BHb7z39Nk3sf8Gr32jTY4eZlbMPIpj056ZA7WGuJBPyHUEutSWSnq1k68bBeD%22%2C%22timeline_section_cursor%22%3A%7B%7D%2C%22has_next_page%22%3Atrue%7D&surface=www_pages_posts&unit_count=8\n",
      "/pages_reaction_units/more/?page_id=129558990394402&cursor=%7B%22timeline_cursor%22%3A%22AQHR2KP1JUFAsosHBMkDNnuh2QFSdKtY0TOvUfUY0IYp2AOlWMKayR7BnvjnwLgHW2oSa8-5ecHgJ9O59mq7bWU3BETR6V-XayC9X29g6I5BafrRYoB-1MaBr6MnjmE51-sF%22%2C%22timeline_section_cursor%22%3A%7B%7D%2C%22has_next_page%22%3Atrue%7D&surface=www_pages_posts&unit_count=8\n",
      "/pages_reaction_units/more/?page_id=129558990394402&cursor=%7B%22timeline_cursor%22%3A%22AQHRZUyiKvcEiVBxTszi-lenPyG8AwAzAQH4oZKYZzH7-bUH3zlngfEr6sufD1iggD2dFYVpgBm1nz_ZLZv42hpa8wfV_ezdqR47Fj0-12x2E0gK95CZokbsR_ZQC_omfdx9%22%2C%22timeline_section_cursor%22%3A%7B%7D%2C%22has_next_page%22%3Atrue%7D&surface=www_pages_posts&unit_count=8\n",
      "/pages_reaction_units/more/?page_id=129558990394402&cursor=%7B%22timeline_cursor%22%3A%22AQHRben3i9KgDDIl0GQGbnB__H_a0GxCszz8VkjWvYYrV2jlrvtKPhtMillUC80A9kJlYX2T3N1UJKAEMaXnKX__jCLbMffHxk3AHwfDGs3BYqUsar7HIOwIr8TjCHInRa7b%22%2C%22timeline_section_cursor%22%3A%7B%7D%2C%22has_next_page%22%3Atrue%7D&surface=www_pages_posts&unit_count=8\n"
     ]
    },
    {
     "name": "stdout",
     "output_type": "stream",
     "text": [
      "/pages_reaction_units/more/?page_id=129558990394402&cursor=%7B%22timeline_cursor%22%3A%22AQHRrqLMjtLO8zeci12fkYGBpJY-5MnRMA-A1hEoZfwvWUMe1pRQPQUAsixmoAL6iQw_2-sGlsyDno0Zz2hMycoiwCsLCmvZHW2zeMCqyrgNHkzkaPIPz6YQNH3wJA5zhVnR%22%2C%22timeline_section_cursor%22%3A%7B%7D%2C%22has_next_page%22%3Atrue%7D&surface=www_pages_posts&unit_count=8\n",
      "/pages_reaction_units/more/?page_id=129558990394402&cursor=%7B%22timeline_cursor%22%3A%22AQHRQekthk4bWw9kNeFu7paoh7NFERXup_0B29fAKln5DrvkyGpCu5c6YKCoYuZRJifV-ZlfXMtTsZF_ClUovS5CAnMStRtYFq8WhV82SCJwitnkP4Kn0PLawY87XVGmrAe_%22%2C%22timeline_section_cursor%22%3A%7B%7D%2C%22has_next_page%22%3Atrue%7D&surface=www_pages_posts&unit_count=8\n",
      "/pages_reaction_units/more/?page_id=129558990394402&cursor=%7B%22timeline_cursor%22%3A%22AQHRvKDQoGTGlU_WlxF7V3RP93akzrsCPOKa7UJRbwBc9s-b_nVy1hbRo3L18r5a04BxEokexENqdtmWHknwtjn977eF8KSqF9-oT1lGLlI5iSYn8bwf8MawAZcM8LdF7hB8%22%2C%22timeline_section_cursor%22%3A%7B%7D%2C%22has_next_page%22%3Atrue%7D&surface=www_pages_posts&unit_count=8\n",
      "/pages_reaction_units/more/?page_id=129558990394402&cursor=%7B%22timeline_cursor%22%3A%22AQHRysN55JN4UdFXunIwfepFfljmgIGVtmGZatUAt6UtYNuUVaMv6J_XUZ3q-w_e_KsugzZvN0okGg578Nnj2ffSBgaaER_-A0t_D0SF30wGucW_XH6jjm42eX87x0gV4YiN%22%2C%22timeline_section_cursor%22%3A%7B%7D%2C%22has_next_page%22%3Atrue%7D&surface=www_pages_posts&unit_count=8\n",
      "/pages_reaction_units/more/?page_id=129558990394402&cursor=%7B%22timeline_cursor%22%3A%22AQHRU-roDPErNF5P3_K7CnDL55kMA0xzdboG1YMq1oNtRkbf-GZMxaRHEtYHBHgYB-qo9RiHIeWaSEH7MD3WQh_67DvZ37F6ySM7VhfgvDLN00Imx6F2Wj77U0eyckKTitUS%22%2C%22timeline_section_cursor%22%3A%7B%7D%2C%22has_next_page%22%3Atrue%7D&surface=www_pages_posts&unit_count=8\n",
      "/pages_reaction_units/more/?page_id=129558990394402&cursor=%7B%22timeline_cursor%22%3A%22AQHR5zfQhdzmV-UYgPpmCpgLLBMzf6kOFKZFaf9HKkl5bMAvfIv-373e6QDdh2PF0orxjgaL1WcnS-y2_0U1ngGdgLM7njuX6EEQFIqPVO4ZibCXyJ6jU3kF62jmJQBq71EF%22%2C%22timeline_section_cursor%22%3A%7B%7D%2C%22has_next_page%22%3Atrue%7D&surface=www_pages_posts&unit_count=8\n",
      "/pages_reaction_units/more/?page_id=129558990394402&cursor=%7B%22timeline_cursor%22%3A%22AQHRIq4lpnGOtXN89C_tRbFBhIvJABga7urwgJ3WGQYez6cOkE5n_EI9ZhXlIZxYgzfPIoaWlHaJnKhsCqGuAzcgEVSVnAqkWfXDZlGDye4uZHfQExwPBsljU07vqcSIMI1R%22%2C%22timeline_section_cursor%22%3A%7B%7D%2C%22has_next_page%22%3Atrue%7D&surface=www_pages_posts&unit_count=8\n",
      "/pages_reaction_units/more/?page_id=129558990394402&cursor=%7B%22timeline_cursor%22%3A%22AQHREiZ8Fn1jsTRgshCRshEL7HvpF2M84WhKhg_X_GaQi0X6_9L6CHM7urorTQccNfHfgid6hMDBLGxh-8Mtel9t0vk4-fIbbN4PztcHdPIxpfoLXbKGFh1pXZC9lXM29uK2%22%2C%22timeline_section_cursor%22%3A%7B%7D%2C%22has_next_page%22%3Atrue%7D&surface=www_pages_posts&unit_count=8\n",
      "/pages_reaction_units/more/?page_id=129558990394402&cursor=%7B%22timeline_cursor%22%3A%22AQHRQi6Ua21q7SQbYyZlsvoDrQAWCSUgDtk_HP2id6_FPM0an7syG5i29NT8zrBMjT1F8ws--uDp-7COYrN-WRg0xn9G-nKmuLYzFn5VGJGgANLZFipEbuuudCE-Hkzox7nb%22%2C%22timeline_section_cursor%22%3A%7B%7D%2C%22has_next_page%22%3Atrue%7D&surface=www_pages_posts&unit_count=8\n",
      "/pages_reaction_units/more/?page_id=129558990394402&cursor=%7B%22timeline_cursor%22%3A%22AQHRr_F_H6FlfISEogJKVycL9If0derJP1yvrRjuGJMXnnXGMe75JX3CCL7SZP_0SOM3ngBD2gn6GZRhMmewmWX3o7kPNdmUvaxeYYmykt_wNhwUq2hu8HIyc4nsOxJiMNal%22%2C%22timeline_section_cursor%22%3A%7B%7D%2C%22has_next_page%22%3Atrue%7D&surface=www_pages_posts&unit_count=8\n",
      "/pages_reaction_units/more/?page_id=129558990394402&cursor=%7B%22timeline_cursor%22%3A%22AQHRxq3CA9q0OCquJQvirANqoGIdLjQXwSZg3jhs3YWKNv-Uzxi3bUJRnGi5isjQDOYrYeJnQ2XWuWxmy3p8gH6ck9krLFMnfJ2YeDBzGYc6aWOP2_ESNJtSbiC3M1-98Mhl%22%2C%22timeline_section_cursor%22%3A%7B%7D%2C%22has_next_page%22%3Atrue%7D&surface=www_pages_posts&unit_count=8\n",
      "/pages_reaction_units/more/?page_id=129558990394402&cursor=%7B%22timeline_cursor%22%3A%22AQHRwjoI-JpBoIGCErWFjaCU_31XrM2W8b_1COZK5Eo7CDt6G8Q9lfTMEk4VZ4SDZS_aqOP4uytAX8f2xD_kffvzju7hTk9xI8f3f55aRSttZpOJBpxgjeLdhfSs5Xmcp2AM%22%2C%22timeline_section_cursor%22%3A%7B%7D%2C%22has_next_page%22%3Atrue%7D&surface=www_pages_posts&unit_count=8\n",
      "/pages_reaction_units/more/?page_id=129558990394402&cursor=%7B%22timeline_cursor%22%3A%22AQHROg4b-HARX1KCeDx737hyo7yj2yj4g4WBq0ODxC3J4E46_ysxiqpsq-aRHyxJECzfhLdBjMiPl7JdQ8OWRGZJ_sEKbLtgfxCnvY_KtkO_xPshPWQlKhf31yj0MG-cDQ7g%22%2C%22timeline_section_cursor%22%3A%7B%7D%2C%22has_next_page%22%3Atrue%7D&surface=www_pages_posts&unit_count=8\n",
      "/pages_reaction_units/more/?page_id=129558990394402&cursor=%7B%22timeline_cursor%22%3A%22AQHRP2HbcpJhiFL7nHXTyKEYuJxqJcS1tDu9CBWXmltGjZxOo7ojVfvPNOUg3EyT-TCHlgipjMHonj-LYs6USaOgw_Y9wDoF2wjW0X7SJtlm7_a7wb_ApDzaV5FBPam2ka_y%22%2C%22timeline_section_cursor%22%3A%7B%7D%2C%22has_next_page%22%3Atrue%7D&surface=www_pages_posts&unit_count=8\n",
      "/pages_reaction_units/more/?page_id=129558990394402&cursor=%7B%22timeline_cursor%22%3A%22AQHRpZ-jLneagh-klLy59FUfWMKWwkOzENAaAQorJW5X62uWfr4Azf_J3jcxiEk6nXM8ig4ee5LDPEAPP4oYuQAw3haH0wdZPgqwQh3tpMqVOlkpTEx0NfigyYq-qu4fAdX9%22%2C%22timeline_section_cursor%22%3A%7B%7D%2C%22has_next_page%22%3Atrue%7D&surface=www_pages_posts&unit_count=8\n",
      "/pages_reaction_units/more/?page_id=129558990394402&cursor=%7B%22timeline_cursor%22%3A%22AQHRngDda8eUv9KAXkzebjfQqfVj1Z8eOy8k1v5_YhMBOHYhXhNY-U3zBhJsZFwlqMJyRRzbs-lUrcRzdgzQYI1dD3OCU_JpA76RD2Z_OcZurY0qKxnok2uYE6rKZe0w8bAm%22%2C%22timeline_section_cursor%22%3A%7B%7D%2C%22has_next_page%22%3Atrue%7D&surface=www_pages_posts&unit_count=8\n",
      "/pages_reaction_units/more/?page_id=129558990394402&cursor=%7B%22timeline_cursor%22%3A%22AQHRf_Po9RQUeMjz2zz4SMcb8ZcxR8rzLgi0tRtw4vqMI4PKJjO8HZVGk18H8If7_bqMmKANMgzIv9tDyQ53pVmnf3bq79pWFkZeJwJhT5EDa1KktF5q_NggZf71yIG5jTsh%22%2C%22timeline_section_cursor%22%3A%7B%7D%2C%22has_next_page%22%3Atrue%7D&surface=www_pages_posts&unit_count=8\n",
      "/pages_reaction_units/more/?page_id=129558990394402&cursor=%7B%22timeline_cursor%22%3A%22AQHRA7regbliReAtLuceMTaMpiTwY9mU4kgiKTyXQjgPQwO62-RVMVMeIz0d_oN0NSqN2nZvIC2OoYrhycEgKx0qlIrUw4oHDueg4iigrzLzZfDfredFQQL6gCmwqKlpqg59%22%2C%22timeline_section_cursor%22%3A%7B%7D%2C%22has_next_page%22%3Atrue%7D&surface=www_pages_posts&unit_count=8\n",
      "/pages_reaction_units/more/?page_id=129558990394402&cursor=%7B%22timeline_cursor%22%3A%22AQHR5ya6zPB3VBApwFo8_qtSVhoC2czbjTKeYNGh9w8Ej3Vf4vPBBUyJ0e2Wo6iZLmvPLUi2cJju3g4sL6JNdi4WaDUYV5FWu_n0DwNTQWxs9jawTH5CyZk9_WDe0OLVMqMu%22%2C%22timeline_section_cursor%22%3A%7B%7D%2C%22has_next_page%22%3Atrue%7D&surface=www_pages_posts&unit_count=8\n",
      "/pages_reaction_units/more/?page_id=129558990394402&cursor=%7B%22timeline_cursor%22%3A%22AQHRvqBzwzh1_gXwdySyQ0cpv9B1kNvNooKdsKPps1giCbkTbtX76U9sylX35Qc76ERef3VC8Wk9zTye4p03ZfFFztN15Kuc4mnH57OurZYbJJnBPfHGl7g-AaW2WLL6Pok6%22%2C%22timeline_section_cursor%22%3A%7B%7D%2C%22has_next_page%22%3Atrue%7D&surface=www_pages_posts&unit_count=8\n",
      "/pages_reaction_units/more/?page_id=129558990394402&cursor=%7B%22timeline_cursor%22%3A%22AQHRxxmjXnih0g9ThPrywIcRuuopEYA_Rq-1K__lhBA7WezJM4E326w0hwE0EPIi-LAnguwHEVoyR2x6zsvXOvQ-a37rUPDpxuL8aLOHVpSEVvanR3kv1EKygPrg8k5Gmymh%22%2C%22timeline_section_cursor%22%3A%7B%7D%2C%22has_next_page%22%3Atrue%7D&surface=www_pages_posts&unit_count=8\n",
      "/pages_reaction_units/more/?page_id=129558990394402&cursor=%7B%22timeline_cursor%22%3A%22AQHRFl030Ld8tr49umpqvALlpDQdF40JzFVQDCAdMmW3Dz63o0PDAKjc7zVbDqxt6TGI2SfVdYMQXe6vR5xAKtu2Z3LklEyrEK1GZnhG9ekI5NT6Zq6DLLGIY7b6iOL4Gv89%22%2C%22timeline_section_cursor%22%3A%7B%7D%2C%22has_next_page%22%3Atrue%7D&surface=www_pages_posts&unit_count=8\n",
      "/pages_reaction_units/more/?page_id=129558990394402&cursor=%7B%22timeline_cursor%22%3A%22AQHRSFQL_MN2RVZkcL1sjFzNweusZDum3qAjIJ2pnUqh1O3xgdjIuRth304FJO7CwO4SuxtXmEcwQXFn7SV_3vUFkCPzcQmKib_AcyPtlBL9UW0eFRNumJDbhmLJrvEMju_j%22%2C%22timeline_section_cursor%22%3A%7B%7D%2C%22has_next_page%22%3Atrue%7D&surface=www_pages_posts&unit_count=8\n",
      "/pages_reaction_units/more/?page_id=129558990394402&cursor=%7B%22timeline_cursor%22%3A%22AQHRaUBN-C-3aTHamXofHCAHgawFiEk9mjsU6vL5HBSe49p9BpSHZxkpwvXgt5riqvYuCOWTanJEaG6F4Hn-JmxmMlCC1BnPG2s__mf9kgUxA2rQ0_BzlXCHdQ0GWvP42zUq%22%2C%22timeline_section_cursor%22%3A%7B%7D%2C%22has_next_page%22%3Atrue%7D&surface=www_pages_posts&unit_count=8\n",
      "/pages_reaction_units/more/?page_id=129558990394402&cursor=%7B%22timeline_cursor%22%3A%22AQHRSUROsQ5LzKW4TM67hQsmo0vKDGBaVNFIbINPG1KRQfT-F7xlA83lOlFty5Rap_ugB-FSZGqHf56LoUkYsC0J7oimnSZR1G-HXTc0Ai_L0oCrmywv34DEW6gqukZSFi4e%22%2C%22timeline_section_cursor%22%3A%7B%7D%2C%22has_next_page%22%3Atrue%7D&surface=www_pages_posts&unit_count=8\n"
     ]
    },
    {
     "name": "stdout",
     "output_type": "stream",
     "text": [
      "https://www.facebook.com/pages_reaction_units/more/?page_id=129558990394402&cursor=%7B%22timeline_cursor%22%3A%22AQHRSUROsQ5LzKW4TM67hQsmo0vKDGBaVNFIbINPG1KRQfT-F7xlA83lOlFty5Rap_ugB-FSZGqHf56LoUkYsC0J7oimnSZR1G-HXTc0Ai_L0oCrmywv34DEW6gqukZSFi4e%22%2C%22timeline_section_cursor%22%3A%7B%7D%2C%22has_next_page%22%3Atrue%7D&surface=www_pages_posts&unit_count=8&__a=1\n",
      "/pages_reaction_units/more/?page_id=129558990394402&cursor=%7B%22timeline_cursor%22%3A%22AQHRbY9XBPr9mJ5sy6SclYc6hsrOMkQWIu_yMATKws9oYPjajyi4op7Ftf_becJzRLT2_DbpbjCBdGPsnSXZTxkWL6o38LiR8Mlg9rm6wNJ-oaJL_UOWdP872Tn9iCNxVg4x%22%2C%22timeline_section_cursor%22%3A%7B%7D%2C%22has_next_page%22%3Atrue%7D&surface=www_pages_posts&unit_count=8\n",
      "/pages_reaction_units/more/?page_id=129558990394402&cursor=%7B%22timeline_cursor%22%3A%22AQHRJmUMQXUWB6ibby2gGBEtIKA3skWntMeaWz_AT4KUacVZIHm6EqvMPmDztmq-BD60QyaxqVeCCOLvBJmpz_iUuMAvvB6-SYDQ38LDAL1ldMxaopyutD4FS8z9U6d1kpyh%22%2C%22timeline_section_cursor%22%3A%7B%7D%2C%22has_next_page%22%3Atrue%7D&surface=www_pages_posts&unit_count=8\n",
      "/pages_reaction_units/more/?page_id=129558990394402&cursor=%7B%22timeline_cursor%22%3A%22AQHR9GyEKiJd2rYhJzqZeUnK3WPX04nXcUzyqscgMJdeH-PQawu-ArphortU2nWTOzWyu5ZI2o3gwIlBu2SbRqfHbB37JE34cIQ99ZuVjZRdD6nuhJNqc6SqSnZH9fZE5Oew%22%2C%22timeline_section_cursor%22%3A%7B%7D%2C%22has_next_page%22%3Atrue%7D&surface=www_pages_posts&unit_count=8\n",
      "/pages_reaction_units/more/?page_id=129558990394402&cursor=%7B%22timeline_cursor%22%3A%22AQHRaHPqvPIZEJEcWCZAQh9pPgXZEz1ebnTB3gKdkpSVK38YjFopBzXTSYUZwJBdCTlrWlmUsVmDHRjP3ozgRtkYPe0IqophuQ8n2unzgUcUWd0zSHqf37VcD7GgJWJklD0B%22%2C%22timeline_section_cursor%22%3A%7B%7D%2C%22has_next_page%22%3Atrue%7D&surface=www_pages_posts&unit_count=8\n",
      "/pages_reaction_units/more/?page_id=129558990394402&cursor=%7B%22timeline_cursor%22%3A%22AQHRqi7uzEOcuNR0-ryAh40HJPwYeGcELtmCVO_MwzlLOYVwSede0dR7Ux5L1n8UuyrGPxXGRx9f3gCQ1GfFNi3zS8vJvTyei8DkQNEmMAJXsXJtmjzYFt_7hQRK2IXe05vs%22%2C%22timeline_section_cursor%22%3A%7B%7D%2C%22has_next_page%22%3Atrue%7D&surface=www_pages_posts&unit_count=8\n"
     ]
    }
   ],
   "source": [
    "# for i in range(5):\n",
    "while True:\n",
    "    try:\n",
    "        next_url = 'https://www.facebook.com%s&__a=1' % urlResult\n",
    "        tmp_content = requests.get(next_url).text[9:]\n",
    "        next_content = json.loads(tmp_content)\n",
    "        content = html.unescape(next_content['domops'][0][3]['__html'])\n",
    "        postInfos = getPostInfosFromContent(tmp_content)\n",
    "        next_posts = getPostsFromContent(content, postInfos)\n",
    "        posts += next_posts\n",
    "        try:\n",
    "            urlResult = re.search(r'\\/pages_reaction_units.*?unit_count=8', content).group()\n",
    "            print(urlResult)\n",
    "        except:\n",
    "            print('end')\n",
    "            break\n",
    "    except:\n",
    "        print(next_url)\n",
    "        continue\n",
    "print(len(posts), posts[-1])"
   ]
  },
  {
   "cell_type": "code",
   "execution_count": null,
   "metadata": {},
   "outputs": [],
   "source": [
    "content"
   ]
  },
  {
   "cell_type": "markdown",
   "metadata": {},
   "source": [
    "# TEST"
   ]
  },
  {
   "cell_type": "code",
   "execution_count": 19,
   "metadata": {},
   "outputs": [],
   "source": [
    "def getPostInfosFromContent(content):\n",
    "    jsonDataArray = re.findall(r'\\{\\\"result\\\"\\:\\{\\\"data.*?,\\\"variables', content)\n",
    "    #ex. {\"result\": [get this result], \"variables\": [ignored]}\n",
    "    posts = {}\n",
    "    for jsonData in jsonDataArray:\n",
    "        jsonData = jsonData[10: -31]\n",
    "        try:\n",
    "            data = json.loads(jsonData)['data']['feedback']\n",
    "            commentsInfo = data['display_comments']['edges']\n",
    "            comments = []\n",
    "            for comment in commentsInfo:\n",
    "                comment = comment['node']\n",
    "                if comment['body'] is not None:\n",
    "                    comments.append({\n",
    "                        'id': comment['id'],\n",
    "                        'time': comment['created_time'],\n",
    "#                         'author': comment['author'], # deep information of user\n",
    "                        'message': comment['body']['text'],\n",
    "                        'like': comment['feedback']['reactors']['count']\n",
    "                    })\n",
    "            actorId = data['owning_profile']['id']\n",
    "            postId = data['share_fbid']\n",
    "            posts['{}_{}'.format(actorId, postId)] = {\n",
    "                'like': data['reaction_count']['count'],\n",
    "                'share': data['share_count']['count'],\n",
    "                'comment': data['display_comments_count']['count'],\n",
    "                'commentsHighlight': comments\n",
    "            }\n",
    "        except:\n",
    "            continue\n",
    "    return posts"
   ]
  },
  {
   "cell_type": "code",
   "execution_count": null,
   "metadata": {},
   "outputs": [],
   "source": [
    "pageNameOrId = 'khaosod' #'MorningNewsTV3' #'thairath' #'khaosod' \n",
    "source_url = 'https://www.facebook.com/pg/%s/posts/' % pageNameOrId\n",
    "content = html.unescape(requests.get(source_url).text)\n",
    "postInfos = getPostInfosFromContent(content)\n",
    "posts = getPostsFromContent(content, postInfos)\n",
    "urlResult = re.search(r'\\/pages_reaction_units.*?unit_count=8', content).group()\n",
    "# print(len(posts), posts[-1])\n",
    "urlResult"
   ]
  },
  {
   "cell_type": "code",
   "execution_count": null,
   "metadata": {},
   "outputs": [],
   "source": [
    "re.search(r'\\/pages_reaction_units.*?unit_count=8', content).group()"
   ]
  },
  {
   "cell_type": "code",
   "execution_count": 74,
   "metadata": {},
   "outputs": [
    {
     "name": "stdout",
     "output_type": "stream",
     "text": [
      "19\n",
      "32\n",
      "129558990394402_4321889897827936\n",
      "32\n",
      "129558990394402_4321888641161395\n",
      "32\n",
      "129558990394402_4321645574519035\n",
      "32\n",
      "129558990394402_4321879734495619\n",
      "32\n",
      "129558990394402_4321834127833513\n",
      "32\n",
      "129558990394402_4321815914502001\n",
      "32\n",
      "129558990394402_4321785324505060\n",
      "32\n",
      "129558990394402_4321679427848983\n",
      "32\n",
      "129558990394402_4321771181173141\n",
      "32\n",
      "129558990394402_4321857194497873\n",
      "32\n",
      "129558990394402_4321739194509673\n",
      "32\n",
      "129558990394402_4321800784503514\n",
      "32\n",
      "129558990394402_4321753367841589\n",
      "32\n",
      "129558990394402_4321763544507238\n",
      "32\n",
      "129558990394402_4321722614511331\n",
      "32\n",
      "129558990394402_4321833217833604\n",
      "32\n",
      "129558990394402_4321727831177476\n",
      "32\n",
      "129558990394402_4321665404517052\n",
      "32\n",
      "129558990394402_4321701264513466\n"
     ]
    }
   ],
   "source": [
    "print(len(postInfos))\n",
    "for a in postInfos:\n",
    "    print(len(a))\n",
    "    print(a)"
   ]
  }
 ],
 "metadata": {
  "anaconda-cloud": {},
  "kernelspec": {
   "display_name": "SNA",
   "language": "python",
   "name": "sna"
  },
  "language_info": {
   "codemirror_mode": {
    "name": "ipython",
    "version": 3
   },
   "file_extension": ".py",
   "mimetype": "text/x-python",
   "name": "python",
   "nbconvert_exporter": "python",
   "pygments_lexer": "ipython3",
   "version": "3.7.0"
  },
  "toc": {
   "base_numbering": 1,
   "nav_menu": {},
   "number_sections": true,
   "sideBar": true,
   "skip_h1_title": false,
   "title_cell": "Table of Contents",
   "title_sidebar": "Contents",
   "toc_cell": false,
   "toc_position": {},
   "toc_section_display": true,
   "toc_window_display": false
  },
  "varInspector": {
   "cols": {
    "lenName": 16,
    "lenType": 16,
    "lenVar": 40
   },
   "kernels_config": {
    "python": {
     "delete_cmd_postfix": "",
     "delete_cmd_prefix": "del ",
     "library": "var_list.py",
     "varRefreshCmd": "print(var_dic_list())"
    },
    "r": {
     "delete_cmd_postfix": ") ",
     "delete_cmd_prefix": "rm(",
     "library": "var_list.r",
     "varRefreshCmd": "cat(var_dic_list()) "
    }
   },
   "types_to_exclude": [
    "module",
    "function",
    "builtin_function_or_method",
    "instance",
    "_Feature"
   ],
   "window_display": false
  }
 },
 "nbformat": 4,
 "nbformat_minor": 1
}
